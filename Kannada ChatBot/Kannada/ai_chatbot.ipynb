{
  "cells": [
    {
      "cell_type": "markdown",
      "metadata": {
        "id": "GLzoIqEKOeBL"
      },
      "source": [
        "# Intelligent AI ChatBot in Python (NeuralNine)"
      ]
    },
    {
      "cell_type": "code",
      "execution_count": null,
      "metadata": {
        "id": "6sO3gMjUOX3c"
      },
      "outputs": [],
      "source": [
        "# Intelligent AI ChatBot in Python\n",
        "# this is going to dyamically understand and respond to greetings\n",
        "# but the responses will be static\n",
        "\n",
        "# our files will be : intents.json, responses.json"
      ]
    },
    {
      "cell_type": "markdown",
      "metadata": {
        "id": "d7d-9Af8bLE6"
      },
      "source": [
        "## TRAINING CHATBOT"
      ]
    },
    {
      "cell_type": "code",
      "execution_count": 1,
      "metadata": {
        "colab": {
          "base_uri": "https://localhost:8080/"
        },
        "id": "_H2IXX6Db-uh",
        "outputId": "e88180a8-ca02-4ae3-e0af-6ad872994b42"
      },
      "outputs": [
        {
          "name": "stderr",
          "output_type": "stream",
          "text": [
            "[nltk_data] Downloading package omw-1.4 to C:\\Users\\Angad\n",
            "[nltk_data]     Sandhu\\AppData\\Roaming\\nltk_data...\n",
            "[nltk_data]   Package omw-1.4 is already up-to-date!\n"
          ]
        }
      ],
      "source": [
        "# imports\n",
        "import random\n",
        "import json\n",
        "import pickle   # for serialization\n",
        "import numpy as np\n",
        "import sqlite3\n",
        "import matplotlib.pyplot as plt\n",
        "\n",
        "import nltk\n",
        "# nltk.download('punkt')\n",
        "# nltk.download('wordnet')\n",
        "nltk.download('omw-1.4')\n",
        "from nltk.stem import WordNetLemmatizer\n",
        "\n",
        "import tensorflow as tf\n",
        "from tensorflow.keras.models import Sequential\n",
        "from tensorflow.keras.layers import Dense, Activation, Dropout\n",
        "from tensorflow.keras.optimizers import SGD\n",
        "from tensorflow.keras.models import load_model\n",
        "\n",
        "# lemmatizing our words\n",
        "lemmatizer = WordNetLemmatizer()"
      ]
    },
    {
      "cell_type": "markdown",
      "metadata": {
        "id": "Gc7pO9YveUr0"
      },
      "source": [
        "### *loading our intents* (from colab)"
      ]
    },
    {
      "cell_type": "code",
      "execution_count": null,
      "metadata": {
        "colab": {
          "base_uri": "https://localhost:8080/",
          "height": 74,
          "resources": {
            "http://localhost:8080/nbextensions/google.colab/files.js": {
              "data": "Ly8gQ29weXJpZ2h0IDIwMTcgR29vZ2xlIExMQwovLwovLyBMaWNlbnNlZCB1bmRlciB0aGUgQXBhY2hlIExpY2Vuc2UsIFZlcnNpb24gMi4wICh0aGUgIkxpY2Vuc2UiKTsKLy8geW91IG1heSBub3QgdXNlIHRoaXMgZmlsZSBleGNlcHQgaW4gY29tcGxpYW5jZSB3aXRoIHRoZSBMaWNlbnNlLgovLyBZb3UgbWF5IG9idGFpbiBhIGNvcHkgb2YgdGhlIExpY2Vuc2UgYXQKLy8KLy8gICAgICBodHRwOi8vd3d3LmFwYWNoZS5vcmcvbGljZW5zZXMvTElDRU5TRS0yLjAKLy8KLy8gVW5sZXNzIHJlcXVpcmVkIGJ5IGFwcGxpY2FibGUgbGF3IG9yIGFncmVlZCB0byBpbiB3cml0aW5nLCBzb2Z0d2FyZQovLyBkaXN0cmlidXRlZCB1bmRlciB0aGUgTGljZW5zZSBpcyBkaXN0cmlidXRlZCBvbiBhbiAiQVMgSVMiIEJBU0lTLAovLyBXSVRIT1VUIFdBUlJBTlRJRVMgT1IgQ09ORElUSU9OUyBPRiBBTlkgS0lORCwgZWl0aGVyIGV4cHJlc3Mgb3IgaW1wbGllZC4KLy8gU2VlIHRoZSBMaWNlbnNlIGZvciB0aGUgc3BlY2lmaWMgbGFuZ3VhZ2UgZ292ZXJuaW5nIHBlcm1pc3Npb25zIGFuZAovLyBsaW1pdGF0aW9ucyB1bmRlciB0aGUgTGljZW5zZS4KCi8qKgogKiBAZmlsZW92ZXJ2aWV3IEhlbHBlcnMgZm9yIGdvb2dsZS5jb2xhYiBQeXRob24gbW9kdWxlLgogKi8KKGZ1bmN0aW9uKHNjb3BlKSB7CmZ1bmN0aW9uIHNwYW4odGV4dCwgc3R5bGVBdHRyaWJ1dGVzID0ge30pIHsKICBjb25zdCBlbGVtZW50ID0gZG9jdW1lbnQuY3JlYXRlRWxlbWVudCgnc3BhbicpOwogIGVsZW1lbnQudGV4dENvbnRlbnQgPSB0ZXh0OwogIGZvciAoY29uc3Qga2V5IG9mIE9iamVjdC5rZXlzKHN0eWxlQXR0cmlidXRlcykpIHsKICAgIGVsZW1lbnQuc3R5bGVba2V5XSA9IHN0eWxlQXR0cmlidXRlc1trZXldOwogIH0KICByZXR1cm4gZWxlbWVudDsKfQoKLy8gTWF4IG51bWJlciBvZiBieXRlcyB3aGljaCB3aWxsIGJlIHVwbG9hZGVkIGF0IGEgdGltZS4KY29uc3QgTUFYX1BBWUxPQURfU0laRSA9IDEwMCAqIDEwMjQ7CgpmdW5jdGlvbiBfdXBsb2FkRmlsZXMoaW5wdXRJZCwgb3V0cHV0SWQpIHsKICBjb25zdCBzdGVwcyA9IHVwbG9hZEZpbGVzU3RlcChpbnB1dElkLCBvdXRwdXRJZCk7CiAgY29uc3Qgb3V0cHV0RWxlbWVudCA9IGRvY3VtZW50LmdldEVsZW1lbnRCeUlkKG91dHB1dElkKTsKICAvLyBDYWNoZSBzdGVwcyBvbiB0aGUgb3V0cHV0RWxlbWVudCB0byBtYWtlIGl0IGF2YWlsYWJsZSBmb3IgdGhlIG5leHQgY2FsbAogIC8vIHRvIHVwbG9hZEZpbGVzQ29udGludWUgZnJvbSBQeXRob24uCiAgb3V0cHV0RWxlbWVudC5zdGVwcyA9IHN0ZXBzOwoKICByZXR1cm4gX3VwbG9hZEZpbGVzQ29udGludWUob3V0cHV0SWQpOwp9CgovLyBUaGlzIGlzIHJvdWdobHkgYW4gYXN5bmMgZ2VuZXJhdG9yIChub3Qgc3VwcG9ydGVkIGluIHRoZSBicm93c2VyIHlldCksCi8vIHdoZXJlIHRoZXJlIGFyZSBtdWx0aXBsZSBhc3luY2hyb25vdXMgc3RlcHMgYW5kIHRoZSBQeXRob24gc2lkZSBpcyBnb2luZwovLyB0byBwb2xsIGZvciBjb21wbGV0aW9uIG9mIGVhY2ggc3RlcC4KLy8gVGhpcyB1c2VzIGEgUHJvbWlzZSB0byBibG9jayB0aGUgcHl0aG9uIHNpZGUgb24gY29tcGxldGlvbiBvZiBlYWNoIHN0ZXAsCi8vIHRoZW4gcGFzc2VzIHRoZSByZXN1bHQgb2YgdGhlIHByZXZpb3VzIHN0ZXAgYXMgdGhlIGlucHV0IHRvIHRoZSBuZXh0IHN0ZXAuCmZ1bmN0aW9uIF91cGxvYWRGaWxlc0NvbnRpbnVlKG91dHB1dElkKSB7CiAgY29uc3Qgb3V0cHV0RWxlbWVudCA9IGRvY3VtZW50LmdldEVsZW1lbnRCeUlkKG91dHB1dElkKTsKICBjb25zdCBzdGVwcyA9IG91dHB1dEVsZW1lbnQuc3RlcHM7CgogIGNvbnN0IG5leHQgPSBzdGVwcy5uZXh0KG91dHB1dEVsZW1lbnQubGFzdFByb21pc2VWYWx1ZSk7CiAgcmV0dXJuIFByb21pc2UucmVzb2x2ZShuZXh0LnZhbHVlLnByb21pc2UpLnRoZW4oKHZhbHVlKSA9PiB7CiAgICAvLyBDYWNoZSB0aGUgbGFzdCBwcm9taXNlIHZhbHVlIHRvIG1ha2UgaXQgYXZhaWxhYmxlIHRvIHRoZSBuZXh0CiAgICAvLyBzdGVwIG9mIHRoZSBnZW5lcmF0b3IuCiAgICBvdXRwdXRFbGVtZW50Lmxhc3RQcm9taXNlVmFsdWUgPSB2YWx1ZTsKICAgIHJldHVybiBuZXh0LnZhbHVlLnJlc3BvbnNlOwogIH0pOwp9CgovKioKICogR2VuZXJhdG9yIGZ1bmN0aW9uIHdoaWNoIGlzIGNhbGxlZCBiZXR3ZWVuIGVhY2ggYXN5bmMgc3RlcCBvZiB0aGUgdXBsb2FkCiAqIHByb2Nlc3MuCiAqIEBwYXJhbSB7c3RyaW5nfSBpbnB1dElkIEVsZW1lbnQgSUQgb2YgdGhlIGlucHV0IGZpbGUgcGlja2VyIGVsZW1lbnQuCiAqIEBwYXJhbSB7c3RyaW5nfSBvdXRwdXRJZCBFbGVtZW50IElEIG9mIHRoZSBvdXRwdXQgZGlzcGxheS4KICogQHJldHVybiB7IUl0ZXJhYmxlPCFPYmplY3Q+fSBJdGVyYWJsZSBvZiBuZXh0IHN0ZXBzLgogKi8KZnVuY3Rpb24qIHVwbG9hZEZpbGVzU3RlcChpbnB1dElkLCBvdXRwdXRJZCkgewogIGNvbnN0IGlucHV0RWxlbWVudCA9IGRvY3VtZW50LmdldEVsZW1lbnRCeUlkKGlucHV0SWQpOwogIGlucHV0RWxlbWVudC5kaXNhYmxlZCA9IGZhbHNlOwoKICBjb25zdCBvdXRwdXRFbGVtZW50ID0gZG9jdW1lbnQuZ2V0RWxlbWVudEJ5SWQob3V0cHV0SWQpOwogIG91dHB1dEVsZW1lbnQuaW5uZXJIVE1MID0gJyc7CgogIGNvbnN0IHBpY2tlZFByb21pc2UgPSBuZXcgUHJvbWlzZSgocmVzb2x2ZSkgPT4gewogICAgaW5wdXRFbGVtZW50LmFkZEV2ZW50TGlzdGVuZXIoJ2NoYW5nZScsIChlKSA9PiB7CiAgICAgIHJlc29sdmUoZS50YXJnZXQuZmlsZXMpOwogICAgfSk7CiAgfSk7CgogIGNvbnN0IGNhbmNlbCA9IGRvY3VtZW50LmNyZWF0ZUVsZW1lbnQoJ2J1dHRvbicpOwogIGlucHV0RWxlbWVudC5wYXJlbnRFbGVtZW50LmFwcGVuZENoaWxkKGNhbmNlbCk7CiAgY2FuY2VsLnRleHRDb250ZW50ID0gJ0NhbmNlbCB1cGxvYWQnOwogIGNvbnN0IGNhbmNlbFByb21pc2UgPSBuZXcgUHJvbWlzZSgocmVzb2x2ZSkgPT4gewogICAgY2FuY2VsLm9uY2xpY2sgPSAoKSA9PiB7CiAgICAgIHJlc29sdmUobnVsbCk7CiAgICB9OwogIH0pOwoKICAvLyBXYWl0IGZvciB0aGUgdXNlciB0byBwaWNrIHRoZSBmaWxlcy4KICBjb25zdCBmaWxlcyA9IHlpZWxkIHsKICAgIHByb21pc2U6IFByb21pc2UucmFjZShbcGlja2VkUHJvbWlzZSwgY2FuY2VsUHJvbWlzZV0pLAogICAgcmVzcG9uc2U6IHsKICAgICAgYWN0aW9uOiAnc3RhcnRpbmcnLAogICAgfQogIH07CgogIGNhbmNlbC5yZW1vdmUoKTsKCiAgLy8gRGlzYWJsZSB0aGUgaW5wdXQgZWxlbWVudCBzaW5jZSBmdXJ0aGVyIHBpY2tzIGFyZSBub3QgYWxsb3dlZC4KICBpbnB1dEVsZW1lbnQuZGlzYWJsZWQgPSB0cnVlOwoKICBpZiAoIWZpbGVzKSB7CiAgICByZXR1cm4gewogICAgICByZXNwb25zZTogewogICAgICAgIGFjdGlvbjogJ2NvbXBsZXRlJywKICAgICAgfQogICAgfTsKICB9CgogIGZvciAoY29uc3QgZmlsZSBvZiBmaWxlcykgewogICAgY29uc3QgbGkgPSBkb2N1bWVudC5jcmVhdGVFbGVtZW50KCdsaScpOwogICAgbGkuYXBwZW5kKHNwYW4oZmlsZS5uYW1lLCB7Zm9udFdlaWdodDogJ2JvbGQnfSkpOwogICAgbGkuYXBwZW5kKHNwYW4oCiAgICAgICAgYCgke2ZpbGUudHlwZSB8fCAnbi9hJ30pIC0gJHtmaWxlLnNpemV9IGJ5dGVzLCBgICsKICAgICAgICBgbGFzdCBtb2RpZmllZDogJHsKICAgICAgICAgICAgZmlsZS5sYXN0TW9kaWZpZWREYXRlID8gZmlsZS5sYXN0TW9kaWZpZWREYXRlLnRvTG9jYWxlRGF0ZVN0cmluZygpIDoKICAgICAgICAgICAgICAgICAgICAgICAgICAgICAgICAgICAgJ24vYSd9IC0gYCkpOwogICAgY29uc3QgcGVyY2VudCA9IHNwYW4oJzAlIGRvbmUnKTsKICAgIGxpLmFwcGVuZENoaWxkKHBlcmNlbnQpOwoKICAgIG91dHB1dEVsZW1lbnQuYXBwZW5kQ2hpbGQobGkpOwoKICAgIGNvbnN0IGZpbGVEYXRhUHJvbWlzZSA9IG5ldyBQcm9taXNlKChyZXNvbHZlKSA9PiB7CiAgICAgIGNvbnN0IHJlYWRlciA9IG5ldyBGaWxlUmVhZGVyKCk7CiAgICAgIHJlYWRlci5vbmxvYWQgPSAoZSkgPT4gewogICAgICAgIHJlc29sdmUoZS50YXJnZXQucmVzdWx0KTsKICAgICAgfTsKICAgICAgcmVhZGVyLnJlYWRBc0FycmF5QnVmZmVyKGZpbGUpOwogICAgfSk7CiAgICAvLyBXYWl0IGZvciB0aGUgZGF0YSB0byBiZSByZWFkeS4KICAgIGxldCBmaWxlRGF0YSA9IHlpZWxkIHsKICAgICAgcHJvbWlzZTogZmlsZURhdGFQcm9taXNlLAogICAgICByZXNwb25zZTogewogICAgICAgIGFjdGlvbjogJ2NvbnRpbnVlJywKICAgICAgfQogICAgfTsKCiAgICAvLyBVc2UgYSBjaHVua2VkIHNlbmRpbmcgdG8gYXZvaWQgbWVzc2FnZSBzaXplIGxpbWl0cy4gU2VlIGIvNjIxMTU2NjAuCiAgICBsZXQgcG9zaXRpb24gPSAwOwogICAgZG8gewogICAgICBjb25zdCBsZW5ndGggPSBNYXRoLm1pbihmaWxlRGF0YS5ieXRlTGVuZ3RoIC0gcG9zaXRpb24sIE1BWF9QQVlMT0FEX1NJWkUpOwogICAgICBjb25zdCBjaHVuayA9IG5ldyBVaW50OEFycmF5KGZpbGVEYXRhLCBwb3NpdGlvbiwgbGVuZ3RoKTsKICAgICAgcG9zaXRpb24gKz0gbGVuZ3RoOwoKICAgICAgY29uc3QgYmFzZTY0ID0gYnRvYShTdHJpbmcuZnJvbUNoYXJDb2RlLmFwcGx5KG51bGwsIGNodW5rKSk7CiAgICAgIHlpZWxkIHsKICAgICAgICByZXNwb25zZTogewogICAgICAgICAgYWN0aW9uOiAnYXBwZW5kJywKICAgICAgICAgIGZpbGU6IGZpbGUubmFtZSwKICAgICAgICAgIGRhdGE6IGJhc2U2NCwKICAgICAgICB9LAogICAgICB9OwoKICAgICAgbGV0IHBlcmNlbnREb25lID0gZmlsZURhdGEuYnl0ZUxlbmd0aCA9PT0gMCA/CiAgICAgICAgICAxMDAgOgogICAgICAgICAgTWF0aC5yb3VuZCgocG9zaXRpb24gLyBmaWxlRGF0YS5ieXRlTGVuZ3RoKSAqIDEwMCk7CiAgICAgIHBlcmNlbnQudGV4dENvbnRlbnQgPSBgJHtwZXJjZW50RG9uZX0lIGRvbmVgOwoKICAgIH0gd2hpbGUgKHBvc2l0aW9uIDwgZmlsZURhdGEuYnl0ZUxlbmd0aCk7CiAgfQoKICAvLyBBbGwgZG9uZS4KICB5aWVsZCB7CiAgICByZXNwb25zZTogewogICAgICBhY3Rpb246ICdjb21wbGV0ZScsCiAgICB9CiAgfTsKfQoKc2NvcGUuZ29vZ2xlID0gc2NvcGUuZ29vZ2xlIHx8IHt9OwpzY29wZS5nb29nbGUuY29sYWIgPSBzY29wZS5nb29nbGUuY29sYWIgfHwge307CnNjb3BlLmdvb2dsZS5jb2xhYi5fZmlsZXMgPSB7CiAgX3VwbG9hZEZpbGVzLAogIF91cGxvYWRGaWxlc0NvbnRpbnVlLAp9Owp9KShzZWxmKTsK",
              "headers": [
                [
                  "content-type",
                  "application/javascript"
                ]
              ],
              "ok": true,
              "status": 200,
              "status_text": ""
            }
          }
        },
        "id": "sfmfSoL_ft1_",
        "outputId": "b57eff3c-a7b6-4315-a899-060a3fb422e6"
      },
      "outputs": [],
      "source": [
        "# loading file\n",
        "from google.colab import files\n",
        "uploaded = files.upload()"
      ]
    },
    {
      "cell_type": "code",
      "execution_count": null,
      "metadata": {
        "colab": {
          "base_uri": "https://localhost:8080/"
        },
        "id": "v6ubJY5ZuDg9",
        "outputId": "0fc7c601-e41e-44db-f510-10e5b336f7fc"
      },
      "outputs": [],
      "source": [
        "print(uploaded)"
      ]
    },
    {
      "cell_type": "code",
      "execution_count": null,
      "metadata": {
        "colab": {
          "base_uri": "https://localhost:8080/"
        },
        "id": "CDK6xegZf-xZ",
        "outputId": "790840a2-d005-4133-cb8f-e492d2fe6111"
      },
      "outputs": [],
      "source": [
        "intents =  json.loads(uploaded['intents_eng.json'])\n",
        "print(intents['intents'][3]['tag'])"
      ]
    },
    {
      "cell_type": "markdown",
      "metadata": {},
      "source": [
        "### *loading our intents* (from local)"
      ]
    },
    {
      "cell_type": "code",
      "execution_count": 2,
      "metadata": {},
      "outputs": [
        {
          "name": "stdout",
          "output_type": "stream",
          "text": [
            "name\n"
          ]
        }
      ],
      "source": [
        "file_path = \"intents_kan.json\"\n",
        "\n",
        "with open(file_path, 'r', encoding=\"utf8\") as j:\n",
        "     intents = json.loads(j.read())\n",
        "print(intents['intents'][3]['tag'])"
      ]
    },
    {
      "cell_type": "markdown",
      "metadata": {
        "id": "p0v9OXc9glF_"
      },
      "source": [
        "### *Creating intermediate Data*"
      ]
    },
    {
      "cell_type": "code",
      "execution_count": 3,
      "metadata": {
        "id": "p_PC6Qp1iFx9"
      },
      "outputs": [],
      "source": [
        "# creatig useful lists\n",
        "words = []\n",
        "classes = []\n",
        "docs = []\n",
        "\n",
        "ignore_letters = [\"!\", \".\", \",\", \"?\"]\n",
        "\n",
        "# iterating over intents\n",
        "for intent in intents['intents']:\n",
        "  for pat in intent['pattern']:\n",
        "    # tokenizing and adding tokens to the word list\n",
        "    word_list = nltk.word_tokenize(pat)\n",
        "    if word_list is not None:\n",
        "      words.extend(word_list)\n",
        "\n",
        "      # appending \n",
        "      docs.append((word_list, intent['tag']))\n",
        "\n",
        "      if intent['tag'] not in classes:\n",
        "        classes.append(intent['tag'])"
      ]
    },
    {
      "cell_type": "code",
      "execution_count": null,
      "metadata": {
        "colab": {
          "base_uri": "https://localhost:8080/"
        },
        "id": "hmBoCi8RlSKS",
        "outputId": "345417f9-0358-4cd4-97d1-7f3592fb703a"
      },
      "outputs": [],
      "source": [
        "print(docs)"
      ]
    },
    {
      "cell_type": "markdown",
      "metadata": {
        "id": "nfU_Nf1Rgtnv"
      },
      "source": [
        "### *Lemmatizing*"
      ]
    },
    {
      "cell_type": "code",
      "execution_count": 4,
      "metadata": {
        "id": "koTC32Dkl9jh"
      },
      "outputs": [],
      "source": [
        "# lemmatizing our words\n",
        "lemmatizer = WordNetLemmatizer()\n",
        "  \n",
        "words = [lemmatizer.lemmatize(word) for word in words if word not in ignore_letters]\n",
        "\n",
        "# removing duplicates\n",
        "words = sorted(set(words))\n",
        "classes = sorted(set(classes))"
      ]
    },
    {
      "cell_type": "code",
      "execution_count": null,
      "metadata": {
        "colab": {
          "base_uri": "https://localhost:8080/"
        },
        "id": "w2cMhyPNmXkX",
        "outputId": "905d9a1d-df84-4097-b3a4-c62ad18e65dd"
      },
      "outputs": [],
      "source": [
        "print(words)"
      ]
    },
    {
      "cell_type": "markdown",
      "metadata": {
        "id": "KS93Rg6Mgw_O"
      },
      "source": [
        "### *Saving Data*"
      ]
    },
    {
      "cell_type": "code",
      "execution_count": null,
      "metadata": {
        "id": "GX01aKlRsDOe"
      },
      "outputs": [],
      "source": [
        "# adding all info to file\n",
        "pickle.dump(words, open(\"words.pkl\", 'wb'))\n",
        "pickle.dump(classes, open(\"classes.pkl\", 'wb'))\n",
        "pickle.dump(docs, open(\"docs.pkl\", 'wb'))"
      ]
    },
    {
      "cell_type": "markdown",
      "metadata": {
        "id": "_tEPYG3Cg4aE"
      },
      "source": [
        "### *Creattig Training Data*"
      ]
    },
    {
      "cell_type": "code",
      "execution_count": 5,
      "metadata": {
        "id": "8sYNbCXes2QE"
      },
      "outputs": [],
      "source": [
        "# representing words as numeric data using bag of words\n",
        "# so that we could use this in a neural network\n",
        "training = []\n",
        "output_empty = [0]*len(classes)\n",
        "\n",
        "for doc in docs:\n",
        "  bag = []\n",
        "  word_patterns = doc[0]\n",
        "  word_patterns = [lemmatizer.lemmatize(word) for word in word_patterns]\n",
        "\n",
        "  for word in words:\n",
        "    bag.append(1) if word in word_patterns else bag.append(0)\n",
        "\n",
        "  # print(output_row)\n",
        "  output_row = list(output_empty)\n",
        "  output_row[classes.index(doc[1])] = 1\n",
        "  training.append([bag, output_row])"
      ]
    },
    {
      "cell_type": "code",
      "execution_count": null,
      "metadata": {},
      "outputs": [],
      "source": [
        "print(training)"
      ]
    },
    {
      "cell_type": "markdown",
      "metadata": {
        "id": "LGp2hqp_g1EC"
      },
      "source": [
        "### *Pre-Processing*"
      ]
    },
    {
      "cell_type": "code",
      "execution_count": 6,
      "metadata": {
        "colab": {
          "base_uri": "https://localhost:8080/"
        },
        "id": "be6ugTvGvqBP",
        "outputId": "1cf7e3b0-cb5a-48b4-ca25-29d385a13f99"
      },
      "outputs": [
        {
          "name": "stdout",
          "output_type": "stream",
          "text": [
            "(31, 2)\n",
            "(31, 8)\n"
          ]
        },
        {
          "name": "stderr",
          "output_type": "stream",
          "text": [
            "C:\\Users\\Angad Sandhu\\AppData\\Local\\Temp\\ipykernel_5408\\2749991946.py:3: VisibleDeprecationWarning: Creating an ndarray from ragged nested sequences (which is a list-or-tuple of lists-or-tuples-or ndarrays with different lengths or shapes) is deprecated. If you meant to do this, you must specify 'dtype=object' when creating the ndarray.\n",
            "  training = np.array(training)\n"
          ]
        }
      ],
      "source": [
        "# shufling our data\n",
        "random.shuffle(training)\n",
        "training = np.array(training)\n",
        "\n",
        "print(training.shape)\n",
        "\n",
        "\n",
        "# spliting to X and y values\n",
        "train_x = np.array(list(training[:, 0]))\n",
        "train_y = np.array(list(training[:, 1]))\n",
        "\n",
        "# print(np.asarray(train_x))\n",
        "print(train_y.shape)"
      ]
    },
    {
      "cell_type": "markdown",
      "metadata": {
        "id": "OaG15lsSwVtn"
      },
      "source": [
        "### *Building Neural Net*"
      ]
    },
    {
      "cell_type": "code",
      "execution_count": 7,
      "metadata": {
        "id": "KsK3PX-uwU3M"
      },
      "outputs": [],
      "source": [
        "model = Sequential()\n",
        "model.add(Dense(128, input_shape=(len(train_x[0]), ), activation=\"relu\"))\n",
        "model.add(Dropout(0.5))\n",
        "model.add(Dense(64, activation=\"relu\"))\n",
        "model.add(Dropout(0.5))\n",
        "model.add(Dense(len(train_y[0]), activation=\"softmax\"))"
      ]
    },
    {
      "cell_type": "code",
      "execution_count": 10,
      "metadata": {
        "colab": {
          "base_uri": "https://localhost:8080/"
        },
        "id": "gw0qK1jecsg3",
        "outputId": "dc90736a-c404-4c4d-a731-44ea5a92119a"
      },
      "outputs": [
        {
          "name": "stdout",
          "output_type": "stream",
          "text": [
            "Model: \"sequential\"\n",
            "_________________________________________________________________\n",
            " Layer (type)                Output Shape              Param #   \n",
            "=================================================================\n",
            " dense (Dense)               (None, 128)               7424      \n",
            "                                                                 \n",
            " dropout (Dropout)           (None, 128)               0         \n",
            "                                                                 \n",
            " dense_1 (Dense)             (None, 64)                8256      \n",
            "                                                                 \n",
            " dropout_1 (Dropout)         (None, 64)                0         \n",
            "                                                                 \n",
            " dense_2 (Dense)             (None, 8)                 520       \n",
            "                                                                 \n",
            "=================================================================\n",
            "Total params: 16,200\n",
            "Trainable params: 16,200\n",
            "Non-trainable params: 0\n",
            "_________________________________________________________________\n"
          ]
        }
      ],
      "source": [
        "sgd = SGD(learning_rate=0.01, decay=1e-6, momentum=0.09, nesterov=True)\n",
        "\n",
        "model.compile(loss=\"categorical_crossentropy\", optimizer=sgd, metrics=['accuracy', \n",
        "    tf.keras.metrics.Precision(), tf.keras.metrics.Recall(), \n",
        "    tf.keras.metrics.MeanAbsoluteError()])\n",
        "\n",
        "model.summary()"
      ]
    },
    {
      "cell_type": "code",
      "execution_count": 11,
      "metadata": {
        "colab": {
          "base_uri": "https://localhost:8080/"
        },
        "id": "rakIHScUcsXd",
        "outputId": "c63d7fdc-e184-42ae-cc02-46ebc2b2b391"
      },
      "outputs": [
        {
          "name": "stdout",
          "output_type": "stream",
          "text": [
            "Epoch 1/200\n",
            "8/8 [==============================] - 1s 1ms/step - loss: 0.6662 - accuracy: 0.8065 - precision_1: 0.9444 - recall_1: 0.5484 - mean_absolute_error: 0.1049    \n",
            "Epoch 2/200\n",
            "8/8 [==============================] - 0s 1ms/step - loss: 0.5523 - accuracy: 0.8387 - precision_1: 1.0000 - recall_1: 0.6774 - mean_absolute_error: 0.0889\n",
            "Epoch 3/200\n",
            "8/8 [==============================] - 0s 1ms/step - loss: 0.6130 - accuracy: 0.8387 - precision_1: 1.0000 - recall_1: 0.7097 - mean_absolute_error: 0.0945\n",
            "Epoch 4/200\n",
            "8/8 [==============================] - 0s 1ms/step - loss: 0.6529 - accuracy: 0.8387 - precision_1: 1.0000 - recall_1: 0.6129 - mean_absolute_error: 0.1027\n",
            "Epoch 5/200\n",
            "8/8 [==============================] - 0s 2ms/step - loss: 0.4969 - accuracy: 0.9032 - precision_1: 0.9524 - recall_1: 0.6452 - mean_absolute_error: 0.0829\n",
            "Epoch 6/200\n",
            "8/8 [==============================] - 0s 2ms/step - loss: 0.5096 - accuracy: 0.9355 - precision_1: 0.9600 - recall_1: 0.7742 - mean_absolute_error: 0.0869\n",
            "Epoch 7/200\n",
            "8/8 [==============================] - 0s 1ms/step - loss: 0.6338 - accuracy: 0.9032 - precision_1: 1.0000 - recall_1: 0.6452 - mean_absolute_error: 0.1020\n",
            "Epoch 8/200\n",
            "8/8 [==============================] - 0s 1ms/step - loss: 0.6538 - accuracy: 0.8387 - precision_1: 1.0000 - recall_1: 0.6129 - mean_absolute_error: 0.1013\n",
            "Epoch 9/200\n",
            "8/8 [==============================] - 0s 1ms/step - loss: 0.5296 - accuracy: 0.9032 - precision_1: 1.0000 - recall_1: 0.6452 - mean_absolute_error: 0.0872\n",
            "Epoch 10/200\n",
            "8/8 [==============================] - 0s 2ms/step - loss: 0.4564 - accuracy: 0.9355 - precision_1: 1.0000 - recall_1: 0.8065 - mean_absolute_error: 0.0763\n",
            "Epoch 11/200\n",
            "8/8 [==============================] - 0s 2ms/step - loss: 0.4997 - accuracy: 0.9032 - precision_1: 0.9200 - recall_1: 0.7419 - mean_absolute_error: 0.0833\n",
            "Epoch 12/200\n",
            "8/8 [==============================] - 0s 1ms/step - loss: 0.5153 - accuracy: 0.9355 - precision_1: 1.0000 - recall_1: 0.7419 - mean_absolute_error: 0.0853\n",
            "Epoch 13/200\n",
            "8/8 [==============================] - 0s 2ms/step - loss: 0.4885 - accuracy: 0.9032 - precision_1: 0.9600 - recall_1: 0.7742 - mean_absolute_error: 0.0861\n",
            "Epoch 14/200\n",
            "8/8 [==============================] - 0s 2ms/step - loss: 0.5194 - accuracy: 0.8710 - precision_1: 0.9091 - recall_1: 0.6452 - mean_absolute_error: 0.0882\n",
            "Epoch 15/200\n",
            "8/8 [==============================] - 0s 997us/step - loss: 0.4912 - accuracy: 0.9032 - precision_1: 1.0000 - recall_1: 0.6774 - mean_absolute_error: 0.0858\n",
            "Epoch 16/200\n",
            "8/8 [==============================] - 0s 1ms/step - loss: 0.4521 - accuracy: 0.9355 - precision_1: 1.0000 - recall_1: 0.7742 - mean_absolute_error: 0.0789\n",
            "Epoch 17/200\n",
            "8/8 [==============================] - 0s 2ms/step - loss: 0.5468 - accuracy: 0.8710 - precision_1: 0.9565 - recall_1: 0.7097 - mean_absolute_error: 0.0889\n",
            "Epoch 18/200\n",
            "8/8 [==============================] - 0s 2ms/step - loss: 0.6177 - accuracy: 0.8387 - precision_1: 0.9500 - recall_1: 0.6129 - mean_absolute_error: 0.0969\n",
            "Epoch 19/200\n",
            "8/8 [==============================] - 0s 2ms/step - loss: 0.5138 - accuracy: 0.9032 - precision_1: 1.0000 - recall_1: 0.7097 - mean_absolute_error: 0.0889\n",
            "Epoch 20/200\n",
            "8/8 [==============================] - 0s 2ms/step - loss: 0.4330 - accuracy: 0.9677 - precision_1: 1.0000 - recall_1: 0.7742 - mean_absolute_error: 0.0792\n",
            "Epoch 21/200\n",
            "8/8 [==============================] - 0s 2ms/step - loss: 0.5069 - accuracy: 0.9677 - precision_1: 1.0000 - recall_1: 0.7097 - mean_absolute_error: 0.0864\n",
            "Epoch 22/200\n",
            "8/8 [==============================] - 0s 2ms/step - loss: 0.4708 - accuracy: 0.9355 - precision_1: 0.9565 - recall_1: 0.7097 - mean_absolute_error: 0.0799\n",
            "Epoch 23/200\n",
            "8/8 [==============================] - 0s 2ms/step - loss: 0.5164 - accuracy: 0.9032 - precision_1: 1.0000 - recall_1: 0.7742 - mean_absolute_error: 0.0844\n",
            "Epoch 24/200\n",
            "8/8 [==============================] - 0s 2ms/step - loss: 0.4103 - accuracy: 0.9355 - precision_1: 1.0000 - recall_1: 0.7742 - mean_absolute_error: 0.0709\n",
            "Epoch 25/200\n",
            "8/8 [==============================] - 0s 3ms/step - loss: 0.4284 - accuracy: 0.9677 - precision_1: 0.9583 - recall_1: 0.7419 - mean_absolute_error: 0.0753\n",
            "Epoch 26/200\n",
            "8/8 [==============================] - 0s 2ms/step - loss: 0.5268 - accuracy: 0.8710 - precision_1: 0.9130 - recall_1: 0.6774 - mean_absolute_error: 0.0843\n",
            "Epoch 27/200\n",
            "8/8 [==============================] - 0s 2ms/step - loss: 0.3979 - accuracy: 1.0000 - precision_1: 1.0000 - recall_1: 0.7742 - mean_absolute_error: 0.0722\n",
            "Epoch 28/200\n",
            "8/8 [==============================] - 0s 2ms/step - loss: 0.5664 - accuracy: 0.9032 - precision_1: 1.0000 - recall_1: 0.6129 - mean_absolute_error: 0.0894    \n",
            "Epoch 29/200\n",
            "8/8 [==============================] - 0s 1ms/step - loss: 0.3793 - accuracy: 0.9355 - precision_1: 1.0000 - recall_1: 0.8387 - mean_absolute_error: 0.0646\n",
            "Epoch 30/200\n",
            "8/8 [==============================] - 0s 1ms/step - loss: 0.4043 - accuracy: 0.9677 - precision_1: 1.0000 - recall_1: 0.8065 - mean_absolute_error: 0.0725\n",
            "Epoch 31/200\n",
            "8/8 [==============================] - 0s 2ms/step - loss: 0.5205 - accuracy: 0.8387 - precision_1: 0.9524 - recall_1: 0.6452 - mean_absolute_error: 0.0839\n",
            "Epoch 32/200\n",
            "8/8 [==============================] - 0s 2ms/step - loss: 0.4434 - accuracy: 0.9677 - precision_1: 1.0000 - recall_1: 0.7419 - mean_absolute_error: 0.0792\n",
            "Epoch 33/200\n",
            "8/8 [==============================] - 0s 1ms/step - loss: 0.3493 - accuracy: 0.9677 - precision_1: 1.0000 - recall_1: 0.8710 - mean_absolute_error: 0.0653\n",
            "Epoch 34/200\n",
            "8/8 [==============================] - 0s 1ms/step - loss: 0.3399 - accuracy: 0.9032 - precision_1: 1.0000 - recall_1: 0.8387 - mean_absolute_error: 0.0630\n",
            "Epoch 35/200\n",
            "8/8 [==============================] - 0s 1ms/step - loss: 0.4661 - accuracy: 0.8387 - precision_1: 0.8800 - recall_1: 0.7097 - mean_absolute_error: 0.0798\n",
            "Epoch 36/200\n",
            "8/8 [==============================] - 0s 997us/step - loss: 0.5350 - accuracy: 0.8710 - precision_1: 0.9600 - recall_1: 0.7742 - mean_absolute_error: 0.0887\n",
            "Epoch 37/200\n",
            "8/8 [==============================] - 0s 1ms/step - loss: 0.2861 - accuracy: 0.9355 - precision_1: 0.9630 - recall_1: 0.8387 - mean_absolute_error: 0.0523\n",
            "Epoch 38/200\n",
            "8/8 [==============================] - 0s 2ms/step - loss: 0.4174 - accuracy: 0.9355 - precision_1: 1.0000 - recall_1: 0.7742 - mean_absolute_error: 0.0719\n",
            "Epoch 39/200\n",
            "8/8 [==============================] - 0s 1ms/step - loss: 0.3429 - accuracy: 0.9355 - precision_1: 1.0000 - recall_1: 0.8710 - mean_absolute_error: 0.0585\n",
            "Epoch 40/200\n",
            "8/8 [==============================] - 0s 1ms/step - loss: 0.3962 - accuracy: 0.8710 - precision_1: 1.0000 - recall_1: 0.8387 - mean_absolute_error: 0.0685\n",
            "Epoch 41/200\n",
            "8/8 [==============================] - 0s 997us/step - loss: 0.3586 - accuracy: 0.9355 - precision_1: 0.9630 - recall_1: 0.8387 - mean_absolute_error: 0.0580\n",
            "Epoch 42/200\n",
            "8/8 [==============================] - 0s 1ms/step - loss: 0.3729 - accuracy: 0.9355 - precision_1: 1.0000 - recall_1: 0.8710 - mean_absolute_error: 0.0690\n",
            "Epoch 43/200\n",
            "8/8 [==============================] - 0s 1ms/step - loss: 0.3232 - accuracy: 1.0000 - precision_1: 1.0000 - recall_1: 0.8710 - mean_absolute_error: 0.0588\n",
            "Epoch 44/200\n",
            "8/8 [==============================] - 0s 1ms/step - loss: 0.4484 - accuracy: 0.8710 - precision_1: 0.9615 - recall_1: 0.8065 - mean_absolute_error: 0.0705\n",
            "Epoch 45/200\n",
            "8/8 [==============================] - 0s 2ms/step - loss: 0.3915 - accuracy: 0.9677 - precision_1: 0.9643 - recall_1: 0.8710 - mean_absolute_error: 0.0668\n",
            "Epoch 46/200\n",
            "8/8 [==============================] - 0s 2ms/step - loss: 0.3437 - accuracy: 0.9677 - precision_1: 1.0000 - recall_1: 0.8387 - mean_absolute_error: 0.0628\n",
            "Epoch 47/200\n",
            "8/8 [==============================] - 0s 1ms/step - loss: 0.2752 - accuracy: 0.9355 - precision_1: 1.0000 - recall_1: 0.8710 - mean_absolute_error: 0.0504\n",
            "Epoch 48/200\n",
            "8/8 [==============================] - 0s 1ms/step - loss: 0.3078 - accuracy: 0.9355 - precision_1: 1.0000 - recall_1: 0.9032 - mean_absolute_error: 0.0558\n",
            "Epoch 49/200\n",
            "8/8 [==============================] - 0s 2ms/step - loss: 0.3432 - accuracy: 0.9032 - precision_1: 0.9286 - recall_1: 0.8387 - mean_absolute_error: 0.0626\n",
            "Epoch 50/200\n",
            "8/8 [==============================] - 0s 1ms/step - loss: 0.2839 - accuracy: 0.9677 - precision_1: 1.0000 - recall_1: 0.8387 - mean_absolute_error: 0.0536\n",
            "Epoch 51/200\n",
            "8/8 [==============================] - 0s 1ms/step - loss: 0.2887 - accuracy: 0.9677 - precision_1: 1.0000 - recall_1: 0.9032 - mean_absolute_error: 0.0562\n",
            "Epoch 52/200\n",
            "8/8 [==============================] - 0s 1ms/step - loss: 0.4226 - accuracy: 0.9677 - precision_1: 0.9643 - recall_1: 0.8710 - mean_absolute_error: 0.0708\n",
            "Epoch 53/200\n",
            "8/8 [==============================] - 0s 1ms/step - loss: 0.4133 - accuracy: 0.9677 - precision_1: 1.0000 - recall_1: 0.7742 - mean_absolute_error: 0.0719\n",
            "Epoch 54/200\n",
            "8/8 [==============================] - 0s 1ms/step - loss: 0.3751 - accuracy: 0.9032 - precision_1: 0.9600 - recall_1: 0.7742 - mean_absolute_error: 0.0644\n",
            "Epoch 55/200\n",
            "8/8 [==============================] - 0s 2ms/step - loss: 0.2507 - accuracy: 1.0000 - precision_1: 1.0000 - recall_1: 0.9677 - mean_absolute_error: 0.0506\n",
            "Epoch 56/200\n",
            "8/8 [==============================] - 0s 1ms/step - loss: 0.4867 - accuracy: 0.8710 - precision_1: 0.9200 - recall_1: 0.7419 - mean_absolute_error: 0.0778\n",
            "Epoch 57/200\n",
            "8/8 [==============================] - 0s 2ms/step - loss: 0.3257 - accuracy: 0.9032 - precision_1: 0.9286 - recall_1: 0.8387 - mean_absolute_error: 0.0529\n",
            "Epoch 58/200\n",
            "8/8 [==============================] - 0s 1ms/step - loss: 0.3982 - accuracy: 0.9032 - precision_1: 0.9583 - recall_1: 0.7419 - mean_absolute_error: 0.0702\n",
            "Epoch 59/200\n",
            "8/8 [==============================] - 0s 2ms/step - loss: 0.2216 - accuracy: 1.0000 - precision_1: 1.0000 - recall_1: 0.9355 - mean_absolute_error: 0.0454\n",
            "Epoch 60/200\n",
            "8/8 [==============================] - 0s 1ms/step - loss: 0.2772 - accuracy: 0.9355 - precision_1: 0.9630 - recall_1: 0.8387 - mean_absolute_error: 0.0486\n",
            "Epoch 61/200\n",
            "8/8 [==============================] - 0s 997us/step - loss: 0.3379 - accuracy: 0.9677 - precision_1: 0.9600 - recall_1: 0.7742 - mean_absolute_error: 0.0626\n",
            "Epoch 62/200\n",
            "8/8 [==============================] - 0s 1ms/step - loss: 0.2688 - accuracy: 0.9677 - precision_1: 1.0000 - recall_1: 0.9032 - mean_absolute_error: 0.0503\n",
            "Epoch 63/200\n",
            "8/8 [==============================] - 0s 1ms/step - loss: 0.3888 - accuracy: 0.9355 - precision_1: 1.0000 - recall_1: 0.8065 - mean_absolute_error: 0.0681\n",
            "Epoch 64/200\n",
            "8/8 [==============================] - 0s 2ms/step - loss: 0.3093 - accuracy: 1.0000 - precision_1: 1.0000 - recall_1: 0.9032 - mean_absolute_error: 0.0597\n",
            "Epoch 65/200\n",
            "8/8 [==============================] - 0s 1ms/step - loss: 0.2672 - accuracy: 1.0000 - precision_1: 1.0000 - recall_1: 0.9355 - mean_absolute_error: 0.0539\n",
            "Epoch 66/200\n",
            "8/8 [==============================] - 0s 2ms/step - loss: 0.2907 - accuracy: 0.9355 - precision_1: 0.9667 - recall_1: 0.9355 - mean_absolute_error: 0.0500\n",
            "Epoch 67/200\n",
            "8/8 [==============================] - 0s 2ms/step - loss: 0.3586 - accuracy: 0.9677 - precision_1: 1.0000 - recall_1: 0.8065 - mean_absolute_error: 0.0639\n",
            "Epoch 68/200\n",
            "8/8 [==============================] - 0s 1ms/step - loss: 0.1873 - accuracy: 1.0000 - precision_1: 1.0000 - recall_1: 0.9677 - mean_absolute_error: 0.0387\n",
            "Epoch 69/200\n",
            "8/8 [==============================] - 0s 2ms/step - loss: 0.4608 - accuracy: 0.8387 - precision_1: 0.9231 - recall_1: 0.7742 - mean_absolute_error: 0.0700\n",
            "Epoch 70/200\n",
            "8/8 [==============================] - 0s 1ms/step - loss: 0.2427 - accuracy: 0.9677 - precision_1: 1.0000 - recall_1: 0.9355 - mean_absolute_error: 0.0487\n",
            "Epoch 71/200\n",
            "8/8 [==============================] - 0s 1ms/step - loss: 0.3298 - accuracy: 0.9677 - precision_1: 1.0000 - recall_1: 0.8065 - mean_absolute_error: 0.0581\n",
            "Epoch 72/200\n",
            "8/8 [==============================] - 0s 1ms/step - loss: 0.3358 - accuracy: 0.9355 - precision_1: 1.0000 - recall_1: 0.8065 - mean_absolute_error: 0.0589\n",
            "Epoch 73/200\n",
            "8/8 [==============================] - 0s 1ms/step - loss: 0.3068 - accuracy: 0.9677 - precision_1: 1.0000 - recall_1: 0.8387 - mean_absolute_error: 0.0543\n",
            "Epoch 74/200\n",
            "8/8 [==============================] - 0s 2ms/step - loss: 0.2624 - accuracy: 0.9355 - precision_1: 1.0000 - recall_1: 0.8387 - mean_absolute_error: 0.0487\n",
            "Epoch 75/200\n",
            "8/8 [==============================] - 0s 1ms/step - loss: 0.4113 - accuracy: 0.8710 - precision_1: 0.9231 - recall_1: 0.7742 - mean_absolute_error: 0.0638\n",
            "Epoch 76/200\n",
            "8/8 [==============================] - 0s 1ms/step - loss: 0.3198 - accuracy: 1.0000 - precision_1: 1.0000 - recall_1: 0.8065 - mean_absolute_error: 0.0605\n",
            "Epoch 77/200\n",
            "8/8 [==============================] - 0s 2ms/step - loss: 0.2715 - accuracy: 0.9677 - precision_1: 1.0000 - recall_1: 0.9032 - mean_absolute_error: 0.0526\n",
            "Epoch 78/200\n",
            "8/8 [==============================] - 0s 2ms/step - loss: 0.3424 - accuracy: 0.9355 - precision_1: 0.9630 - recall_1: 0.8387 - mean_absolute_error: 0.0606\n",
            "Epoch 79/200\n",
            "8/8 [==============================] - 0s 1ms/step - loss: 0.1944 - accuracy: 1.0000 - precision_1: 1.0000 - recall_1: 0.9355 - mean_absolute_error: 0.0395\n",
            "Epoch 80/200\n",
            "8/8 [==============================] - 0s 1ms/step - loss: 0.2123 - accuracy: 1.0000 - precision_1: 1.0000 - recall_1: 0.9677 - mean_absolute_error: 0.0435\n",
            "Epoch 81/200\n",
            "8/8 [==============================] - 0s 1ms/step - loss: 0.4392 - accuracy: 0.9032 - precision_1: 1.0000 - recall_1: 0.7419 - mean_absolute_error: 0.0757\n",
            "Epoch 82/200\n",
            "8/8 [==============================] - 0s 1ms/step - loss: 0.1878 - accuracy: 1.0000 - precision_1: 1.0000 - recall_1: 0.9355 - mean_absolute_error: 0.0380\n",
            "Epoch 83/200\n",
            "8/8 [==============================] - 0s 2ms/step - loss: 0.2622 - accuracy: 0.9355 - precision_1: 1.0000 - recall_1: 0.8710 - mean_absolute_error: 0.0487\n",
            "Epoch 84/200\n",
            "8/8 [==============================] - 0s 1ms/step - loss: 0.2750 - accuracy: 0.9677 - precision_1: 1.0000 - recall_1: 0.8710 - mean_absolute_error: 0.0516\n",
            "Epoch 85/200\n",
            "8/8 [==============================] - 0s 1ms/step - loss: 0.2813 - accuracy: 0.9677 - precision_1: 1.0000 - recall_1: 0.8710 - mean_absolute_error: 0.0509\n",
            "Epoch 86/200\n",
            "8/8 [==============================] - 0s 1ms/step - loss: 0.2184 - accuracy: 0.9677 - precision_1: 1.0000 - recall_1: 0.9677 - mean_absolute_error: 0.0414\n",
            "Epoch 87/200\n",
            "8/8 [==============================] - 0s 2ms/step - loss: 0.2616 - accuracy: 0.9355 - precision_1: 0.9667 - recall_1: 0.9355 - mean_absolute_error: 0.0467\n",
            "Epoch 88/200\n",
            "8/8 [==============================] - 0s 2ms/step - loss: 0.2711 - accuracy: 0.9355 - precision_1: 0.9655 - recall_1: 0.9032 - mean_absolute_error: 0.0487\n",
            "Epoch 89/200\n",
            "8/8 [==============================] - 0s 2ms/step - loss: 0.3097 - accuracy: 0.9032 - precision_1: 1.0000 - recall_1: 0.9032 - mean_absolute_error: 0.0480\n",
            "Epoch 90/200\n",
            "8/8 [==============================] - 0s 997us/step - loss: 0.3623 - accuracy: 0.9032 - precision_1: 0.9231 - recall_1: 0.7742 - mean_absolute_error: 0.0589\n",
            "Epoch 91/200\n",
            "8/8 [==============================] - 0s 997us/step - loss: 0.2988 - accuracy: 0.9677 - precision_1: 0.9655 - recall_1: 0.9032 - mean_absolute_error: 0.0547\n",
            "Epoch 92/200\n",
            "8/8 [==============================] - 0s 1ms/step - loss: 0.3254 - accuracy: 0.9032 - precision_1: 0.9310 - recall_1: 0.8710 - mean_absolute_error: 0.0542\n",
            "Epoch 93/200\n",
            "8/8 [==============================] - 0s 1ms/step - loss: 0.2219 - accuracy: 1.0000 - precision_1: 1.0000 - recall_1: 0.8710 - mean_absolute_error: 0.0420\n",
            "Epoch 94/200\n",
            "8/8 [==============================] - 0s 2ms/step - loss: 0.3326 - accuracy: 0.9677 - precision_1: 0.9655 - recall_1: 0.9032 - mean_absolute_error: 0.0599\n",
            "Epoch 95/200\n",
            "8/8 [==============================] - 0s 2ms/step - loss: 0.2827 - accuracy: 1.0000 - precision_1: 1.0000 - recall_1: 0.9032 - mean_absolute_error: 0.0527\n",
            "Epoch 96/200\n",
            "8/8 [==============================] - 0s 2ms/step - loss: 0.1977 - accuracy: 1.0000 - precision_1: 1.0000 - recall_1: 0.9677 - mean_absolute_error: 0.0396\n",
            "Epoch 97/200\n",
            "8/8 [==============================] - 0s 2ms/step - loss: 0.2842 - accuracy: 1.0000 - precision_1: 1.0000 - recall_1: 0.9032 - mean_absolute_error: 0.0540\n",
            "Epoch 98/200\n",
            "8/8 [==============================] - 0s 2ms/step - loss: 0.2534 - accuracy: 0.9677 - precision_1: 1.0000 - recall_1: 0.9355 - mean_absolute_error: 0.0480\n",
            "Epoch 99/200\n",
            "8/8 [==============================] - 0s 2ms/step - loss: 0.3524 - accuracy: 0.8710 - precision_1: 0.9231 - recall_1: 0.7742 - mean_absolute_error: 0.0612\n",
            "Epoch 100/200\n",
            "8/8 [==============================] - 0s 2ms/step - loss: 0.2334 - accuracy: 0.9677 - precision_1: 1.0000 - recall_1: 0.8065 - mean_absolute_error: 0.0423\n",
            "Epoch 101/200\n",
            "8/8 [==============================] - 0s 2ms/step - loss: 0.1827 - accuracy: 0.9677 - precision_1: 1.0000 - recall_1: 0.9032 - mean_absolute_error: 0.0326\n",
            "Epoch 102/200\n",
            "8/8 [==============================] - 0s 1ms/step - loss: 0.2752 - accuracy: 0.9677 - precision_1: 0.9630 - recall_1: 0.8387 - mean_absolute_error: 0.0521\n",
            "Epoch 103/200\n",
            "8/8 [==============================] - 0s 997us/step - loss: 0.2692 - accuracy: 0.9355 - precision_1: 1.0000 - recall_1: 0.9032 - mean_absolute_error: 0.0466\n",
            "Epoch 104/200\n",
            "8/8 [==============================] - 0s 997us/step - loss: 0.1968 - accuracy: 1.0000 - precision_1: 1.0000 - recall_1: 0.9355 - mean_absolute_error: 0.0386\n",
            "Epoch 105/200\n",
            "8/8 [==============================] - 0s 2ms/step - loss: 0.1970 - accuracy: 1.0000 - precision_1: 1.0000 - recall_1: 0.9355 - mean_absolute_error: 0.0394\n",
            "Epoch 106/200\n",
            "8/8 [==============================] - 0s 1ms/step - loss: 0.2583 - accuracy: 1.0000 - precision_1: 1.0000 - recall_1: 0.8387 - mean_absolute_error: 0.0477\n",
            "Epoch 107/200\n",
            "8/8 [==============================] - 0s 2ms/step - loss: 0.1976 - accuracy: 1.0000 - precision_1: 1.0000 - recall_1: 0.9355 - mean_absolute_error: 0.0409\n",
            "Epoch 108/200\n",
            "8/8 [==============================] - 0s 1ms/step - loss: 0.2977 - accuracy: 0.9355 - precision_1: 0.9655 - recall_1: 0.9032 - mean_absolute_error: 0.0438\n",
            "Epoch 109/200\n",
            "8/8 [==============================] - 0s 2ms/step - loss: 0.2202 - accuracy: 0.9677 - precision_1: 0.9667 - recall_1: 0.9355 - mean_absolute_error: 0.0433\n",
            "Epoch 110/200\n",
            "8/8 [==============================] - 0s 2ms/step - loss: 0.1885 - accuracy: 1.0000 - precision_1: 1.0000 - recall_1: 0.9677 - mean_absolute_error: 0.0391\n",
            "Epoch 111/200\n",
            "8/8 [==============================] - 0s 2ms/step - loss: 0.3031 - accuracy: 0.9677 - precision_1: 1.0000 - recall_1: 0.8065 - mean_absolute_error: 0.0533\n",
            "Epoch 112/200\n",
            "8/8 [==============================] - 0s 2ms/step - loss: 0.2394 - accuracy: 0.9677 - precision_1: 1.0000 - recall_1: 0.8710 - mean_absolute_error: 0.0437\n",
            "Epoch 113/200\n",
            "8/8 [==============================] - 0s 1ms/step - loss: 0.4129 - accuracy: 0.8710 - precision_1: 0.8929 - recall_1: 0.8065 - mean_absolute_error: 0.0592\n",
            "Epoch 114/200\n",
            "8/8 [==============================] - 0s 997us/step - loss: 0.4130 - accuracy: 0.8710 - precision_1: 0.8929 - recall_1: 0.8065 - mean_absolute_error: 0.0595\n",
            "Epoch 115/200\n",
            "8/8 [==============================] - 0s 1ms/step - loss: 0.2265 - accuracy: 1.0000 - precision_1: 1.0000 - recall_1: 0.9032 - mean_absolute_error: 0.0437\n",
            "Epoch 116/200\n",
            "8/8 [==============================] - 0s 2ms/step - loss: 0.1513 - accuracy: 1.0000 - precision_1: 1.0000 - recall_1: 0.9355 - mean_absolute_error: 0.0286\n",
            "Epoch 117/200\n",
            "8/8 [==============================] - 0s 2ms/step - loss: 0.2359 - accuracy: 0.9032 - precision_1: 0.9333 - recall_1: 0.9032 - mean_absolute_error: 0.0387\n",
            "Epoch 118/200\n",
            "8/8 [==============================] - 0s 2ms/step - loss: 0.1923 - accuracy: 0.9677 - precision_1: 0.9667 - recall_1: 0.9355 - mean_absolute_error: 0.0376\n",
            "Epoch 119/200\n",
            "8/8 [==============================] - 0s 2ms/step - loss: 0.2602 - accuracy: 0.9355 - precision_1: 0.9333 - recall_1: 0.9032 - mean_absolute_error: 0.0447\n",
            "Epoch 120/200\n",
            "8/8 [==============================] - 0s 2ms/step - loss: 0.1658 - accuracy: 0.9677 - precision_1: 1.0000 - recall_1: 0.9677 - mean_absolute_error: 0.0335\n",
            "Epoch 121/200\n",
            "8/8 [==============================] - 0s 1ms/step - loss: 0.1773 - accuracy: 0.9677 - precision_1: 0.9655 - recall_1: 0.9032 - mean_absolute_error: 0.0335\n",
            "Epoch 122/200\n",
            "8/8 [==============================] - 0s 2ms/step - loss: 0.1524 - accuracy: 0.9677 - precision_1: 1.0000 - recall_1: 0.9677 - mean_absolute_error: 0.0308\n",
            "Epoch 123/200\n",
            "8/8 [==============================] - 0s 1ms/step - loss: 0.2295 - accuracy: 0.9677 - precision_1: 1.0000 - recall_1: 0.9355 - mean_absolute_error: 0.0408\n",
            "Epoch 124/200\n",
            "8/8 [==============================] - 0s 1ms/step - loss: 0.1352 - accuracy: 1.0000 - precision_1: 1.0000 - recall_1: 0.9677 - mean_absolute_error: 0.0282\n",
            "Epoch 125/200\n",
            "8/8 [==============================] - 0s 1ms/step - loss: 0.1468 - accuracy: 1.0000 - precision_1: 1.0000 - recall_1: 0.9355 - mean_absolute_error: 0.0306\n",
            "Epoch 126/200\n",
            "8/8 [==============================] - 0s 1ms/step - loss: 0.2658 - accuracy: 0.9677 - precision_1: 1.0000 - recall_1: 0.9032 - mean_absolute_error: 0.0444\n",
            "Epoch 127/200\n",
            "8/8 [==============================] - 0s 1ms/step - loss: 0.2405 - accuracy: 0.9677 - precision_1: 0.9655 - recall_1: 0.9032 - mean_absolute_error: 0.0451\n",
            "Epoch 128/200\n",
            "8/8 [==============================] - 0s 1ms/step - loss: 0.1602 - accuracy: 0.9677 - precision_1: 0.9655 - recall_1: 0.9032 - mean_absolute_error: 0.0296\n",
            "Epoch 129/200\n",
            "8/8 [==============================] - 0s 997us/step - loss: 0.3052 - accuracy: 0.9355 - precision_1: 0.9259 - recall_1: 0.8065 - mean_absolute_error: 0.0532\n",
            "Epoch 130/200\n",
            "8/8 [==============================] - 0s 1ms/step - loss: 0.1615 - accuracy: 0.9677 - precision_1: 1.0000 - recall_1: 0.9355 - mean_absolute_error: 0.0322\n",
            "Epoch 131/200\n",
            "8/8 [==============================] - 0s 2ms/step - loss: 0.1659 - accuracy: 0.9677 - precision_1: 1.0000 - recall_1: 0.9677 - mean_absolute_error: 0.0345\n",
            "Epoch 132/200\n",
            "8/8 [==============================] - 0s 1ms/step - loss: 0.3270 - accuracy: 0.9032 - precision_1: 0.9643 - recall_1: 0.8710 - mean_absolute_error: 0.0496\n",
            "Epoch 133/200\n",
            "8/8 [==============================] - 0s 2ms/step - loss: 0.3101 - accuracy: 0.8387 - precision_1: 0.9259 - recall_1: 0.8065 - mean_absolute_error: 0.0521\n",
            "Epoch 134/200\n",
            "8/8 [==============================] - 0s 1ms/step - loss: 0.1704 - accuracy: 0.9677 - precision_1: 1.0000 - recall_1: 0.9677 - mean_absolute_error: 0.0319\n",
            "Epoch 135/200\n",
            "8/8 [==============================] - 0s 1ms/step - loss: 0.1347 - accuracy: 1.0000 - precision_1: 1.0000 - recall_1: 0.9677 - mean_absolute_error: 0.0279\n",
            "Epoch 136/200\n",
            "8/8 [==============================] - 0s 1ms/step - loss: 0.2532 - accuracy: 0.9355 - precision_1: 1.0000 - recall_1: 0.8710 - mean_absolute_error: 0.0448    \n",
            "Epoch 137/200\n",
            "8/8 [==============================] - 0s 2ms/step - loss: 0.2426 - accuracy: 1.0000 - precision_1: 1.0000 - recall_1: 0.8387 - mean_absolute_error: 0.0462\n",
            "Epoch 138/200\n",
            "8/8 [==============================] - 0s 1ms/step - loss: 0.2217 - accuracy: 0.9677 - precision_1: 1.0000 - recall_1: 0.8710 - mean_absolute_error: 0.0400\n",
            "Epoch 139/200\n",
            "8/8 [==============================] - 0s 1ms/step - loss: 0.2450 - accuracy: 0.9355 - precision_1: 0.9667 - recall_1: 0.9355 - mean_absolute_error: 0.0463\n",
            "Epoch 140/200\n",
            "8/8 [==============================] - 0s 2ms/step - loss: 0.1297 - accuracy: 1.0000 - precision_1: 1.0000 - recall_1: 1.0000 - mean_absolute_error: 0.0280\n",
            "Epoch 141/200\n",
            "8/8 [==============================] - 0s 2ms/step - loss: 0.1111 - accuracy: 1.0000 - precision_1: 1.0000 - recall_1: 1.0000 - mean_absolute_error: 0.0237\n",
            "Epoch 142/200\n",
            "8/8 [==============================] - 0s 1ms/step - loss: 0.1907 - accuracy: 0.9677 - precision_1: 1.0000 - recall_1: 0.9032 - mean_absolute_error: 0.0362\n",
            "Epoch 143/200\n",
            "8/8 [==============================] - 0s 1ms/step - loss: 0.1802 - accuracy: 0.9677 - precision_1: 0.9667 - recall_1: 0.9355 - mean_absolute_error: 0.0309\n",
            "Epoch 144/200\n",
            "8/8 [==============================] - 0s 1ms/step - loss: 0.1687 - accuracy: 1.0000 - precision_1: 1.0000 - recall_1: 0.9677 - mean_absolute_error: 0.0347\n",
            "Epoch 145/200\n",
            "8/8 [==============================] - 0s 1ms/step - loss: 0.1935 - accuracy: 0.9677 - precision_1: 0.9667 - recall_1: 0.9355 - mean_absolute_error: 0.0373\n",
            "Epoch 146/200\n",
            "8/8 [==============================] - 0s 2ms/step - loss: 0.1973 - accuracy: 0.9677 - precision_1: 1.0000 - recall_1: 0.9355 - mean_absolute_error: 0.0318\n",
            "Epoch 147/200\n",
            "8/8 [==============================] - 0s 1ms/step - loss: 0.1206 - accuracy: 1.0000 - precision_1: 1.0000 - recall_1: 0.9677 - mean_absolute_error: 0.0257\n",
            "Epoch 148/200\n",
            "8/8 [==============================] - 0s 1ms/step - loss: 0.1438 - accuracy: 0.9677 - precision_1: 1.0000 - recall_1: 0.9355 - mean_absolute_error: 0.0276\n",
            "Epoch 149/200\n",
            "8/8 [==============================] - 0s 1ms/step - loss: 0.1616 - accuracy: 1.0000 - precision_1: 1.0000 - recall_1: 0.9677 - mean_absolute_error: 0.0343\n",
            "Epoch 150/200\n",
            "8/8 [==============================] - 0s 1ms/step - loss: 0.3260 - accuracy: 0.9032 - precision_1: 0.9286 - recall_1: 0.8387 - mean_absolute_error: 0.0548\n",
            "Epoch 151/200\n",
            "8/8 [==============================] - 0s 1ms/step - loss: 0.2138 - accuracy: 0.9677 - precision_1: 0.9655 - recall_1: 0.9032 - mean_absolute_error: 0.0379\n",
            "Epoch 152/200\n",
            "8/8 [==============================] - 0s 1ms/step - loss: 0.1636 - accuracy: 1.0000 - precision_1: 1.0000 - recall_1: 0.9032 - mean_absolute_error: 0.0316\n",
            "Epoch 153/200\n",
            "8/8 [==============================] - 0s 1ms/step - loss: 0.1467 - accuracy: 0.9677 - precision_1: 1.0000 - recall_1: 0.9677 - mean_absolute_error: 0.0302\n",
            "Epoch 154/200\n",
            "8/8 [==============================] - 0s 2ms/step - loss: 0.1906 - accuracy: 1.0000 - precision_1: 1.0000 - recall_1: 0.9355 - mean_absolute_error: 0.0366\n",
            "Epoch 155/200\n",
            "8/8 [==============================] - 0s 1ms/step - loss: 0.1888 - accuracy: 0.9677 - precision_1: 0.9667 - recall_1: 0.9355 - mean_absolute_error: 0.0353\n",
            "Epoch 156/200\n",
            "8/8 [==============================] - 0s 1ms/step - loss: 0.1587 - accuracy: 1.0000 - precision_1: 1.0000 - recall_1: 1.0000 - mean_absolute_error: 0.0337\n",
            "Epoch 157/200\n",
            "8/8 [==============================] - 0s 1ms/step - loss: 0.2504 - accuracy: 1.0000 - precision_1: 1.0000 - recall_1: 0.9355 - mean_absolute_error: 0.0487\n",
            "Epoch 158/200\n",
            "8/8 [==============================] - 0s 1ms/step - loss: 0.1348 - accuracy: 1.0000 - precision_1: 1.0000 - recall_1: 1.0000 - mean_absolute_error: 0.0291\n",
            "Epoch 159/200\n",
            "8/8 [==============================] - 0s 2ms/step - loss: 0.2085 - accuracy: 0.9355 - precision_1: 0.9643 - recall_1: 0.8710 - mean_absolute_error: 0.0386\n",
            "Epoch 160/200\n",
            "8/8 [==============================] - 0s 1ms/step - loss: 0.1246 - accuracy: 1.0000 - precision_1: 1.0000 - recall_1: 1.0000 - mean_absolute_error: 0.0267\n",
            "Epoch 161/200\n",
            "8/8 [==============================] - 0s 2ms/step - loss: 0.1753 - accuracy: 0.9677 - precision_1: 0.9677 - recall_1: 0.9677 - mean_absolute_error: 0.0322\n",
            "Epoch 162/200\n",
            "8/8 [==============================] - 0s 2ms/step - loss: 0.1733 - accuracy: 0.9677 - precision_1: 1.0000 - recall_1: 0.9032 - mean_absolute_error: 0.0329\n",
            "Epoch 163/200\n",
            "8/8 [==============================] - 0s 2ms/step - loss: 0.1952 - accuracy: 0.9677 - precision_1: 0.9655 - recall_1: 0.9032 - mean_absolute_error: 0.0366\n",
            "Epoch 164/200\n",
            "8/8 [==============================] - 0s 1ms/step - loss: 0.1454 - accuracy: 1.0000 - precision_1: 1.0000 - recall_1: 0.9677 - mean_absolute_error: 0.0305\n",
            "Epoch 165/200\n",
            "8/8 [==============================] - 0s 1ms/step - loss: 0.2098 - accuracy: 0.9677 - precision_1: 1.0000 - recall_1: 0.9355 - mean_absolute_error: 0.0399\n",
            "Epoch 166/200\n",
            "8/8 [==============================] - 0s 2ms/step - loss: 0.2456 - accuracy: 0.9032 - precision_1: 0.9655 - recall_1: 0.9032 - mean_absolute_error: 0.0401\n",
            "Epoch 167/200\n",
            "8/8 [==============================] - 0s 997us/step - loss: 0.1934 - accuracy: 0.9355 - precision_1: 0.9667 - recall_1: 0.9355 - mean_absolute_error: 0.0341\n",
            "Epoch 168/200\n",
            "8/8 [==============================] - 0s 1ms/step - loss: 0.2125 - accuracy: 0.9677 - precision_1: 1.0000 - recall_1: 0.9355 - mean_absolute_error: 0.0382\n",
            "Epoch 169/200\n",
            "8/8 [==============================] - 0s 1ms/step - loss: 0.1925 - accuracy: 0.9355 - precision_1: 0.9667 - recall_1: 0.9355 - mean_absolute_error: 0.0334\n",
            "Epoch 170/200\n",
            "8/8 [==============================] - 0s 1ms/step - loss: 0.1545 - accuracy: 1.0000 - precision_1: 1.0000 - recall_1: 0.9355 - mean_absolute_error: 0.0318\n",
            "Epoch 171/200\n",
            "8/8 [==============================] - 0s 2ms/step - loss: 0.2141 - accuracy: 0.9677 - precision_1: 0.9667 - recall_1: 0.9355 - mean_absolute_error: 0.0393\n",
            "Epoch 172/200\n",
            "8/8 [==============================] - 0s 2ms/step - loss: 0.1340 - accuracy: 0.9677 - precision_1: 0.9677 - recall_1: 0.9677 - mean_absolute_error: 0.0270\n",
            "Epoch 173/200\n",
            "8/8 [==============================] - 0s 1ms/step - loss: 0.1141 - accuracy: 0.9677 - precision_1: 1.0000 - recall_1: 0.9677 - mean_absolute_error: 0.0215\n",
            "Epoch 174/200\n",
            "8/8 [==============================] - 0s 1ms/step - loss: 0.1969 - accuracy: 0.9677 - precision_1: 0.9667 - recall_1: 0.9355 - mean_absolute_error: 0.0369\n",
            "Epoch 175/200\n",
            "8/8 [==============================] - 0s 1ms/step - loss: 0.2010 - accuracy: 0.9677 - precision_1: 0.9667 - recall_1: 0.9355 - mean_absolute_error: 0.0376\n",
            "Epoch 176/200\n",
            "8/8 [==============================] - 0s 1ms/step - loss: 0.1982 - accuracy: 0.9355 - precision_1: 1.0000 - recall_1: 0.9032 - mean_absolute_error: 0.0334\n",
            "Epoch 177/200\n",
            "8/8 [==============================] - 0s 1ms/step - loss: 0.1108 - accuracy: 1.0000 - precision_1: 1.0000 - recall_1: 0.9355 - mean_absolute_error: 0.0229\n",
            "Epoch 178/200\n",
            "8/8 [==============================] - 0s 1ms/step - loss: 0.0724 - accuracy: 1.0000 - precision_1: 1.0000 - recall_1: 1.0000 - mean_absolute_error: 0.0162\n",
            "Epoch 179/200\n",
            "8/8 [==============================] - 0s 2ms/step - loss: 0.1098 - accuracy: 1.0000 - precision_1: 1.0000 - recall_1: 1.0000 - mean_absolute_error: 0.0242\n",
            "Epoch 180/200\n",
            "8/8 [==============================] - 0s 2ms/step - loss: 0.1402 - accuracy: 0.9677 - precision_1: 1.0000 - recall_1: 0.9355 - mean_absolute_error: 0.0289\n",
            "Epoch 181/200\n",
            "8/8 [==============================] - 0s 2ms/step - loss: 0.1556 - accuracy: 1.0000 - precision_1: 1.0000 - recall_1: 0.9677 - mean_absolute_error: 0.0311\n",
            "Epoch 182/200\n",
            "8/8 [==============================] - 0s 2ms/step - loss: 0.1465 - accuracy: 0.9677 - precision_1: 0.9677 - recall_1: 0.9677 - mean_absolute_error: 0.0288\n",
            "Epoch 183/200\n",
            "8/8 [==============================] - 0s 1ms/step - loss: 0.1172 - accuracy: 0.9677 - precision_1: 1.0000 - recall_1: 0.9677 - mean_absolute_error: 0.0237\n",
            "Epoch 184/200\n",
            "8/8 [==============================] - 0s 997us/step - loss: 0.2083 - accuracy: 0.9677 - precision_1: 0.9630 - recall_1: 0.8387 - mean_absolute_error: 0.0358\n",
            "Epoch 185/200\n",
            "8/8 [==============================] - 0s 1ms/step - loss: 0.1885 - accuracy: 0.9677 - precision_1: 1.0000 - recall_1: 0.9355 - mean_absolute_error: 0.0339\n",
            "Epoch 186/200\n",
            "8/8 [==============================] - 0s 1ms/step - loss: 0.1573 - accuracy: 0.9677 - precision_1: 0.9667 - recall_1: 0.9355 - mean_absolute_error: 0.0288\n",
            "Epoch 187/200\n",
            "8/8 [==============================] - 0s 2ms/step - loss: 0.1363 - accuracy: 1.0000 - precision_1: 1.0000 - recall_1: 0.9677 - mean_absolute_error: 0.0289\n",
            "Epoch 188/200\n",
            "8/8 [==============================] - 0s 1ms/step - loss: 0.1181 - accuracy: 1.0000 - precision_1: 1.0000 - recall_1: 0.9355 - mean_absolute_error: 0.0240\n",
            "Epoch 189/200\n",
            "8/8 [==============================] - 0s 1ms/step - loss: 0.2201 - accuracy: 0.9032 - precision_1: 0.9643 - recall_1: 0.8710 - mean_absolute_error: 0.0368\n",
            "Epoch 190/200\n",
            "8/8 [==============================] - 0s 2ms/step - loss: 0.1907 - accuracy: 0.9355 - precision_1: 0.9310 - recall_1: 0.8710 - mean_absolute_error: 0.0352\n",
            "Epoch 191/200\n",
            "8/8 [==============================] - 0s 1ms/step - loss: 0.1442 - accuracy: 0.9677 - precision_1: 0.9667 - recall_1: 0.9355 - mean_absolute_error: 0.0286\n",
            "Epoch 192/200\n",
            "8/8 [==============================] - 0s 1ms/step - loss: 0.2785 - accuracy: 0.9032 - precision_1: 1.0000 - recall_1: 0.9032 - mean_absolute_error: 0.0406\n",
            "Epoch 193/200\n",
            "8/8 [==============================] - 0s 1ms/step - loss: 0.2326 - accuracy: 0.9677 - precision_1: 0.9667 - recall_1: 0.9355 - mean_absolute_error: 0.0446\n",
            "Epoch 194/200\n",
            "8/8 [==============================] - 0s 1ms/step - loss: 0.1307 - accuracy: 1.0000 - precision_1: 1.0000 - recall_1: 0.9355 - mean_absolute_error: 0.0264\n",
            "Epoch 195/200\n",
            "8/8 [==============================] - 0s 1ms/step - loss: 0.1235 - accuracy: 1.0000 - precision_1: 1.0000 - recall_1: 1.0000 - mean_absolute_error: 0.0266\n",
            "Epoch 196/200\n",
            "8/8 [==============================] - 0s 1ms/step - loss: 0.1713 - accuracy: 1.0000 - precision_1: 1.0000 - recall_1: 0.9677 - mean_absolute_error: 0.0350\n",
            "Epoch 197/200\n",
            "8/8 [==============================] - 0s 3ms/step - loss: 0.0622 - accuracy: 1.0000 - precision_1: 1.0000 - recall_1: 1.0000 - mean_absolute_error: 0.0143\n",
            "Epoch 198/200\n",
            "8/8 [==============================] - 0s 2ms/step - loss: 0.3606 - accuracy: 0.9032 - precision_1: 0.9259 - recall_1: 0.8065 - mean_absolute_error: 0.0526\n",
            "Epoch 199/200\n",
            "8/8 [==============================] - 0s 1ms/step - loss: 0.1847 - accuracy: 1.0000 - precision_1: 1.0000 - recall_1: 0.9032 - mean_absolute_error: 0.0356\n",
            "Epoch 200/200\n",
            "8/8 [==============================] - 0s 1ms/step - loss: 0.1958 - accuracy: 0.9677 - precision_1: 1.0000 - recall_1: 0.9032 - mean_absolute_error: 0.0367\n"
          ]
        }
      ],
      "source": [
        "history = model.fit(train_x, train_y, epochs=200, batch_size=4, verbose=1)"
      ]
    },
    {
      "cell_type": "code",
      "execution_count": null,
      "metadata": {
        "id": "06k1fb2yWF1A"
      },
      "outputs": [],
      "source": [
        "model.save(\"ai_chatbot.h5\", history)"
      ]
    },
    {
      "cell_type": "markdown",
      "metadata": {
        "id": "8_MYpfoVbN3w"
      },
      "source": [
        "## EXECUTING CHATBOT"
      ]
    },
    {
      "cell_type": "markdown",
      "metadata": {
        "id": "s1PcFlnAek4b"
      },
      "source": [
        "### *Loading Our Crop Data*"
      ]
    },
    {
      "cell_type": "code",
      "execution_count": 3,
      "metadata": {
        "colab": {
          "base_uri": "https://localhost:8080/"
        },
        "id": "fmTQwvjCSI27",
        "outputId": "7925cf8c-3706-4da5-8d1c-7233b35dc9c7"
      },
      "outputs": [
        {
          "name": "stdout",
          "output_type": "stream",
          "text": [
            "name\n"
          ]
        }
      ],
      "source": [
        "# checking existing intents file\n",
        "print(intents['intents'][3]['tag'])"
      ]
    },
    {
      "cell_type": "markdown",
      "metadata": {},
      "source": [
        "### *loading our crops* (from colab)"
      ]
    },
    {
      "cell_type": "code",
      "execution_count": null,
      "metadata": {
        "colab": {
          "base_uri": "https://localhost:8080/",
          "height": 74,
          "resources": {
            "http://localhost:8080/nbextensions/google.colab/files.js": {
              "data": "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",
              "headers": [
                [
                  "content-type",
                  "application/javascript"
                ]
              ],
              "ok": true,
              "status": 200,
              "status_text": ""
            }
          }
        },
        "id": "Sk1Xnoz_eQvZ",
        "outputId": "2520b0d4-56cb-4412-d488-9f346dfbd589"
      },
      "outputs": [],
      "source": [
        "# loading file\n",
        "from google.colab import files\n",
        "uploaded = files.upload()"
      ]
    },
    {
      "cell_type": "code",
      "execution_count": null,
      "metadata": {
        "colab": {
          "base_uri": "https://localhost:8080/"
        },
        "id": "7YOfY0qbubxA",
        "outputId": "c8937648-ec3d-44be-8407-39f751be3eb5"
      },
      "outputs": [],
      "source": [
        "print(uploaded)"
      ]
    },
    {
      "cell_type": "code",
      "execution_count": null,
      "metadata": {
        "colab": {
          "base_uri": "https://localhost:8080/"
        },
        "id": "JIlmoE03eR6i",
        "outputId": "cbe6651e-5e4a-4d9f-afb8-b9d3bb23d0b4"
      },
      "outputs": [],
      "source": [
        "crop_data =  json.loads(uploaded['crop_data_kan.json'])\n",
        "print(crop_data[\"ಸಾಸಿವೆ\"][\"Min_Price\"])"
      ]
    },
    {
      "cell_type": "markdown",
      "metadata": {},
      "source": [
        "### *loading our crops* (from local)"
      ]
    },
    {
      "cell_type": "code",
      "execution_count": 4,
      "metadata": {},
      "outputs": [
        {
          "name": "stdout",
          "output_type": "stream",
          "text": [
            "6100\n"
          ]
        }
      ],
      "source": [
        "file_path = \"crop_data_kan.json\"\n",
        "\n",
        "with open(file_path, 'r', encoding=\"utf8\") as j:\n",
        "     crop_data = json.loads(j.read())\n",
        "print(crop_data[\"ಸಾಸಿವೆ\"][\"Min_Price\"])"
      ]
    },
    {
      "cell_type": "markdown",
      "metadata": {
        "id": "KrDV4PZegIVG"
      },
      "source": [
        "### *Loading up our saved files*"
      ]
    },
    {
      "cell_type": "code",
      "execution_count": 5,
      "metadata": {
        "id": "Kl3_5tiegMCp"
      },
      "outputs": [],
      "source": [
        "words = pickle.load(open('words.pkl', 'rb'))\n",
        "classes = pickle.load(open('classes.pkl', 'rb'))\n",
        "docs = pickle.load(open('docs.pkl', 'rb'))\n",
        "\n",
        "model = load_model(\"ai_chatbot.h5\")"
      ]
    },
    {
      "cell_type": "markdown",
      "metadata": {
        "id": "H9t9G_Ni7Nyq"
      },
      "source": [
        "### *Creating Crop Data Data Structure by Querying dataset*"
      ]
    },
    {
      "cell_type": "code",
      "execution_count": 6,
      "metadata": {
        "id": "GNcLV8P1TJy_"
      },
      "outputs": [],
      "source": [
        "crop_names = list(crop_data.keys())"
      ]
    },
    {
      "cell_type": "markdown",
      "metadata": {
        "id": "zaAZ3JOlhgsw"
      },
      "source": [
        "### *Creating Helper Functions*\n",
        "\n"
      ]
    },
    {
      "cell_type": "code",
      "execution_count": 7,
      "metadata": {
        "id": "5S7DM3XQhki2"
      },
      "outputs": [],
      "source": [
        "def clean_sentence(sentence):\n",
        "  sentence_words = nltk.word_tokenize(sentence)\n",
        "  sentence_words = [lemmatizer.lemmatize(word) for word in sentence_words]\n",
        "  return sentence_words\n",
        "\n",
        "def bag_of_words(sentence):\n",
        "  sentence_words = clean_sentence(sentence)\n",
        "  bag = [0] * len(words)\n",
        "\n",
        "  for w in sentence_words:\n",
        "    for i, word in enumerate(words):\n",
        "      if word == w:\n",
        "        bag[i] = 1\n",
        "  \n",
        "  return np.array(bag)\n",
        "\n",
        "def predict_class(sentence):\n",
        "  ERROR_THRESHOLD = 0.25\n",
        "\n",
        "  bow = bag_of_words(sentence)\n",
        "  res = model.predict(np.array([bow]))[0]\n",
        "\n",
        "  results = [[i, r] for i, r in enumerate(res) if r > ERROR_THRESHOLD]\n",
        "\n",
        "  results.sort(key=lambda x: x[1], reverse=True)\n",
        "\n",
        "  return_list = []\n",
        "  for r in results:\n",
        "    return_list.append({ 'intent': classes[r[0]], 'probability': str(r[1]) })\n",
        "\n",
        "  return return_list\n",
        "\n",
        "def get_response(intents_list, intents_json):\n",
        "  tag = intents_list[0]['intent']\n",
        "  list_of_intents = intents_json['intents']\n",
        "  for i in list_of_intents:\n",
        "    if i['tag'] == tag:\n",
        "      result = random.choice(i['responses'])\n",
        "      break\n",
        "  return result\n",
        "\n",
        "def get_crop_data(msg):\n",
        "  bow = list(msg.split())\n",
        "  # bow = [string.lower() for string in bow]\n",
        "  bow = [string for string in bow]\n",
        "  print(\"message words : \", bow)\n",
        "  print(\"crops : \", crop_names)\n",
        "\n",
        "  # common_crops = []\n",
        "  # for sub in bow:\n",
        "  #   common_crops += list(s for s in crop_names if sub.lower() in s.lower())\n",
        "\n",
        "  common_crops = list(set(bow) & set(crop_names))\n",
        "  print(\"common crops : \", common_crops)\n",
        "\n",
        "  if not common_crops:\n",
        "    return \"No Crop Data Found, Please Try again\"\n",
        "  else:\n",
        "    crop = crop_data[common_crops[0]]\n",
        "\n",
        "    crop_res = \"Here is the relevent information on the {} crop: \\n\".format(common_crops[0])\n",
        "    crop_res += \"Commodity : {}\\n\".format(crop[\"Commodity\"])\n",
        "    crop_res += \"Variety : {}\\n\".format(crop[\"Variety\"])\n",
        "    crop_res += \"Area : {}, {}, {}\\n\".format(crop[\"Market\"], crop[\"District\"], crop[\"State\"])\n",
        "    crop_res += \"Maximum Price : {}\\n\".format(crop[\"Max_Price\"])\n",
        "    crop_res += \"Average Price : {}\\n\".format(crop[\"Modal_Price\"])\n",
        "    crop_res += \"Minimum Price : {}\\n\".format(crop[\"Min_Price\"])\n",
        "    return crop_res\n"
      ]
    },
    {
      "cell_type": "markdown",
      "metadata": {
        "id": "A7lzzpChriSB"
      },
      "source": [
        "## Running BOT"
      ]
    },
    {
      "cell_type": "code",
      "execution_count": null,
      "metadata": {
        "colab": {
          "base_uri": "https://localhost:8080/",
          "height": 1000
        },
        "id": "WnYIf2NkrkSG",
        "outputId": "c2919b4a-c0cb-4fe2-dca8-9ffaa247b813"
      },
      "outputs": [
        {
          "name": "stdout",
          "output_type": "stream",
          "text": [
            "[{'intent': 'greetings', 'probability': '0.5918115'}]\n",
            "Output Message :  ನಾನು ನಿನಗಾಗಿ ಏನು ಮಾಡಬಲ್ಲೆ \n",
            "\n",
            "[{'intent': 'goodbye', 'probability': '0.27777046'}]\n",
            "Output Message :  ನಿಮ್ಮನ್ನು ಭೇಟಿಯಾಗಿದ್ದಕ್ಕೆ ಸಂತೋಷವಾಗಿದೆ \n",
            "\n",
            "[{'intent': 'crop', 'probability': '0.7247049'}]\n",
            "message words :  ['ಮಾವಿನ', 'ಬೆಲೆ', 'ಎಷ್ಟು']\n",
            "crops :  ['ಬೆಂಡೆಕಾಯಿ', 'ಹಸಿರು ಮೆಣಸಿನಕಾಯಿ', 'ಈರುಳ್ಳಿ', 'ಆಲೂಗಡ್ಡೆ', 'ಸ್ಪಾಂಜ್ ಸೋರೆಕಾಯಿ', 'ಟೊಮೆಟೊ', 'ಹಾಗಲಕಾಯಿ', 'ಅನಾನಸ್', 'ದಾಳಿಂಬೆ', 'ಬಾಟಲ್ ಸೋರೆಕಾಯಿ', 'ಹೂಕೋಸು', 'ಸೌತೆಕಾಯಿ', 'ಶುಂಠಿ', 'ನಿಂಬೆ', 'ಮಾವು', 'ಮೋಸಂಬಿ', 'ಅವರೆಕಾಳು ತೇವ', 'ಕುಂಬಳಕಾಯಿ', 'ಮಹುವ', 'ಬದನೆಕಾಯಿ', 'ಎಲೆಕೋಸು', 'ಕೊತ್ತಂಬರಿ ಸೊಪ್ಪು', 'ಗೌರ್', 'ಪಾರಿವಾಳ ಬಟಾಣಿ', 'ಮುತ್ತು ರಾಗಿ', 'ಕ್ಯಾಸ್ಟರ್ ಬೀಜ', 'ಹತ್ತಿ', 'ಬೇಳೆ', 'ಜೋಳ', 'ಅಕ್ಕಿ', 'ಗೋಧಿ', 'ಬಾಳೆಹಣ್ಣು', 'ಬೀಟ್ರೂಟ್', 'ದೊಣ್ಣೆ ಮೆಣಸಿನ ಕಾಯಿ', 'ಕ್ಯಾರೆಟ್', 'ಕ್ಲಸ್ಟರ್ ಬೀನ್ಸ್', 'ಗೋವಿನಜೋಳ', 'ಡ್ರಮ್ ಸ್ಟಿಕ್', 'ಆನೆ ಯಾಮ್', 'ಫ್ರೆಂಚ್ ಕಾಳುಗಳು', 'ನೆಲಗಡಲೆ ಕಾಳುಗಳು', 'ಭಾರತೀಯ ಬೀನ್ಸ್', 'ಚಿಕ್ಕ ಸೋರೆಕಾಯಿ', 'ಪಪ್ಪಾಯಿ', 'ಅವರೆಕಾಳು ಕಾಡ್', 'ಮೊನಚಾದ ಸೋರೆಕಾಯಿ', 'ಹೀರೆಕಾಯಿ', 'ಸೂರತ್ ಬೀನ್ಸ್', 'ಸಿಹಿ ಆಲೂಗಡ್ಡೆ', 'ಅರಿಶಿನ', 'ಯಾಮ್', 'ನೀರು ಕಲ್ಲಂಗಡಿ', 'ಸೇಬು', 'ಕಸ್ತೂರಿ ಕಲ್ಲಂಗಡಿ', 'ಮೂಲಂಗಿ', 'ಸೊಪ್ಪು', 'ಏಪ್ರಿಕಾಟ್', 'ಕೊಲೊಕಾಸಿಯಾ', 'ಸುತ್ತಿನಲ್ಲಿ ಕಲ್ಲಂಗಡಿ', 'ದ್ರಾಕ್ಷಿಗಳು', 'ಲಿಚಿ', 'ಅಣಬೆಗಳು', 'ಅಮರಂಥಸ್', 'ಆಂಫೋಫಾಲಸ್', 'ಬೂದಿ ಸೋರೆಕಾಯಿ', 'ಹಾವಿನ ಸೋರೆಕಾಯಿ', 'ಟಪಿಯೋಕಾ', 'ತೆಂಗಿನ ಕಾಯಿ', 'ಬೆಳ್ಳುಳ್ಳಿ', 'ಕೋಳಿ', 'ರಬ್ಬರ್', 'ಬೀನ್ಸ್', 'ಹಲಸು ಹಣ್ಣು', 'ಕ್ಷೇತ್ರ ಬಟಾಣಿ', 'ದುಂಡಗಿನ ಸೋರೆಕಾಯಿ', 'ಕೊಡೋ ರಾಗಿ', 'ಭತ್ತ', 'ಬೆಲ್ಲ', 'ಬಾರ್ಲಿ', 'ಬಂಗಾಳ ಗ್ರಾಂ', 'ಮಸೂರ', 'ಲಿನ್ಸೆಡ್', 'ಸಾಸಿವೆ', 'ಉರುವಲು']\n",
            "common crops :  []\n",
            "Output Message :  No Crop Data Found, Please Try again \n",
            "\n",
            "[{'intent': 'goodbye', 'probability': '0.27777046'}]\n",
            "Output Message :  ನಿಮ್ಮನ್ನು ಭೇಟಿಯಾಗಿದ್ದಕ್ಕೆ ಸಂತೋಷವಾಗಿದೆ \n",
            "\n",
            "[{'intent': 'crop', 'probability': '0.7691121'}]\n",
            "message words :  ['ಅಕ್ಕಿ', 'ಬೆಲೆ', 'ಏನು']\n",
            "crops :  ['ಬೆಂಡೆಕಾಯಿ', 'ಹಸಿರು ಮೆಣಸಿನಕಾಯಿ', 'ಈರುಳ್ಳಿ', 'ಆಲೂಗಡ್ಡೆ', 'ಸ್ಪಾಂಜ್ ಸೋರೆಕಾಯಿ', 'ಟೊಮೆಟೊ', 'ಹಾಗಲಕಾಯಿ', 'ಅನಾನಸ್', 'ದಾಳಿಂಬೆ', 'ಬಾಟಲ್ ಸೋರೆಕಾಯಿ', 'ಹೂಕೋಸು', 'ಸೌತೆಕಾಯಿ', 'ಶುಂಠಿ', 'ನಿಂಬೆ', 'ಮಾವು', 'ಮೋಸಂಬಿ', 'ಅವರೆಕಾಳು ತೇವ', 'ಕುಂಬಳಕಾಯಿ', 'ಮಹುವ', 'ಬದನೆಕಾಯಿ', 'ಎಲೆಕೋಸು', 'ಕೊತ್ತಂಬರಿ ಸೊಪ್ಪು', 'ಗೌರ್', 'ಪಾರಿವಾಳ ಬಟಾಣಿ', 'ಮುತ್ತು ರಾಗಿ', 'ಕ್ಯಾಸ್ಟರ್ ಬೀಜ', 'ಹತ್ತಿ', 'ಬೇಳೆ', 'ಜೋಳ', 'ಅಕ್ಕಿ', 'ಗೋಧಿ', 'ಬಾಳೆಹಣ್ಣು', 'ಬೀಟ್ರೂಟ್', 'ದೊಣ್ಣೆ ಮೆಣಸಿನ ಕಾಯಿ', 'ಕ್ಯಾರೆಟ್', 'ಕ್ಲಸ್ಟರ್ ಬೀನ್ಸ್', 'ಗೋವಿನಜೋಳ', 'ಡ್ರಮ್ ಸ್ಟಿಕ್', 'ಆನೆ ಯಾಮ್', 'ಫ್ರೆಂಚ್ ಕಾಳುಗಳು', 'ನೆಲಗಡಲೆ ಕಾಳುಗಳು', 'ಭಾರತೀಯ ಬೀನ್ಸ್', 'ಚಿಕ್ಕ ಸೋರೆಕಾಯಿ', 'ಪಪ್ಪಾಯಿ', 'ಅವರೆಕಾಳು ಕಾಡ್', 'ಮೊನಚಾದ ಸೋರೆಕಾಯಿ', 'ಹೀರೆಕಾಯಿ', 'ಸೂರತ್ ಬೀನ್ಸ್', 'ಸಿಹಿ ಆಲೂಗಡ್ಡೆ', 'ಅರಿಶಿನ', 'ಯಾಮ್', 'ನೀರು ಕಲ್ಲಂಗಡಿ', 'ಸೇಬು', 'ಕಸ್ತೂರಿ ಕಲ್ಲಂಗಡಿ', 'ಮೂಲಂಗಿ', 'ಸೊಪ್ಪು', 'ಏಪ್ರಿಕಾಟ್', 'ಕೊಲೊಕಾಸಿಯಾ', 'ಸುತ್ತಿನಲ್ಲಿ ಕಲ್ಲಂಗಡಿ', 'ದ್ರಾಕ್ಷಿಗಳು', 'ಲಿಚಿ', 'ಅಣಬೆಗಳು', 'ಅಮರಂಥಸ್', 'ಆಂಫೋಫಾಲಸ್', 'ಬೂದಿ ಸೋರೆಕಾಯಿ', 'ಹಾವಿನ ಸೋರೆಕಾಯಿ', 'ಟಪಿಯೋಕಾ', 'ತೆಂಗಿನ ಕಾಯಿ', 'ಬೆಳ್ಳುಳ್ಳಿ', 'ಕೋಳಿ', 'ರಬ್ಬರ್', 'ಬೀನ್ಸ್', 'ಹಲಸು ಹಣ್ಣು', 'ಕ್ಷೇತ್ರ ಬಟಾಣಿ', 'ದುಂಡಗಿನ ಸೋರೆಕಾಯಿ', 'ಕೊಡೋ ರಾಗಿ', 'ಭತ್ತ', 'ಬೆಲ್ಲ', 'ಬಾರ್ಲಿ', 'ಬಂಗಾಳ ಗ್ರಾಂ', 'ಮಸೂರ', 'ಲಿನ್ಸೆಡ್', 'ಸಾಸಿವೆ', 'ಉರುವಲು']\n",
            "common crops :  ['ಅಕ್ಕಿ']\n",
            "Output Message :  Here is the relevent information on the ಅಕ್ಕಿ crop: \n",
            "Commodity : Rice\n",
            "Variety : III\n",
            "Area : Nautnava, Maharajganj, Uttar Pradesh\n",
            "Maximum Price : 2400\n",
            "Average Price : 2300\n",
            "Minimum Price : 2200\n",
            " \n",
            "\n",
            "[{'intent': 'goodbye', 'probability': '0.27777046'}]\n",
            "Output Message :  ವಿದಾಯ \n",
            "\n"
          ]
        },
        {
          "ename": "",
          "evalue": "",
          "output_type": "error",
          "traceback": [
            "\u001b[1;31mCanceled future for execute_request message before replies were done"
          ]
        },
        {
          "ename": "",
          "evalue": "",
          "output_type": "error",
          "traceback": [
            "\u001b[1;31mThe Kernel crashed while executing code in the the current cell or a previous cell. Please review the code in the cell(s) to identify a possible cause of the failure. Click <a href='https://aka.ms/vscodeJupyterKernelCrash'>here</a> for more info. View Jupyter <a href='command:jupyter.viewOutput'>log</a> for further details."
          ]
        }
      ],
      "source": [
        "while True:\n",
        "  message = input('Input Message : ')\n",
        "  ints = predict_class(message)\n",
        "  print(ints)\n",
        "\n",
        "  if ints[0]['intent'] == 'crop':\n",
        "    \n",
        "    res = get_crop_data(message)\n",
        "  else:\n",
        "    res = get_response(ints, intents)\n",
        "\n",
        "  print(\"Output Message : \", res, \"\\n\")"
      ]
    },
    {
      "cell_type": "markdown",
      "metadata": {},
      "source": [
        "# Creting Visualization"
      ]
    },
    {
      "cell_type": "code",
      "execution_count": null,
      "metadata": {},
      "outputs": [],
      "source": [
        "acc = history.history['accuracy']\n",
        "loss = history.history['loss']"
      ]
    },
    {
      "cell_type": "code",
      "execution_count": null,
      "metadata": {},
      "outputs": [],
      "source": [
        "epochs = range(1, len(acc) + 1)\n",
        "\n",
        "plt.plot(epochs, acc, 'bo', label='Training acc')\n",
        "plt.title('Training accuracy')\n",
        "plt.legend()\n",
        "\n",
        "plt.figure(3)\n",
        "\n",
        "plt.plot(epochs, loss, 'bo', label='Training loss')\n",
        "plt.title('Training loss')\n",
        "plt.legend()\n",
        "\n",
        "plt.show()"
      ]
    },
    {
      "cell_type": "code",
      "execution_count": null,
      "metadata": {},
      "outputs": [],
      "source": [
        "print(round(acc[-1]*100, 2), \"%\")"
      ]
    }
  ],
  "metadata": {
    "colab": {
      "collapsed_sections": [],
      "name": "ai_chatbot.ipynb",
      "provenance": []
    },
    "interpreter": {
      "hash": "f7b54faf5a5435677ab8295a95df66fdf7851ad2c8bf06d055bbbcd678fd2480"
    },
    "kernelspec": {
      "display_name": "Python 3.9.7 64-bit",
      "language": "python",
      "name": "python3"
    },
    "language_info": {
      "codemirror_mode": {
        "name": "ipython",
        "version": 3
      },
      "file_extension": ".py",
      "mimetype": "text/x-python",
      "name": "python",
      "nbconvert_exporter": "python",
      "pygments_lexer": "ipython3",
      "version": "3.9.7"
    }
  },
  "nbformat": 4,
  "nbformat_minor": 0
}
