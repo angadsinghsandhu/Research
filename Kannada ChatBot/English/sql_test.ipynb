{
 "cells": [
  {
   "cell_type": "code",
   "execution_count": 2,
   "metadata": {},
   "outputs": [],
   "source": [
    "import sqlite3"
   ]
  },
  {
   "cell_type": "code",
   "execution_count": 3,
   "metadata": {},
   "outputs": [],
   "source": [
    "# connecting to the database\n",
    "connection = sqlite3.connect(\"intents.sqlite\")"
   ]
  },
  {
   "cell_type": "code",
   "execution_count": 4,
   "metadata": {},
   "outputs": [],
   "source": [
    "# cursor\n",
    "crsr = connection.cursor()"
   ]
  },
  {
   "cell_type": "code",
   "execution_count": 5,
   "metadata": {},
   "outputs": [
    {
     "name": "stdout",
     "output_type": "stream",
     "text": [
      "Connected to the database\n"
     ]
    }
   ],
   "source": [
    "# print statement will execute if there\n",
    "# are no errors\n",
    "print(\"Connected to the database\")"
   ]
  },
  {
   "cell_type": "markdown",
   "metadata": {},
   "source": [
    "## Creating Tag Table"
   ]
  },
  {
   "cell_type": "code",
   "execution_count": 103,
   "metadata": {},
   "outputs": [
    {
     "data": {
      "text/plain": [
       "<sqlite3.Cursor at 0x28557291c70>"
      ]
     },
     "execution_count": 103,
     "metadata": {},
     "output_type": "execute_result"
    }
   ],
   "source": [
    "# SQL command to create a table in the database\n",
    "sql_command = \"\"\"\n",
    "CREATE TABLE IF NOT EXISTS tags ( \n",
    "id INTEGER PRIMARY KEY, \n",
    "name VARCHAR(20));\n",
    "\"\"\"\n",
    "\n",
    "crsr.execute(sql_command)"
   ]
  },
  {
   "cell_type": "code",
   "execution_count": 12,
   "metadata": {},
   "outputs": [
    {
     "data": {
      "text/plain": [
       "<sqlite3.Cursor at 0x2391c50dd50>"
      ]
     },
     "execution_count": 12,
     "metadata": {},
     "output_type": "execute_result"
    }
   ],
   "source": [
    "# SQL command to insert the data in the table\n",
    "sql_command = \"\"\"\n",
    "INSERT INTO tags VALUES (7, \"crop\");\n",
    "\"\"\"\n",
    "crsr.execute(sql_command)\n"
   ]
  },
  {
   "cell_type": "code",
   "execution_count": 13,
   "metadata": {},
   "outputs": [
    {
     "name": "stdout",
     "output_type": "stream",
     "text": [
      "(1, 'greetings')\n",
      "(2, 'goodbye')\n",
      "(3, 'age')\n",
      "(4, 'name')\n",
      "(5, 'shop')\n",
      "(6, 'hours')\n",
      "(7, 'crop')\n",
      "(8, 'stocks')\n"
     ]
    }
   ],
   "source": [
    "for i in crsr.execute(\"SELECT * FROM tags;\").fetchall():\n",
    "    print(i)"
   ]
  },
  {
   "cell_type": "markdown",
   "metadata": {},
   "source": [
    "## Creating Pattern Table"
   ]
  },
  {
   "cell_type": "code",
   "execution_count": 85,
   "metadata": {},
   "outputs": [
    {
     "data": {
      "text/plain": [
       "<sqlite3.Cursor at 0x28557290f80>"
      ]
     },
     "execution_count": 85,
     "metadata": {},
     "output_type": "execute_result"
    }
   ],
   "source": [
    "# SQL command to create a table in the database\n",
    "sql_command = \"\"\"\n",
    "CREATE TABLE IF NOT EXISTS patterns ( \n",
    "id INTEGER PRIMARY KEY, \n",
    "name VARCHAR(20),\n",
    "tag_id INTEGER NOT NULL,\n",
    "FOREIGN KEY(tag_id) REFERENCES tags(id));\n",
    "\"\"\"\n",
    "\n",
    "crsr.execute(sql_command)"
   ]
  },
  {
   "cell_type": "code",
   "execution_count": 69,
   "metadata": {},
   "outputs": [],
   "source": [
    "data = [\"what stocks do I own?\", \"how are my shares?\", \"what companies am I invested in?\", \"What am I doing in stocks\"]\n",
    "start = 37\n",
    "tag = 8"
   ]
  },
  {
   "cell_type": "code",
   "execution_count": 70,
   "metadata": {},
   "outputs": [],
   "source": [
    "for i, val in enumerate(data):\n",
    "    tup = (start+i, val, tag)\n",
    "\n",
    "    crsr.execute(\"INSERT INTO patterns VALUES (?,?,?)\", tup)"
   ]
  },
  {
   "cell_type": "code",
   "execution_count": 43,
   "metadata": {},
   "outputs": [
    {
     "data": {
      "text/plain": [
       "<sqlite3.Cursor at 0x2391e0f2420>"
      ]
     },
     "execution_count": 43,
     "metadata": {},
     "output_type": "execute_result"
    }
   ],
   "source": [
    "# sql_command = \"\"\"\n",
    "# DELETE FROM patterns\n",
    "# WHERE id = 7;\n",
    "# \"\"\"\n",
    "# crsr.execute(sql_command)"
   ]
  },
  {
   "cell_type": "code",
   "execution_count": 71,
   "metadata": {},
   "outputs": [
    {
     "name": "stdout",
     "output_type": "stream",
     "text": [
      "(1, 'hello', 1)\n",
      "(2, 'hey', 1)\n",
      "(3, 'hi', 1)\n",
      "(4, 'good day', 1)\n",
      "(5, 'good morning', 1)\n",
      "(6, 'cya', 2)\n",
      "(7, 'see you later', 2)\n",
      "(8, \"I'm leaving\", 2)\n",
      "(9, 'goodbye', 2)\n",
      "(10, 'have a good day', 2)\n",
      "(11, 'I am leaving', 2)\n",
      "(12, 'bye', 2)\n",
      "(13, 'see ya', 2)\n",
      "(14, 'how old', 3)\n",
      "(15, 'how old is florian', 3)\n",
      "(16, 'what is your age', 3)\n",
      "(17, 'how old are you?', 3)\n",
      "(18, 'age?', 3)\n",
      "(19, 'What is your name', 4)\n",
      "(20, 'what should I call you?', 4)\n",
      "(21, 'what is your name', 4)\n",
      "(22, 'who are you', 4)\n",
      "(23, 'can you tell me your name', 4)\n",
      "(24, \"I'd like to buy something\", 5)\n",
      "(25, 'What are your products?', 5)\n",
      "(26, 'what do you recommend?', 5)\n",
      "(27, 'What are you selling?', 5)\n",
      "(28, 'When are you guys open?', 6)\n",
      "(29, 'What are your hours', 6)\n",
      "(30, 'hours of operation', 6)\n",
      "(31, 'price', 6)\n",
      "(32, 'value', 6)\n",
      "(33, 'mrp', 6)\n",
      "(34, 'What is the price of maize', 7)\n",
      "(35, 'How much is Wheat worth', 7)\n",
      "(36, 'selling price of rice', 7)\n",
      "(37, 'what stocks do I own?', 8)\n",
      "(38, 'how are my shares?', 8)\n",
      "(39, 'what companies am I invested in?', 8)\n",
      "(40, 'What am I doing in stocks', 8)\n"
     ]
    }
   ],
   "source": [
    "for i in crsr.execute(\"SELECT * FROM patterns;\").fetchall():\n",
    "    print(i)"
   ]
  },
  {
   "cell_type": "markdown",
   "metadata": {},
   "source": [
    "## Creating Responses Table"
   ]
  },
  {
   "cell_type": "code",
   "execution_count": 74,
   "metadata": {},
   "outputs": [
    {
     "data": {
      "text/plain": [
       "<sqlite3.Cursor at 0x2391e0f2420>"
      ]
     },
     "execution_count": 74,
     "metadata": {},
     "output_type": "execute_result"
    }
   ],
   "source": [
    "# SQL command to create a table in the database\n",
    "sql_command = \"\"\"\n",
    "CREATE TABLE IF NOT EXISTS responses ( \n",
    "id INTEGER PRIMARY KEY, \n",
    "name VARCHAR(20),\n",
    "tag_id INTEGER NOT NULL,\n",
    "FOREIGN KEY(tag_id) REFERENCES tags(id));\n",
    "\"\"\"\n",
    "\n",
    "crsr.execute(sql_command)"
   ]
  },
  {
   "cell_type": "code",
   "execution_count": 39,
   "metadata": {},
   "outputs": [],
   "source": [
    "data = [\"[Unavailable]\"]\n",
    "start = 13\n",
    "tag = 7"
   ]
  },
  {
   "cell_type": "code",
   "execution_count": 40,
   "metadata": {},
   "outputs": [],
   "source": [
    "for i, val in enumerate(data):\n",
    "    tup = (start+i, val, tag)\n",
    "\n",
    "    crsr.execute(\"INSERT INTO responses VALUES (?,?,?)\", tup)"
   ]
  },
  {
   "cell_type": "code",
   "execution_count": 41,
   "metadata": {},
   "outputs": [
    {
     "name": "stdout",
     "output_type": "stream",
     "text": [
      "(1, 'Hello', 1)\n",
      "(2, 'What can I do for you?', 1)\n",
      "(3, 'Goodbye', 2)\n",
      "(4, 'Nice to have met you', 2)\n",
      "(5, 'My owner is 21 years old!', 3)\n",
      "(6, '21 years!', 3)\n",
      "(7, '21', 3)\n",
      "(8, 'You can call me Neural!', 4)\n",
      "(9, \"I'm neural\", 4)\n",
      "(10, \"I'm Neural, The assistant\", 4)\n",
      "(11, 'We sell books! Lots of them.', 5)\n",
      "(12, '24/7', 6)\n",
      "(13, '[Unavailable]', 7)\n",
      "(14, 'You own the following shares: ABBV, APPL, FB, NVDA and an ETF of the S&P 500 Index!', 8)\n"
     ]
    }
   ],
   "source": [
    "for i in crsr.execute(\"SELECT * FROM responses;\").fetchall():\n",
    "    print(i)"
   ]
  },
  {
   "cell_type": "markdown",
   "metadata": {},
   "source": [
    "# JOINING Tables"
   ]
  },
  {
   "cell_type": "code",
   "execution_count": 103,
   "metadata": {},
   "outputs": [
    {
     "name": "stdout",
     "output_type": "stream",
     "text": [
      "(1, 'greetings', 'hello', 'Hello')\n",
      "(1, 'greetings', 'hello', 'What can I do for you?')\n",
      "(1, 'greetings', 'hey', 'Hello')\n",
      "(1, 'greetings', 'hey', 'What can I do for you?')\n",
      "(1, 'greetings', 'hi', 'Hello')\n",
      "(1, 'greetings', 'hi', 'What can I do for you?')\n",
      "(1, 'greetings', 'good day', 'Hello')\n",
      "(1, 'greetings', 'good day', 'What can I do for you?')\n",
      "(1, 'greetings', 'good morning', 'Hello')\n",
      "(1, 'greetings', 'good morning', 'What can I do for you?')\n",
      "(2, 'goodbye', 'cya', 'Goodbye')\n",
      "(2, 'goodbye', 'cya', 'Nice to have met you')\n",
      "(2, 'goodbye', 'see you later', 'Goodbye')\n",
      "(2, 'goodbye', 'see you later', 'Nice to have met you')\n",
      "(2, 'goodbye', \"I'm leaving\", 'Goodbye')\n",
      "(2, 'goodbye', \"I'm leaving\", 'Nice to have met you')\n",
      "(2, 'goodbye', 'goodbye', 'Goodbye')\n",
      "(2, 'goodbye', 'goodbye', 'Nice to have met you')\n",
      "(2, 'goodbye', 'have a good day', 'Goodbye')\n",
      "(2, 'goodbye', 'have a good day', 'Nice to have met you')\n",
      "(2, 'goodbye', 'I am leaving', 'Goodbye')\n",
      "(2, 'goodbye', 'I am leaving', 'Nice to have met you')\n",
      "(2, 'goodbye', 'bye', 'Goodbye')\n",
      "(2, 'goodbye', 'bye', 'Nice to have met you')\n",
      "(2, 'goodbye', 'see ya', 'Goodbye')\n",
      "(2, 'goodbye', 'see ya', 'Nice to have met you')\n",
      "(3, 'age', 'how old', '21')\n",
      "(3, 'age', 'how old', '21 years!')\n",
      "(3, 'age', 'how old', 'My owner is 21 years old!')\n",
      "(3, 'age', 'how old is florian', '21')\n",
      "(3, 'age', 'how old is florian', '21 years!')\n",
      "(3, 'age', 'how old is florian', 'My owner is 21 years old!')\n",
      "(3, 'age', 'what is your age', '21')\n",
      "(3, 'age', 'what is your age', '21 years!')\n",
      "(3, 'age', 'what is your age', 'My owner is 21 years old!')\n",
      "(3, 'age', 'how old are you?', '21')\n",
      "(3, 'age', 'how old are you?', '21 years!')\n",
      "(3, 'age', 'how old are you?', 'My owner is 21 years old!')\n",
      "(3, 'age', 'age?', '21')\n",
      "(3, 'age', 'age?', '21 years!')\n",
      "(3, 'age', 'age?', 'My owner is 21 years old!')\n",
      "(4, 'name', 'What is your name', \"I'm Neural, The assistant to Florian\")\n",
      "(4, 'name', 'What is your name', \"I'm neural\")\n",
      "(4, 'name', 'What is your name', 'You can call me Neural!')\n",
      "(4, 'name', 'what should I call you?', \"I'm Neural, The assistant to Florian\")\n",
      "(4, 'name', 'what should I call you?', \"I'm neural\")\n",
      "(4, 'name', 'what should I call you?', 'You can call me Neural!')\n",
      "(4, 'name', 'what is your name', \"I'm Neural, The assistant to Florian\")\n",
      "(4, 'name', 'what is your name', \"I'm neural\")\n",
      "(4, 'name', 'what is your name', 'You can call me Neural!')\n",
      "(4, 'name', 'who are you', \"I'm Neural, The assistant to Florian\")\n",
      "(4, 'name', 'who are you', \"I'm neural\")\n",
      "(4, 'name', 'who are you', 'You can call me Neural!')\n",
      "(4, 'name', 'can you tell me your name', \"I'm Neural, The assistant to Florian\")\n",
      "(4, 'name', 'can you tell me your name', \"I'm neural\")\n",
      "(4, 'name', 'can you tell me your name', 'You can call me Neural!')\n",
      "(5, 'shop', \"I'd like to buy something\", 'We sell books! Lots of them.')\n",
      "(5, 'shop', 'What are your products?', 'We sell books! Lots of them.')\n",
      "(5, 'shop', 'what do you recommend?', 'We sell books! Lots of them.')\n",
      "(5, 'shop', 'What are you selling?', 'We sell books! Lots of them.')\n",
      "(6, 'hours', 'When are you guys open?', '24/7')\n",
      "(6, 'hours', 'What are your hours', '24/7')\n",
      "(6, 'hours', 'hours of operation', '24/7')\n",
      "(6, 'hours', 'price', '24/7')\n",
      "(6, 'hours', 'value', '24/7')\n",
      "(6, 'hours', 'mrp', '24/7')\n",
      "(7, 'crop', 'What is the price of maize', '[Unavailable]')\n",
      "(7, 'crop', 'How much is Wheat worth', '[Unavailable]')\n",
      "(7, 'crop', 'selling price of rice', '[Unavailable]')\n",
      "(8, 'stocks', 'what stocks do I own?', 'You own the following shares: ABBV, APPL, FB, NVDA and an ETF of the S&P 500 Index!')\n",
      "(8, 'stocks', 'how are my shares?', 'You own the following shares: ABBV, APPL, FB, NVDA and an ETF of the S&P 500 Index!')\n",
      "(8, 'stocks', 'what companies am I invested in?', 'You own the following shares: ABBV, APPL, FB, NVDA and an ETF of the S&P 500 Index!')\n",
      "(8, 'stocks', 'What am I doing in stocks', 'You own the following shares: ABBV, APPL, FB, NVDA and an ETF of the S&P 500 Index!')\n"
     ]
    }
   ],
   "source": [
    "sql_statement = '''\n",
    "SELECT t.id, t.name, p.name, r.name FROM tags AS t JOIN patterns AS p ON t.id == p.tag_id JOIN responses AS r ON t.id == r.tag_id;\n",
    "'''\n",
    "\n",
    "for i in crsr.execute(sql_statement).fetchall():\n",
    "    print(i)"
   ]
  },
  {
   "cell_type": "code",
   "execution_count": 104,
   "metadata": {},
   "outputs": [
    {
     "name": "stdout",
     "output_type": "stream",
     "text": [
      "(1, 'greetings')\n",
      "(2, 'goodbye')\n",
      "(3, 'age')\n",
      "(4, 'name')\n",
      "(5, 'shop')\n",
      "(6, 'hours')\n",
      "(7, 'crop')\n",
      "(8, 'stocks')\n"
     ]
    }
   ],
   "source": [
    "# sql_statement = '''\n",
    "# SELECT t.id, t.name FROM tags AS t;\n",
    "# '''\n",
    "\n",
    "sql_statement = '''\n",
    "SELECT t.id, t.name FROM patterns WHERE name;\n",
    "'''\n",
    "\n",
    "for i in crsr.execute(sql_statement).fetchall():\n",
    "    print(i)"
   ]
  },
  {
   "cell_type": "code",
   "execution_count": 11,
   "metadata": {},
   "outputs": [
    {
     "name": "stdout",
     "output_type": "stream",
     "text": [
      "(4, 'name', 'What is your name')\n",
      "(4, 'name', 'what should I call you?')\n",
      "(4, 'name', 'what is your name')\n",
      "(4, 'name', 'who are you')\n",
      "(4, 'name', 'can you tell me your name')\n"
     ]
    }
   ],
   "source": [
    "sql_statement = '''\n",
    "SELECT t.id, t.name, p.name FROM tags AS t JOIN patterns AS p ON t.id == p.tag_id WHERE t.name == 'name';\n",
    "'''\n",
    "\n",
    "for i in crsr.execute(sql_statement).fetchall():\n",
    "    print(i)"
   ]
  },
  {
   "cell_type": "code",
   "execution_count": 44,
   "metadata": {},
   "outputs": [
    {
     "name": "stdout",
     "output_type": "stream",
     "text": [
      "(4, 'name', 'You can call me Neural!')\n",
      "(4, 'name', \"I'm neural\")\n",
      "(4, 'name', \"I'm Neural, The assistant\")\n"
     ]
    }
   ],
   "source": [
    "sql_statement = '''\n",
    "SELECT t.id, t.name, r.name FROM tags AS t JOIN responses AS r ON t.id == r.tag_id WHERE t.name == 'name';\n",
    "'''\n",
    "\n",
    "for i in crsr.execute(sql_statement).fetchall():\n",
    "    print(i)"
   ]
  },
  {
   "cell_type": "code",
   "execution_count": 14,
   "metadata": {},
   "outputs": [],
   "source": [
    "sql_statement = '''\n",
    "SELECT t.id, t.name, r.name FROM tags AS t JOIN responses AS r ON t.id == r.tag_id;\n",
    "'''\n",
    "\n",
    "for i in crsr.execute(sql_statement).fetchall():\n",
    "    print(i)"
   ]
  },
  {
   "cell_type": "markdown",
   "metadata": {},
   "source": [
    "# Closing Connection"
   ]
  },
  {
   "cell_type": "code",
   "execution_count": 42,
   "metadata": {},
   "outputs": [],
   "source": [
    "\n",
    "# close the connection\n",
    "connection.commit()\n"
   ]
  },
  {
   "cell_type": "code",
   "execution_count": 37,
   "metadata": {},
   "outputs": [],
   "source": [
    "connection.close()"
   ]
  }
 ],
 "metadata": {
  "interpreter": {
   "hash": "f7b54faf5a5435677ab8295a95df66fdf7851ad2c8bf06d055bbbcd678fd2480"
  },
  "kernelspec": {
   "display_name": "Python 3.9.7 64-bit",
   "language": "python",
   "name": "python3"
  },
  "language_info": {
   "codemirror_mode": {
    "name": "ipython",
    "version": 3
   },
   "file_extension": ".py",
   "mimetype": "text/x-python",
   "name": "python",
   "nbconvert_exporter": "python",
   "pygments_lexer": "ipython3",
   "version": "3.9.7"
  },
  "orig_nbformat": 4
 },
 "nbformat": 4,
 "nbformat_minor": 2
}
