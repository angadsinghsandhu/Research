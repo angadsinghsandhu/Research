{
  "cells": [
    {
      "cell_type": "markdown",
      "metadata": {
        "id": "GLzoIqEKOeBL"
      },
      "source": [
        "# Intelligent AI ChatBot in Python (NeuralNine)"
      ]
    },
    {
      "cell_type": "code",
      "execution_count": null,
      "metadata": {
        "id": "6sO3gMjUOX3c"
      },
      "outputs": [],
      "source": [
        "# Intelligent AI ChatBot in Python\n",
        "# this is going to dyamically understand and respond to greetings\n",
        "# but the responses will be static\n",
        "\n",
        "# our files will be : intents.json, responses.json"
      ]
    },
    {
      "cell_type": "markdown",
      "metadata": {
        "id": "d7d-9Af8bLE6"
      },
      "source": [
        "## TRAINING CHATBOT"
      ]
    },
    {
      "cell_type": "code",
      "execution_count": 35,
      "metadata": {
        "colab": {
          "base_uri": "https://localhost:8080/"
        },
        "id": "_H2IXX6Db-uh",
        "outputId": "e88180a8-ca02-4ae3-e0af-6ad872994b42"
      },
      "outputs": [
        {
          "output_type": "stream",
          "name": "stdout",
          "text": [
            "[nltk_data] Downloading package punkt to /root/nltk_data...\n",
            "[nltk_data]   Package punkt is already up-to-date!\n",
            "[nltk_data] Downloading package wordnet to /root/nltk_data...\n",
            "[nltk_data]   Package wordnet is already up-to-date!\n"
          ]
        }
      ],
      "source": [
        "# imports\n",
        "import random\n",
        "import json\n",
        "import pickle   # for serialization\n",
        "import numpy as np\n",
        "import sqlite3\n",
        "\n",
        "import nltk\n",
        "nltk.download('punkt')\n",
        "nltk.download('wordnet')\n",
        "from nltk.stem import WordNetLemmatizer\n",
        "\n",
        "from tensorflow.keras.models import Sequential\n",
        "from tensorflow.keras.layers import Dense, Activation, Dropout\n",
        "from tensorflow.keras.optimizers import SGD\n",
        "from tensorflow.keras.models import load_model\n",
        "\n",
        "# lemmatizing our words\n",
        "lemmatizer = WordNetLemmatizer()"
      ]
    },
    {
      "cell_type": "markdown",
      "metadata": {
        "id": "Gc7pO9YveUr0"
      },
      "source": [
        "### *loading our intents*"
      ]
    },
    {
      "cell_type": "code",
      "execution_count": 2,
      "metadata": {
        "colab": {
          "base_uri": "https://localhost:8080/",
          "height": 74,
          "resources": {
            "http://localhost:8080/nbextensions/google.colab/files.js": {
              "data": "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",
              "headers": [
                [
                  "content-type",
                  "application/javascript"
                ]
              ],
              "ok": true,
              "status": 200,
              "status_text": ""
            }
          }
        },
        "id": "sfmfSoL_ft1_",
        "outputId": "b57eff3c-a7b6-4315-a899-060a3fb422e6"
      },
      "outputs": [
        {
          "output_type": "display_data",
          "data": {
            "text/plain": [
              "<IPython.core.display.HTML object>"
            ],
            "text/html": [
              "\n",
              "     <input type=\"file\" id=\"files-329c8c7b-4b56-4ae8-9660-f2fbe223fa17\" name=\"files[]\" multiple disabled\n",
              "        style=\"border:none\" />\n",
              "     <output id=\"result-329c8c7b-4b56-4ae8-9660-f2fbe223fa17\">\n",
              "      Upload widget is only available when the cell has been executed in the\n",
              "      current browser session. Please rerun this cell to enable.\n",
              "      </output>\n",
              "      <script src=\"/nbextensions/google.colab/files.js\"></script> "
            ]
          },
          "metadata": {}
        },
        {
          "output_type": "stream",
          "name": "stdout",
          "text": [
            "Saving intents_eng.json to intents_eng.json\n"
          ]
        }
      ],
      "source": [
        "# loading file\n",
        "from google.colab import files\n",
        "uploaded = files.upload()"
      ]
    },
    {
      "cell_type": "code",
      "execution_count": 3,
      "metadata": {
        "colab": {
          "base_uri": "https://localhost:8080/"
        },
        "id": "v6ubJY5ZuDg9",
        "outputId": "0fc7c601-e41e-44db-f510-10e5b336f7fc"
      },
      "outputs": [
        {
          "output_type": "stream",
          "name": "stdout",
          "text": [
            "{'intents_eng.json': b'{\\r\\n    \"intents\": [\\r\\n        {\\r\\n            \"tag\": \"greetings\",\\r\\n            \"pattern\": [\"hello\", \"hey\", \"hi\", \"good day\", \"good morning\"],\\r\\n            \"responses\": [\"Hello\", \"What can I do for you?\"]\\r\\n        },  \\r\\n        {\\r\\n            \"tag\": \"goodbye\",\\r\\n            \"pattern\": [\"cya\", \"see you later\", \"I\\'m leaving\", \"goodbye\", \"have a good day\", \"I am leaving\", \"bye\", \"see ya\"],\\r\\n            \"responses\": [\"Goodbye\", \"Nice to have met you\"]\\r\\n        },  \\r\\n        {\\r\\n            \"tag\": \"age\",\\r\\n            \"pattern\": [\"how old\", \"how old is florian\", \"what is your age\", \"how old are you?\", \"age?\"],\\r\\n            \"responses\": [\"My owner is 21 years old!\", \"21 years!\", \"21\"]\\r\\n        },  \\r\\n        {\\r\\n            \"tag\": \"name\",\\r\\n            \"pattern\": [\"What is your name\", \"what should I call you?\", \"what is your name\", \"who are you\", \"can you tell me your name\"],\\r\\n            \"responses\": [\"You can call me Neural!\", \"I\\'m neural\", \"I\\'m Neural, The assistant\"]\\r\\n        },  \\r\\n        {\\r\\n            \"tag\": \"shop\",\\r\\n            \"pattern\": [\"I\\'d like to buy something\", \"What are your products?\", \"what do you recommend?\", \"What are you selling?\"],\\r\\n            \"responses\": [\"We sell books! Lots of them.\"]\\r\\n        },  \\r\\n        {\\r\\n            \"tag\": \"hours\",\\r\\n            \"pattern\": [\"When are you guys open?\", \"What are your hours\", \"hours of operation\", \"price\", \"value\", \"mrp\"],\\r\\n            \"responses\": [\"24/7\"]\\r\\n        },  \\r\\n        {\\r\\n            \"tag\": \"crop\",\\r\\n            \"pattern\": [\"What is the price of maize\", \"How much is Wheat worth\", \"selling price of rice\"],\\r\\n            \"responses\": [\"[Unavailable]\"]\\r\\n        },  \\r\\n        {\\r\\n            \"tag\": \"stocks\",\\r\\n            \"pattern\": [\"what stocks do I own?\", \"how are my shares?\", \"what companies am I invested in?\", \"What am I doing in stocks\"],\\r\\n            \"responses\": [\"You own the following shares: ABBV, APPL, FB, NVDA and an ETF of the S&P 500 Index!\"]\\r\\n        }\\r\\n    ]\\r\\n}'}\n"
          ]
        }
      ],
      "source": [
        "print(uploaded)"
      ]
    },
    {
      "cell_type": "code",
      "execution_count": 4,
      "metadata": {
        "colab": {
          "base_uri": "https://localhost:8080/"
        },
        "id": "CDK6xegZf-xZ",
        "outputId": "790840a2-d005-4133-cb8f-e492d2fe6111"
      },
      "outputs": [
        {
          "output_type": "stream",
          "name": "stdout",
          "text": [
            "name\n"
          ]
        }
      ],
      "source": [
        "intents =  json.loads(uploaded['intents_eng.json'])\n",
        "print(intents['intents'][3]['tag'])"
      ]
    },
    {
      "cell_type": "markdown",
      "metadata": {
        "id": "p0v9OXc9glF_"
      },
      "source": [
        "### *Creating intermediate Data*"
      ]
    },
    {
      "cell_type": "code",
      "execution_count": 5,
      "metadata": {
        "id": "p_PC6Qp1iFx9"
      },
      "outputs": [],
      "source": [
        "# creatig useful lists\n",
        "words = []\n",
        "classes = []\n",
        "docs = []\n",
        "\n",
        "ignore_letters = [\"!\", \".\", \",\", \"?\"]\n",
        "\n",
        "# iterating over intents\n",
        "for intent in intents['intents']:\n",
        "  for pat in intent['pattern']:\n",
        "    # tokenizing and adding tokens to the word list\n",
        "    word_list = nltk.word_tokenize(pat)\n",
        "    if word_list is not None:\n",
        "      words.extend(word_list)\n",
        "\n",
        "      # appending \n",
        "      docs.append((word_list, intent['tag']))\n",
        "\n",
        "      if intent['tag'] not in classes:\n",
        "        classes.append(intent['tag'])"
      ]
    },
    {
      "cell_type": "code",
      "execution_count": 6,
      "metadata": {
        "colab": {
          "base_uri": "https://localhost:8080/"
        },
        "id": "hmBoCi8RlSKS",
        "outputId": "345417f9-0358-4cd4-97d1-7f3592fb703a"
      },
      "outputs": [
        {
          "output_type": "stream",
          "name": "stdout",
          "text": [
            "['hello', 'hey', 'hi', 'good', 'day', 'good', 'morning', 'cya', 'see', 'you', 'later', 'I', \"'m\", 'leaving', 'goodbye', 'have', 'a', 'good', 'day', 'I', 'am', 'leaving', 'bye', 'see', 'ya', 'how', 'old', 'how', 'old', 'is', 'florian', 'what', 'is', 'your', 'age', 'how', 'old', 'are', 'you', '?', 'age', '?', 'What', 'is', 'your', 'name', 'what', 'should', 'I', 'call', 'you', '?', 'what', 'is', 'your', 'name', 'who', 'are', 'you', 'can', 'you', 'tell', 'me', 'your', 'name', 'I', \"'d\", 'like', 'to', 'buy', 'something', 'What', 'are', 'your', 'products', '?', 'what', 'do', 'you', 'recommend', '?', 'What', 'are', 'you', 'selling', '?', 'When', 'are', 'you', 'guys', 'open', '?', 'What', 'are', 'your', 'hours', 'hours', 'of', 'operation', 'price', 'value', 'mrp', 'What', 'is', 'the', 'price', 'of', 'maize', 'How', 'much', 'is', 'Wheat', 'worth', 'selling', 'price', 'of', 'rice', 'what', 'stocks', 'do', 'I', 'own', '?', 'how', 'are', 'my', 'shares', '?', 'what', 'companies', 'am', 'I', 'invested', 'in', '?', 'What', 'am', 'I', 'doing', 'in', 'stocks']\n"
          ]
        }
      ],
      "source": [
        "print(words)"
      ]
    },
    {
      "cell_type": "markdown",
      "metadata": {
        "id": "nfU_Nf1Rgtnv"
      },
      "source": [
        "### *Lemmatizing*"
      ]
    },
    {
      "cell_type": "code",
      "execution_count": 7,
      "metadata": {
        "id": "koTC32Dkl9jh"
      },
      "outputs": [],
      "source": [
        "# lemmatizing our words\n",
        "lemmatizer = WordNetLemmatizer()\n",
        "  \n",
        "words = [lemmatizer.lemmatize(word) for word in words if word not in ignore_letters]\n",
        "\n",
        "# removing duplicates\n",
        "words = sorted(set(words))\n",
        "classes = sorted(set(classes))"
      ]
    },
    {
      "cell_type": "code",
      "execution_count": 8,
      "metadata": {
        "colab": {
          "base_uri": "https://localhost:8080/"
        },
        "id": "w2cMhyPNmXkX",
        "outputId": "905d9a1d-df84-4097-b3a4-c62ad18e65dd"
      },
      "outputs": [
        {
          "output_type": "stream",
          "name": "stdout",
          "text": [
            "[\"'d\", \"'m\", 'How', 'I', 'What', 'Wheat', 'When', 'a', 'age', 'am', 'are', 'buy', 'bye', 'call', 'can', 'company', 'cya', 'day', 'do', 'doing', 'florian', 'good', 'goodbye', 'guy', 'have', 'hello', 'hey', 'hi', 'hour', 'how', 'in', 'invested', 'is', 'later', 'leaving', 'like', 'maize', 'me', 'morning', 'mrp', 'much', 'my', 'name', 'of', 'old', 'open', 'operation', 'own', 'price', 'product', 'recommend', 'rice', 'see', 'selling', 'share', 'should', 'something', 'stock', 'tell', 'the', 'to', 'value', 'what', 'who', 'worth', 'ya', 'you', 'your']\n"
          ]
        }
      ],
      "source": [
        "print(words)"
      ]
    },
    {
      "cell_type": "markdown",
      "metadata": {
        "id": "KS93Rg6Mgw_O"
      },
      "source": [
        "### *Saving Data*"
      ]
    },
    {
      "cell_type": "code",
      "execution_count": 9,
      "metadata": {
        "id": "GX01aKlRsDOe"
      },
      "outputs": [],
      "source": [
        "# adding all info to file\n",
        "pickle.dump(words, open(\"words.pkl\", 'wb'))\n",
        "pickle.dump(classes, open(\"classes.pkl\", 'wb'))\n",
        "pickle.dump(docs, open(\"docs.pkl\", 'wb'))"
      ]
    },
    {
      "cell_type": "markdown",
      "metadata": {
        "id": "_tEPYG3Cg4aE"
      },
      "source": [
        "### *Creattig Training Data*"
      ]
    },
    {
      "cell_type": "code",
      "execution_count": 10,
      "metadata": {
        "id": "8sYNbCXes2QE"
      },
      "outputs": [],
      "source": [
        "# representing words as numeric data using bag of words\n",
        "# so that we could use this in a neural network\n",
        "training = []\n",
        "output_empty = [0]*len(classes)\n",
        "\n",
        "for doc in docs:\n",
        "  bag = []\n",
        "  word_patterns = doc[0]\n",
        "  word_patterns = [lemmatizer.lemmatize(word) for word in word_patterns]\n",
        "\n",
        "  for word in words:\n",
        "    bag.append(1) if word in word_patterns else bag.append(0)\n",
        "\n",
        "  # print(output_row)\n",
        "  output_row = list(output_empty)\n",
        "  output_row[classes.index(doc[1])] = 1\n",
        "  training.append([bag, output_row])"
      ]
    },
    {
      "cell_type": "markdown",
      "metadata": {
        "id": "LGp2hqp_g1EC"
      },
      "source": [
        "### *Pre-Processing*"
      ]
    },
    {
      "cell_type": "code",
      "execution_count": 11,
      "metadata": {
        "colab": {
          "base_uri": "https://localhost:8080/"
        },
        "id": "be6ugTvGvqBP",
        "outputId": "1cf7e3b0-cb5a-48b4-ca25-29d385a13f99"
      },
      "outputs": [
        {
          "output_type": "stream",
          "name": "stdout",
          "text": [
            "(40, 2)\n",
            "(40, 8)\n"
          ]
        },
        {
          "output_type": "stream",
          "name": "stderr",
          "text": [
            "/usr/local/lib/python3.7/dist-packages/ipykernel_launcher.py:3: VisibleDeprecationWarning: Creating an ndarray from ragged nested sequences (which is a list-or-tuple of lists-or-tuples-or ndarrays with different lengths or shapes) is deprecated. If you meant to do this, you must specify 'dtype=object' when creating the ndarray.\n",
            "  This is separate from the ipykernel package so we can avoid doing imports until\n"
          ]
        }
      ],
      "source": [
        "# shufling our data\n",
        "random.shuffle(training)\n",
        "training = np.array(training)\n",
        "\n",
        "print(training.shape)\n",
        "\n",
        "\n",
        "# spliting to X and y values\n",
        "train_x = np.array(list(training[:, 0]))\n",
        "train_y = np.array(list(training[:, 1]))\n",
        "\n",
        "# print(np.asarray(train_x))\n",
        "print(train_y.shape)"
      ]
    },
    {
      "cell_type": "markdown",
      "metadata": {
        "id": "OaG15lsSwVtn"
      },
      "source": [
        "### *Building Neural Net*"
      ]
    },
    {
      "cell_type": "code",
      "execution_count": 12,
      "metadata": {
        "id": "KsK3PX-uwU3M"
      },
      "outputs": [],
      "source": [
        "model = Sequential()\n",
        "model.add(Dense(128, input_shape=(len(train_x[0]), ), activation=\"relu\"))\n",
        "model.add(Dropout(0.5))\n",
        "model.add(Dense(64, activation=\"relu\"))\n",
        "model.add(Dropout(0.5))\n",
        "model.add(Dense(len(train_y[0]), activation=\"softmax\"))"
      ]
    },
    {
      "cell_type": "code",
      "execution_count": 13,
      "metadata": {
        "colab": {
          "base_uri": "https://localhost:8080/"
        },
        "id": "gw0qK1jecsg3",
        "outputId": "dc90736a-c404-4c4d-a731-44ea5a92119a"
      },
      "outputs": [
        {
          "output_type": "stream",
          "name": "stdout",
          "text": [
            "Model: \"sequential\"\n",
            "_________________________________________________________________\n",
            " Layer (type)                Output Shape              Param #   \n",
            "=================================================================\n",
            " dense (Dense)               (None, 128)               8832      \n",
            "                                                                 \n",
            " dropout (Dropout)           (None, 128)               0         \n",
            "                                                                 \n",
            " dense_1 (Dense)             (None, 64)                8256      \n",
            "                                                                 \n",
            " dropout_1 (Dropout)         (None, 64)                0         \n",
            "                                                                 \n",
            " dense_2 (Dense)             (None, 8)                 520       \n",
            "                                                                 \n",
            "=================================================================\n",
            "Total params: 17,608\n",
            "Trainable params: 17,608\n",
            "Non-trainable params: 0\n",
            "_________________________________________________________________\n"
          ]
        }
      ],
      "source": [
        "sgd = SGD(learning_rate=0.01, decay=1e-6, momentum=0.09, nesterov=True)\n",
        "\n",
        "model.compile(loss=\"categorical_crossentropy\", optimizer=sgd, metrics=['accuracy'])\n",
        "\n",
        "model.summary()"
      ]
    },
    {
      "cell_type": "code",
      "execution_count": 14,
      "metadata": {
        "colab": {
          "base_uri": "https://localhost:8080/"
        },
        "id": "rakIHScUcsXd",
        "outputId": "c63d7fdc-e184-42ae-cc02-46ebc2b2b391"
      },
      "outputs": [
        {
          "output_type": "stream",
          "name": "stdout",
          "text": [
            "Epoch 1/200\n",
            "10/10 [==============================] - 1s 3ms/step - loss: 2.1096 - accuracy: 0.1000\n",
            "Epoch 2/200\n",
            "10/10 [==============================] - 0s 2ms/step - loss: 2.1563 - accuracy: 0.0500\n",
            "Epoch 3/200\n",
            "10/10 [==============================] - 0s 2ms/step - loss: 2.1197 - accuracy: 0.0750\n",
            "Epoch 4/200\n",
            "10/10 [==============================] - 0s 2ms/step - loss: 2.0426 - accuracy: 0.2000\n",
            "Epoch 5/200\n",
            "10/10 [==============================] - 0s 2ms/step - loss: 2.1328 - accuracy: 0.1250\n",
            "Epoch 6/200\n",
            "10/10 [==============================] - 0s 2ms/step - loss: 2.0523 - accuracy: 0.1750\n",
            "Epoch 7/200\n",
            "10/10 [==============================] - 0s 2ms/step - loss: 2.0421 - accuracy: 0.2000\n",
            "Epoch 8/200\n",
            "10/10 [==============================] - 0s 3ms/step - loss: 2.0256 - accuracy: 0.2750\n",
            "Epoch 9/200\n",
            "10/10 [==============================] - 0s 3ms/step - loss: 2.0400 - accuracy: 0.3000\n",
            "Epoch 10/200\n",
            "10/10 [==============================] - 0s 3ms/step - loss: 2.1319 - accuracy: 0.2000\n",
            "Epoch 11/200\n",
            "10/10 [==============================] - 0s 2ms/step - loss: 2.0572 - accuracy: 0.1750\n",
            "Epoch 12/200\n",
            "10/10 [==============================] - 0s 2ms/step - loss: 2.0321 - accuracy: 0.2750\n",
            "Epoch 13/200\n",
            "10/10 [==============================] - 0s 2ms/step - loss: 1.9152 - accuracy: 0.4750\n",
            "Epoch 14/200\n",
            "10/10 [==============================] - 0s 2ms/step - loss: 1.9741 - accuracy: 0.2250\n",
            "Epoch 15/200\n",
            "10/10 [==============================] - 0s 2ms/step - loss: 1.9947 - accuracy: 0.1750\n",
            "Epoch 16/200\n",
            "10/10 [==============================] - 0s 2ms/step - loss: 2.0093 - accuracy: 0.2250\n",
            "Epoch 17/200\n",
            "10/10 [==============================] - 0s 2ms/step - loss: 1.9826 - accuracy: 0.3500\n",
            "Epoch 18/200\n",
            "10/10 [==============================] - 0s 2ms/step - loss: 2.0573 - accuracy: 0.1750\n",
            "Epoch 19/200\n",
            "10/10 [==============================] - 0s 2ms/step - loss: 1.9471 - accuracy: 0.3250\n",
            "Epoch 20/200\n",
            "10/10 [==============================] - 0s 2ms/step - loss: 1.9364 - accuracy: 0.3250\n",
            "Epoch 21/200\n",
            "10/10 [==============================] - 0s 2ms/step - loss: 1.9734 - accuracy: 0.2750\n",
            "Epoch 22/200\n",
            "10/10 [==============================] - 0s 2ms/step - loss: 1.9745 - accuracy: 0.2750\n",
            "Epoch 23/200\n",
            "10/10 [==============================] - 0s 2ms/step - loss: 1.8990 - accuracy: 0.3500\n",
            "Epoch 24/200\n",
            "10/10 [==============================] - 0s 2ms/step - loss: 1.9369 - accuracy: 0.2500\n",
            "Epoch 25/200\n",
            "10/10 [==============================] - 0s 2ms/step - loss: 1.8681 - accuracy: 0.4250\n",
            "Epoch 26/200\n",
            "10/10 [==============================] - 0s 2ms/step - loss: 1.9229 - accuracy: 0.3500\n",
            "Epoch 27/200\n",
            "10/10 [==============================] - 0s 2ms/step - loss: 1.8421 - accuracy: 0.4250\n",
            "Epoch 28/200\n",
            "10/10 [==============================] - 0s 2ms/step - loss: 1.8895 - accuracy: 0.4000\n",
            "Epoch 29/200\n",
            "10/10 [==============================] - 0s 2ms/step - loss: 1.8620 - accuracy: 0.4000\n",
            "Epoch 30/200\n",
            "10/10 [==============================] - 0s 2ms/step - loss: 1.8110 - accuracy: 0.3750\n",
            "Epoch 31/200\n",
            "10/10 [==============================] - 0s 2ms/step - loss: 1.7729 - accuracy: 0.4500\n",
            "Epoch 32/200\n",
            "10/10 [==============================] - 0s 3ms/step - loss: 1.8044 - accuracy: 0.3750\n",
            "Epoch 33/200\n",
            "10/10 [==============================] - 0s 3ms/step - loss: 1.8187 - accuracy: 0.3500\n",
            "Epoch 34/200\n",
            "10/10 [==============================] - 0s 2ms/step - loss: 1.7508 - accuracy: 0.4250\n",
            "Epoch 35/200\n",
            "10/10 [==============================] - 0s 3ms/step - loss: 1.8013 - accuracy: 0.3750\n",
            "Epoch 36/200\n",
            "10/10 [==============================] - 0s 2ms/step - loss: 1.7668 - accuracy: 0.4000\n",
            "Epoch 37/200\n",
            "10/10 [==============================] - 0s 2ms/step - loss: 1.7323 - accuracy: 0.4750\n",
            "Epoch 38/200\n",
            "10/10 [==============================] - 0s 3ms/step - loss: 1.7184 - accuracy: 0.4750\n",
            "Epoch 39/200\n",
            "10/10 [==============================] - 0s 2ms/step - loss: 1.7464 - accuracy: 0.4500\n",
            "Epoch 40/200\n",
            "10/10 [==============================] - 0s 3ms/step - loss: 1.7913 - accuracy: 0.3750\n",
            "Epoch 41/200\n",
            "10/10 [==============================] - 0s 2ms/step - loss: 1.6548 - accuracy: 0.4500\n",
            "Epoch 42/200\n",
            "10/10 [==============================] - 0s 2ms/step - loss: 1.7565 - accuracy: 0.3750\n",
            "Epoch 43/200\n",
            "10/10 [==============================] - 0s 2ms/step - loss: 1.7035 - accuracy: 0.4000\n",
            "Epoch 44/200\n",
            "10/10 [==============================] - 0s 2ms/step - loss: 1.7283 - accuracy: 0.4750\n",
            "Epoch 45/200\n",
            "10/10 [==============================] - 0s 3ms/step - loss: 1.7669 - accuracy: 0.4750\n",
            "Epoch 46/200\n",
            "10/10 [==============================] - 0s 2ms/step - loss: 1.7286 - accuracy: 0.4500\n",
            "Epoch 47/200\n",
            "10/10 [==============================] - 0s 2ms/step - loss: 1.6211 - accuracy: 0.6250\n",
            "Epoch 48/200\n",
            "10/10 [==============================] - 0s 3ms/step - loss: 1.6834 - accuracy: 0.4500\n",
            "Epoch 49/200\n",
            "10/10 [==============================] - 0s 3ms/step - loss: 1.7136 - accuracy: 0.4000\n",
            "Epoch 50/200\n",
            "10/10 [==============================] - 0s 2ms/step - loss: 1.7325 - accuracy: 0.4750\n",
            "Epoch 51/200\n",
            "10/10 [==============================] - 0s 2ms/step - loss: 1.7470 - accuracy: 0.3250\n",
            "Epoch 52/200\n",
            "10/10 [==============================] - 0s 2ms/step - loss: 1.6721 - accuracy: 0.5000\n",
            "Epoch 53/200\n",
            "10/10 [==============================] - 0s 2ms/step - loss: 1.5881 - accuracy: 0.4750\n",
            "Epoch 54/200\n",
            "10/10 [==============================] - 0s 2ms/step - loss: 1.5975 - accuracy: 0.5500\n",
            "Epoch 55/200\n",
            "10/10 [==============================] - 0s 2ms/step - loss: 1.5258 - accuracy: 0.5250\n",
            "Epoch 56/200\n",
            "10/10 [==============================] - 0s 3ms/step - loss: 1.6682 - accuracy: 0.4000\n",
            "Epoch 57/200\n",
            "10/10 [==============================] - 0s 2ms/step - loss: 1.4963 - accuracy: 0.5500\n",
            "Epoch 58/200\n",
            "10/10 [==============================] - 0s 2ms/step - loss: 1.5172 - accuracy: 0.5250\n",
            "Epoch 59/200\n",
            "10/10 [==============================] - 0s 2ms/step - loss: 1.5324 - accuracy: 0.5500\n",
            "Epoch 60/200\n",
            "10/10 [==============================] - 0s 3ms/step - loss: 1.5056 - accuracy: 0.5250\n",
            "Epoch 61/200\n",
            "10/10 [==============================] - 0s 4ms/step - loss: 1.5449 - accuracy: 0.5250\n",
            "Epoch 62/200\n",
            "10/10 [==============================] - 0s 3ms/step - loss: 1.5755 - accuracy: 0.4500\n",
            "Epoch 63/200\n",
            "10/10 [==============================] - 0s 2ms/step - loss: 1.4815 - accuracy: 0.6000\n",
            "Epoch 64/200\n",
            "10/10 [==============================] - 0s 2ms/step - loss: 1.4433 - accuracy: 0.5500\n",
            "Epoch 65/200\n",
            "10/10 [==============================] - 0s 2ms/step - loss: 1.3703 - accuracy: 0.6250\n",
            "Epoch 66/200\n",
            "10/10 [==============================] - 0s 2ms/step - loss: 1.4387 - accuracy: 0.5500\n",
            "Epoch 67/200\n",
            "10/10 [==============================] - 0s 2ms/step - loss: 1.4104 - accuracy: 0.5750\n",
            "Epoch 68/200\n",
            "10/10 [==============================] - 0s 2ms/step - loss: 1.6081 - accuracy: 0.4500\n",
            "Epoch 69/200\n",
            "10/10 [==============================] - 0s 2ms/step - loss: 1.4031 - accuracy: 0.5500\n",
            "Epoch 70/200\n",
            "10/10 [==============================] - 0s 2ms/step - loss: 1.3112 - accuracy: 0.6250\n",
            "Epoch 71/200\n",
            "10/10 [==============================] - 0s 2ms/step - loss: 1.4363 - accuracy: 0.5750\n",
            "Epoch 72/200\n",
            "10/10 [==============================] - 0s 2ms/step - loss: 1.3353 - accuracy: 0.6000\n",
            "Epoch 73/200\n",
            "10/10 [==============================] - 0s 2ms/step - loss: 1.2484 - accuracy: 0.7500\n",
            "Epoch 74/200\n",
            "10/10 [==============================] - 0s 3ms/step - loss: 1.2981 - accuracy: 0.6250\n",
            "Epoch 75/200\n",
            "10/10 [==============================] - 0s 3ms/step - loss: 1.3569 - accuracy: 0.5000\n",
            "Epoch 76/200\n",
            "10/10 [==============================] - 0s 3ms/step - loss: 1.3397 - accuracy: 0.5500\n",
            "Epoch 77/200\n",
            "10/10 [==============================] - 0s 2ms/step - loss: 1.3040 - accuracy: 0.7000\n",
            "Epoch 78/200\n",
            "10/10 [==============================] - 0s 2ms/step - loss: 1.3815 - accuracy: 0.4750\n",
            "Epoch 79/200\n",
            "10/10 [==============================] - 0s 2ms/step - loss: 1.2614 - accuracy: 0.5750\n",
            "Epoch 80/200\n",
            "10/10 [==============================] - 0s 2ms/step - loss: 1.1689 - accuracy: 0.6750\n",
            "Epoch 81/200\n",
            "10/10 [==============================] - 0s 2ms/step - loss: 1.2623 - accuracy: 0.6000\n",
            "Epoch 82/200\n",
            "10/10 [==============================] - 0s 2ms/step - loss: 1.2524 - accuracy: 0.6750\n",
            "Epoch 83/200\n",
            "10/10 [==============================] - 0s 2ms/step - loss: 1.3392 - accuracy: 0.6250\n",
            "Epoch 84/200\n",
            "10/10 [==============================] - 0s 2ms/step - loss: 1.2784 - accuracy: 0.5750\n",
            "Epoch 85/200\n",
            "10/10 [==============================] - 0s 2ms/step - loss: 1.1279 - accuracy: 0.6250\n",
            "Epoch 86/200\n",
            "10/10 [==============================] - 0s 2ms/step - loss: 1.2678 - accuracy: 0.6250\n",
            "Epoch 87/200\n",
            "10/10 [==============================] - 0s 2ms/step - loss: 1.1947 - accuracy: 0.6250\n",
            "Epoch 88/200\n",
            "10/10 [==============================] - 0s 2ms/step - loss: 1.1181 - accuracy: 0.6750\n",
            "Epoch 89/200\n",
            "10/10 [==============================] - 0s 2ms/step - loss: 0.9961 - accuracy: 0.7500\n",
            "Epoch 90/200\n",
            "10/10 [==============================] - 0s 2ms/step - loss: 1.0606 - accuracy: 0.7500\n",
            "Epoch 91/200\n",
            "10/10 [==============================] - 0s 2ms/step - loss: 1.1407 - accuracy: 0.6750\n",
            "Epoch 92/200\n",
            "10/10 [==============================] - 0s 2ms/step - loss: 1.0344 - accuracy: 0.7500\n",
            "Epoch 93/200\n",
            "10/10 [==============================] - 0s 3ms/step - loss: 1.1578 - accuracy: 0.7000\n",
            "Epoch 94/200\n",
            "10/10 [==============================] - 0s 2ms/step - loss: 1.0301 - accuracy: 0.7250\n",
            "Epoch 95/200\n",
            "10/10 [==============================] - 0s 2ms/step - loss: 1.0214 - accuracy: 0.7500\n",
            "Epoch 96/200\n",
            "10/10 [==============================] - 0s 3ms/step - loss: 0.9756 - accuracy: 0.6750\n",
            "Epoch 97/200\n",
            "10/10 [==============================] - 0s 2ms/step - loss: 0.9816 - accuracy: 0.7750\n",
            "Epoch 98/200\n",
            "10/10 [==============================] - 0s 2ms/step - loss: 1.1161 - accuracy: 0.6250\n",
            "Epoch 99/200\n",
            "10/10 [==============================] - 0s 2ms/step - loss: 1.0938 - accuracy: 0.7500\n",
            "Epoch 100/200\n",
            "10/10 [==============================] - 0s 2ms/step - loss: 1.1915 - accuracy: 0.6000\n",
            "Epoch 101/200\n",
            "10/10 [==============================] - 0s 2ms/step - loss: 1.0093 - accuracy: 0.7250\n",
            "Epoch 102/200\n",
            "10/10 [==============================] - 0s 2ms/step - loss: 1.0555 - accuracy: 0.7250\n",
            "Epoch 103/200\n",
            "10/10 [==============================] - 0s 2ms/step - loss: 1.1245 - accuracy: 0.6000\n",
            "Epoch 104/200\n",
            "10/10 [==============================] - 0s 2ms/step - loss: 1.0922 - accuracy: 0.6750\n",
            "Epoch 105/200\n",
            "10/10 [==============================] - 0s 2ms/step - loss: 1.0882 - accuracy: 0.6000\n",
            "Epoch 106/200\n",
            "10/10 [==============================] - 0s 3ms/step - loss: 1.0328 - accuracy: 0.7250\n",
            "Epoch 107/200\n",
            "10/10 [==============================] - 0s 2ms/step - loss: 0.9375 - accuracy: 0.8250\n",
            "Epoch 108/200\n",
            "10/10 [==============================] - 0s 3ms/step - loss: 0.9051 - accuracy: 0.8000\n",
            "Epoch 109/200\n",
            "10/10 [==============================] - 0s 2ms/step - loss: 0.9322 - accuracy: 0.7250\n",
            "Epoch 110/200\n",
            "10/10 [==============================] - 0s 2ms/step - loss: 0.9882 - accuracy: 0.7250\n",
            "Epoch 111/200\n",
            "10/10 [==============================] - 0s 2ms/step - loss: 0.9735 - accuracy: 0.7500\n",
            "Epoch 112/200\n",
            "10/10 [==============================] - 0s 3ms/step - loss: 1.0238 - accuracy: 0.6000\n",
            "Epoch 113/200\n",
            "10/10 [==============================] - 0s 2ms/step - loss: 1.0398 - accuracy: 0.6250\n",
            "Epoch 114/200\n",
            "10/10 [==============================] - 0s 2ms/step - loss: 0.9427 - accuracy: 0.7500\n",
            "Epoch 115/200\n",
            "10/10 [==============================] - 0s 2ms/step - loss: 0.9629 - accuracy: 0.8000\n",
            "Epoch 116/200\n",
            "10/10 [==============================] - 0s 2ms/step - loss: 0.9504 - accuracy: 0.7000\n",
            "Epoch 117/200\n",
            "10/10 [==============================] - 0s 2ms/step - loss: 0.8361 - accuracy: 0.7500\n",
            "Epoch 118/200\n",
            "10/10 [==============================] - 0s 2ms/step - loss: 0.8349 - accuracy: 0.7750\n",
            "Epoch 119/200\n",
            "10/10 [==============================] - 0s 2ms/step - loss: 0.8894 - accuracy: 0.7500\n",
            "Epoch 120/200\n",
            "10/10 [==============================] - 0s 2ms/step - loss: 0.7396 - accuracy: 0.8750\n",
            "Epoch 121/200\n",
            "10/10 [==============================] - 0s 3ms/step - loss: 0.8115 - accuracy: 0.8000\n",
            "Epoch 122/200\n",
            "10/10 [==============================] - 0s 2ms/step - loss: 0.8974 - accuracy: 0.7500\n",
            "Epoch 123/200\n",
            "10/10 [==============================] - 0s 3ms/step - loss: 0.7902 - accuracy: 0.8000\n",
            "Epoch 124/200\n",
            "10/10 [==============================] - 0s 3ms/step - loss: 0.8247 - accuracy: 0.8000\n",
            "Epoch 125/200\n",
            "10/10 [==============================] - 0s 3ms/step - loss: 0.7118 - accuracy: 0.8500\n",
            "Epoch 126/200\n",
            "10/10 [==============================] - 0s 2ms/step - loss: 0.7378 - accuracy: 0.9250\n",
            "Epoch 127/200\n",
            "10/10 [==============================] - 0s 2ms/step - loss: 0.7563 - accuracy: 0.8000\n",
            "Epoch 128/200\n",
            "10/10 [==============================] - 0s 3ms/step - loss: 0.8816 - accuracy: 0.7250\n",
            "Epoch 129/200\n",
            "10/10 [==============================] - 0s 3ms/step - loss: 0.8360 - accuracy: 0.7750\n",
            "Epoch 130/200\n",
            "10/10 [==============================] - 0s 2ms/step - loss: 0.7972 - accuracy: 0.7750\n",
            "Epoch 131/200\n",
            "10/10 [==============================] - 0s 2ms/step - loss: 0.8906 - accuracy: 0.7750\n",
            "Epoch 132/200\n",
            "10/10 [==============================] - 0s 2ms/step - loss: 0.6727 - accuracy: 0.8750\n",
            "Epoch 133/200\n",
            "10/10 [==============================] - 0s 2ms/step - loss: 0.8129 - accuracy: 0.7500\n",
            "Epoch 134/200\n",
            "10/10 [==============================] - 0s 2ms/step - loss: 0.6784 - accuracy: 0.8750\n",
            "Epoch 135/200\n",
            "10/10 [==============================] - 0s 2ms/step - loss: 0.6335 - accuracy: 0.8500\n",
            "Epoch 136/200\n",
            "10/10 [==============================] - 0s 2ms/step - loss: 0.6501 - accuracy: 0.9000\n",
            "Epoch 137/200\n",
            "10/10 [==============================] - 0s 2ms/step - loss: 0.5472 - accuracy: 0.9000\n",
            "Epoch 138/200\n",
            "10/10 [==============================] - 0s 2ms/step - loss: 0.6749 - accuracy: 0.8750\n",
            "Epoch 139/200\n",
            "10/10 [==============================] - 0s 2ms/step - loss: 0.6635 - accuracy: 0.7750\n",
            "Epoch 140/200\n",
            "10/10 [==============================] - 0s 3ms/step - loss: 0.7871 - accuracy: 0.7500\n",
            "Epoch 141/200\n",
            "10/10 [==============================] - 0s 2ms/step - loss: 0.6291 - accuracy: 0.8500\n",
            "Epoch 142/200\n",
            "10/10 [==============================] - 0s 2ms/step - loss: 0.5436 - accuracy: 0.9000\n",
            "Epoch 143/200\n",
            "10/10 [==============================] - 0s 3ms/step - loss: 0.7030 - accuracy: 0.8250\n",
            "Epoch 144/200\n",
            "10/10 [==============================] - 0s 3ms/step - loss: 0.6642 - accuracy: 0.8500\n",
            "Epoch 145/200\n",
            "10/10 [==============================] - 0s 2ms/step - loss: 0.7975 - accuracy: 0.8500\n",
            "Epoch 146/200\n",
            "10/10 [==============================] - 0s 2ms/step - loss: 0.6328 - accuracy: 0.8500\n",
            "Epoch 147/200\n",
            "10/10 [==============================] - 0s 2ms/step - loss: 0.7107 - accuracy: 0.7750\n",
            "Epoch 148/200\n",
            "10/10 [==============================] - 0s 2ms/step - loss: 0.7303 - accuracy: 0.8750\n",
            "Epoch 149/200\n",
            "10/10 [==============================] - 0s 3ms/step - loss: 0.6234 - accuracy: 0.8250\n",
            "Epoch 150/200\n",
            "10/10 [==============================] - 0s 2ms/step - loss: 0.4852 - accuracy: 0.9500\n",
            "Epoch 151/200\n",
            "10/10 [==============================] - 0s 3ms/step - loss: 0.5184 - accuracy: 0.8750\n",
            "Epoch 152/200\n",
            "10/10 [==============================] - 0s 3ms/step - loss: 0.6595 - accuracy: 0.7750\n",
            "Epoch 153/200\n",
            "10/10 [==============================] - 0s 3ms/step - loss: 0.4941 - accuracy: 0.9500\n",
            "Epoch 154/200\n",
            "10/10 [==============================] - 0s 4ms/step - loss: 0.5237 - accuracy: 0.8500\n",
            "Epoch 155/200\n",
            "10/10 [==============================] - 0s 2ms/step - loss: 0.6603 - accuracy: 0.8500\n",
            "Epoch 156/200\n",
            "10/10 [==============================] - 0s 2ms/step - loss: 0.5011 - accuracy: 0.8500\n",
            "Epoch 157/200\n",
            "10/10 [==============================] - 0s 2ms/step - loss: 0.5412 - accuracy: 0.8750\n",
            "Epoch 158/200\n",
            "10/10 [==============================] - 0s 3ms/step - loss: 0.5515 - accuracy: 0.8250\n",
            "Epoch 159/200\n",
            "10/10 [==============================] - 0s 2ms/step - loss: 0.5727 - accuracy: 0.8250\n",
            "Epoch 160/200\n",
            "10/10 [==============================] - 0s 2ms/step - loss: 0.5039 - accuracy: 0.8500\n",
            "Epoch 161/200\n",
            "10/10 [==============================] - 0s 2ms/step - loss: 0.5411 - accuracy: 0.9000\n",
            "Epoch 162/200\n",
            "10/10 [==============================] - 0s 2ms/step - loss: 0.5238 - accuracy: 0.9500\n",
            "Epoch 163/200\n",
            "10/10 [==============================] - 0s 2ms/step - loss: 0.4717 - accuracy: 0.9250\n",
            "Epoch 164/200\n",
            "10/10 [==============================] - 0s 2ms/step - loss: 0.4798 - accuracy: 0.9750\n",
            "Epoch 165/200\n",
            "10/10 [==============================] - 0s 2ms/step - loss: 0.5308 - accuracy: 0.9000\n",
            "Epoch 166/200\n",
            "10/10 [==============================] - 0s 3ms/step - loss: 0.5187 - accuracy: 0.8500\n",
            "Epoch 167/200\n",
            "10/10 [==============================] - 0s 2ms/step - loss: 0.5377 - accuracy: 0.9000\n",
            "Epoch 168/200\n",
            "10/10 [==============================] - 0s 2ms/step - loss: 0.5296 - accuracy: 0.8750\n",
            "Epoch 169/200\n",
            "10/10 [==============================] - 0s 3ms/step - loss: 0.4505 - accuracy: 0.8750\n",
            "Epoch 170/200\n",
            "10/10 [==============================] - 0s 2ms/step - loss: 0.5828 - accuracy: 0.8500\n",
            "Epoch 171/200\n",
            "10/10 [==============================] - 0s 2ms/step - loss: 0.5986 - accuracy: 0.7750\n",
            "Epoch 172/200\n",
            "10/10 [==============================] - 0s 2ms/step - loss: 0.5175 - accuracy: 0.9250\n",
            "Epoch 173/200\n",
            "10/10 [==============================] - 0s 2ms/step - loss: 0.5083 - accuracy: 0.8750\n",
            "Epoch 174/200\n",
            "10/10 [==============================] - 0s 2ms/step - loss: 0.5979 - accuracy: 0.8250\n",
            "Epoch 175/200\n",
            "10/10 [==============================] - 0s 2ms/step - loss: 0.4683 - accuracy: 0.9000\n",
            "Epoch 176/200\n",
            "10/10 [==============================] - 0s 3ms/step - loss: 0.3889 - accuracy: 0.9500\n",
            "Epoch 177/200\n",
            "10/10 [==============================] - 0s 3ms/step - loss: 0.4825 - accuracy: 0.9000\n",
            "Epoch 178/200\n",
            "10/10 [==============================] - 0s 2ms/step - loss: 0.5466 - accuracy: 0.8250\n",
            "Epoch 179/200\n",
            "10/10 [==============================] - 0s 2ms/step - loss: 0.3487 - accuracy: 0.9500\n",
            "Epoch 180/200\n",
            "10/10 [==============================] - 0s 4ms/step - loss: 0.3735 - accuracy: 0.9250\n",
            "Epoch 181/200\n",
            "10/10 [==============================] - 0s 3ms/step - loss: 0.5149 - accuracy: 0.9000\n",
            "Epoch 182/200\n",
            "10/10 [==============================] - 0s 2ms/step - loss: 0.4579 - accuracy: 0.9000\n",
            "Epoch 183/200\n",
            "10/10 [==============================] - 0s 3ms/step - loss: 0.3358 - accuracy: 0.9250\n",
            "Epoch 184/200\n",
            "10/10 [==============================] - 0s 2ms/step - loss: 0.4218 - accuracy: 0.9250\n",
            "Epoch 185/200\n",
            "10/10 [==============================] - 0s 3ms/step - loss: 0.5042 - accuracy: 0.9750\n",
            "Epoch 186/200\n",
            "10/10 [==============================] - 0s 3ms/step - loss: 0.5039 - accuracy: 0.8750\n",
            "Epoch 187/200\n",
            "10/10 [==============================] - 0s 3ms/step - loss: 0.4161 - accuracy: 0.9250\n",
            "Epoch 188/200\n",
            "10/10 [==============================] - 0s 2ms/step - loss: 0.4147 - accuracy: 0.9250\n",
            "Epoch 189/200\n",
            "10/10 [==============================] - 0s 3ms/step - loss: 0.4519 - accuracy: 0.9250\n",
            "Epoch 190/200\n",
            "10/10 [==============================] - 0s 2ms/step - loss: 0.4294 - accuracy: 1.0000\n",
            "Epoch 191/200\n",
            "10/10 [==============================] - 0s 3ms/step - loss: 0.4251 - accuracy: 0.9000\n",
            "Epoch 192/200\n",
            "10/10 [==============================] - 0s 3ms/step - loss: 0.3153 - accuracy: 0.9250\n",
            "Epoch 193/200\n",
            "10/10 [==============================] - 0s 3ms/step - loss: 0.3662 - accuracy: 0.9500\n",
            "Epoch 194/200\n",
            "10/10 [==============================] - 0s 3ms/step - loss: 0.4927 - accuracy: 0.9250\n",
            "Epoch 195/200\n",
            "10/10 [==============================] - 0s 3ms/step - loss: 0.3305 - accuracy: 0.9750\n",
            "Epoch 196/200\n",
            "10/10 [==============================] - 0s 3ms/step - loss: 0.3067 - accuracy: 0.9500\n",
            "Epoch 197/200\n",
            "10/10 [==============================] - 0s 2ms/step - loss: 0.4364 - accuracy: 0.8500\n",
            "Epoch 198/200\n",
            "10/10 [==============================] - 0s 3ms/step - loss: 0.3731 - accuracy: 0.9000\n",
            "Epoch 199/200\n",
            "10/10 [==============================] - 0s 3ms/step - loss: 0.4087 - accuracy: 0.9750\n",
            "Epoch 200/200\n",
            "10/10 [==============================] - 0s 2ms/step - loss: 0.3665 - accuracy: 0.9000\n"
          ]
        }
      ],
      "source": [
        "history = model.fit(train_x, train_y, epochs=200, batch_size=4, verbose=1)"
      ]
    },
    {
      "cell_type": "code",
      "execution_count": 15,
      "metadata": {
        "id": "06k1fb2yWF1A"
      },
      "outputs": [],
      "source": [
        "model.save(\"ai_chatbot.h5\", history)"
      ]
    },
    {
      "cell_type": "markdown",
      "metadata": {
        "id": "8_MYpfoVbN3w"
      },
      "source": [
        "## EXECUTING CHATBOT"
      ]
    },
    {
      "cell_type": "markdown",
      "metadata": {
        "id": "s1PcFlnAek4b"
      },
      "source": [
        "### *Loading Our Crop Data*"
      ]
    },
    {
      "cell_type": "code",
      "source": [
        "# checking existing intents file\n",
        "print(intents['intents'][3]['tag'])"
      ],
      "metadata": {
        "colab": {
          "base_uri": "https://localhost:8080/"
        },
        "id": "fmTQwvjCSI27",
        "outputId": "7925cf8c-3706-4da5-8d1c-7233b35dc9c7"
      },
      "execution_count": 16,
      "outputs": [
        {
          "output_type": "stream",
          "name": "stdout",
          "text": [
            "name\n"
          ]
        }
      ]
    },
    {
      "cell_type": "code",
      "execution_count": 17,
      "metadata": {
        "colab": {
          "base_uri": "https://localhost:8080/",
          "height": 74,
          "resources": {
            "http://localhost:8080/nbextensions/google.colab/files.js": {
              "data": "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",
              "headers": [
                [
                  "content-type",
                  "application/javascript"
                ]
              ],
              "ok": true,
              "status": 200,
              "status_text": ""
            }
          }
        },
        "id": "Sk1Xnoz_eQvZ",
        "outputId": "2520b0d4-56cb-4412-d488-9f346dfbd589"
      },
      "outputs": [
        {
          "output_type": "display_data",
          "data": {
            "text/plain": [
              "<IPython.core.display.HTML object>"
            ],
            "text/html": [
              "\n",
              "     <input type=\"file\" id=\"files-444f66f1-ca93-45f8-a941-704ef9760bf7\" name=\"files[]\" multiple disabled\n",
              "        style=\"border:none\" />\n",
              "     <output id=\"result-444f66f1-ca93-45f8-a941-704ef9760bf7\">\n",
              "      Upload widget is only available when the cell has been executed in the\n",
              "      current browser session. Please rerun this cell to enable.\n",
              "      </output>\n",
              "      <script src=\"/nbextensions/google.colab/files.js\"></script> "
            ]
          },
          "metadata": {}
        },
        {
          "output_type": "stream",
          "name": "stdout",
          "text": [
            "Saving crop_data_eng.json to crop_data_eng.json\n"
          ]
        }
      ],
      "source": [
        "# loading file\n",
        "from google.colab import files\n",
        "uploaded = files.upload()"
      ]
    },
    {
      "cell_type": "code",
      "execution_count": 18,
      "metadata": {
        "colab": {
          "base_uri": "https://localhost:8080/"
        },
        "id": "7YOfY0qbubxA",
        "outputId": "c8937648-ec3d-44be-8407-39f751be3eb5"
      },
      "outputs": [
        {
          "output_type": "stream",
          "name": "stdout",
          "text": [
            "{'crop_data_eng.json': b'{\\r\\n    \"Bhindi(Ladies Finger)\": {\\r\\n        \"State\": \"Bihar\",\\r\\n        \"District\": \"Kaimur/Bhabhua\",\\r\\n        \"Market\": \"Kaimur\",\\r\\n        \"Commodity\": \"Bhindi(Ladies Finger)\",\\r\\n        \"Variety\": \"Bhindi\",\\r\\n        \"Arrival_Date\": \"08/06/2022\",\\r\\n        \"Min_Price\": \"1200\",\\r\\n        \"Max_Price\": \"1300\",\\r\\n        \"Modal_Price\": \"1250\"\\r\\n    },\\r\\n    \"Green Chilli\": {\\r\\n        \"State\": \"Bihar\",\\r\\n        \"District\": \"Kaimur/Bhabhua\",\\r\\n        \"Market\": \"Kaimur\",\\r\\n        \"Commodity\": \"Green Chilli\",\\r\\n        \"Variety\": \"Green Chilly\",\\r\\n        \"Arrival_Date\": \"08/06/2022\",\\r\\n        \"Min_Price\": \"2200\",\\r\\n        \"Max_Price\": \"2400\",\\r\\n        \"Modal_Price\": \"2300\"\\r\\n    },\\r\\n    \"Onion\": {\\r\\n        \"State\": \"Bihar\",\\r\\n        \"District\": \"Kaimur/Bhabhua\",\\r\\n        \"Market\": \"Kaimur\",\\r\\n        \"Commodity\": \"Onion\",\\r\\n        \"Variety\": \"1st Sort\",\\r\\n        \"Arrival_Date\": \"08/06/2022\",\\r\\n        \"Min_Price\": \"1200\",\\r\\n        \"Max_Price\": \"1300\",\\r\\n        \"Modal_Price\": \"1250\"\\r\\n    },\\r\\n    \"Potato\": {\\r\\n        \"State\": \"Bihar\",\\r\\n        \"District\": \"Kaimur/Bhabhua\",\\r\\n        \"Market\": \"Kaimur\",\\r\\n        \"Commodity\": \"Potato\",\\r\\n        \"Variety\": \"(Red Nanital)\",\\r\\n        \"Arrival_Date\": \"08/06/2022\",\\r\\n        \"Min_Price\": \"1350\",\\r\\n        \"Max_Price\": \"1450\",\\r\\n        \"Modal_Price\": \"1400\"\\r\\n    },\\r\\n    \"Sponge gourd\": {\\r\\n        \"State\": \"Bihar\",\\r\\n        \"District\": \"Kaimur/Bhabhua\",\\r\\n        \"Market\": \"Kaimur\",\\r\\n        \"Commodity\": \"Sponge gourd\",\\r\\n        \"Variety\": \"Sponge gourd\",\\r\\n        \"Arrival_Date\": \"08/06/2022\",\\r\\n        \"Min_Price\": \"650\",\\r\\n        \"Max_Price\": \"750\",\\r\\n        \"Modal_Price\": \"700\"\\r\\n    },\\r\\n    \"Tomato\": {\\r\\n        \"State\": \"Bihar\",\\r\\n        \"District\": \"Kaimur/Bhabhua\",\\r\\n        \"Market\": \"Kaimur\",\\r\\n        \"Commodity\": \"Tomato\",\\r\\n        \"Variety\": \"Deshi\",\\r\\n        \"Arrival_Date\": \"08/06/2022\",\\r\\n        \"Min_Price\": \"4000\",\\r\\n        \"Max_Price\": \"4100\",\\r\\n        \"Modal_Price\": \"4050\"\\r\\n    },\\r\\n    \"Bitter gourd\": {\\r\\n        \"State\": \"Bihar\",\\r\\n        \"District\": \"Kishanganj\",\\r\\n        \"Market\": \"Bahadurganj\",\\r\\n        \"Commodity\": \"Bitter gourd\",\\r\\n        \"Variety\": \"Bitter Gourd\",\\r\\n        \"Arrival_Date\": \"08/06/2022\",\\r\\n        \"Min_Price\": \"1200\",\\r\\n        \"Max_Price\": \"1400\",\\r\\n        \"Modal_Price\": \"1300\"\\r\\n    },\\r\\n    \"Pineapple\": {\\r\\n        \"State\": \"Bihar\",\\r\\n        \"District\": \"Kishanganj\",\\r\\n        \"Market\": \"Bahadurganj\",\\r\\n        \"Commodity\": \"Pineapple\",\\r\\n        \"Variety\": \"Other\",\\r\\n        \"Arrival_Date\": \"08/06/2022\",\\r\\n        \"Min_Price\": \"2000\",\\r\\n        \"Max_Price\": \"2400\",\\r\\n        \"Modal_Price\": \"2200\"\\r\\n    },\\r\\n    \"Pomegranate\": {\\r\\n        \"State\": \"Bihar\",\\r\\n        \"District\": \"Kishanganj\",\\r\\n        \"Market\": \"Bahadurganj\",\\r\\n        \"Commodity\": \"Pomegranate\",\\r\\n        \"Variety\": \"Other\",\\r\\n        \"Arrival_Date\": \"08/06/2022\",\\r\\n        \"Min_Price\": \"8000\",\\r\\n        \"Max_Price\": \"9000\",\\r\\n        \"Modal_Price\": \"8500\"\\r\\n    },\\r\\n    \"Bottle gourd\": {\\r\\n        \"State\": \"Chandigarh\",\\r\\n        \"District\": \"Chandigarh\",\\r\\n        \"Market\": \"Chandigarh(Grain/Fruit)\",\\r\\n        \"Commodity\": \"Bottle gourd\",\\r\\n        \"Variety\": \"Other\",\\r\\n        \"Arrival_Date\": \"08/06/2022\",\\r\\n        \"Min_Price\": \"400\",\\r\\n        \"Max_Price\": \"1000\",\\r\\n        \"Modal_Price\": \"700\"\\r\\n    },\\r\\n    \"Cauliflower\": {\\r\\n        \"State\": \"Chandigarh\",\\r\\n        \"District\": \"Chandigarh\",\\r\\n        \"Market\": \"Chandigarh(Grain/Fruit)\",\\r\\n        \"Commodity\": \"Cauliflower\",\\r\\n        \"Variety\": \"Other\",\\r\\n        \"Arrival_Date\": \"08/06/2022\",\\r\\n        \"Min_Price\": \"1500\",\\r\\n        \"Max_Price\": \"2500\",\\r\\n        \"Modal_Price\": \"2000\"\\r\\n    },\\r\\n    \"Cucumbar(Kheera)\": {\\r\\n        \"State\": \"Chandigarh\",\\r\\n        \"District\": \"Chandigarh\",\\r\\n        \"Market\": \"Chandigarh(Grain/Fruit)\",\\r\\n        \"Commodity\": \"Cucumbar(Kheera)\",\\r\\n        \"Variety\": \"Other\",\\r\\n        \"Arrival_Date\": \"08/06/2022\",\\r\\n        \"Min_Price\": \"500\",\\r\\n        \"Max_Price\": \"1500\",\\r\\n        \"Modal_Price\": \"1000\"\\r\\n    },\\r\\n    \"Ginger(Green)\": {\\r\\n        \"State\": \"Chandigarh\",\\r\\n        \"District\": \"Chandigarh\",\\r\\n        \"Market\": \"Chandigarh(Grain/Fruit)\",\\r\\n        \"Commodity\": \"Ginger(Green)\",\\r\\n        \"Variety\": \"Other\",\\r\\n        \"Arrival_Date\": \"08/06/2022\",\\r\\n        \"Min_Price\": \"2000\",\\r\\n        \"Max_Price\": \"3000\",\\r\\n        \"Modal_Price\": \"2500\"\\r\\n    },\\r\\n    \"Lemon\": {\\r\\n        \"State\": \"Chandigarh\",\\r\\n        \"District\": \"Chandigarh\",\\r\\n        \"Market\": \"Chandigarh(Grain/Fruit)\",\\r\\n        \"Commodity\": \"Lemon\",\\r\\n        \"Variety\": \"Other\",\\r\\n        \"Arrival_Date\": \"08/06/2022\",\\r\\n        \"Min_Price\": \"3000\",\\r\\n        \"Max_Price\": \"5000\",\\r\\n        \"Modal_Price\": \"4000\"\\r\\n    },\\r\\n    \"Mango\": {\\r\\n        \"State\": \"Chandigarh\",\\r\\n        \"District\": \"Chandigarh\",\\r\\n        \"Market\": \"Chandigarh(Grain/Fruit)\",\\r\\n        \"Commodity\": \"Mango\",\\r\\n        \"Variety\": \"Other\",\\r\\n        \"Arrival_Date\": \"08/06/2022\",\\r\\n        \"Min_Price\": \"3000\",\\r\\n        \"Max_Price\": \"8000\",\\r\\n        \"Modal_Price\": \"5500\"\\r\\n    },\\r\\n    \"Mousambi(Sweet Lime)\": {\\r\\n        \"State\": \"Chandigarh\",\\r\\n        \"District\": \"Chandigarh\",\\r\\n        \"Market\": \"Chandigarh(Grain/Fruit)\",\\r\\n        \"Commodity\": \"Mousambi(Sweet Lime)\",\\r\\n        \"Variety\": \"Other\",\\r\\n        \"Arrival_Date\": \"08/06/2022\",\\r\\n        \"Min_Price\": \"4000\",\\r\\n        \"Max_Price\": \"5000\",\\r\\n        \"Modal_Price\": \"4500\"\\r\\n    },\\r\\n    \"Peas Wet\": {\\r\\n        \"State\": \"Chandigarh\",\\r\\n        \"District\": \"Chandigarh\",\\r\\n        \"Market\": \"Chandigarh(Grain/Fruit)\",\\r\\n        \"Commodity\": \"Peas Wet\",\\r\\n        \"Variety\": \"Other\",\\r\\n        \"Arrival_Date\": \"08/06/2022\",\\r\\n        \"Min_Price\": \"3000\",\\r\\n        \"Max_Price\": \"4000\",\\r\\n        \"Modal_Price\": \"3500\"\\r\\n    },\\r\\n    \"Pumpkin\": {\\r\\n        \"State\": \"Chandigarh\",\\r\\n        \"District\": \"Chandigarh\",\\r\\n        \"Market\": \"Chandigarh(Grain/Fruit)\",\\r\\n        \"Commodity\": \"Pumpkin\",\\r\\n        \"Variety\": \"Other\",\\r\\n        \"Arrival_Date\": \"08/06/2022\",\\r\\n        \"Min_Price\": \"200\",\\r\\n        \"Max_Price\": \"400\",\\r\\n        \"Modal_Price\": \"300\"\\r\\n    },\\r\\n    \"Mahua\": {\\r\\n        \"State\": \"Chattisgarh\",\\r\\n        \"District\": \"Bijapur\",\\r\\n        \"Market\": \"Bharamgarh\",\\r\\n        \"Commodity\": \"Mahua\",\\r\\n        \"Variety\": \"Other\",\\r\\n        \"Arrival_Date\": \"08/06/2022\",\\r\\n        \"Min_Price\": \"2300\",\\r\\n        \"Max_Price\": \"2500\",\\r\\n        \"Modal_Price\": \"2400\"\\r\\n    },\\r\\n    \"Brinjal\": {\\r\\n        \"State\": \"Gujarat\",\\r\\n        \"District\": \"Amreli\",\\r\\n        \"Market\": \"Damnagar\",\\r\\n        \"Commodity\": \"Brinjal\",\\r\\n        \"Variety\": \"Other\",\\r\\n        \"Arrival_Date\": \"08/06/2022\",\\r\\n        \"Min_Price\": \"4300\",\\r\\n        \"Max_Price\": \"4500\",\\r\\n        \"Modal_Price\": \"4400\"\\r\\n    },\\r\\n    \"Cabbage\": {\\r\\n        \"State\": \"Gujarat\",\\r\\n        \"District\": \"Amreli\",\\r\\n        \"Market\": \"Damnagar\",\\r\\n        \"Commodity\": \"Cabbage\",\\r\\n        \"Variety\": \"Cabbage\",\\r\\n        \"Arrival_Date\": \"08/06/2022\",\\r\\n        \"Min_Price\": \"3800\",\\r\\n        \"Max_Price\": \"4000\",\\r\\n        \"Modal_Price\": \"3900\"\\r\\n    },\\r\\n    \"Coriander(Leaves)\": {\\r\\n        \"State\": \"Gujarat\",\\r\\n        \"District\": \"Amreli\",\\r\\n        \"Market\": \"Damnagar\",\\r\\n        \"Commodity\": \"Coriander(Leaves)\",\\r\\n        \"Variety\": \"Coriander\",\\r\\n        \"Arrival_Date\": \"08/06/2022\",\\r\\n        \"Min_Price\": \"5800\",\\r\\n        \"Max_Price\": \"6000\",\\r\\n        \"Modal_Price\": \"5900\"\\r\\n    },\\r\\n    \"Guar\": {\\r\\n        \"State\": \"Gujarat\",\\r\\n        \"District\": \"Amreli\",\\r\\n        \"Market\": \"Damnagar\",\\r\\n        \"Commodity\": \"Guar\",\\r\\n        \"Variety\": \"Gwar\",\\r\\n        \"Arrival_Date\": \"08/06/2022\",\\r\\n        \"Min_Price\": \"2800\",\\r\\n        \"Max_Price\": \"3000\",\\r\\n        \"Modal_Price\": \"2900\"\\r\\n    },\\r\\n    \"Arhar (Tur/Red Gram)(Whole)\": {\\r\\n        \"State\": \"Gujarat\",\\r\\n        \"District\": \"Bharuch\",\\r\\n        \"Market\": \"Jambusar\",\\r\\n        \"Commodity\": \"Arhar (Tur/Red Gram)(Whole)\",\\r\\n        \"Variety\": \"Other\",\\r\\n        \"Arrival_Date\": \"08/06/2022\",\\r\\n        \"Min_Price\": \"5000\",\\r\\n        \"Max_Price\": \"5500\",\\r\\n        \"Modal_Price\": \"5200\"\\r\\n    },\\r\\n    \"Bajra(Pearl Millet/Cumbu)\": {\\r\\n        \"State\": \"Gujarat\",\\r\\n        \"District\": \"Bharuch\",\\r\\n        \"Market\": \"Jambusar\",\\r\\n        \"Commodity\": \"Bajra(Pearl Millet/Cumbu)\",\\r\\n        \"Variety\": \"Other\",\\r\\n        \"Arrival_Date\": \"08/06/2022\",\\r\\n        \"Min_Price\": \"1600\",\\r\\n        \"Max_Price\": \"2000\",\\r\\n        \"Modal_Price\": \"1800\"\\r\\n    },\\r\\n    \"Castor Seed\": {\\r\\n        \"State\": \"Gujarat\",\\r\\n        \"District\": \"Bharuch\",\\r\\n        \"Market\": \"Jambusar\",\\r\\n        \"Commodity\": \"Castor Seed\",\\r\\n        \"Variety\": \"Other\",\\r\\n        \"Arrival_Date\": \"08/06/2022\",\\r\\n        \"Min_Price\": \"5800\",\\r\\n        \"Max_Price\": \"6200\",\\r\\n        \"Modal_Price\": \"6000\"\\r\\n    },\\r\\n    \"Cotton\": {\\r\\n        \"State\": \"Gujarat\",\\r\\n        \"District\": \"Bharuch\",\\r\\n        \"Market\": \"Jambusar\",\\r\\n        \"Commodity\": \"Cotton\",\\r\\n        \"Variety\": \"Other\",\\r\\n        \"Arrival_Date\": \"08/06/2022\",\\r\\n        \"Min_Price\": \"8800\",\\r\\n        \"Max_Price\": \"9300\",\\r\\n        \"Modal_Price\": \"9000\"\\r\\n    },\\r\\n    \"Jowar(Sorghum)\": {\\r\\n        \"State\": \"Gujarat\",\\r\\n        \"District\": \"Bharuch\",\\r\\n        \"Market\": \"Jambusar\",\\r\\n        \"Commodity\": \"Jowar(Sorghum)\",\\r\\n        \"Variety\": \"Other\",\\r\\n        \"Arrival_Date\": \"08/06/2022\",\\r\\n        \"Min_Price\": \"1700\",\\r\\n        \"Max_Price\": \"2200\",\\r\\n        \"Modal_Price\": \"1900\"\\r\\n    },\\r\\n    \"Maize\": {\\r\\n        \"State\": \"Gujarat\",\\r\\n        \"District\": \"Bharuch\",\\r\\n        \"Market\": \"Jambusar\",\\r\\n        \"Commodity\": \"Maize\",\\r\\n        \"Variety\": \"Other\",\\r\\n        \"Arrival_Date\": \"08/06/2022\",\\r\\n        \"Min_Price\": \"1400\",\\r\\n        \"Max_Price\": \"1800\",\\r\\n        \"Modal_Price\": \"1600\"\\r\\n    },\\r\\n    \"Rice\": {\\r\\n        \"State\": \"Gujarat\",\\r\\n        \"District\": \"Bharuch\",\\r\\n        \"Market\": \"Jambusar\",\\r\\n        \"Commodity\": \"Rice\",\\r\\n        \"Variety\": \"Other\",\\r\\n        \"Arrival_Date\": \"08/06/2022\",\\r\\n        \"Min_Price\": \"2700\",\\r\\n        \"Max_Price\": \"3400\",\\r\\n        \"Modal_Price\": \"3000\"\\r\\n    },\\r\\n    \"Wheat\": {\\r\\n        \"State\": \"Gujarat\",\\r\\n        \"District\": \"Bharuch\",\\r\\n        \"Market\": \"Jambusar\",\\r\\n        \"Commodity\": \"Wheat\",\\r\\n        \"Variety\": \"Other\",\\r\\n        \"Arrival_Date\": \"08/06/2022\",\\r\\n        \"Min_Price\": \"1800\",\\r\\n        \"Max_Price\": \"2300\",\\r\\n        \"Modal_Price\": \"2000\"\\r\\n    },\\r\\n    \"Banana - Green\": {\\r\\n        \"State\": \"Gujarat\",\\r\\n        \"District\": \"Surat\",\\r\\n        \"Market\": \"Surat\",\\r\\n        \"Commodity\": \"Banana - Green\",\\r\\n        \"Variety\": \"Other\",\\r\\n        \"Arrival_Date\": \"08/06/2022\",\\r\\n        \"Min_Price\": \"800\",\\r\\n        \"Max_Price\": \"1300\",\\r\\n        \"Modal_Price\": \"1050\"\\r\\n    },\\r\\n    \"Beetroot\": {\\r\\n        \"State\": \"Gujarat\",\\r\\n        \"District\": \"Surat\",\\r\\n        \"Market\": \"Surat\",\\r\\n        \"Commodity\": \"Beetroot\",\\r\\n        \"Variety\": \"Other\",\\r\\n        \"Arrival_Date\": \"08/06/2022\",\\r\\n        \"Min_Price\": \"1300\",\\r\\n        \"Max_Price\": \"2000\",\\r\\n        \"Modal_Price\": \"1650\"\\r\\n    },\\r\\n    \"Capsicum\": {\\r\\n        \"State\": \"Gujarat\",\\r\\n        \"District\": \"Surat\",\\r\\n        \"Market\": \"Surat\",\\r\\n        \"Commodity\": \"Capsicum\",\\r\\n        \"Variety\": \"Other\",\\r\\n        \"Arrival_Date\": \"08/06/2022\",\\r\\n        \"Min_Price\": \"4500\",\\r\\n        \"Max_Price\": \"5500\",\\r\\n        \"Modal_Price\": \"5000\"\\r\\n    },\\r\\n    \"Carrot\": {\\r\\n        \"State\": \"Gujarat\",\\r\\n        \"District\": \"Surat\",\\r\\n        \"Market\": \"Surat\",\\r\\n        \"Commodity\": \"Carrot\",\\r\\n        \"Variety\": \"Other\",\\r\\n        \"Arrival_Date\": \"08/06/2022\",\\r\\n        \"Min_Price\": \"1500\",\\r\\n        \"Max_Price\": \"2800\",\\r\\n        \"Modal_Price\": \"2150\"\\r\\n    },\\r\\n    \"Cluster beans\": {\\r\\n        \"State\": \"Gujarat\",\\r\\n        \"District\": \"Surat\",\\r\\n        \"Market\": \"Surat\",\\r\\n        \"Commodity\": \"Cluster beans\",\\r\\n        \"Variety\": \"Other\",\\r\\n        \"Arrival_Date\": \"08/06/2022\",\\r\\n        \"Min_Price\": \"2500\",\\r\\n        \"Max_Price\": \"5500\",\\r\\n        \"Modal_Price\": \"4000\"\\r\\n    },\\r\\n    \"Cowpea(Veg)\": {\\r\\n        \"State\": \"Gujarat\",\\r\\n        \"District\": \"Surat\",\\r\\n        \"Market\": \"Surat\",\\r\\n        \"Commodity\": \"Cowpea(Veg)\",\\r\\n        \"Variety\": \"Other\",\\r\\n        \"Arrival_Date\": \"08/06/2022\",\\r\\n        \"Min_Price\": \"2250\",\\r\\n        \"Max_Price\": \"5000\",\\r\\n        \"Modal_Price\": \"3625\"\\r\\n    },\\r\\n    \"Drumstick\": {\\r\\n        \"State\": \"Gujarat\",\\r\\n        \"District\": \"Surat\",\\r\\n        \"Market\": \"Surat\",\\r\\n        \"Commodity\": \"Drumstick\",\\r\\n        \"Variety\": \"Other\",\\r\\n        \"Arrival_Date\": \"08/06/2022\",\\r\\n        \"Min_Price\": \"2750\",\\r\\n        \"Max_Price\": \"5100\",\\r\\n        \"Modal_Price\": \"3925\"\\r\\n    },\\r\\n    \"Elephant Yam (Suran)\": {\\r\\n        \"State\": \"Gujarat\",\\r\\n        \"District\": \"Surat\",\\r\\n        \"Market\": \"Surat\",\\r\\n        \"Commodity\": \"Elephant Yam (Suran)\",\\r\\n        \"Variety\": \"Other\",\\r\\n        \"Arrival_Date\": \"08/06/2022\",\\r\\n        \"Min_Price\": \"2250\",\\r\\n        \"Max_Price\": \"3500\",\\r\\n        \"Modal_Price\": \"2875\"\\r\\n    },\\r\\n    \"French Beans (Frasbean)\": {\\r\\n        \"State\": \"Gujarat\",\\r\\n        \"District\": \"Surat\",\\r\\n        \"Market\": \"Surat\",\\r\\n        \"Commodity\": \"French Beans (Frasbean)\",\\r\\n        \"Variety\": \"Other\",\\r\\n        \"Arrival_Date\": \"08/06/2022\",\\r\\n        \"Min_Price\": \"5000\",\\r\\n        \"Max_Price\": \"7500\",\\r\\n        \"Modal_Price\": \"6250\"\\r\\n    },\\r\\n    \"Groundnut pods (raw)\": {\\r\\n        \"State\": \"Gujarat\",\\r\\n        \"District\": \"Surat\",\\r\\n        \"Market\": \"Surat\",\\r\\n        \"Commodity\": \"Groundnut pods (raw)\",\\r\\n        \"Variety\": \"Other\",\\r\\n        \"Arrival_Date\": \"08/06/2022\",\\r\\n        \"Min_Price\": \"2750\",\\r\\n        \"Max_Price\": \"4000\",\\r\\n        \"Modal_Price\": \"3375\"\\r\\n    },\\r\\n    \"Indian Beans (Seam)\": {\\r\\n        \"State\": \"Gujarat\",\\r\\n        \"District\": \"Surat\",\\r\\n        \"Market\": \"Surat\",\\r\\n        \"Commodity\": \"Indian Beans (Seam)\",\\r\\n        \"Variety\": \"Other\",\\r\\n        \"Arrival_Date\": \"08/06/2022\",\\r\\n        \"Min_Price\": \"3000\",\\r\\n        \"Max_Price\": \"6000\",\\r\\n        \"Modal_Price\": \"4500\"\\r\\n    },\\r\\n    \"Little gourd (Kundru)\": {\\r\\n        \"State\": \"Gujarat\",\\r\\n        \"District\": \"Surat\",\\r\\n        \"Market\": \"Surat\",\\r\\n        \"Commodity\": \"Little gourd (Kundru)\",\\r\\n        \"Variety\": \"Other\",\\r\\n        \"Arrival_Date\": \"08/06/2022\",\\r\\n        \"Min_Price\": \"1500\",\\r\\n        \"Max_Price\": \"5250\",\\r\\n        \"Modal_Price\": \"3375\"\\r\\n    },\\r\\n    \"Mango (Raw-Ripe)\": {\\r\\n        \"State\": \"Gujarat\",\\r\\n        \"District\": \"Surat\",\\r\\n        \"Market\": \"Surat\",\\r\\n        \"Commodity\": \"Mango (Raw-Ripe)\",\\r\\n        \"Variety\": \"Other\",\\r\\n        \"Arrival_Date\": \"08/06/2022\",\\r\\n        \"Min_Price\": \"1500\",\\r\\n        \"Max_Price\": \"7250\",\\r\\n        \"Modal_Price\": \"4375\"\\r\\n    },\\r\\n    \"Papaya (Raw)\": {\\r\\n        \"State\": \"Gujarat\",\\r\\n        \"District\": \"Surat\",\\r\\n        \"Market\": \"Surat\",\\r\\n        \"Commodity\": \"Papaya (Raw)\",\\r\\n        \"Variety\": \"Other\",\\r\\n        \"Arrival_Date\": \"08/06/2022\",\\r\\n        \"Min_Price\": \"600\",\\r\\n        \"Max_Price\": \"1100\",\\r\\n        \"Modal_Price\": \"850\"\\r\\n    },\\r\\n    \"Peas cod\": {\\r\\n        \"State\": \"Gujarat\",\\r\\n        \"District\": \"Surat\",\\r\\n        \"Market\": \"Surat\",\\r\\n        \"Commodity\": \"Peas cod\",\\r\\n        \"Variety\": \"Other\",\\r\\n        \"Arrival_Date\": \"08/06/2022\",\\r\\n        \"Min_Price\": \"4250\",\\r\\n        \"Max_Price\": \"9500\",\\r\\n        \"Modal_Price\": \"6875\"\\r\\n    },\\r\\n    \"Pegeon Pea (Arhar Fali)\": {\\r\\n        \"State\": \"Gujarat\",\\r\\n        \"District\": \"Surat\",\\r\\n        \"Market\": \"Surat\",\\r\\n        \"Commodity\": \"Pegeon Pea (Arhar Fali)\",\\r\\n        \"Variety\": \"Other\",\\r\\n        \"Arrival_Date\": \"08/06/2022\",\\r\\n        \"Min_Price\": \"4250\",\\r\\n        \"Max_Price\": \"8500\",\\r\\n        \"Modal_Price\": \"6375\"\\r\\n    },\\r\\n    \"Pointed gourd (Parval)\": {\\r\\n        \"State\": \"Gujarat\",\\r\\n        \"District\": \"Surat\",\\r\\n        \"Market\": \"Surat\",\\r\\n        \"Commodity\": \"Pointed gourd (Parval)\",\\r\\n        \"Variety\": \"Other\",\\r\\n        \"Arrival_Date\": \"08/06/2022\",\\r\\n        \"Min_Price\": \"2250\",\\r\\n        \"Max_Price\": \"3150\",\\r\\n        \"Modal_Price\": \"2700\"\\r\\n    },\\r\\n    \"Ridge gourd(Tori)\": {\\r\\n        \"State\": \"Gujarat\",\\r\\n        \"District\": \"Surat\",\\r\\n        \"Market\": \"Surat\",\\r\\n        \"Commodity\": \"Ridge gourd(Tori)\",\\r\\n        \"Variety\": \"Other\",\\r\\n        \"Arrival_Date\": \"08/06/2022\",\\r\\n        \"Min_Price\": \"2750\",\\r\\n        \"Max_Price\": \"4500\",\\r\\n        \"Modal_Price\": \"3625\"\\r\\n    },\\r\\n    \"Surat Beans (Papadi)\": {\\r\\n        \"State\": \"Gujarat\",\\r\\n        \"District\": \"Surat\",\\r\\n        \"Market\": \"Surat\",\\r\\n        \"Commodity\": \"Surat Beans (Papadi)\",\\r\\n        \"Variety\": \"Other\",\\r\\n        \"Arrival_Date\": \"08/06/2022\",\\r\\n        \"Min_Price\": \"5000\",\\r\\n        \"Max_Price\": \"8500\",\\r\\n        \"Modal_Price\": \"6750\"\\r\\n    },\\r\\n    \"Sweet Potato\": {\\r\\n        \"State\": \"Gujarat\",\\r\\n        \"District\": \"Surat\",\\r\\n        \"Market\": \"Surat\",\\r\\n        \"Commodity\": \"Sweet Potato\",\\r\\n        \"Variety\": \"Other\",\\r\\n        \"Arrival_Date\": \"08/06/2022\",\\r\\n        \"Min_Price\": \"1500\",\\r\\n        \"Max_Price\": \"2300\",\\r\\n        \"Modal_Price\": \"1900\"\\r\\n    },\\r\\n    \"Turmeric (raw)\": {\\r\\n        \"State\": \"Gujarat\",\\r\\n        \"District\": \"Surat\",\\r\\n        \"Market\": \"Surat\",\\r\\n        \"Commodity\": \"Turmeric (raw)\",\\r\\n        \"Variety\": \"Other\",\\r\\n        \"Arrival_Date\": \"08/06/2022\",\\r\\n        \"Min_Price\": \"800\",\\r\\n        \"Max_Price\": \"2000\",\\r\\n        \"Modal_Price\": \"1400\"\\r\\n    },\\r\\n    \"Yam (Ratalu)\": {\\r\\n        \"State\": \"Gujarat\",\\r\\n        \"District\": \"Surat\",\\r\\n        \"Market\": \"Surat\",\\r\\n        \"Commodity\": \"Yam (Ratalu)\",\\r\\n        \"Variety\": \"Other\",\\r\\n        \"Arrival_Date\": \"08/06/2022\",\\r\\n        \"Min_Price\": \"2500\",\\r\\n        \"Max_Price\": \"6000\",\\r\\n        \"Modal_Price\": \"4250\"\\r\\n    },\\r\\n    \"Banana\": {\\r\\n        \"State\": \"Haryana\",\\r\\n        \"District\": \"Rewari\",\\r\\n        \"Market\": \"Kosli\",\\r\\n        \"Commodity\": \"Banana\",\\r\\n        \"Variety\": \"Other\",\\r\\n        \"Arrival_Date\": \"08/06/2022\",\\r\\n        \"Min_Price\": \"2000\",\\r\\n        \"Max_Price\": \"2000\",\\r\\n        \"Modal_Price\": \"2000\"\\r\\n    },\\r\\n    \"Water Melon\": {\\r\\n        \"State\": \"Haryana\",\\r\\n        \"District\": \"Rewari\",\\r\\n        \"Market\": \"Kosli\",\\r\\n        \"Commodity\": \"Water Melon\",\\r\\n        \"Variety\": \"Water Melon\",\\r\\n        \"Arrival_Date\": \"08/06/2022\",\\r\\n        \"Min_Price\": \"800\",\\r\\n        \"Max_Price\": \"800\",\\r\\n        \"Modal_Price\": \"800\"\\r\\n    },\\r\\n    \"Apple\": {\\r\\n        \"State\": \"Himachal Pradesh\",\\r\\n        \"District\": \"Kangra\",\\r\\n        \"Market\": \"Kangra(Baijnath)\",\\r\\n        \"Commodity\": \"Apple\",\\r\\n        \"Variety\": \"Apple\",\\r\\n        \"Arrival_Date\": \"08/06/2022\",\\r\\n        \"Min_Price\": \"12000\",\\r\\n        \"Max_Price\": \"14000\",\\r\\n        \"Modal_Price\": \"13000\"\\r\\n    },\\r\\n    \"Karbuja(Musk Melon)\": {\\r\\n        \"State\": \"Himachal Pradesh\",\\r\\n        \"District\": \"Kangra\",\\r\\n        \"Market\": \"Kangra(Baijnath)\",\\r\\n        \"Commodity\": \"Karbuja(Musk Melon)\",\\r\\n        \"Variety\": \"Karbhuja\",\\r\\n        \"Arrival_Date\": \"08/06/2022\",\\r\\n        \"Min_Price\": \"2000\",\\r\\n        \"Max_Price\": \"2500\",\\r\\n        \"Modal_Price\": \"2400\"\\r\\n    },\\r\\n    \"Raddish\": {\\r\\n        \"State\": \"Himachal Pradesh\",\\r\\n        \"District\": \"Kangra\",\\r\\n        \"Market\": \"Kangra(Baijnath)\",\\r\\n        \"Commodity\": \"Raddish\",\\r\\n        \"Variety\": \"Other\",\\r\\n        \"Arrival_Date\": \"08/06/2022\",\\r\\n        \"Min_Price\": \"2000\",\\r\\n        \"Max_Price\": \"2200\",\\r\\n        \"Modal_Price\": \"2200\"\\r\\n    },\\r\\n    \"Spinach\": {\\r\\n        \"State\": \"Himachal Pradesh\",\\r\\n        \"District\": \"Kangra\",\\r\\n        \"Market\": \"Kangra(Baijnath)\",\\r\\n        \"Commodity\": \"Spinach\",\\r\\n        \"Variety\": \"Other\",\\r\\n        \"Arrival_Date\": \"08/06/2022\",\\r\\n        \"Min_Price\": \"2500\",\\r\\n        \"Max_Price\": \"2500\",\\r\\n        \"Modal_Price\": \"2500\"\\r\\n    },\\r\\n    \"Apricot(Jardalu/Khumani)\": {\\r\\n        \"State\": \"Himachal Pradesh\",\\r\\n        \"District\": \"Kangra\",\\r\\n        \"Market\": \"Kangra(Jaisinghpur)\",\\r\\n        \"Commodity\": \"Apricot(Jardalu/Khumani)\",\\r\\n        \"Variety\": \"Apricot(Jardalu/Khumani)\",\\r\\n        \"Arrival_Date\": \"08/06/2022\",\\r\\n        \"Min_Price\": \"6200\",\\r\\n        \"Max_Price\": \"6500\",\\r\\n        \"Modal_Price\": \"6350\"\\r\\n    },\\r\\n    \"Colacasia\": {\\r\\n        \"State\": \"Himachal Pradesh\",\\r\\n        \"District\": \"Kangra\",\\r\\n        \"Market\": \"Kangra(Jaisinghpur)\",\\r\\n        \"Commodity\": \"Colacasia\",\\r\\n        \"Variety\": \"Colacasia\",\\r\\n        \"Arrival_Date\": \"08/06/2022\",\\r\\n        \"Min_Price\": \"4200\",\\r\\n        \"Max_Price\": \"4500\",\\r\\n        \"Modal_Price\": \"4350\"\\r\\n    },\\r\\n    \"Papaya\": {\\r\\n        \"State\": \"Himachal Pradesh\",\\r\\n        \"District\": \"Kangra\",\\r\\n        \"Market\": \"Kangra(Jaisinghpur)\",\\r\\n        \"Commodity\": \"Papaya\",\\r\\n        \"Variety\": \"Other\",\\r\\n        \"Arrival_Date\": \"08/06/2022\",\\r\\n        \"Min_Price\": \"3800\",\\r\\n        \"Max_Price\": \"4000\",\\r\\n        \"Modal_Price\": \"3900\"\\r\\n    },\\r\\n    \"Tinda\": {\\r\\n        \"State\": \"Himachal Pradesh\",\\r\\n        \"District\": \"Kangra\",\\r\\n        \"Market\": \"Kangra(Jaisinghpur)\",\\r\\n        \"Commodity\": \"Tinda\",\\r\\n        \"Variety\": \"Other\",\\r\\n        \"Arrival_Date\": \"08/06/2022\",\\r\\n        \"Min_Price\": \"2400\",\\r\\n        \"Max_Price\": \"2500\",\\r\\n        \"Modal_Price\": \"2450\"\\r\\n    },\\r\\n    \"Grapes\": {\\r\\n        \"State\": \"Himachal Pradesh\",\\r\\n        \"District\": \"Kangra\",\\r\\n        \"Market\": \"Palampur\",\\r\\n        \"Commodity\": \"Grapes\",\\r\\n        \"Variety\": \"Other\",\\r\\n        \"Arrival_Date\": \"08/06/2022\",\\r\\n        \"Min_Price\": \"9000\",\\r\\n        \"Max_Price\": \"10000\",\\r\\n        \"Modal_Price\": \"9500\"\\r\\n    },\\r\\n    \"Litchi\": {\\r\\n        \"State\": \"Himachal Pradesh\",\\r\\n        \"District\": \"Kangra\",\\r\\n        \"Market\": \"Palampur\",\\r\\n        \"Commodity\": \"Litchi\",\\r\\n        \"Variety\": \"Other\",\\r\\n        \"Arrival_Date\": \"08/06/2022\",\\r\\n        \"Min_Price\": \"7500\",\\r\\n        \"Max_Price\": \"8000\",\\r\\n        \"Modal_Price\": \"7750\"\\r\\n    },\\r\\n    \"Mashrooms\": {\\r\\n        \"State\": \"Himachal Pradesh\",\\r\\n        \"District\": \"Kangra\",\\r\\n        \"Market\": \"Palampur\",\\r\\n        \"Commodity\": \"Mashrooms\",\\r\\n        \"Variety\": \"Other\",\\r\\n        \"Arrival_Date\": \"08/06/2022\",\\r\\n        \"Min_Price\": \"3000\",\\r\\n        \"Max_Price\": \"3500\",\\r\\n        \"Modal_Price\": \"3250\"\\r\\n    },\\r\\n    \"Amaranthus\": {\\r\\n        \"State\": \"Kerala\",\\r\\n        \"District\": \"Alappuzha\",\\r\\n        \"Market\": \"Harippad\",\\r\\n        \"Commodity\": \"Amaranthus\",\\r\\n        \"Variety\": \"Other\",\\r\\n        \"Arrival_Date\": \"08/06/2022\",\\r\\n        \"Min_Price\": \"4000\",\\r\\n        \"Max_Price\": \"4500\",\\r\\n        \"Modal_Price\": \"4000\"\\r\\n    },\\r\\n    \"Amphophalus\": {\\r\\n        \"State\": \"Kerala\",\\r\\n        \"District\": \"Alappuzha\",\\r\\n        \"Market\": \"Harippad\",\\r\\n        \"Commodity\": \"Amphophalus\",\\r\\n        \"Variety\": \"Other\",\\r\\n        \"Arrival_Date\": \"08/06/2022\",\\r\\n        \"Min_Price\": \"3000\",\\r\\n        \"Max_Price\": \"3500\",\\r\\n        \"Modal_Price\": \"3000\"\\r\\n    },\\r\\n    \"Ashgourd\": {\\r\\n        \"State\": \"Kerala\",\\r\\n        \"District\": \"Alappuzha\",\\r\\n        \"Market\": \"Harippad\",\\r\\n        \"Commodity\": \"Ashgourd\",\\r\\n        \"Variety\": \"Other\",\\r\\n        \"Arrival_Date\": \"08/06/2022\",\\r\\n        \"Min_Price\": \"2000\",\\r\\n        \"Max_Price\": \"2500\",\\r\\n        \"Modal_Price\": \"2000\"\\r\\n    },\\r\\n    \"Snake gourd\": {\\r\\n        \"State\": \"Kerala\",\\r\\n        \"District\": \"Alappuzha\",\\r\\n        \"Market\": \"Harippad\",\\r\\n        \"Commodity\": \"Snake gourd\",\\r\\n        \"Variety\": \"Other\",\\r\\n        \"Arrival_Date\": \"08/06/2022\",\\r\\n        \"Min_Price\": \"3000\",\\r\\n        \"Max_Price\": \"3500\",\\r\\n        \"Modal_Price\": \"3000\"\\r\\n    },\\r\\n    \"Tapioca\": {\\r\\n        \"State\": \"Kerala\",\\r\\n        \"District\": \"Alappuzha\",\\r\\n        \"Market\": \"Harippad\",\\r\\n        \"Commodity\": \"Tapioca\",\\r\\n        \"Variety\": \"Other\",\\r\\n        \"Arrival_Date\": \"08/06/2022\",\\r\\n        \"Min_Price\": \"4000\",\\r\\n        \"Max_Price\": \"4500\",\\r\\n        \"Modal_Price\": \"4000\"\\r\\n    },\\r\\n    \"Coconut\": {\\r\\n        \"State\": \"Kerala\",\\r\\n        \"District\": \"Kottayam\",\\r\\n        \"Market\": \"Athirampuzha\",\\r\\n        \"Commodity\": \"Coconut\",\\r\\n        \"Variety\": \"Other\",\\r\\n        \"Arrival_Date\": \"08/06/2022\",\\r\\n        \"Min_Price\": \"2700\",\\r\\n        \"Max_Price\": \"2900\",\\r\\n        \"Modal_Price\": \"2800\"\\r\\n    },\\r\\n    \"Garlic\": {\\r\\n        \"State\": \"Kerala\",\\r\\n        \"District\": \"Kottayam\",\\r\\n        \"Market\": \"Athirampuzha\",\\r\\n        \"Commodity\": \"Garlic\",\\r\\n        \"Variety\": \"Garlic\",\\r\\n        \"Arrival_Date\": \"08/06/2022\",\\r\\n        \"Min_Price\": \"4800\",\\r\\n        \"Max_Price\": \"5000\",\\r\\n        \"Modal_Price\": \"4900\"\\r\\n    },\\r\\n    \"Hen\": {\\r\\n        \"State\": \"Kerala\",\\r\\n        \"District\": \"Kottayam\",\\r\\n        \"Market\": \"Pampady\",\\r\\n        \"Commodity\": \"Hen\",\\r\\n        \"Variety\": \"Boiler/Firm(White)\",\\r\\n        \"Arrival_Date\": \"08/06/2022\",\\r\\n        \"Min_Price\": \"14500\",\\r\\n        \"Max_Price\": \"14900\",\\r\\n        \"Modal_Price\": \"14700\"\\r\\n    },\\r\\n    \"Rubber\": {\\r\\n        \"State\": \"Kerala\",\\r\\n        \"District\": \"Kottayam\",\\r\\n        \"Market\": \"Pampady\",\\r\\n        \"Commodity\": \"Rubber\",\\r\\n        \"Variety\": \"Other\",\\r\\n        \"Arrival_Date\": \"08/06/2022\",\\r\\n        \"Min_Price\": \"16200\",\\r\\n        \"Max_Price\": \"16600\",\\r\\n        \"Modal_Price\": \"16400\"\\r\\n    },\\r\\n    \"Beans\": {\\r\\n        \"State\": \"Odisha\",\\r\\n        \"District\": \"Dhenkanal\",\\r\\n        \"Market\": \"Hindol\",\\r\\n        \"Commodity\": \"Beans\",\\r\\n        \"Variety\": \"Other\",\\r\\n        \"Arrival_Date\": \"08/06/2022\",\\r\\n        \"Min_Price\": \"4400\",\\r\\n        \"Max_Price\": \"4600\",\\r\\n        \"Modal_Price\": \"4500\"\\r\\n    },\\r\\n    \"Jack Fruit\": {\\r\\n        \"State\": \"Odisha\",\\r\\n        \"District\": \"Mayurbhanja\",\\r\\n        \"Market\": \"Betnoti\",\\r\\n        \"Commodity\": \"Jack Fruit\",\\r\\n        \"Variety\": \"Jack Fruit\",\\r\\n        \"Arrival_Date\": \"08/06/2022\",\\r\\n        \"Min_Price\": \"1500\",\\r\\n        \"Max_Price\": \"2500\",\\r\\n        \"Modal_Price\": \"2000\"\\r\\n    },\\r\\n    \"Field Pea\": {\\r\\n        \"State\": \"Punjab\",\\r\\n        \"District\": \"Hoshiarpur\",\\r\\n        \"Market\": \"Garh Shankar\",\\r\\n        \"Commodity\": \"Field Pea\",\\r\\n        \"Variety\": \"Field Pea\",\\r\\n        \"Arrival_Date\": \"08/06/2022\",\\r\\n        \"Min_Price\": \"3800\",\\r\\n        \"Max_Price\": \"4500\",\\r\\n        \"Modal_Price\": \"4000\"\\r\\n    },\\r\\n    \"Ginger(Dry)\": {\\r\\n        \"State\": \"Punjab\",\\r\\n        \"District\": \"Hoshiarpur\",\\r\\n        \"Market\": \"Mukerian(Talwara)\",\\r\\n        \"Commodity\": \"Ginger(Dry)\",\\r\\n        \"Variety\": \"Vegitable-fresh\",\\r\\n        \"Arrival_Date\": \"08/06/2022\",\\r\\n        \"Min_Price\": \"2000\",\\r\\n        \"Max_Price\": \"3500\",\\r\\n        \"Modal_Price\": \"2500\"\\r\\n    },\\r\\n    \"Round gourd\": {\\r\\n        \"State\": \"Punjab\",\\r\\n        \"District\": \"Ludhiana\",\\r\\n        \"Market\": \"Sahnewal\",\\r\\n        \"Commodity\": \"Round gourd\",\\r\\n        \"Variety\": \"Round gourd\",\\r\\n        \"Arrival_Date\": \"08/06/2022\",\\r\\n        \"Min_Price\": \"800\",\\r\\n        \"Max_Price\": \"800\",\\r\\n        \"Modal_Price\": \"800\"\\r\\n    },\\r\\n    \"Kodo Millet(Varagu)\": {\\r\\n        \"State\": \"Tamil Nadu\",\\r\\n        \"District\": \"Ariyalur\",\\r\\n        \"Market\": \"Ariyalur Market\",\\r\\n        \"Commodity\": \"Kodo Millet(Varagu)\",\\r\\n        \"Variety\": \"Other\",\\r\\n        \"Arrival_Date\": \"08/06/2022\",\\r\\n        \"Min_Price\": \"1550\",\\r\\n        \"Max_Price\": \"1700\",\\r\\n        \"Modal_Price\": \"1650\"\\r\\n    },\\r\\n    \"Paddy(Dhan)(Common)\": {\\r\\n        \"State\": \"Telangana\",\\r\\n        \"District\": \"Jagityal\",\\r\\n        \"Market\": \"Mallapur\",\\r\\n        \"Commodity\": \"Paddy(Dhan)(Common)\",\\r\\n        \"Variety\": \"MTU-1010\",\\r\\n        \"Arrival_Date\": \"08/06/2022\",\\r\\n        \"Min_Price\": \"1960\",\\r\\n        \"Max_Price\": \"1960\",\\r\\n        \"Modal_Price\": \"1960\"\\r\\n    },\\r\\n    \"Gur(Jaggery)\": {\\r\\n        \"State\": \"Uttar Pradesh\",\\r\\n        \"District\": \"Baghpat\",\\r\\n        \"Market\": \"Baraut\",\\r\\n        \"Commodity\": \"Gur(Jaggery)\",\\r\\n        \"Variety\": \"Other\",\\r\\n        \"Arrival_Date\": \"08/06/2022\",\\r\\n        \"Min_Price\": \"3000\",\\r\\n        \"Max_Price\": \"3150\",\\r\\n        \"Modal_Price\": \"3100\"\\r\\n    },\\r\\n    \"Barley (Jau)\": {\\r\\n        \"State\": \"Uttar Pradesh\",\\r\\n        \"District\": \"Chitrakut\",\\r\\n        \"Market\": \"Karvi\",\\r\\n        \"Commodity\": \"Barley (Jau)\",\\r\\n        \"Variety\": \"Dara\",\\r\\n        \"Arrival_Date\": \"08/06/2022\",\\r\\n        \"Min_Price\": \"2280\",\\r\\n        \"Max_Price\": \"2480\",\\r\\n        \"Modal_Price\": \"2380\"\\r\\n    },\\r\\n    \"Bengal Gram(Gram)(Whole)\": {\\r\\n        \"State\": \"Uttar Pradesh\",\\r\\n        \"District\": \"Chitrakut\",\\r\\n        \"Market\": \"Karvi\",\\r\\n        \"Commodity\": \"Bengal Gram(Gram)(Whole)\",\\r\\n        \"Variety\": \"Desi (Whole)\",\\r\\n        \"Arrival_Date\": \"08/06/2022\",\\r\\n        \"Min_Price\": \"4200\",\\r\\n        \"Max_Price\": \"4400\",\\r\\n        \"Modal_Price\": \"4300\"\\r\\n    },\\r\\n    \"Lentil (Masur)(Whole)\": {\\r\\n        \"State\": \"Uttar Pradesh\",\\r\\n        \"District\": \"Chitrakut\",\\r\\n        \"Market\": \"Karvi\",\\r\\n        \"Commodity\": \"Lentil (Masur)(Whole)\",\\r\\n        \"Variety\": \"Masoor Gola\",\\r\\n        \"Arrival_Date\": \"08/06/2022\",\\r\\n        \"Min_Price\": \"6060\",\\r\\n        \"Max_Price\": \"6260\",\\r\\n        \"Modal_Price\": \"6160\"\\r\\n    },\\r\\n    \"Linseed\": {\\r\\n        \"State\": \"Uttar Pradesh\",\\r\\n        \"District\": \"Chitrakut\",\\r\\n        \"Market\": \"Karvi\",\\r\\n        \"Commodity\": \"Linseed\",\\r\\n        \"Variety\": \"Linseed\",\\r\\n        \"Arrival_Date\": \"08/06/2022\",\\r\\n        \"Min_Price\": \"6230\",\\r\\n        \"Max_Price\": \"6430\",\\r\\n        \"Modal_Price\": \"6330\"\\r\\n    },\\r\\n    \"Mustard\": {\\r\\n        \"State\": \"Uttar Pradesh\",\\r\\n        \"District\": \"Chitrakut\",\\r\\n        \"Market\": \"Karvi\",\\r\\n        \"Commodity\": \"Mustard\",\\r\\n        \"Variety\": \"Lohi Black\",\\r\\n        \"Arrival_Date\": \"08/06/2022\",\\r\\n        \"Min_Price\": \"6100\",\\r\\n        \"Max_Price\": \"6300\",\\r\\n        \"Modal_Price\": \"6200\"\\r\\n    },\\r\\n    \"Firewood\": {\\r\\n        \"State\": \"Uttar Pradesh\",\\r\\n        \"District\": \"Sitapur\",\\r\\n        \"Market\": \"Hargaon (Laharpur)\",\\r\\n        \"Commodity\": \"Firewood\",\\r\\n        \"Variety\": \"Other\",\\r\\n        \"Arrival_Date\": \"08/06/2022\",\\r\\n        \"Min_Price\": \"180\",\\r\\n        \"Max_Price\": \"200\",\\r\\n        \"Modal_Price\": \"190\"\\r\\n    }\\r\\n}'}\n"
          ]
        }
      ],
      "source": [
        "print(uploaded)"
      ]
    },
    {
      "cell_type": "code",
      "execution_count": 22,
      "metadata": {
        "colab": {
          "base_uri": "https://localhost:8080/"
        },
        "id": "JIlmoE03eR6i",
        "outputId": "cbe6651e-5e4a-4d9f-afb8-b9d3bb23d0b4"
      },
      "outputs": [
        {
          "output_type": "stream",
          "name": "stdout",
          "text": [
            "6100\n"
          ]
        }
      ],
      "source": [
        "crop_data =  json.loads(uploaded['crop_data_eng.json'])\n",
        "print(crop_data[\"Mustard\"][\"Min_Price\"])"
      ]
    },
    {
      "cell_type": "markdown",
      "metadata": {
        "id": "KrDV4PZegIVG"
      },
      "source": [
        "### *Loading up our saved files*"
      ]
    },
    {
      "cell_type": "code",
      "execution_count": 25,
      "metadata": {
        "id": "Kl3_5tiegMCp"
      },
      "outputs": [],
      "source": [
        "words = pickle.load(open('words.pkl', 'rb'))\n",
        "classes = pickle.load(open('classes.pkl', 'rb'))\n",
        "docs = pickle.load(open('docs.pkl', 'rb'))\n",
        "\n",
        "model = load_model(\"ai_chatbot.h5\")"
      ]
    },
    {
      "cell_type": "markdown",
      "metadata": {
        "id": "H9t9G_Ni7Nyq"
      },
      "source": [
        "### *Creating Crop Data Data Structure by Querying dataset*"
      ]
    },
    {
      "cell_type": "code",
      "source": [
        "crop_names = list(crop_data.keys())"
      ],
      "metadata": {
        "id": "GNcLV8P1TJy_"
      },
      "execution_count": 26,
      "outputs": []
    },
    {
      "cell_type": "markdown",
      "metadata": {
        "id": "zaAZ3JOlhgsw"
      },
      "source": [
        "### *Creating Helper Functions*\n",
        "\n"
      ]
    },
    {
      "cell_type": "code",
      "execution_count": 37,
      "metadata": {
        "id": "5S7DM3XQhki2"
      },
      "outputs": [],
      "source": [
        "def clean_sentence(sentence):\n",
        "  sentence_words = nltk.word_tokenize(sentence)\n",
        "  sentence_words = [lemmatizer.lemmatize(word) for word in sentence_words]\n",
        "  return sentence_words\n",
        "\n",
        "def bag_of_words(sentence):\n",
        "  sentence_words = clean_sentence(sentence)\n",
        "  bag = [0] * len(words)\n",
        "\n",
        "  for w in sentence_words:\n",
        "    for i, word in enumerate(words):\n",
        "      if word == w:\n",
        "        bag[i] = 1\n",
        "  \n",
        "  return np.array(bag)\n",
        "\n",
        "def predict_class(sentence):\n",
        "  ERROR_THRESHOLD = 0.25\n",
        "\n",
        "  bow = bag_of_words(sentence)\n",
        "  res = model.predict(np.array([bow]))[0]\n",
        "\n",
        "  results = [[i, r] for i, r in enumerate(res) if r > ERROR_THRESHOLD]\n",
        "\n",
        "  results.sort(key=lambda x: x[1], reverse=True)\n",
        "\n",
        "  return_list = []\n",
        "  for r in results:\n",
        "    return_list.append({ 'intent': classes[r[0]], 'probability': str(r[1]) })\n",
        "\n",
        "  return return_list\n",
        "\n",
        "def get_response(intents_list, intents_json):\n",
        "  tag = intents_list[0]['intent']\n",
        "  list_of_intents = intents_json['intents']\n",
        "  for i in list_of_intents:\n",
        "    if i['tag'] == tag:\n",
        "      result = random.choice(i['responses'])\n",
        "      break\n",
        "  return result\n",
        "\n",
        "def get_crop_data(msg):\n",
        "  bow = list(msg.split())\n",
        "  # bow = [string.lower() for string in bow]\n",
        "  bow = [string for string in bow]\n",
        "  print(\"message words : \", bow)\n",
        "  print(\"crops : \", crop_names)\n",
        "\n",
        "  # common_crops = []\n",
        "  # for sub in bow:\n",
        "  #   common_crops += list(s for s in crop_names if sub.lower() in s.lower())\n",
        "\n",
        "  common_crops = list(set(bow) & set(crop_names))\n",
        "  print(\"common crops : \", common_crops)\n",
        "\n",
        "  if not common_crops:\n",
        "    return \"No Crop Data Found, Please Try again\"\n",
        "  else:\n",
        "    crop = crop_data[common_crops[0]]\n",
        "\n",
        "    crop_res = \"Here is the relevent information on the {} crop: \\n\".format(common_crops[0])\n",
        "    crop_res += \"Commodity : {}\\n\".format(crop[\"Commodity\"])\n",
        "    crop_res += \"Variety : {}\\n\".format(crop[\"Variety\"])\n",
        "    crop_res += \"Area : {}, {}, {}\\n\".format(crop[\"Market\"], crop[\"District\"], crop[\"State\"])\n",
        "    crop_res += \"Maximum Price : {}\\n\".format(crop[\"Max_Price\"])\n",
        "    crop_res += \"Average Price : {}\\n\".format(crop[\"Modal_Price\"])\n",
        "    crop_res += \"Minimum Price : {}\\n\".format(crop[\"Min_Price\"])\n",
        "    return crop_res\n"
      ]
    },
    {
      "cell_type": "markdown",
      "metadata": {
        "id": "A7lzzpChriSB"
      },
      "source": [
        "## Running BOT"
      ]
    },
    {
      "cell_type": "code",
      "execution_count": 38,
      "metadata": {
        "id": "WnYIf2NkrkSG",
        "colab": {
          "base_uri": "https://localhost:8080/",
          "height": 1000
        },
        "outputId": "c2919b4a-c0cb-4fe2-dca8-9ffaa247b813"
      },
      "outputs": [
        {
          "output_type": "stream",
          "name": "stdout",
          "text": [
            "Input Message : What is the price of Mustard\n",
            "[{'intent': 'crop', 'probability': '0.91031617'}]\n",
            "message words :  ['What', 'is', 'the', 'price', 'of', 'Mustard']\n",
            "crops :  ['Bhindi(Ladies Finger)', 'Green Chilli', 'Onion', 'Potato', 'Sponge gourd', 'Tomato', 'Bitter gourd', 'Pineapple', 'Pomegranate', 'Bottle gourd', 'Cauliflower', 'Cucumbar(Kheera)', 'Ginger(Green)', 'Lemon', 'Mango', 'Mousambi(Sweet Lime)', 'Peas Wet', 'Pumpkin', 'Mahua', 'Brinjal', 'Cabbage', 'Coriander(Leaves)', 'Guar', 'Arhar (Tur/Red Gram)(Whole)', 'Bajra(Pearl Millet/Cumbu)', 'Castor Seed', 'Cotton', 'Jowar(Sorghum)', 'Maize', 'Rice', 'Wheat', 'Banana - Green', 'Beetroot', 'Capsicum', 'Carrot', 'Cluster beans', 'Cowpea(Veg)', 'Drumstick', 'Elephant Yam (Suran)', 'French Beans (Frasbean)', 'Groundnut pods (raw)', 'Indian Beans (Seam)', 'Little gourd (Kundru)', 'Mango (Raw-Ripe)', 'Papaya (Raw)', 'Peas cod', 'Pegeon Pea (Arhar Fali)', 'Pointed gourd (Parval)', 'Ridge gourd(Tori)', 'Surat Beans (Papadi)', 'Sweet Potato', 'Turmeric (raw)', 'Yam (Ratalu)', 'Banana', 'Water Melon', 'Apple', 'Karbuja(Musk Melon)', 'Raddish', 'Spinach', 'Apricot(Jardalu/Khumani)', 'Colacasia', 'Papaya', 'Tinda', 'Grapes', 'Litchi', 'Mashrooms', 'Amaranthus', 'Amphophalus', 'Ashgourd', 'Snake gourd', 'Tapioca', 'Coconut', 'Garlic', 'Hen', 'Rubber', 'Beans', 'Jack Fruit', 'Field Pea', 'Ginger(Dry)', 'Round gourd', 'Kodo Millet(Varagu)', 'Paddy(Dhan)(Common)', 'Gur(Jaggery)', 'Barley (Jau)', 'Bengal Gram(Gram)(Whole)', 'Lentil (Masur)(Whole)', 'Linseed', 'Mustard', 'Firewood']\n",
            "common crops :  ['Raddish', 'Mustard']\n",
            "Output Message :  Here is the relevent information on the Raddish crop: \n",
            "Commodity : Raddish\n",
            "Variety : Other\n",
            "Area : Kangra(Baijnath), Kangra, Himachal Pradesh\n",
            "Maximum Price : 2200\n",
            "Average Price : 2200\n",
            "Minimum Price : 2000\n",
            " \n",
            "\n",
            "Input Message : What is the price of Bhindi\n",
            "[{'intent': 'crop', 'probability': '0.91031617'}]\n",
            "message words :  ['What', 'is', 'the', 'price', 'of', 'Bhindi']\n",
            "crops :  ['Bhindi(Ladies Finger)', 'Green Chilli', 'Onion', 'Potato', 'Sponge gourd', 'Tomato', 'Bitter gourd', 'Pineapple', 'Pomegranate', 'Bottle gourd', 'Cauliflower', 'Cucumbar(Kheera)', 'Ginger(Green)', 'Lemon', 'Mango', 'Mousambi(Sweet Lime)', 'Peas Wet', 'Pumpkin', 'Mahua', 'Brinjal', 'Cabbage', 'Coriander(Leaves)', 'Guar', 'Arhar (Tur/Red Gram)(Whole)', 'Bajra(Pearl Millet/Cumbu)', 'Castor Seed', 'Cotton', 'Jowar(Sorghum)', 'Maize', 'Rice', 'Wheat', 'Banana - Green', 'Beetroot', 'Capsicum', 'Carrot', 'Cluster beans', 'Cowpea(Veg)', 'Drumstick', 'Elephant Yam (Suran)', 'French Beans (Frasbean)', 'Groundnut pods (raw)', 'Indian Beans (Seam)', 'Little gourd (Kundru)', 'Mango (Raw-Ripe)', 'Papaya (Raw)', 'Peas cod', 'Pegeon Pea (Arhar Fali)', 'Pointed gourd (Parval)', 'Ridge gourd(Tori)', 'Surat Beans (Papadi)', 'Sweet Potato', 'Turmeric (raw)', 'Yam (Ratalu)', 'Banana', 'Water Melon', 'Apple', 'Karbuja(Musk Melon)', 'Raddish', 'Spinach', 'Apricot(Jardalu/Khumani)', 'Colacasia', 'Papaya', 'Tinda', 'Grapes', 'Litchi', 'Mashrooms', 'Amaranthus', 'Amphophalus', 'Ashgourd', 'Snake gourd', 'Tapioca', 'Coconut', 'Garlic', 'Hen', 'Rubber', 'Beans', 'Jack Fruit', 'Field Pea', 'Ginger(Dry)', 'Round gourd', 'Kodo Millet(Varagu)', 'Paddy(Dhan)(Common)', 'Gur(Jaggery)', 'Barley (Jau)', 'Bengal Gram(Gram)(Whole)', 'Lentil (Masur)(Whole)', 'Linseed', 'Mustard', 'Firewood']\n",
            "common crops :  ['Raddish', 'Bhindi(Ladies Finger)']\n",
            "Output Message :  Here is the relevent information on the Raddish crop: \n",
            "Commodity : Raddish\n",
            "Variety : Other\n",
            "Area : Kangra(Baijnath), Kangra, Himachal Pradesh\n",
            "Maximum Price : 2200\n",
            "Average Price : 2200\n",
            "Minimum Price : 2000\n",
            " \n",
            "\n",
            "Input Message : What is the price of bhindi\n",
            "[{'intent': 'crop', 'probability': '0.91031617'}]\n",
            "message words :  ['What', 'is', 'the', 'price', 'of', 'bhindi']\n",
            "crops :  ['Bhindi(Ladies Finger)', 'Green Chilli', 'Onion', 'Potato', 'Sponge gourd', 'Tomato', 'Bitter gourd', 'Pineapple', 'Pomegranate', 'Bottle gourd', 'Cauliflower', 'Cucumbar(Kheera)', 'Ginger(Green)', 'Lemon', 'Mango', 'Mousambi(Sweet Lime)', 'Peas Wet', 'Pumpkin', 'Mahua', 'Brinjal', 'Cabbage', 'Coriander(Leaves)', 'Guar', 'Arhar (Tur/Red Gram)(Whole)', 'Bajra(Pearl Millet/Cumbu)', 'Castor Seed', 'Cotton', 'Jowar(Sorghum)', 'Maize', 'Rice', 'Wheat', 'Banana - Green', 'Beetroot', 'Capsicum', 'Carrot', 'Cluster beans', 'Cowpea(Veg)', 'Drumstick', 'Elephant Yam (Suran)', 'French Beans (Frasbean)', 'Groundnut pods (raw)', 'Indian Beans (Seam)', 'Little gourd (Kundru)', 'Mango (Raw-Ripe)', 'Papaya (Raw)', 'Peas cod', 'Pegeon Pea (Arhar Fali)', 'Pointed gourd (Parval)', 'Ridge gourd(Tori)', 'Surat Beans (Papadi)', 'Sweet Potato', 'Turmeric (raw)', 'Yam (Ratalu)', 'Banana', 'Water Melon', 'Apple', 'Karbuja(Musk Melon)', 'Raddish', 'Spinach', 'Apricot(Jardalu/Khumani)', 'Colacasia', 'Papaya', 'Tinda', 'Grapes', 'Litchi', 'Mashrooms', 'Amaranthus', 'Amphophalus', 'Ashgourd', 'Snake gourd', 'Tapioca', 'Coconut', 'Garlic', 'Hen', 'Rubber', 'Beans', 'Jack Fruit', 'Field Pea', 'Ginger(Dry)', 'Round gourd', 'Kodo Millet(Varagu)', 'Paddy(Dhan)(Common)', 'Gur(Jaggery)', 'Barley (Jau)', 'Bengal Gram(Gram)(Whole)', 'Lentil (Masur)(Whole)', 'Linseed', 'Mustard', 'Firewood']\n",
            "common crops :  ['Raddish', 'Bhindi(Ladies Finger)']\n",
            "Output Message :  Here is the relevent information on the Raddish crop: \n",
            "Commodity : Raddish\n",
            "Variety : Other\n",
            "Area : Kangra(Baijnath), Kangra, Himachal Pradesh\n",
            "Maximum Price : 2200\n",
            "Average Price : 2200\n",
            "Minimum Price : 2000\n",
            " \n",
            "\n",
            "Input Message : goodbye\n",
            "[{'intent': 'goodbye', 'probability': '0.78752303'}]\n",
            "Output Message :  Nice to have met you \n",
            "\n"
          ]
        },
        {
          "output_type": "error",
          "ename": "KeyboardInterrupt",
          "evalue": "ignored",
          "traceback": [
            "\u001b[0;31m---------------------------------------------------------------------------\u001b[0m",
            "\u001b[0;31mKeyboardInterrupt\u001b[0m                         Traceback (most recent call last)",
            "\u001b[0;32m/usr/local/lib/python3.7/dist-packages/ipykernel/kernelbase.py\u001b[0m in \u001b[0;36m_input_request\u001b[0;34m(self, prompt, ident, parent, password)\u001b[0m\n\u001b[1;32m    728\u001b[0m             \u001b[0;32mtry\u001b[0m\u001b[0;34m:\u001b[0m\u001b[0;34m\u001b[0m\u001b[0;34m\u001b[0m\u001b[0m\n\u001b[0;32m--> 729\u001b[0;31m                 \u001b[0mident\u001b[0m\u001b[0;34m,\u001b[0m \u001b[0mreply\u001b[0m \u001b[0;34m=\u001b[0m \u001b[0mself\u001b[0m\u001b[0;34m.\u001b[0m\u001b[0msession\u001b[0m\u001b[0;34m.\u001b[0m\u001b[0mrecv\u001b[0m\u001b[0;34m(\u001b[0m\u001b[0mself\u001b[0m\u001b[0;34m.\u001b[0m\u001b[0mstdin_socket\u001b[0m\u001b[0;34m,\u001b[0m \u001b[0;36m0\u001b[0m\u001b[0;34m)\u001b[0m\u001b[0;34m\u001b[0m\u001b[0;34m\u001b[0m\u001b[0m\n\u001b[0m\u001b[1;32m    730\u001b[0m             \u001b[0;32mexcept\u001b[0m \u001b[0mException\u001b[0m\u001b[0;34m:\u001b[0m\u001b[0;34m\u001b[0m\u001b[0;34m\u001b[0m\u001b[0m\n",
            "\u001b[0;32m/usr/local/lib/python3.7/dist-packages/jupyter_client/session.py\u001b[0m in \u001b[0;36mrecv\u001b[0;34m(self, socket, mode, content, copy)\u001b[0m\n\u001b[1;32m    802\u001b[0m         \u001b[0;32mtry\u001b[0m\u001b[0;34m:\u001b[0m\u001b[0;34m\u001b[0m\u001b[0;34m\u001b[0m\u001b[0m\n\u001b[0;32m--> 803\u001b[0;31m             \u001b[0mmsg_list\u001b[0m \u001b[0;34m=\u001b[0m \u001b[0msocket\u001b[0m\u001b[0;34m.\u001b[0m\u001b[0mrecv_multipart\u001b[0m\u001b[0;34m(\u001b[0m\u001b[0mmode\u001b[0m\u001b[0;34m,\u001b[0m \u001b[0mcopy\u001b[0m\u001b[0;34m=\u001b[0m\u001b[0mcopy\u001b[0m\u001b[0;34m)\u001b[0m\u001b[0;34m\u001b[0m\u001b[0;34m\u001b[0m\u001b[0m\n\u001b[0m\u001b[1;32m    804\u001b[0m         \u001b[0;32mexcept\u001b[0m \u001b[0mzmq\u001b[0m\u001b[0;34m.\u001b[0m\u001b[0mZMQError\u001b[0m \u001b[0;32mas\u001b[0m \u001b[0me\u001b[0m\u001b[0;34m:\u001b[0m\u001b[0;34m\u001b[0m\u001b[0;34m\u001b[0m\u001b[0m\n",
            "\u001b[0;32m/usr/local/lib/python3.7/dist-packages/zmq/sugar/socket.py\u001b[0m in \u001b[0;36mrecv_multipart\u001b[0;34m(self, flags, copy, track)\u001b[0m\n\u001b[1;32m    723\u001b[0m         \"\"\"\n\u001b[0;32m--> 724\u001b[0;31m         \u001b[0mparts\u001b[0m \u001b[0;34m=\u001b[0m \u001b[0;34m[\u001b[0m\u001b[0mself\u001b[0m\u001b[0;34m.\u001b[0m\u001b[0mrecv\u001b[0m\u001b[0;34m(\u001b[0m\u001b[0mflags\u001b[0m\u001b[0;34m,\u001b[0m \u001b[0mcopy\u001b[0m\u001b[0;34m=\u001b[0m\u001b[0mcopy\u001b[0m\u001b[0;34m,\u001b[0m \u001b[0mtrack\u001b[0m\u001b[0;34m=\u001b[0m\u001b[0mtrack\u001b[0m\u001b[0;34m)\u001b[0m\u001b[0;34m]\u001b[0m\u001b[0;34m\u001b[0m\u001b[0;34m\u001b[0m\u001b[0m\n\u001b[0m\u001b[1;32m    725\u001b[0m         \u001b[0;31m# have first part already, only loop while more to receive\u001b[0m\u001b[0;34m\u001b[0m\u001b[0;34m\u001b[0m\u001b[0;34m\u001b[0m\u001b[0m\n",
            "\u001b[0;32mzmq/backend/cython/socket.pyx\u001b[0m in \u001b[0;36mzmq.backend.cython.socket.Socket.recv\u001b[0;34m()\u001b[0m\n",
            "\u001b[0;32mzmq/backend/cython/socket.pyx\u001b[0m in \u001b[0;36mzmq.backend.cython.socket.Socket.recv\u001b[0;34m()\u001b[0m\n",
            "\u001b[0;32mzmq/backend/cython/socket.pyx\u001b[0m in \u001b[0;36mzmq.backend.cython.socket._recv_copy\u001b[0;34m()\u001b[0m\n",
            "\u001b[0;32m/usr/local/lib/python3.7/dist-packages/zmq/backend/cython/checkrc.pxd\u001b[0m in \u001b[0;36mzmq.backend.cython.checkrc._check_rc\u001b[0;34m()\u001b[0m\n",
            "\u001b[0;31mKeyboardInterrupt\u001b[0m: ",
            "\nDuring handling of the above exception, another exception occurred:\n",
            "\u001b[0;31mKeyboardInterrupt\u001b[0m                         Traceback (most recent call last)",
            "\u001b[0;32m<ipython-input-38-7ca3495aca8c>\u001b[0m in \u001b[0;36m<module>\u001b[0;34m()\u001b[0m\n\u001b[1;32m      1\u001b[0m \u001b[0;32mwhile\u001b[0m \u001b[0;32mTrue\u001b[0m\u001b[0;34m:\u001b[0m\u001b[0;34m\u001b[0m\u001b[0;34m\u001b[0m\u001b[0m\n\u001b[0;32m----> 2\u001b[0;31m   \u001b[0mmessage\u001b[0m \u001b[0;34m=\u001b[0m \u001b[0minput\u001b[0m\u001b[0;34m(\u001b[0m\u001b[0;34m'Input Message : '\u001b[0m\u001b[0;34m)\u001b[0m\u001b[0;34m\u001b[0m\u001b[0;34m\u001b[0m\u001b[0m\n\u001b[0m\u001b[1;32m      3\u001b[0m   \u001b[0mints\u001b[0m \u001b[0;34m=\u001b[0m \u001b[0mpredict_class\u001b[0m\u001b[0;34m(\u001b[0m\u001b[0mmessage\u001b[0m\u001b[0;34m)\u001b[0m\u001b[0;34m\u001b[0m\u001b[0;34m\u001b[0m\u001b[0m\n\u001b[1;32m      4\u001b[0m   \u001b[0mprint\u001b[0m\u001b[0;34m(\u001b[0m\u001b[0mints\u001b[0m\u001b[0;34m)\u001b[0m\u001b[0;34m\u001b[0m\u001b[0;34m\u001b[0m\u001b[0m\n\u001b[1;32m      5\u001b[0m \u001b[0;34m\u001b[0m\u001b[0m\n",
            "\u001b[0;32m/usr/local/lib/python3.7/dist-packages/ipykernel/kernelbase.py\u001b[0m in \u001b[0;36mraw_input\u001b[0;34m(self, prompt)\u001b[0m\n\u001b[1;32m    702\u001b[0m             \u001b[0mself\u001b[0m\u001b[0;34m.\u001b[0m\u001b[0m_parent_ident\u001b[0m\u001b[0;34m,\u001b[0m\u001b[0;34m\u001b[0m\u001b[0;34m\u001b[0m\u001b[0m\n\u001b[1;32m    703\u001b[0m             \u001b[0mself\u001b[0m\u001b[0;34m.\u001b[0m\u001b[0m_parent_header\u001b[0m\u001b[0;34m,\u001b[0m\u001b[0;34m\u001b[0m\u001b[0;34m\u001b[0m\u001b[0m\n\u001b[0;32m--> 704\u001b[0;31m             \u001b[0mpassword\u001b[0m\u001b[0;34m=\u001b[0m\u001b[0;32mFalse\u001b[0m\u001b[0;34m,\u001b[0m\u001b[0;34m\u001b[0m\u001b[0;34m\u001b[0m\u001b[0m\n\u001b[0m\u001b[1;32m    705\u001b[0m         )\n\u001b[1;32m    706\u001b[0m \u001b[0;34m\u001b[0m\u001b[0m\n",
            "\u001b[0;32m/usr/local/lib/python3.7/dist-packages/ipykernel/kernelbase.py\u001b[0m in \u001b[0;36m_input_request\u001b[0;34m(self, prompt, ident, parent, password)\u001b[0m\n\u001b[1;32m    732\u001b[0m             \u001b[0;32mexcept\u001b[0m \u001b[0mKeyboardInterrupt\u001b[0m\u001b[0;34m:\u001b[0m\u001b[0;34m\u001b[0m\u001b[0;34m\u001b[0m\u001b[0m\n\u001b[1;32m    733\u001b[0m                 \u001b[0;31m# re-raise KeyboardInterrupt, to truncate traceback\u001b[0m\u001b[0;34m\u001b[0m\u001b[0;34m\u001b[0m\u001b[0;34m\u001b[0m\u001b[0m\n\u001b[0;32m--> 734\u001b[0;31m                 \u001b[0;32mraise\u001b[0m \u001b[0mKeyboardInterrupt\u001b[0m\u001b[0;34m\u001b[0m\u001b[0;34m\u001b[0m\u001b[0m\n\u001b[0m\u001b[1;32m    735\u001b[0m             \u001b[0;32melse\u001b[0m\u001b[0;34m:\u001b[0m\u001b[0;34m\u001b[0m\u001b[0;34m\u001b[0m\u001b[0m\n\u001b[1;32m    736\u001b[0m                 \u001b[0;32mbreak\u001b[0m\u001b[0;34m\u001b[0m\u001b[0;34m\u001b[0m\u001b[0m\n",
            "\u001b[0;31mKeyboardInterrupt\u001b[0m: "
          ]
        }
      ],
      "source": [
        "while True:\n",
        "  message = input('Input Message : ')\n",
        "  ints = predict_class(message)\n",
        "  print(ints)\n",
        "\n",
        "  if ints[0]['intent'] == 'crop':\n",
        "    \n",
        "    res = get_crop_data(message)\n",
        "  else:\n",
        "    res = get_response(ints, intents)\n",
        "\n",
        "  print(\"Output Message : \", res, \"\\n\")"
      ]
    }
  ],
  "metadata": {
    "colab": {
      "collapsed_sections": [],
      "name": "ai_chatbot.ipynb",
      "provenance": []
    },
    "interpreter": {
      "hash": "f7b54faf5a5435677ab8295a95df66fdf7851ad2c8bf06d055bbbcd678fd2480"
    },
    "kernelspec": {
      "display_name": "Python 3.9.7 64-bit",
      "language": "python",
      "name": "python3"
    },
    "language_info": {
      "codemirror_mode": {
        "name": "ipython",
        "version": 3
      },
      "file_extension": ".py",
      "mimetype": "text/x-python",
      "name": "python",
      "nbconvert_exporter": "python",
      "pygments_lexer": "ipython3",
      "version": "3.9.7"
    }
  },
  "nbformat": 4,
  "nbformat_minor": 0
}