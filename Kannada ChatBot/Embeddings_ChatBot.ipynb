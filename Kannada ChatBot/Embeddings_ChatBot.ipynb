{
  "nbformat": 4,
  "nbformat_minor": 0,
  "metadata": {
    "colab": {
      "name": "Embeddings ChatBot.ipynb",
      "provenance": []
    },
    "kernelspec": {
      "name": "python3",
      "display_name": "Python 3"
    },
    "language_info": {
      "name": "python"
    }
  },
  "cells": [
    {
      "cell_type": "markdown",
      "metadata": {
        "id": "gG1UTYo-b5JH"
      },
      "source": [
        "# ChatBot using Embeddings"
      ]
    },
    {
      "cell_type": "markdown",
      "metadata": {
        "id": "Z19kDzpZfGrs"
      },
      "source": [
        "## Ceating Model Outline"
      ]
    },
    {
      "cell_type": "code",
      "metadata": {
        "id": "OXkNjk0RbSJU"
      },
      "source": [
        "# imports\n",
        "import json\n",
        "import os\n",
        "import random\n",
        "import time\n",
        "from tqdm import tqdm\n",
        "import pickle\n",
        "from scipy.spatial.distance import cosine\n",
        "from flair.data import Sentence\n",
        "from flair.embeddings import WordEmbeddings, DocumentPoolEmbeddings\n",
        "\n",
        "# initialization of the flair model for creating embeddings of sentences\n",
        "embeddings = DocumentPoolEmbeddings([WordEmbeddings('en')],pooling='mean',)\n",
        "\n",
        "# chatbot class\n",
        "class chatbot:\n",
        "\n",
        "    # creating embeddings\n",
        "    @staticmethod\n",
        "    def prepare_embeddings(input_file,output_file):\n",
        "        pass\n",
        "\n",
        "    # processing user message and answering it\n",
        "    @staticmethod\n",
        "    def answer(message,embeddings_file,anwsers_file):\n",
        "       pass"
      ],
      "execution_count": null,
      "outputs": []
    },
    {
      "cell_type": "markdown",
      "metadata": {
        "id": "4qOvbWWwfLEJ"
      },
      "source": [
        "## Preparing Embeddings\n",
        "\n",
        "Firstly we need to prepare a file containing our intents and their examples. This is a json dictionary that uses intents as keys and tables of examples as values.\n"
      ]
    },
    {
      "cell_type": "code",
      "metadata": {
        "id": "ZEsFkxJWfDzV"
      },
      "source": [
        "intents = {\n",
        "  \"hello\": [\n",
        "  \"Hi\",\n",
        "  \"Hello\",\n",
        "  \"Welcome\",\n",
        "  \"Good morning\"\n",
        "  ],\n",
        "  \"bye\": [\n",
        "    \"Bye\",\n",
        "    \"Later\",\n",
        "  \n",
        "  ],\n",
        "  \"whatsup\": [\n",
        "    \"How are you?\",\n",
        "    \"What's up?\",\n",
        "  ],\n",
        "  \"about\": [\n",
        "    \"Tell me about yourself\",\n",
        "    \"Who are you?\",\n",
        "  ]\n",
        "}"
      ],
      "execution_count": null,
      "outputs": []
    },
    {
      "cell_type": "markdown",
      "metadata": {
        "id": "qb3F5LSthZKa"
      },
      "source": [
        "## Function that Constructs Embeddings for the Examples"
      ]
    },
    {
      "cell_type": "code",
      "metadata": {
        "id": "HZlVEXhihZV1"
      },
      "source": [
        "@staticmethod\n",
        "    def prepare_embeddings(input_file,output_file):\n",
        "        global embeddings\n",
        "\n",
        "        # Creating new python dictionary for the embeddings\n",
        "        embedded_intent_dict = {}\n",
        "\n",
        "        # Opening the input file and loading it to python dictionary\n",
        "        with open(input_file) as file:\n",
        "            intent_dict = json.load(file)\n",
        "\n",
        "        # For each intent we create a table in the embeddings dictionary\n",
        "        for intent,examples in tqdm(intent_dict.items()):\n",
        "            embedded_intent_dict[intent] = []\n",
        "\n",
        "            # For each example in the intent, we create a Flair sentence object \n",
        "            # that we can later embed using the model specified earlier. \n",
        "            # Finally we add the embedded sentence to the table\n",
        "            for example in examples:\n",
        "                sentence = Sentence(example)\n",
        "                embeddings.embed(sentence)\n",
        "                embedded_intent_dict[intent].append(sentence.embedding.detach().numpy())\n",
        "\n",
        "        # If the file doesn’t exist, we create it\n",
        "        if not os.path.exists(os.path.dirname(output_file)):\n",
        "            os.makedirs(os.path.dirname(output_file))\n",
        "\n",
        "        # We save the embedded dict. We use pickle instead of json to store the numpy arrays\n",
        "        pickle.dump(embedded_intent_dict,open( output_file, \"wb+\"))"
      ],
      "execution_count": null,
      "outputs": []
    },
    {
      "cell_type": "markdown",
      "metadata": {
        "id": "93H82WaMiASh"
      },
      "source": [
        "## Answering the message"
      ]
    },
    {
      "cell_type": "code",
      "metadata": {
        "id": "1q8DE7_-iAqN"
      },
      "source": [
        "ans = {\n",
        "  \"hello\": [\n",
        "    \"Hello, what can I help you with?\",\n",
        "    \"Hi what can I do for you today?\"\n",
        "  ],\n",
        "  \"bye\": [\n",
        "    \"See you later\",\n",
        "    \"See you next time\"\n",
        " \n",
        "  ],\n",
        "  \"whatsup\": [\n",
        "    \"I feel happy answering your questions\"\n",
        "  ],\n",
        "  \"about\": [\n",
        "    \"I am bot created in 50 lines of code\"\n",
        "  ]\n",
        "}"
      ],
      "execution_count": null,
      "outputs": []
    },
    {
      "cell_type": "code",
      "metadata": {
        "id": "W1cMQjqiiNYI"
      },
      "source": [
        "    @staticmethod\n",
        "    def answer(message,embeddings_file,anwsers_file):\n",
        "        global embeddings\n",
        "        with open(embeddings_file, 'rb') as file:\n",
        "            embedded_dict = pickle.load(file)\n",
        "        message_sentence = Sentence(message)\n",
        "        embeddings.embed(message_sentence)\n",
        "        message_vector = message_sentence.embedding.detach().numpy()\n",
        "        best_intent = \"\"\n",
        "        best_score = 1\n",
        "        for intent, examples in embedded_dict.items():\n",
        "            for example in examples:\n",
        "                score = cosine(message_vector, example)\n",
        "                if(score<best_score):\n",
        "                    best_score = score\n",
        "                    best_intent = intent\n",
        "        with open(anwsers_file) as file:\n",
        "            anwsers_dict = json.load(file)\n",
        "        if(best_intent in anwsers_dict):\n",
        "            return random.choice(anwsers_dict[best_intent])\n",
        "        else:\n",
        "            return \"Error intent not in dict\""
      ],
      "execution_count": null,
      "outputs": []
    },
    {
      "cell_type": "markdown",
      "metadata": {
        "id": "psQYC2m8iVp4"
      },
      "source": [
        "## DRIVER Code"
      ]
    },
    {
      "cell_type": "code",
      "metadata": {
        "id": "GTlXshgGiV3b"
      },
      "source": [
        "if __name__ == \"__main__\":\n",
        "\n",
        "    while True:\n",
        "        input_message = input(\"Message: \")\n",
        "        print(f\"Bot:{chatbot.answer(input_message,embeddings_file='embedded_intents/test1.pkl',anwsers_file='answers/test1.json')}\")\n"
      ],
      "execution_count": null,
      "outputs": []
    }
  ]
}