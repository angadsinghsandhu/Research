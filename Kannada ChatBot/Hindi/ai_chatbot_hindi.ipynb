{
  "nbformat": 4,
  "nbformat_minor": 0,
  "metadata": {
    "colab": {
      "name": "ai_chatbot_hindi.ipynb",
      "provenance": []
    },
    "kernelspec": {
      "name": "python3",
      "display_name": "Python 3"
    },
    "language_info": {
      "name": "python"
    }
  },
  "cells": [
    {
      "cell_type": "markdown",
      "metadata": {
        "id": "GLzoIqEKOeBL"
      },
      "source": [
        "# Intelligent AI ChatBot in Python (NeuralNine)"
      ]
    },
    {
      "cell_type": "code",
      "metadata": {
        "id": "6sO3gMjUOX3c"
      },
      "source": [
        "# Intelligent AI ChatBot in Python\n",
        "# this is going to dyamically understand and respond to greetings\n",
        "# but the responses will be static\n",
        "\n",
        "# our files will be : intents.json"
      ],
      "execution_count": 1,
      "outputs": []
    },
    {
      "cell_type": "markdown",
      "metadata": {
        "id": "d7d-9Af8bLE6"
      },
      "source": [
        "## TRAINING CHATBOT"
      ]
    },
    {
      "cell_type": "code",
      "metadata": {
        "colab": {
          "base_uri": "https://localhost:8080/"
        },
        "id": "_H2IXX6Db-uh",
        "outputId": "f83333f3-e9b7-4a75-bfdd-1e427e1b89a5"
      },
      "source": [
        "# imports\n",
        "import random\n",
        "import json\n",
        "import pickle   # for serialization\n",
        "import numpy as np\n",
        "\n",
        "import nltk\n",
        "nltk.download('punkt')\n",
        "nltk.download('wordnet')\n",
        "from nltk.stem import WordNetLemmatizer\n",
        "\n",
        "from tensorflow.keras.models import Sequential\n",
        "from tensorflow.keras.layers import Dense, Activation, Dropout\n",
        "from tensorflow.keras.optimizers import SGD"
      ],
      "execution_count": 2,
      "outputs": [
        {
          "output_type": "stream",
          "name": "stdout",
          "text": [
            "[nltk_data] Downloading package punkt to /root/nltk_data...\n",
            "[nltk_data]   Unzipping tokenizers/punkt.zip.\n",
            "[nltk_data] Downloading package wordnet to /root/nltk_data...\n",
            "[nltk_data]   Unzipping corpora/wordnet.zip.\n"
          ]
        }
      ]
    },
    {
      "cell_type": "markdown",
      "metadata": {
        "id": "Gc7pO9YveUr0"
      },
      "source": [
        "### *loading our intents*"
      ]
    },
    {
      "cell_type": "code",
      "metadata": {
        "colab": {
          "resources": {
            "http://localhost:8080/nbextensions/google.colab/files.js": {
              "data": "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",
              "ok": true,
              "headers": [
                [
                  "content-type",
                  "application/javascript"
                ]
              ],
              "status": 200,
              "status_text": ""
            }
          },
          "base_uri": "https://localhost:8080/",
          "height": 73
        },
        "id": "sfmfSoL_ft1_",
        "outputId": "28ceebe3-0f26-4ac1-f49a-79d788298602"
      },
      "source": [
        "# loading file\n",
        "from google.colab import files\n",
        "uploaded = files.upload()"
      ],
      "execution_count": 3,
      "outputs": [
        {
          "output_type": "display_data",
          "data": {
            "text/html": [
              "\n",
              "     <input type=\"file\" id=\"files-f5dfa634-8482-4ea3-b1c2-b89b9fd14771\" name=\"files[]\" multiple disabled\n",
              "        style=\"border:none\" />\n",
              "     <output id=\"result-f5dfa634-8482-4ea3-b1c2-b89b9fd14771\">\n",
              "      Upload widget is only available when the cell has been executed in the\n",
              "      current browser session. Please rerun this cell to enable.\n",
              "      </output>\n",
              "      <script src=\"/nbextensions/google.colab/files.js\"></script> "
            ],
            "text/plain": [
              "<IPython.core.display.HTML object>"
            ]
          },
          "metadata": {}
        },
        {
          "output_type": "stream",
          "name": "stdout",
          "text": [
            "Saving intents_hin.json to intents_hin.json\n"
          ]
        }
      ]
    },
    {
      "cell_type": "code",
      "metadata": {
        "colab": {
          "base_uri": "https://localhost:8080/"
        },
        "id": "CDK6xegZf-xZ",
        "outputId": "2b3f8319-0f68-40ce-a921-87ed27b49976"
      },
      "source": [
        "intents =  json.loads(uploaded['intents_hin.json'])\n",
        "print(intents)\n",
        "print(intents['उद्देश्य'][3])\n",
        "print(intents['उद्देश्य'][3]['उपनाम'])\n",
        "\n",
        "# intents -> उद्देश्य\n",
        "# tag -> उपनाम\n",
        "# patterns -> प्रतिरूप"
      ],
      "execution_count": 6,
      "outputs": [
        {
          "output_type": "stream",
          "name": "stdout",
          "text": [
            "{'उद्देश्य': [{'उपनाम': 'अभिवादन', 'प्रतिरूप': ['नमस्ते', 'अरे', 'शुभ दिवस', 'शुभ प्रभात', 'क्या चल रहा है'], 'प्रतिक्रियाओं': ['नमस्ते', 'मेरे द्वारा आपके लिए क्या किया जा सकता है?']}, {'उपनाम': 'अलविदा', 'प्रतिरूप': ['बाद में मिलते है', 'मैं जा रहा हूँ', 'अलविदा', 'आपका दिन शुभ हो', 'हम बाद में मिलेंगे', 'आप से कल मिलता हूं'], 'प्रतिक्रियाओं': ['अलविदा', 'तुमसे मिलकर खुशी हुई']}, {'उपनाम': 'उम्र', 'प्रतिरूप': ['आपका निर्माता कितने साल का है', 'फ्लोरियन कि उम्र क्या है?', 'तुम्हारी उम्र क्या हैं', 'आपकी उम्र क्या है?', 'उम्र?'], 'प्रतिक्रियाओं': ['मेरा निर्माता २१ साल का है!', '२१ साल!', '२१']}, {'उपनाम': 'नाम', 'प्रतिरूप': ['आपका नाम क्या है', 'मैं आपको क्या बुलाऊं?', 'आपका नाम क्या है', 'आप कौन हैं', 'क्या आप मुझे अपना नाम बता सकते हैं'], 'प्रतिक्रियाओं': ['आप मुझे नियुरल कह सकते हैं!', 'मैं नियुरल हूं', 'मैं नियुरल हूं, फ्लोरियन का सहायक']}, {'उपनाम': 'दुकान', 'प्रतिरूप': ['मैं कुछ खरीदना चाहता हूं', 'आपके उत्पाद क्या हैं?', 'आप क्या सलाह देते हैं?', 'आप क्या बेच रहे हैं?'], 'प्रतिक्रियाओं': ['हम किताबें बेचते हैं! उनमें से बहुत सारी।']}, {'उपनाम': 'घंटे', 'प्रतिरूप': ['आप लोग कब खुले हैं?', 'आपके घंटे क्या हैं', 'ऑपरेशन के घंटे'], 'प्रतिक्रियाओं': ['२४/७']}, {'उपनाम': 'शेयर', 'प्रतिरूप': ['मेरे पास कौन से स्टॉक हैं?', 'मेरे शेयर कैसे हैं?', 'मैंने किन कंपनियों में निवेश किया है?', 'मैं स्टॉक में क्या कर रहा हूं'], 'प्रतिक्रियाओं': ['आपके पास निम्नलिखित शेयर हैं: ABBV, APPL, FB, NVDA और S&P 500 इंडेक्स का एक ETF!']}]}\n",
            "{'उपनाम': 'नाम', 'प्रतिरूप': ['आपका नाम क्या है', 'मैं आपको क्या बुलाऊं?', 'आपका नाम क्या है', 'आप कौन हैं', 'क्या आप मुझे अपना नाम बता सकते हैं'], 'प्रतिक्रियाओं': ['आप मुझे नियुरल कह सकते हैं!', 'मैं नियुरल हूं', 'मैं नियुरल हूं, फ्लोरियन का सहायक']}\n",
            "नाम\n"
          ]
        }
      ]
    },
    {
      "cell_type": "markdown",
      "metadata": {
        "id": "p0v9OXc9glF_"
      },
      "source": [
        "### *Creating intermediate Data*"
      ]
    },
    {
      "cell_type": "code",
      "metadata": {
        "id": "p_PC6Qp1iFx9"
      },
      "source": [
        "# creatig useful lists\n",
        "words = []\n",
        "classes = []\n",
        "docs = []\n",
        "\n",
        "ignore_letters = [\"!\", \".\", \",\", \"?\"]\n",
        "\n",
        "# iterating over intents\n",
        "for intent in intents['उद्देश्य']:\n",
        "  for pat in intent['प्रतिरूप']:\n",
        "    # tokenizing and adding tokens to the word list\n",
        "    word_list = nltk.word_tokenize(pat)\n",
        "    if word_list is not None:\n",
        "      words.extend(word_list)\n",
        "\n",
        "      # appending \n",
        "      docs.append((word_list, intent['उपनाम']))\n",
        "\n",
        "      if intent['उपनाम'] not in classes:\n",
        "        classes.append(intent['उपनाम'])"
      ],
      "execution_count": 7,
      "outputs": []
    },
    {
      "cell_type": "code",
      "metadata": {
        "colab": {
          "base_uri": "https://localhost:8080/"
        },
        "id": "hmBoCi8RlSKS",
        "outputId": "8856552e-62b4-4940-91ec-d38a402bbf0a"
      },
      "source": [
        "print(words)"
      ],
      "execution_count": 8,
      "outputs": [
        {
          "output_type": "stream",
          "name": "stdout",
          "text": [
            "['नमस्ते', 'अरे', 'शुभ', 'दिवस', 'शुभ', 'प्रभात', 'क्या', 'चल', 'रहा', 'है', 'बाद', 'में', 'मिलते', 'है', 'मैं', 'जा', 'रहा', 'हूँ', 'अलविदा', 'आपका', 'दिन', 'शुभ', 'हो', 'हम', 'बाद', 'में', 'मिलेंगे', 'आप', 'से', 'कल', 'मिलता', 'हूं', 'आपका', 'निर्माता', 'कितने', 'साल', 'का', 'है', 'फ्लोरियन', 'कि', 'उम्र', 'क्या', 'है', '?', 'तुम्हारी', 'उम्र', 'क्या', 'हैं', 'आपकी', 'उम्र', 'क्या', 'है', '?', 'उम्र', '?', 'आपका', 'नाम', 'क्या', 'है', 'मैं', 'आपको', 'क्या', 'बुलाऊं', '?', 'आपका', 'नाम', 'क्या', 'है', 'आप', 'कौन', 'हैं', 'क्या', 'आप', 'मुझे', 'अपना', 'नाम', 'बता', 'सकते', 'हैं', 'मैं', 'कुछ', 'खरीदना', 'चाहता', 'हूं', 'आपके', 'उत्पाद', 'क्या', 'हैं', '?', 'आप', 'क्या', 'सलाह', 'देते', 'हैं', '?', 'आप', 'क्या', 'बेच', 'रहे', 'हैं', '?', 'आप', 'लोग', 'कब', 'खुले', 'हैं', '?', 'आपके', 'घंटे', 'क्या', 'हैं', 'ऑपरेशन', 'के', 'घंटे', 'मेरे', 'पास', 'कौन', 'से', 'स्टॉक', 'हैं', '?', 'मेरे', 'शेयर', 'कैसे', 'हैं', '?', 'मैंने', 'किन', 'कंपनियों', 'में', 'निवेश', 'किया', 'है', '?', 'मैं', 'स्टॉक', 'में', 'क्या', 'कर', 'रहा', 'हूं']\n"
          ]
        }
      ]
    },
    {
      "cell_type": "markdown",
      "metadata": {
        "id": "nfU_Nf1Rgtnv"
      },
      "source": [
        "### *Lemmatizing*"
      ]
    },
    {
      "cell_type": "code",
      "metadata": {
        "id": "koTC32Dkl9jh"
      },
      "source": [
        "# TODO : figure our word lemmarization for hindi \n",
        "\n",
        "# lemmatizing our words\n",
        "lemmatizer = WordNetLemmatizer()\n",
        "  \n",
        "words = [lemmatizer.lemmatize(word) for word in words if word not in ignore_letters]\n",
        "\n",
        "# removing duplicates\n",
        "words = sorted(set(words))\n",
        "classes = sorted(set(classes))"
      ],
      "execution_count": 9,
      "outputs": []
    },
    {
      "cell_type": "code",
      "metadata": {
        "colab": {
          "base_uri": "https://localhost:8080/"
        },
        "id": "w2cMhyPNmXkX",
        "outputId": "8397fbe4-686e-4e14-f068-f291a2eb4af2"
      },
      "source": [
        "print(words)"
      ],
      "execution_count": 10,
      "outputs": [
        {
          "output_type": "stream",
          "name": "stdout",
          "text": [
            "['अपना', 'अरे', 'अलविदा', 'आप', 'आपका', 'आपकी', 'आपके', 'आपको', 'उत्पाद', 'उम्र', 'ऑपरेशन', 'कंपनियों', 'कब', 'कर', 'कल', 'का', 'कि', 'कितने', 'किन', 'किया', 'कुछ', 'के', 'कैसे', 'कौन', 'क्या', 'खरीदना', 'खुले', 'घंटे', 'चल', 'चाहता', 'जा', 'तुम्हारी', 'दिन', 'दिवस', 'देते', 'नमस्ते', 'नाम', 'निर्माता', 'निवेश', 'पास', 'प्रभात', 'फ्लोरियन', 'बता', 'बाद', 'बुलाऊं', 'बेच', 'मिलता', 'मिलते', 'मिलेंगे', 'मुझे', 'में', 'मेरे', 'मैं', 'मैंने', 'रहा', 'रहे', 'लोग', 'शुभ', 'शेयर', 'सकते', 'सलाह', 'साल', 'से', 'स्टॉक', 'हम', 'हूँ', 'हूं', 'है', 'हैं', 'हो']\n"
          ]
        }
      ]
    },
    {
      "cell_type": "markdown",
      "metadata": {
        "id": "KS93Rg6Mgw_O"
      },
      "source": [
        "### *Saving Data*"
      ]
    },
    {
      "cell_type": "code",
      "metadata": {
        "id": "GX01aKlRsDOe"
      },
      "source": [
        "# adding all info to file\n",
        "pickle.dump(words, open(\"words.pkl\", 'wb'))\n",
        "pickle.dump(classes, open(\"classes.pkl\", 'wb'))\n",
        "pickle.dump(docs, open(\"docs.pkl\", 'wb'))"
      ],
      "execution_count": 11,
      "outputs": []
    },
    {
      "cell_type": "markdown",
      "metadata": {
        "id": "_tEPYG3Cg4aE"
      },
      "source": [
        "### *Creattig Training Data*"
      ]
    },
    {
      "cell_type": "code",
      "metadata": {
        "id": "8sYNbCXes2QE"
      },
      "source": [
        "# representing words as numeric data using bag of words\n",
        "# so that we could use this in a neural network\n",
        "training = []\n",
        "output_empty = [0]*len(classes)\n",
        "\n",
        "for doc in docs:\n",
        "  bag = []\n",
        "  word_patterns = doc[0]\n",
        "  word_patterns = [lemmatizer.lemmatize(word) for word in word_patterns]\n",
        "\n",
        "  for word in words:\n",
        "    bag.append(1) if word in word_patterns else bag.append(0)\n",
        "\n",
        "  # print(output_row)\n",
        "  output_row = list(output_empty)\n",
        "  output_row[classes.index(doc[1])] = 1\n",
        "  training.append([bag, output_row])"
      ],
      "execution_count": 12,
      "outputs": []
    },
    {
      "cell_type": "markdown",
      "metadata": {
        "id": "LGp2hqp_g1EC"
      },
      "source": [
        "### *Pre-Processing*"
      ]
    },
    {
      "cell_type": "code",
      "metadata": {
        "colab": {
          "base_uri": "https://localhost:8080/"
        },
        "id": "be6ugTvGvqBP",
        "outputId": "12d67d14-608b-4804-b12b-fceb8f9a93f5"
      },
      "source": [
        "# shufling our data\n",
        "random.shuffle(training)\n",
        "training = np.array(training)\n",
        "\n",
        "print(training.shape)\n",
        "\n",
        "\n",
        "# spliting to X and y values\n",
        "train_x = np.array(list(training[:, 0]))\n",
        "train_y = np.array(list(training[:, 1]))\n",
        "\n",
        "# print(np.asarray(train_x))\n",
        "print(train_y.shape)"
      ],
      "execution_count": 13,
      "outputs": [
        {
          "output_type": "stream",
          "name": "stdout",
          "text": [
            "(32, 2)\n",
            "(32, 7)\n"
          ]
        },
        {
          "output_type": "stream",
          "name": "stderr",
          "text": [
            "/usr/local/lib/python3.7/dist-packages/ipykernel_launcher.py:3: VisibleDeprecationWarning: Creating an ndarray from ragged nested sequences (which is a list-or-tuple of lists-or-tuples-or ndarrays with different lengths or shapes) is deprecated. If you meant to do this, you must specify 'dtype=object' when creating the ndarray\n",
            "  This is separate from the ipykernel package so we can avoid doing imports until\n"
          ]
        }
      ]
    },
    {
      "cell_type": "markdown",
      "metadata": {
        "id": "OaG15lsSwVtn"
      },
      "source": [
        "### *Building Neural Net*"
      ]
    },
    {
      "cell_type": "code",
      "metadata": {
        "id": "KsK3PX-uwU3M"
      },
      "source": [
        "model = Sequential()\n",
        "model.add(Dense(128, input_shape=(len(train_x[0]), ), activation=\"relu\"))\n",
        "model.add(Dropout(0.5))\n",
        "model.add(Dense(64, activation=\"relu\"))\n",
        "model.add(Dropout(0.5))\n",
        "model.add(Dense(len(train_y[0]), activation=\"softmax\"))"
      ],
      "execution_count": 14,
      "outputs": []
    },
    {
      "cell_type": "code",
      "metadata": {
        "colab": {
          "base_uri": "https://localhost:8080/"
        },
        "id": "gw0qK1jecsg3",
        "outputId": "61237aa3-e24d-4dc6-ee27-ae4dde8bf0ab"
      },
      "source": [
        "sgd = SGD(learning_rate=0.01, decay=1e-6, momentum=0.09, nesterov=True)\n",
        "\n",
        "model.compile(loss=\"categorical_crossentropy\", optimizer=sgd, metrics=['accuracy'])\n",
        "\n",
        "model.summary()"
      ],
      "execution_count": 15,
      "outputs": [
        {
          "output_type": "stream",
          "name": "stdout",
          "text": [
            "Model: \"sequential\"\n",
            "_________________________________________________________________\n",
            "Layer (type)                 Output Shape              Param #   \n",
            "=================================================================\n",
            "dense (Dense)                (None, 128)               9088      \n",
            "_________________________________________________________________\n",
            "dropout (Dropout)            (None, 128)               0         \n",
            "_________________________________________________________________\n",
            "dense_1 (Dense)              (None, 64)                8256      \n",
            "_________________________________________________________________\n",
            "dropout_1 (Dropout)          (None, 64)                0         \n",
            "_________________________________________________________________\n",
            "dense_2 (Dense)              (None, 7)                 455       \n",
            "=================================================================\n",
            "Total params: 17,799\n",
            "Trainable params: 17,799\n",
            "Non-trainable params: 0\n",
            "_________________________________________________________________\n"
          ]
        }
      ]
    },
    {
      "cell_type": "code",
      "metadata": {
        "colab": {
          "base_uri": "https://localhost:8080/"
        },
        "id": "rakIHScUcsXd",
        "outputId": "cf81404e-3e57-436b-ff4b-19b0bf6f8399"
      },
      "source": [
        "history = model.fit(train_x, train_y, epochs=200, batch_size=4, verbose=1)"
      ],
      "execution_count": 16,
      "outputs": [
        {
          "output_type": "stream",
          "name": "stdout",
          "text": [
            "Epoch 1/200\n",
            "8/8 [==============================] - 1s 2ms/step - loss: 1.9724 - accuracy: 0.0625\n",
            "Epoch 2/200\n",
            "8/8 [==============================] - 0s 3ms/step - loss: 2.0321 - accuracy: 0.0938\n",
            "Epoch 3/200\n",
            "8/8 [==============================] - 0s 3ms/step - loss: 2.0473 - accuracy: 0.0625\n",
            "Epoch 4/200\n",
            "8/8 [==============================] - 0s 3ms/step - loss: 1.9493 - accuracy: 0.1562\n",
            "Epoch 5/200\n",
            "8/8 [==============================] - 0s 3ms/step - loss: 1.9722 - accuracy: 0.0938\n",
            "Epoch 6/200\n",
            "8/8 [==============================] - 0s 2ms/step - loss: 1.9196 - accuracy: 0.1875\n",
            "Epoch 7/200\n",
            "8/8 [==============================] - 0s 2ms/step - loss: 1.9450 - accuracy: 0.1250\n",
            "Epoch 8/200\n",
            "8/8 [==============================] - 0s 3ms/step - loss: 1.9199 - accuracy: 0.1875\n",
            "Epoch 9/200\n",
            "8/8 [==============================] - 0s 2ms/step - loss: 1.9230 - accuracy: 0.1562\n",
            "Epoch 10/200\n",
            "8/8 [==============================] - 0s 3ms/step - loss: 1.9242 - accuracy: 0.1562\n",
            "Epoch 11/200\n",
            "8/8 [==============================] - 0s 2ms/step - loss: 1.8688 - accuracy: 0.1875\n",
            "Epoch 12/200\n",
            "8/8 [==============================] - 0s 3ms/step - loss: 1.9079 - accuracy: 0.1250\n",
            "Epoch 13/200\n",
            "8/8 [==============================] - 0s 2ms/step - loss: 1.9321 - accuracy: 0.1562\n",
            "Epoch 14/200\n",
            "8/8 [==============================] - 0s 4ms/step - loss: 1.8995 - accuracy: 0.0938\n",
            "Epoch 15/200\n",
            "8/8 [==============================] - 0s 2ms/step - loss: 1.8761 - accuracy: 0.1562\n",
            "Epoch 16/200\n",
            "8/8 [==============================] - 0s 3ms/step - loss: 1.7540 - accuracy: 0.4688\n",
            "Epoch 17/200\n",
            "8/8 [==============================] - 0s 3ms/step - loss: 1.9012 - accuracy: 0.1875\n",
            "Epoch 18/200\n",
            "8/8 [==============================] - 0s 3ms/step - loss: 1.8456 - accuracy: 0.3125\n",
            "Epoch 19/200\n",
            "8/8 [==============================] - 0s 2ms/step - loss: 1.8244 - accuracy: 0.2500\n",
            "Epoch 20/200\n",
            "8/8 [==============================] - 0s 3ms/step - loss: 1.8259 - accuracy: 0.1562\n",
            "Epoch 21/200\n",
            "8/8 [==============================] - 0s 2ms/step - loss: 1.8197 - accuracy: 0.3125\n",
            "Epoch 22/200\n",
            "8/8 [==============================] - 0s 3ms/step - loss: 1.7700 - accuracy: 0.2500\n",
            "Epoch 23/200\n",
            "8/8 [==============================] - 0s 3ms/step - loss: 1.7926 - accuracy: 0.1875\n",
            "Epoch 24/200\n",
            "8/8 [==============================] - 0s 3ms/step - loss: 1.7485 - accuracy: 0.2812\n",
            "Epoch 25/200\n",
            "8/8 [==============================] - 0s 3ms/step - loss: 1.7887 - accuracy: 0.2812\n",
            "Epoch 26/200\n",
            "8/8 [==============================] - 0s 3ms/step - loss: 1.7770 - accuracy: 0.5000\n",
            "Epoch 27/200\n",
            "8/8 [==============================] - 0s 4ms/step - loss: 1.7300 - accuracy: 0.4062\n",
            "Epoch 28/200\n",
            "8/8 [==============================] - 0s 4ms/step - loss: 1.7361 - accuracy: 0.3438\n",
            "Epoch 29/200\n",
            "8/8 [==============================] - 0s 4ms/step - loss: 1.7609 - accuracy: 0.4062\n",
            "Epoch 30/200\n",
            "8/8 [==============================] - 0s 3ms/step - loss: 1.6877 - accuracy: 0.4062\n",
            "Epoch 31/200\n",
            "8/8 [==============================] - 0s 2ms/step - loss: 1.7924 - accuracy: 0.3125\n",
            "Epoch 32/200\n",
            "8/8 [==============================] - 0s 3ms/step - loss: 1.7227 - accuracy: 0.4375\n",
            "Epoch 33/200\n",
            "8/8 [==============================] - 0s 3ms/step - loss: 1.7637 - accuracy: 0.3438\n",
            "Epoch 34/200\n",
            "8/8 [==============================] - 0s 2ms/step - loss: 1.6612 - accuracy: 0.3750\n",
            "Epoch 35/200\n",
            "8/8 [==============================] - 0s 2ms/step - loss: 1.7106 - accuracy: 0.4688\n",
            "Epoch 36/200\n",
            "8/8 [==============================] - 0s 4ms/step - loss: 1.6958 - accuracy: 0.3438\n",
            "Epoch 37/200\n",
            "8/8 [==============================] - 0s 3ms/step - loss: 1.6677 - accuracy: 0.4375\n",
            "Epoch 38/200\n",
            "8/8 [==============================] - 0s 3ms/step - loss: 1.6399 - accuracy: 0.5000\n",
            "Epoch 39/200\n",
            "8/8 [==============================] - 0s 3ms/step - loss: 1.6931 - accuracy: 0.3750\n",
            "Epoch 40/200\n",
            "8/8 [==============================] - 0s 3ms/step - loss: 1.7217 - accuracy: 0.3438\n",
            "Epoch 41/200\n",
            "8/8 [==============================] - 0s 3ms/step - loss: 1.5595 - accuracy: 0.5938\n",
            "Epoch 42/200\n",
            "8/8 [==============================] - 0s 3ms/step - loss: 1.7341 - accuracy: 0.4062\n",
            "Epoch 43/200\n",
            "8/8 [==============================] - 0s 3ms/step - loss: 1.5831 - accuracy: 0.5000\n",
            "Epoch 44/200\n",
            "8/8 [==============================] - 0s 4ms/step - loss: 1.5823 - accuracy: 0.5938\n",
            "Epoch 45/200\n",
            "8/8 [==============================] - 0s 3ms/step - loss: 1.5365 - accuracy: 0.5625\n",
            "Epoch 46/200\n",
            "8/8 [==============================] - 0s 3ms/step - loss: 1.6525 - accuracy: 0.3750\n",
            "Epoch 47/200\n",
            "8/8 [==============================] - 0s 3ms/step - loss: 1.6271 - accuracy: 0.4688\n",
            "Epoch 48/200\n",
            "8/8 [==============================] - 0s 2ms/step - loss: 1.6356 - accuracy: 0.5000\n",
            "Epoch 49/200\n",
            "8/8 [==============================] - 0s 3ms/step - loss: 1.5018 - accuracy: 0.5000\n",
            "Epoch 50/200\n",
            "8/8 [==============================] - 0s 3ms/step - loss: 1.5276 - accuracy: 0.4375\n",
            "Epoch 51/200\n",
            "8/8 [==============================] - 0s 3ms/step - loss: 1.5089 - accuracy: 0.5000\n",
            "Epoch 52/200\n",
            "8/8 [==============================] - 0s 3ms/step - loss: 1.5373 - accuracy: 0.4375\n",
            "Epoch 53/200\n",
            "8/8 [==============================] - 0s 3ms/step - loss: 1.4527 - accuracy: 0.5938\n",
            "Epoch 54/200\n",
            "8/8 [==============================] - 0s 2ms/step - loss: 1.6175 - accuracy: 0.4375\n",
            "Epoch 55/200\n",
            "8/8 [==============================] - 0s 2ms/step - loss: 1.3619 - accuracy: 0.7188\n",
            "Epoch 56/200\n",
            "8/8 [==============================] - 0s 2ms/step - loss: 1.4570 - accuracy: 0.5312\n",
            "Epoch 57/200\n",
            "8/8 [==============================] - 0s 3ms/step - loss: 1.4305 - accuracy: 0.5938\n",
            "Epoch 58/200\n",
            "8/8 [==============================] - 0s 4ms/step - loss: 1.4103 - accuracy: 0.5625\n",
            "Epoch 59/200\n",
            "8/8 [==============================] - 0s 3ms/step - loss: 1.4691 - accuracy: 0.6250\n",
            "Epoch 60/200\n",
            "8/8 [==============================] - 0s 3ms/step - loss: 1.5309 - accuracy: 0.5000\n",
            "Epoch 61/200\n",
            "8/8 [==============================] - 0s 3ms/step - loss: 1.4585 - accuracy: 0.5625\n",
            "Epoch 62/200\n",
            "8/8 [==============================] - 0s 3ms/step - loss: 1.3052 - accuracy: 0.6875\n",
            "Epoch 63/200\n",
            "8/8 [==============================] - 0s 3ms/step - loss: 1.4669 - accuracy: 0.5312\n",
            "Epoch 64/200\n",
            "8/8 [==============================] - 0s 3ms/step - loss: 1.3564 - accuracy: 0.5312\n",
            "Epoch 65/200\n",
            "8/8 [==============================] - 0s 2ms/step - loss: 1.4396 - accuracy: 0.5625\n",
            "Epoch 66/200\n",
            "8/8 [==============================] - 0s 4ms/step - loss: 1.3021 - accuracy: 0.6562\n",
            "Epoch 67/200\n",
            "8/8 [==============================] - 0s 3ms/step - loss: 1.2836 - accuracy: 0.7188\n",
            "Epoch 68/200\n",
            "8/8 [==============================] - 0s 2ms/step - loss: 1.4060 - accuracy: 0.5312\n",
            "Epoch 69/200\n",
            "8/8 [==============================] - 0s 3ms/step - loss: 1.2472 - accuracy: 0.6562\n",
            "Epoch 70/200\n",
            "8/8 [==============================] - 0s 3ms/step - loss: 1.3288 - accuracy: 0.6562\n",
            "Epoch 71/200\n",
            "8/8 [==============================] - 0s 3ms/step - loss: 1.3000 - accuracy: 0.6250\n",
            "Epoch 72/200\n",
            "8/8 [==============================] - 0s 3ms/step - loss: 1.2543 - accuracy: 0.7500\n",
            "Epoch 73/200\n",
            "8/8 [==============================] - 0s 4ms/step - loss: 1.3114 - accuracy: 0.6250\n",
            "Epoch 74/200\n",
            "8/8 [==============================] - 0s 3ms/step - loss: 1.2379 - accuracy: 0.7188\n",
            "Epoch 75/200\n",
            "8/8 [==============================] - 0s 3ms/step - loss: 1.1498 - accuracy: 0.6250\n",
            "Epoch 76/200\n",
            "8/8 [==============================] - 0s 2ms/step - loss: 1.2734 - accuracy: 0.5312\n",
            "Epoch 77/200\n",
            "8/8 [==============================] - 0s 5ms/step - loss: 1.2391 - accuracy: 0.7500\n",
            "Epoch 78/200\n",
            "8/8 [==============================] - 0s 3ms/step - loss: 1.2585 - accuracy: 0.6250\n",
            "Epoch 79/200\n",
            "8/8 [==============================] - 0s 3ms/step - loss: 1.1406 - accuracy: 0.6875\n",
            "Epoch 80/200\n",
            "8/8 [==============================] - 0s 2ms/step - loss: 1.1418 - accuracy: 0.6562\n",
            "Epoch 81/200\n",
            "8/8 [==============================] - 0s 3ms/step - loss: 1.1115 - accuracy: 0.7188\n",
            "Epoch 82/200\n",
            "8/8 [==============================] - 0s 2ms/step - loss: 1.2720 - accuracy: 0.5312\n",
            "Epoch 83/200\n",
            "8/8 [==============================] - 0s 3ms/step - loss: 1.1713 - accuracy: 0.6875\n",
            "Epoch 84/200\n",
            "8/8 [==============================] - 0s 2ms/step - loss: 1.2046 - accuracy: 0.8125\n",
            "Epoch 85/200\n",
            "8/8 [==============================] - 0s 3ms/step - loss: 1.2315 - accuracy: 0.6562\n",
            "Epoch 86/200\n",
            "8/8 [==============================] - 0s 2ms/step - loss: 1.0038 - accuracy: 0.8750\n",
            "Epoch 87/200\n",
            "8/8 [==============================] - 0s 4ms/step - loss: 1.1456 - accuracy: 0.6875\n",
            "Epoch 88/200\n",
            "8/8 [==============================] - 0s 3ms/step - loss: 0.9280 - accuracy: 0.8125\n",
            "Epoch 89/200\n",
            "8/8 [==============================] - 0s 4ms/step - loss: 1.2003 - accuracy: 0.6250\n",
            "Epoch 90/200\n",
            "8/8 [==============================] - 0s 3ms/step - loss: 1.1063 - accuracy: 0.6875\n",
            "Epoch 91/200\n",
            "8/8 [==============================] - 0s 2ms/step - loss: 1.1057 - accuracy: 0.8125\n",
            "Epoch 92/200\n",
            "8/8 [==============================] - 0s 4ms/step - loss: 0.9741 - accuracy: 0.8125\n",
            "Epoch 93/200\n",
            "8/8 [==============================] - 0s 3ms/step - loss: 1.0668 - accuracy: 0.6875\n",
            "Epoch 94/200\n",
            "8/8 [==============================] - 0s 3ms/step - loss: 1.1567 - accuracy: 0.6562\n",
            "Epoch 95/200\n",
            "8/8 [==============================] - 0s 3ms/step - loss: 0.9767 - accuracy: 0.6875\n",
            "Epoch 96/200\n",
            "8/8 [==============================] - 0s 3ms/step - loss: 1.1854 - accuracy: 0.5938\n",
            "Epoch 97/200\n",
            "8/8 [==============================] - 0s 3ms/step - loss: 1.0593 - accuracy: 0.6875\n",
            "Epoch 98/200\n",
            "8/8 [==============================] - 0s 3ms/step - loss: 0.8796 - accuracy: 0.7500\n",
            "Epoch 99/200\n",
            "8/8 [==============================] - 0s 3ms/step - loss: 1.0790 - accuracy: 0.7500\n",
            "Epoch 100/200\n",
            "8/8 [==============================] - 0s 3ms/step - loss: 0.9403 - accuracy: 0.8125\n",
            "Epoch 101/200\n",
            "8/8 [==============================] - 0s 3ms/step - loss: 0.9803 - accuracy: 0.8438\n",
            "Epoch 102/200\n",
            "8/8 [==============================] - 0s 3ms/step - loss: 1.0616 - accuracy: 0.7188\n",
            "Epoch 103/200\n",
            "8/8 [==============================] - 0s 3ms/step - loss: 0.9217 - accuracy: 0.8438\n",
            "Epoch 104/200\n",
            "8/8 [==============================] - 0s 2ms/step - loss: 0.8002 - accuracy: 0.8750\n",
            "Epoch 105/200\n",
            "8/8 [==============================] - 0s 3ms/step - loss: 0.9993 - accuracy: 0.7188\n",
            "Epoch 106/200\n",
            "8/8 [==============================] - 0s 3ms/step - loss: 0.8853 - accuracy: 0.7812\n",
            "Epoch 107/200\n",
            "8/8 [==============================] - 0s 3ms/step - loss: 0.9077 - accuracy: 0.8438\n",
            "Epoch 108/200\n",
            "8/8 [==============================] - 0s 3ms/step - loss: 0.8349 - accuracy: 0.8438\n",
            "Epoch 109/200\n",
            "8/8 [==============================] - 0s 3ms/step - loss: 0.7343 - accuracy: 0.8438\n",
            "Epoch 110/200\n",
            "8/8 [==============================] - 0s 4ms/step - loss: 0.8232 - accuracy: 0.8125\n",
            "Epoch 111/200\n",
            "8/8 [==============================] - 0s 3ms/step - loss: 0.7409 - accuracy: 0.8438\n",
            "Epoch 112/200\n",
            "8/8 [==============================] - 0s 3ms/step - loss: 0.8174 - accuracy: 0.7188\n",
            "Epoch 113/200\n",
            "8/8 [==============================] - 0s 3ms/step - loss: 0.7669 - accuracy: 0.9375\n",
            "Epoch 114/200\n",
            "8/8 [==============================] - 0s 2ms/step - loss: 0.7803 - accuracy: 0.8125\n",
            "Epoch 115/200\n",
            "8/8 [==============================] - 0s 2ms/step - loss: 0.7876 - accuracy: 0.8438\n",
            "Epoch 116/200\n",
            "8/8 [==============================] - 0s 2ms/step - loss: 0.8787 - accuracy: 0.7500\n",
            "Epoch 117/200\n",
            "8/8 [==============================] - 0s 4ms/step - loss: 0.8088 - accuracy: 0.8125\n",
            "Epoch 118/200\n",
            "8/8 [==============================] - 0s 3ms/step - loss: 0.8304 - accuracy: 0.8125\n",
            "Epoch 119/200\n",
            "8/8 [==============================] - 0s 4ms/step - loss: 0.8501 - accuracy: 0.7812\n",
            "Epoch 120/200\n",
            "8/8 [==============================] - 0s 3ms/step - loss: 0.6617 - accuracy: 0.8438\n",
            "Epoch 121/200\n",
            "8/8 [==============================] - 0s 3ms/step - loss: 0.7288 - accuracy: 0.8438\n",
            "Epoch 122/200\n",
            "8/8 [==============================] - 0s 2ms/step - loss: 0.7356 - accuracy: 0.9062\n",
            "Epoch 123/200\n",
            "8/8 [==============================] - 0s 3ms/step - loss: 0.7437 - accuracy: 0.8438\n",
            "Epoch 124/200\n",
            "8/8 [==============================] - 0s 3ms/step - loss: 0.6899 - accuracy: 0.7188\n",
            "Epoch 125/200\n",
            "8/8 [==============================] - 0s 4ms/step - loss: 0.7989 - accuracy: 0.8438\n",
            "Epoch 126/200\n",
            "8/8 [==============================] - 0s 2ms/step - loss: 0.7232 - accuracy: 0.8125\n",
            "Epoch 127/200\n",
            "8/8 [==============================] - 0s 2ms/step - loss: 0.6320 - accuracy: 0.8750\n",
            "Epoch 128/200\n",
            "8/8 [==============================] - 0s 2ms/step - loss: 0.7724 - accuracy: 0.8125\n",
            "Epoch 129/200\n",
            "8/8 [==============================] - 0s 3ms/step - loss: 0.7105 - accuracy: 0.8125\n",
            "Epoch 130/200\n",
            "8/8 [==============================] - 0s 4ms/step - loss: 0.7943 - accuracy: 0.8125\n",
            "Epoch 131/200\n",
            "8/8 [==============================] - 0s 4ms/step - loss: 0.7439 - accuracy: 0.7500\n",
            "Epoch 132/200\n",
            "8/8 [==============================] - 0s 4ms/step - loss: 0.6864 - accuracy: 0.8438\n",
            "Epoch 133/200\n",
            "8/8 [==============================] - 0s 3ms/step - loss: 0.5925 - accuracy: 0.9375\n",
            "Epoch 134/200\n",
            "8/8 [==============================] - 0s 2ms/step - loss: 0.7062 - accuracy: 0.8438\n",
            "Epoch 135/200\n",
            "8/8 [==============================] - 0s 3ms/step - loss: 0.6992 - accuracy: 0.8750\n",
            "Epoch 136/200\n",
            "8/8 [==============================] - 0s 2ms/step - loss: 0.7309 - accuracy: 0.7812\n",
            "Epoch 137/200\n",
            "8/8 [==============================] - 0s 3ms/step - loss: 0.6671 - accuracy: 0.7500\n",
            "Epoch 138/200\n",
            "8/8 [==============================] - 0s 3ms/step - loss: 0.6732 - accuracy: 0.8125\n",
            "Epoch 139/200\n",
            "8/8 [==============================] - 0s 2ms/step - loss: 0.5146 - accuracy: 0.9688\n",
            "Epoch 140/200\n",
            "8/8 [==============================] - 0s 3ms/step - loss: 0.5681 - accuracy: 0.8438\n",
            "Epoch 141/200\n",
            "8/8 [==============================] - 0s 3ms/step - loss: 0.6877 - accuracy: 0.9062\n",
            "Epoch 142/200\n",
            "8/8 [==============================] - 0s 3ms/step - loss: 0.5437 - accuracy: 0.9062\n",
            "Epoch 143/200\n",
            "8/8 [==============================] - 0s 3ms/step - loss: 0.6006 - accuracy: 0.8750\n",
            "Epoch 144/200\n",
            "8/8 [==============================] - 0s 3ms/step - loss: 0.5162 - accuracy: 0.9688\n",
            "Epoch 145/200\n",
            "8/8 [==============================] - 0s 3ms/step - loss: 0.5298 - accuracy: 0.9062\n",
            "Epoch 146/200\n",
            "8/8 [==============================] - 0s 4ms/step - loss: 0.5883 - accuracy: 0.9375\n",
            "Epoch 147/200\n",
            "8/8 [==============================] - 0s 3ms/step - loss: 0.4130 - accuracy: 1.0000\n",
            "Epoch 148/200\n",
            "8/8 [==============================] - 0s 3ms/step - loss: 0.5174 - accuracy: 0.8750\n",
            "Epoch 149/200\n",
            "8/8 [==============================] - 0s 2ms/step - loss: 0.5875 - accuracy: 0.9062\n",
            "Epoch 150/200\n",
            "8/8 [==============================] - 0s 3ms/step - loss: 0.5928 - accuracy: 0.9062\n",
            "Epoch 151/200\n",
            "8/8 [==============================] - 0s 3ms/step - loss: 0.5568 - accuracy: 0.8438\n",
            "Epoch 152/200\n",
            "8/8 [==============================] - 0s 3ms/step - loss: 0.4713 - accuracy: 0.9062\n",
            "Epoch 153/200\n",
            "8/8 [==============================] - 0s 3ms/step - loss: 0.5963 - accuracy: 0.9688\n",
            "Epoch 154/200\n",
            "8/8 [==============================] - 0s 3ms/step - loss: 0.7522 - accuracy: 0.8125\n",
            "Epoch 155/200\n",
            "8/8 [==============================] - 0s 3ms/step - loss: 0.5188 - accuracy: 0.9375\n",
            "Epoch 156/200\n",
            "8/8 [==============================] - 0s 3ms/step - loss: 0.4224 - accuracy: 0.9375\n",
            "Epoch 157/200\n",
            "8/8 [==============================] - 0s 3ms/step - loss: 0.6325 - accuracy: 0.9062\n",
            "Epoch 158/200\n",
            "8/8 [==============================] - 0s 3ms/step - loss: 0.4743 - accuracy: 0.9062\n",
            "Epoch 159/200\n",
            "8/8 [==============================] - 0s 2ms/step - loss: 0.7586 - accuracy: 0.7812\n",
            "Epoch 160/200\n",
            "8/8 [==============================] - 0s 2ms/step - loss: 0.5238 - accuracy: 0.9062\n",
            "Epoch 161/200\n",
            "8/8 [==============================] - 0s 3ms/step - loss: 0.4384 - accuracy: 0.9375\n",
            "Epoch 162/200\n",
            "8/8 [==============================] - 0s 3ms/step - loss: 0.5121 - accuracy: 0.8750\n",
            "Epoch 163/200\n",
            "8/8 [==============================] - 0s 3ms/step - loss: 0.4974 - accuracy: 0.9375\n",
            "Epoch 164/200\n",
            "8/8 [==============================] - 0s 4ms/step - loss: 0.5623 - accuracy: 0.8125\n",
            "Epoch 165/200\n",
            "8/8 [==============================] - 0s 3ms/step - loss: 0.4482 - accuracy: 1.0000\n",
            "Epoch 166/200\n",
            "8/8 [==============================] - 0s 4ms/step - loss: 0.4086 - accuracy: 0.9375\n",
            "Epoch 167/200\n",
            "8/8 [==============================] - 0s 3ms/step - loss: 0.4399 - accuracy: 0.9375\n",
            "Epoch 168/200\n",
            "8/8 [==============================] - 0s 3ms/step - loss: 0.4204 - accuracy: 0.9375\n",
            "Epoch 169/200\n",
            "8/8 [==============================] - 0s 3ms/step - loss: 0.4319 - accuracy: 0.9375\n",
            "Epoch 170/200\n",
            "8/8 [==============================] - 0s 3ms/step - loss: 0.3298 - accuracy: 0.9375\n",
            "Epoch 171/200\n",
            "8/8 [==============================] - 0s 3ms/step - loss: 0.3323 - accuracy: 1.0000\n",
            "Epoch 172/200\n",
            "8/8 [==============================] - 0s 3ms/step - loss: 0.4565 - accuracy: 0.9688\n",
            "Epoch 173/200\n",
            "8/8 [==============================] - 0s 3ms/step - loss: 0.4407 - accuracy: 0.9375\n",
            "Epoch 174/200\n",
            "8/8 [==============================] - 0s 3ms/step - loss: 0.3738 - accuracy: 1.0000\n",
            "Epoch 175/200\n",
            "8/8 [==============================] - 0s 3ms/step - loss: 0.2944 - accuracy: 0.9375\n",
            "Epoch 176/200\n",
            "8/8 [==============================] - 0s 2ms/step - loss: 0.5355 - accuracy: 0.8750\n",
            "Epoch 177/200\n",
            "8/8 [==============================] - 0s 4ms/step - loss: 0.3855 - accuracy: 0.9375\n",
            "Epoch 178/200\n",
            "8/8 [==============================] - 0s 3ms/step - loss: 0.3871 - accuracy: 0.8750\n",
            "Epoch 179/200\n",
            "8/8 [==============================] - 0s 3ms/step - loss: 0.3411 - accuracy: 1.0000\n",
            "Epoch 180/200\n",
            "8/8 [==============================] - 0s 3ms/step - loss: 0.5625 - accuracy: 0.8125\n",
            "Epoch 181/200\n",
            "8/8 [==============================] - 0s 3ms/step - loss: 0.4372 - accuracy: 0.9062\n",
            "Epoch 182/200\n",
            "8/8 [==============================] - 0s 5ms/step - loss: 0.2759 - accuracy: 1.0000\n",
            "Epoch 183/200\n",
            "8/8 [==============================] - 0s 3ms/step - loss: 0.4045 - accuracy: 0.9375\n",
            "Epoch 184/200\n",
            "8/8 [==============================] - 0s 3ms/step - loss: 0.3388 - accuracy: 0.9375\n",
            "Epoch 185/200\n",
            "8/8 [==============================] - 0s 4ms/step - loss: 0.3679 - accuracy: 0.8750\n",
            "Epoch 186/200\n",
            "8/8 [==============================] - 0s 3ms/step - loss: 0.3336 - accuracy: 0.9375\n",
            "Epoch 187/200\n",
            "8/8 [==============================] - 0s 2ms/step - loss: 0.3830 - accuracy: 0.8750\n",
            "Epoch 188/200\n",
            "8/8 [==============================] - 0s 3ms/step - loss: 0.4432 - accuracy: 0.8750\n",
            "Epoch 189/200\n",
            "8/8 [==============================] - 0s 3ms/step - loss: 0.2140 - accuracy: 1.0000\n",
            "Epoch 190/200\n",
            "8/8 [==============================] - 0s 3ms/step - loss: 0.2738 - accuracy: 1.0000\n",
            "Epoch 191/200\n",
            "8/8 [==============================] - 0s 3ms/step - loss: 0.4551 - accuracy: 0.8438\n",
            "Epoch 192/200\n",
            "8/8 [==============================] - 0s 4ms/step - loss: 0.3948 - accuracy: 0.9062\n",
            "Epoch 193/200\n",
            "8/8 [==============================] - 0s 3ms/step - loss: 0.3003 - accuracy: 0.9375\n",
            "Epoch 194/200\n",
            "8/8 [==============================] - 0s 2ms/step - loss: 0.4233 - accuracy: 0.8125\n",
            "Epoch 195/200\n",
            "8/8 [==============================] - 0s 3ms/step - loss: 0.2946 - accuracy: 0.9062\n",
            "Epoch 196/200\n",
            "8/8 [==============================] - 0s 2ms/step - loss: 0.5560 - accuracy: 0.8125\n",
            "Epoch 197/200\n",
            "8/8 [==============================] - 0s 3ms/step - loss: 0.4039 - accuracy: 0.9375\n",
            "Epoch 198/200\n",
            "8/8 [==============================] - 0s 3ms/step - loss: 0.2691 - accuracy: 0.9688\n",
            "Epoch 199/200\n",
            "8/8 [==============================] - 0s 4ms/step - loss: 0.3585 - accuracy: 0.9062\n",
            "Epoch 200/200\n",
            "8/8 [==============================] - 0s 3ms/step - loss: 0.2929 - accuracy: 0.9062\n"
          ]
        }
      ]
    },
    {
      "cell_type": "code",
      "metadata": {
        "id": "06k1fb2yWF1A"
      },
      "source": [
        "model.save(\"ai_chatbot.h5\", history)"
      ],
      "execution_count": 17,
      "outputs": []
    },
    {
      "cell_type": "markdown",
      "metadata": {
        "id": "8_MYpfoVbN3w"
      },
      "source": [
        "## EXECUTING CHATBOT"
      ]
    },
    {
      "cell_type": "code",
      "metadata": {
        "colab": {
          "base_uri": "https://localhost:8080/"
        },
        "id": "yFYgxrMLd7QZ",
        "outputId": "6fef6bf4-aee5-41a3-9f61-7f9527c390c4"
      },
      "source": [
        "# imports\n",
        "import random\n",
        "import json\n",
        "import pickle   # for serialization\n",
        "import numpy as np\n",
        "\n",
        "import nltk\n",
        "nltk.download('punkt')\n",
        "nltk.download('wordnet')\n",
        "from nltk.stem import WordNetLemmatizer\n",
        "\n",
        "from tensorflow.keras.models import load_model\n",
        "\n",
        "# lemmatizing our words\n",
        "lemmatizer = WordNetLemmatizer()"
      ],
      "execution_count": 18,
      "outputs": [
        {
          "output_type": "stream",
          "name": "stdout",
          "text": [
            "[nltk_data] Downloading package punkt to /root/nltk_data...\n",
            "[nltk_data]   Package punkt is already up-to-date!\n",
            "[nltk_data] Downloading package wordnet to /root/nltk_data...\n",
            "[nltk_data]   Package wordnet is already up-to-date!\n"
          ]
        }
      ]
    },
    {
      "cell_type": "markdown",
      "metadata": {
        "id": "s1PcFlnAek4b"
      },
      "source": [
        "### *Loading Our Intents*"
      ]
    },
    {
      "cell_type": "code",
      "metadata": {
        "colab": {
          "resources": {
            "http://localhost:8080/nbextensions/google.colab/files.js": {
              "data": "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",
              "ok": true,
              "headers": [
                [
                  "content-type",
                  "application/javascript"
                ]
              ],
              "status": 200,
              "status_text": ""
            }
          },
          "base_uri": "https://localhost:8080/",
          "height": 73
        },
        "id": "Sk1Xnoz_eQvZ",
        "outputId": "8ca75aac-f90b-4383-99e4-9a0deab814e0"
      },
      "source": [
        "# loading file\n",
        "from google.colab import files\n",
        "uploaded = files.upload()"
      ],
      "execution_count": 19,
      "outputs": [
        {
          "output_type": "display_data",
          "data": {
            "text/html": [
              "\n",
              "     <input type=\"file\" id=\"files-8f59411e-95fc-4b6c-8c37-365280ea5815\" name=\"files[]\" multiple disabled\n",
              "        style=\"border:none\" />\n",
              "     <output id=\"result-8f59411e-95fc-4b6c-8c37-365280ea5815\">\n",
              "      Upload widget is only available when the cell has been executed in the\n",
              "      current browser session. Please rerun this cell to enable.\n",
              "      </output>\n",
              "      <script src=\"/nbextensions/google.colab/files.js\"></script> "
            ],
            "text/plain": [
              "<IPython.core.display.HTML object>"
            ]
          },
          "metadata": {}
        },
        {
          "output_type": "stream",
          "name": "stdout",
          "text": [
            "Saving intents_hin.json to intents_hin (1).json\n"
          ]
        }
      ]
    },
    {
      "cell_type": "code",
      "metadata": {
        "colab": {
          "base_uri": "https://localhost:8080/"
        },
        "id": "JIlmoE03eR6i",
        "outputId": "998dbbb6-a928-45f9-a640-520b37c3955f"
      },
      "source": [
        "intents =  json.loads(uploaded['intents_hin.json'])\n",
        "print(intents)\n",
        "print(intents['उद्देश्य'][2])\n",
        "print(intents['उद्देश्य'][2]['उपनाम'])\n",
        "\n",
        "# intents -> उद्देश्य\n",
        "# tag -> उपनाम\n",
        "# patterns -> प्रतिरूप\n",
        "# responces -> प्रतिक्रियाओं"
      ],
      "execution_count": 20,
      "outputs": [
        {
          "output_type": "stream",
          "name": "stdout",
          "text": [
            "{'उद्देश्य': [{'उपनाम': 'अभिवादन', 'प्रतिरूप': ['नमस्ते', 'अरे', 'शुभ दिवस', 'शुभ प्रभात', 'क्या चल रहा है'], 'प्रतिक्रियाओं': ['नमस्ते', 'मेरे द्वारा आपके लिए क्या किया जा सकता है?']}, {'उपनाम': 'अलविदा', 'प्रतिरूप': ['बाद में मिलते है', 'मैं जा रहा हूँ', 'अलविदा', 'आपका दिन शुभ हो', 'हम बाद में मिलेंगे', 'आप से कल मिलता हूं'], 'प्रतिक्रियाओं': ['अलविदा', 'तुमसे मिलकर खुशी हुई']}, {'उपनाम': 'उम्र', 'प्रतिरूप': ['आपका निर्माता कितने साल का है', 'फ्लोरियन कि उम्र क्या है?', 'तुम्हारी उम्र क्या हैं', 'आपकी उम्र क्या है?', 'उम्र?'], 'प्रतिक्रियाओं': ['मेरा निर्माता २१ साल का है!', '२१ साल!', '२१']}, {'उपनाम': 'नाम', 'प्रतिरूप': ['आपका नाम क्या है', 'मैं आपको क्या बुलाऊं?', 'आपका नाम क्या है', 'आप कौन हैं', 'क्या आप मुझे अपना नाम बता सकते हैं'], 'प्रतिक्रियाओं': ['आप मुझे नियुरल कह सकते हैं!', 'मैं नियुरल हूं', 'मैं नियुरल हूं, फ्लोरियन का सहायक']}, {'उपनाम': 'दुकान', 'प्रतिरूप': ['मैं कुछ खरीदना चाहता हूं', 'आपके उत्पाद क्या हैं?', 'आप क्या सलाह देते हैं?', 'आप क्या बेच रहे हैं?'], 'प्रतिक्रियाओं': ['हम किताबें बेचते हैं! उनमें से बहुत सारी।']}, {'उपनाम': 'घंटे', 'प्रतिरूप': ['आप लोग कब खुले हैं?', 'आपके घंटे क्या हैं', 'ऑपरेशन के घंटे'], 'प्रतिक्रियाओं': ['२४/७']}, {'उपनाम': 'शेयर', 'प्रतिरूप': ['मेरे पास कौन से स्टॉक हैं?', 'मेरे शेयर कैसे हैं?', 'मैंने किन कंपनियों में निवेश किया है?', 'मैं स्टॉक में क्या कर रहा हूं'], 'प्रतिक्रियाओं': ['आपके पास निम्नलिखित शेयर हैं: ABBV, APPL, FB, NVDA और S&P 500 इंडेक्स का एक ETF!']}]}\n",
            "{'उपनाम': 'उम्र', 'प्रतिरूप': ['आपका निर्माता कितने साल का है', 'फ्लोरियन कि उम्र क्या है?', 'तुम्हारी उम्र क्या हैं', 'आपकी उम्र क्या है?', 'उम्र?'], 'प्रतिक्रियाओं': ['मेरा निर्माता २१ साल का है!', '२१ साल!', '२१']}\n",
            "उम्र\n"
          ]
        }
      ]
    },
    {
      "cell_type": "markdown",
      "metadata": {
        "id": "KrDV4PZegIVG"
      },
      "source": [
        "### *Loading up our saved files*"
      ]
    },
    {
      "cell_type": "code",
      "metadata": {
        "id": "Kl3_5tiegMCp",
        "colab": {
          "base_uri": "https://localhost:8080/"
        },
        "outputId": "4b3e27cc-2c5c-4ce9-d8dd-8ac527f69fa3"
      },
      "source": [
        "words = pickle.load(open('words.pkl', 'rb'))\n",
        "classes = pickle.load(open('classes.pkl', 'rb'))\n",
        "docs = pickle.load(open('docs.pkl', 'rb'))\n",
        "\n",
        "print(words)\n",
        "print(classes)\n",
        "print(docs)\n",
        "\n",
        "model = load_model(\"ai_chatbot.h5\")"
      ],
      "execution_count": 21,
      "outputs": [
        {
          "output_type": "stream",
          "name": "stdout",
          "text": [
            "['अपना', 'अरे', 'अलविदा', 'आप', 'आपका', 'आपकी', 'आपके', 'आपको', 'उत्पाद', 'उम्र', 'ऑपरेशन', 'कंपनियों', 'कब', 'कर', 'कल', 'का', 'कि', 'कितने', 'किन', 'किया', 'कुछ', 'के', 'कैसे', 'कौन', 'क्या', 'खरीदना', 'खुले', 'घंटे', 'चल', 'चाहता', 'जा', 'तुम्हारी', 'दिन', 'दिवस', 'देते', 'नमस्ते', 'नाम', 'निर्माता', 'निवेश', 'पास', 'प्रभात', 'फ्लोरियन', 'बता', 'बाद', 'बुलाऊं', 'बेच', 'मिलता', 'मिलते', 'मिलेंगे', 'मुझे', 'में', 'मेरे', 'मैं', 'मैंने', 'रहा', 'रहे', 'लोग', 'शुभ', 'शेयर', 'सकते', 'सलाह', 'साल', 'से', 'स्टॉक', 'हम', 'हूँ', 'हूं', 'है', 'हैं', 'हो']\n",
            "['अभिवादन', 'अलविदा', 'उम्र', 'घंटे', 'दुकान', 'नाम', 'शेयर']\n",
            "[(['नमस्ते'], 'अभिवादन'), (['अरे'], 'अभिवादन'), (['शुभ', 'दिवस'], 'अभिवादन'), (['शुभ', 'प्रभात'], 'अभिवादन'), (['क्या', 'चल', 'रहा', 'है'], 'अभिवादन'), (['बाद', 'में', 'मिलते', 'है'], 'अलविदा'), (['मैं', 'जा', 'रहा', 'हूँ'], 'अलविदा'), (['अलविदा'], 'अलविदा'), (['आपका', 'दिन', 'शुभ', 'हो'], 'अलविदा'), (['हम', 'बाद', 'में', 'मिलेंगे'], 'अलविदा'), (['आप', 'से', 'कल', 'मिलता', 'हूं'], 'अलविदा'), (['आपका', 'निर्माता', 'कितने', 'साल', 'का', 'है'], 'उम्र'), (['फ्लोरियन', 'कि', 'उम्र', 'क्या', 'है', '?'], 'उम्र'), (['तुम्हारी', 'उम्र', 'क्या', 'हैं'], 'उम्र'), (['आपकी', 'उम्र', 'क्या', 'है', '?'], 'उम्र'), (['उम्र', '?'], 'उम्र'), (['आपका', 'नाम', 'क्या', 'है'], 'नाम'), (['मैं', 'आपको', 'क्या', 'बुलाऊं', '?'], 'नाम'), (['आपका', 'नाम', 'क्या', 'है'], 'नाम'), (['आप', 'कौन', 'हैं'], 'नाम'), (['क्या', 'आप', 'मुझे', 'अपना', 'नाम', 'बता', 'सकते', 'हैं'], 'नाम'), (['मैं', 'कुछ', 'खरीदना', 'चाहता', 'हूं'], 'दुकान'), (['आपके', 'उत्पाद', 'क्या', 'हैं', '?'], 'दुकान'), (['आप', 'क्या', 'सलाह', 'देते', 'हैं', '?'], 'दुकान'), (['आप', 'क्या', 'बेच', 'रहे', 'हैं', '?'], 'दुकान'), (['आप', 'लोग', 'कब', 'खुले', 'हैं', '?'], 'घंटे'), (['आपके', 'घंटे', 'क्या', 'हैं'], 'घंटे'), (['ऑपरेशन', 'के', 'घंटे'], 'घंटे'), (['मेरे', 'पास', 'कौन', 'से', 'स्टॉक', 'हैं', '?'], 'शेयर'), (['मेरे', 'शेयर', 'कैसे', 'हैं', '?'], 'शेयर'), (['मैंने', 'किन', 'कंपनियों', 'में', 'निवेश', 'किया', 'है', '?'], 'शेयर'), (['मैं', 'स्टॉक', 'में', 'क्या', 'कर', 'रहा', 'हूं'], 'शेयर')]\n"
          ]
        }
      ]
    },
    {
      "cell_type": "markdown",
      "metadata": {
        "id": "zaAZ3JOlhgsw"
      },
      "source": [
        "### *Creating Helper Functions*\n",
        "\n"
      ]
    },
    {
      "cell_type": "code",
      "metadata": {
        "id": "5S7DM3XQhki2"
      },
      "source": [
        "def clean_sentence(sentence):\n",
        "  sentence_words = nltk.word_tokenize(sentence)\n",
        "  sentence_words = [lemmatizer.lemmatize(word) for word in sentence_words]\n",
        "  return sentence_words\n",
        "\n",
        "def bag_of_words(sentence):\n",
        "  sentence_words = clean_sentence(sentence)\n",
        "  bag = [0] * len(words)\n",
        "\n",
        "  for w in sentence_words:\n",
        "    for i, word in enumerate(words):\n",
        "      if word == w:\n",
        "        bag[i] = 1\n",
        "  \n",
        "  return np.array(bag)\n",
        "\n",
        "def predict_class(sentence):\n",
        "  ERROR_THRESHOLD = 0.25\n",
        "\n",
        "  bow = bag_of_words(sentence)\n",
        "  res = model.predict(np.array([bow]))[0]\n",
        "\n",
        "  results = [[i, r] for i, r in enumerate(res) if r > ERROR_THRESHOLD]\n",
        "\n",
        "  results.sort(key=lambda x: x[1], reverse=True)\n",
        "\n",
        "  return_list = []\n",
        "  for r in results:\n",
        "    return_list.append({ 'intent': classes[r[0]], 'probability': str(r[1]) })\n",
        "\n",
        "  return return_list\n",
        "\n",
        "def get_response(intents_list, intents_json):\n",
        "  # print(intents_list)\n",
        "\n",
        "  tag = intents_list[0]['intent']\n",
        "  list_of_intents = intents_json['उद्देश्य']\n",
        "  for i in list_of_intents:\n",
        "    if i['उपनाम'] == tag:\n",
        "      result = random.choice(i['प्रतिक्रियाओं'])\n",
        "      break\n",
        "  return result\n"
      ],
      "execution_count": 22,
      "outputs": []
    },
    {
      "cell_type": "markdown",
      "metadata": {
        "id": "A7lzzpChriSB"
      },
      "source": [
        "## Running BOT"
      ]
    },
    {
      "cell_type": "code",
      "metadata": {
        "colab": {
          "base_uri": "https://localhost:8080/"
        },
        "id": "WnYIf2NkrkSG",
        "outputId": "695d6393-df89-4619-f06b-8d6d68931bc8"
      },
      "source": [
        "while True:\n",
        "  message = input('')\n",
        "  ints = predict_class(message)\n",
        "  # print(\"class : \", ints)\n",
        "  res = get_response(ints, intents)\n",
        "  print(res, \"\\n\")"
      ],
      "execution_count": null,
      "outputs": [
        {
          "output_type": "stream",
          "name": "stdout",
          "text": [
            "नमस्ते\n",
            "मेरे द्वारा आपके लिए क्या किया जा सकता है? \n",
            "\n",
            "तुम्हारी उम्र क्या हैं\n",
            "मेरा निर्माता २१ साल का है! \n",
            "\n",
            "मेरे पास कौन सी कंपनियां हैं\n",
            "आपके पास निम्नलिखित शेयर हैं: ABBV, APPL, FB, NVDA और S&P 500 इंडेक्स का एक ETF! \n",
            "\n"
          ]
        }
      ]
    }
  ]
}