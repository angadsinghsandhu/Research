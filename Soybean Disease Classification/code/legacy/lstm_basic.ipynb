{
  "nbformat": 4,
  "nbformat_minor": 0,
  "metadata": {
    "colab": {
      "name": "lstm_basic.ipynb",
      "private_outputs": true,
      "provenance": [],
      "collapsed_sections": []
    },
    "kernelspec": {
      "display_name": "Python 3",
      "language": "python",
      "name": "python3"
    },
    "accelerator": "TPU"
  },
  "cells": [
    {
      "cell_type": "markdown",
      "metadata": {
        "id": "1W4V4T0EnUJ6"
      },
      "source": [
        "LSTM MODEL"
      ]
    },
    {
      "cell_type": "code",
      "metadata": {
        "id": "-lC3sear-a2I"
      },
      "source": [
        "# imports\n",
        "import datetime\n",
        "from datetime import date\n",
        "import pandas as pd\n",
        "import numpy as np\n",
        "from plotly import __version__\n",
        "%matplotlib inline\n",
        "\n",
        "import plotly.offline as pyo\n",
        "import plotly.graph_objs as go\n",
        "from plotly.offline import iplot\n",
        "\n",
        "import cufflinks as cf\n",
        "from plotly.offline import download_plotlyjs, init_notebook_mode, plot, iplot \n",
        "\n",
        "\n",
        "cf.go_offline()"
      ],
      "execution_count": null,
      "outputs": []
    },
    {
      "cell_type": "markdown",
      "metadata": {
        "id": "99aA4jcSntxq"
      },
      "source": [
        "Uploading CSV file"
      ]
    },
    {
      "cell_type": "code",
      "metadata": {
        "id": "JbgySciDnS7B"
      },
      "source": [
        "# File named in ./data.csv\n",
        "# NOTE: Please \"Allow 3rd Party Cookies\" in Chrome Options\n",
        "\n",
        "from google.colab import files\n",
        "uploaded = files.upload()"
      ],
      "execution_count": null,
      "outputs": []
    },
    {
      "cell_type": "code",
      "metadata": {
        "id": "1OBsb0FbovSj"
      },
      "source": [
        "print(uploaded)"
      ],
      "execution_count": null,
      "outputs": []
    },
    {
      "cell_type": "code",
      "metadata": {
        "id": "aR3pVNWnovzs"
      },
      "source": [
        "import pandas as pd\n",
        "import io\n",
        "  \n",
        "df = pd.read_csv(io.BytesIO(uploaded['data.csv']))\n",
        "\n",
        "print(df)\n",
        "\n",
        "print(df[[\"RF\", \"MaxT\"]])\n",
        "\n",
        "print(df['RF'][0])\n",
        "\n",
        "print(type(df['RF']))\n",
        "\n",
        "print(type(df['RF'].to_numpy()))"
      ],
      "execution_count": null,
      "outputs": []
    },
    {
      "cell_type": "markdown",
      "metadata": {
        "id": "vg1M0KAyq7CH"
      },
      "source": [
        "Visualizing Data"
      ]
    },
    {
      "cell_type": "code",
      "metadata": {
        "id": "Nkynil-Nq6b7"
      },
      "source": [
        "# Creating Simple Dynamic Graph to see all data\n",
        "%matplotlib notebook\n",
        "import matplotlib.pyplot as plt\n",
        "plt.style.use('seaborn-whitegrid')\n",
        "\n",
        "fig = plt.figure(figsize=(23, 6), dpi=80)\n",
        "ax = plt.axes()\n",
        "\n",
        "# NOTE : Chane the value of var for any other header to get different results\n",
        "var = \"RF\"\n",
        "plt.plot(df['Date'].to_numpy(), df[var].to_numpy());"
      ],
      "execution_count": null,
      "outputs": []
    },
    {
      "cell_type": "code",
      "metadata": {
        "id": "JZidGZWl2ajU"
      },
      "source": [
        "init_notebook_mode(connected=False)"
      ],
      "execution_count": null,
      "outputs": []
    },
    {
      "cell_type": "code",
      "metadata": {
        "id": "WRzuyiUt-i1S"
      },
      "source": [
        "# Create function for Colab\n",
        "def configure_plotly_browser_state():\n",
        "  import IPython\n",
        "  display(IPython.core.display.HTML('''\n",
        "        <script src=\"/static/components/requirejs/require.js\"></script>\n",
        "        <script>\n",
        "          requirejs.config({\n",
        "            paths: {\n",
        "              base: '/static/base',\n",
        "              plotly: 'https://cdn.plot.ly/plotly-1.5.1.min.js?noext',\n",
        "            },\n",
        "          });\n",
        "        </script>\n",
        "  '''))"
      ],
      "execution_count": null,
      "outputs": []
    },
    {
      "cell_type": "code",
      "metadata": {
        "id": "WykreLP7-wsz"
      },
      "source": [
        "configure_plotly_browser_state()\n",
        "df.iplot(kind='line',x='Date',y=['RF'], color=['white'], \n",
        "theme='solar', mode='markers',title='Annual Rainfall in the city Peachtree City, GA')\n",
        "plt.show()"
      ],
      "execution_count": null,
      "outputs": []
    },
    {
      "cell_type": "code",
      "metadata": {
        "id": "Ei3RYC_7_XM3"
      },
      "source": [
        "configure_plotly_browser_state()\n",
        "df.iplot(kind='line',x='Date',y=['MinT', \"MaxT\"], color=['white', 'gold'], \n",
        "theme='solar', mode='markers',title='Annual Rainfall in the city Peachtree City, GA')\n",
        "plt.show()"
      ],
      "execution_count": null,
      "outputs": []
    },
    {
      "cell_type": "markdown",
      "metadata": {
        "id": "IxKBhq5kOiq5"
      },
      "source": [
        "Pre Processing Data"
      ]
    },
    {
      "cell_type": "code",
      "metadata": {
        "id": "192h3bwBPShP"
      },
      "source": [
        "# preproceessing data\n",
        "def one_hot_prob_dist(val):\n",
        "  if val == 0 :\n",
        "    return [1, 0, 0, 0]\n",
        "  elif val == 1 :\n",
        "    return [0, 1, 0, 0]\n",
        "  elif val == 2 :\n",
        "    return [0, 0, 1, 0]\n",
        "  elif val == 3 :\n",
        "    return [0, 0, 0, 1]\n",
        "  else :\n",
        "    print(val)\n",
        "    raise ValueError\n",
        "\n",
        "def prepare_data(data, n_features, timesteps):\n",
        "  # Dividing X and y\n",
        "  X = data[[\"RF\", \"MaxT\", \"MinT\", \"RH-I\", \"RH-II\", \"C2\", \"SS\", \"WD1\", \"WD2\", \"WS\"]]\n",
        "  y_temp = data[\"Disease\"]\n",
        "  y = []\n",
        "\n",
        "  # print(\"X & y : \", \"\\n\", X, \"\\n\", y_temp)\n",
        "\n",
        "  # Create Numpy arrays\n",
        "  X = X.to_numpy()\n",
        "  y_temp = y_temp.to_numpy()\n",
        "\n",
        "  for i in range(len(y_temp)):\n",
        "    arr = one_hot_prob_dist(y_temp[i])\n",
        "    # print(arr)\n",
        "    # np_arr = np.array([arr])\n",
        "    # np.append(y, np_arr, axis=0)\n",
        "    y.append(arr)\n",
        "\n",
        "  y = np.array(y)\n",
        "\n",
        "  # print(\"X & y (in numpy) : \", \"\\n\", X, \"\\n\", y)\n",
        "  # print(\"X & y (shape) : \", X.shape, \", \", y.shape)\n",
        "\n",
        "  # Normalizing values\n",
        "  # X = (X - X.min(0)) / X.ptp(0)\n",
        "  # y = (y - y.min(0)) / y.ptp(0)\n",
        "\n",
        "  # print(\"X & y (normalized) : \", \"\\n\", X, \"\\n\", y)\n",
        "\n",
        "  # reshaping data into 3D structure [example, timesteps, features]\n",
        "  X = X.reshape(X.shape[0], timesteps, X.shape[1])\n",
        "  # y = y.reshape(y.shape[0], timesteps, y.shape[1])\n",
        "  \n",
        "  return X, y\n",
        "\n",
        "def split_data(X, y, ratio=0.98):\n",
        "  # Create X_test, X_train, y_test, y_train\n",
        "  if ratio > 1:\n",
        "    raise Error\n",
        "  else :\n",
        "    tot = X.shape[0]\n",
        "    div = round(tot*ratio)\n",
        "\n",
        "    # splitting\n",
        "    X_train = X[:div, :, :]\n",
        "    y_train = y[:div]\n",
        "\n",
        "    X_test = X[div:, :, :]\n",
        "    y_test = y[div:]\n",
        "  \n",
        "  return X_train, y_train, X_test, y_test"
      ],
      "execution_count": null,
      "outputs": []
    },
    {
      "cell_type": "code",
      "metadata": {
        "id": "1fBY-VqHPeNC"
      },
      "source": [
        "# defining data\n",
        "n_features = 10 \n",
        "timesteps = 1\n",
        "\n",
        "X, y = prepare_data(df, n_features, timesteps)"
      ],
      "execution_count": null,
      "outputs": []
    },
    {
      "cell_type": "code",
      "metadata": {
        "id": "rWPsh9oA2REG"
      },
      "source": [
        "X_train, y_train, X_test, y_test = split_data(X, y, ratio=0.8)"
      ],
      "execution_count": null,
      "outputs": []
    },
    {
      "cell_type": "code",
      "metadata": {
        "id": "XgM2iyaH4RM-"
      },
      "source": [
        "print(\"X_train : \", X_train[:10], \"\\n\\ny_test : \", y_train[:10])\n",
        "print(\"\\n\\nX_train and y_test (shape) : \", X_train.shape, \", \", y_test.shape)"
      ],
      "execution_count": null,
      "outputs": []
    },
    {
      "cell_type": "markdown",
      "metadata": {
        "id": "WGk2WmZt48tF"
      },
      "source": [
        "Training LSTM Model"
      ]
    },
    {
      "cell_type": "code",
      "metadata": {
        "id": "iWSRdyXg48el"
      },
      "source": [
        "# impots\n",
        "import tensorflow as tf\n",
        "from tensorflow.keras.models import Sequential\n",
        "from tensorflow.keras.layers import LSTM\n",
        "from tensorflow.keras.layers import Dense\n",
        "from tensorflow.keras.layers import Dropout\n",
        "from tensorflow.keras.layers import Flatten\n",
        "from tensorflow.keras.optimizers import Adam"
      ],
      "execution_count": null,
      "outputs": []
    },
    {
      "cell_type": "code",
      "metadata": {
        "id": "CD85DM6L5KJP"
      },
      "source": [
        "# defining model\n",
        "model = Sequential()\n",
        "model.add(LSTM(1, activation='relu', input_shape=(timesteps, n_features)))\n",
        "# model.add(LSTM(64, activation='relu', return_sequences=True))\n",
        "# model.add(LSTM(64, activation='relu'))\n",
        "\n",
        "model.add(Dropout(0.3))\n",
        "model.add(Dense(4, activation='softmax'))\n",
        "\n",
        "# compile model\n",
        "model.compile(optimizer=Adam(learning_rate=0.0001), loss='categorical_crossentropy', metrics=['accuracy'])\n",
        "\n",
        "# model sumary\n",
        "print(model.summary())\n",
        "\n",
        "# train model\n",
        "history = model.fit(X_train, y_train, epochs=50, verbose=1)\n",
        "\n",
        "# validation_data=(X_test, y_test), batch_size=20,"
      ],
      "execution_count": null,
      "outputs": []
    },
    {
      "cell_type": "code",
      "metadata": {
        "id": "WS575JeTb5FM"
      },
      "source": [
        "# check for overfitting and underfitting\n",
        "print(history.history['loss'])\n",
        "print(history.history['accuracy'])"
      ],
      "execution_count": null,
      "outputs": []
    },
    {
      "cell_type": "markdown",
      "metadata": {
        "id": "qa134ot3-e4S"
      },
      "source": [
        "Predicting Data and Seeing results using Test Set "
      ]
    },
    {
      "cell_type": "code",
      "metadata": {
        "id": "JGfqq5YC_hiq"
      },
      "source": [
        "def upscale(value, range=3):\n",
        "  return round(value*range)\n",
        "\n",
        "print(X_test[0])"
      ],
      "execution_count": null,
      "outputs": []
    },
    {
      "cell_type": "code",
      "metadata": {
        "id": "mILQRFlgegtt"
      },
      "source": [
        "# Evaluate the model on the test data using `evaluate`\n",
        "print(\"Evaluate on test data\")\n",
        "results = model.evaluate(X_test, y_test, batch_size=32)\n",
        "print(\"test loss, test acc:\", results)\n",
        "\n",
        "# Generate predictions (probabilities -- the output of the last layer)\n",
        "# on new data using `predict`\n",
        "print(\"Generate predictions for 3 samples\")\n",
        "predictions = model.predict(X_test[:3])\n",
        "print(\"predictions shape:\", predictions.shape)"
      ],
      "execution_count": null,
      "outputs": []
    },
    {
      "cell_type": "code",
      "metadata": {
        "id": "AFo_NMdAesVh"
      },
      "source": [
        "print(predictions)"
      ],
      "execution_count": null,
      "outputs": []
    },
    {
      "cell_type": "markdown",
      "metadata": {
        "id": "xjknt3ZEARyo"
      },
      "source": [
        "Visualizing Ouput"
      ]
    },
    {
      "cell_type": "code",
      "metadata": {
        "id": "nERC83XBAVat"
      },
      "source": [
        ""
      ],
      "execution_count": null,
      "outputs": []
    }
  ]
}