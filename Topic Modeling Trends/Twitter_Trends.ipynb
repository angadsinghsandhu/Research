{
 "cells": [
  {
   "cell_type": "markdown",
   "id": "2c620a92",
   "metadata": {},
   "source": [
    "# Finding out trends from tweets.\n",
    "\n",
    "### *Imports*"
   ]
  },
  {
   "cell_type": "code",
   "execution_count": 1,
   "id": "7bf0fa45",
   "metadata": {},
   "outputs": [],
   "source": [
    "from gensim.models import Word2Vec\n",
    "from gensim.models import KeyedVectors\n",
    "from nltk.tokenize import word_tokenize \n",
    "from gensim.utils import tokenize\n",
    "from nltk.tokenize import sent_tokenize\n",
    "import pandas as pd\n",
    "import nltk\n",
    "from scipy.spatial import distance"
   ]
  },
  {
   "cell_type": "code",
   "execution_count": 2,
   "id": "dc002f58",
   "metadata": {},
   "outputs": [],
   "source": [
    "import numpy as np\n",
    "import pandas as pd\n",
    "import nltk\n",
    "import re\n",
    "import os\n",
    "import io\n",
    "import time\n",
    "import codecs\n",
    "import csv\n",
    "from sklearn import feature_extraction\n",
    "import collections \n",
    "from nltk.corpus import stopwords \n",
    "from nltk.tokenize import word_tokenize \n",
    "from nltk.stem.snowball import SnowballStemmer"
   ]
  },
  {
   "cell_type": "code",
   "execution_count": 3,
   "id": "7e053633",
   "metadata": {},
   "outputs": [],
   "source": [
    "from sklearn.feature_extraction.text import TfidfVectorizer\n",
    "from sklearn.metrics.pairwise import cosine_similarity\n",
    "from sklearn.cluster import KMeans\n",
    "from sklearn.manifold import MDS"
   ]
  },
  {
   "cell_type": "code",
   "execution_count": 32,
   "id": "74b822d3",
   "metadata": {},
   "outputs": [],
   "source": [
    "from scipy.spatial import distance\n",
    "from sklearn.manifold import TSNE\n",
    "import matplotlib.pyplot as plt\n",
    "from matplotlib.pyplot import figure\n",
    "import nltk.stem as stemmer"
   ]
  },
  {
   "cell_type": "markdown",
   "id": "7abbc361",
   "metadata": {},
   "source": [
    "### *Downloads*"
   ]
  },
  {
   "cell_type": "code",
   "execution_count": 5,
   "id": "c8a85175",
   "metadata": {},
   "outputs": [
    {
     "name": "stderr",
     "output_type": "stream",
     "text": [
      "[nltk_data] Downloading package averaged_perceptron_tagger to\n",
      "[nltk_data]     /home/jovyan/nltk_data...\n",
      "[nltk_data]   Package averaged_perceptron_tagger is already up-to-\n",
      "[nltk_data]       date!\n",
      "[nltk_data] Downloading package stopwords to /home/jovyan/nltk_data...\n",
      "[nltk_data]   Package stopwords is already up-to-date!\n",
      "[nltk_data] Downloading package punkt to /home/jovyan/nltk_data...\n",
      "[nltk_data]   Package punkt is already up-to-date!\n"
     ]
    },
    {
     "data": {
      "text/plain": [
       "True"
      ]
     },
     "execution_count": 5,
     "metadata": {},
     "output_type": "execute_result"
    }
   ],
   "source": [
    "nltk.download('averaged_perceptron_tagger')\n",
    "nltk.download('stopwords')\n",
    "nltk.download('punkt')"
   ]
  },
  {
   "cell_type": "markdown",
   "id": "58dced2c",
   "metadata": {},
   "source": [
    "## *Pre-Processing*"
   ]
  },
  {
   "cell_type": "code",
   "execution_count": 6,
   "id": "e246fe2c",
   "metadata": {},
   "outputs": [],
   "source": [
    "def rem_stop_words(example_sent):\n",
    "    \n",
    "    example_sent = str(example_sent)\n",
    "    stop_words = set(stopwords.words('english')) \n",
    "\n",
    "    word_tokens = word_tokenize(example_sent) \n",
    "  \n",
    "  \n",
    "    filtered_sentence = [] \n",
    "  \n",
    "    for w in word_tokens: \n",
    "        if w not in stop_words: \n",
    "            filtered_sentence.append(w) \n",
    "  \n",
    "    return(filtered_sentence) \n",
    "\n",
    "# Take in a string and remove punctuation, repeat lines, etc.\n",
    "# RETURN: string (cleaned up)\n",
    "def cleaner(text):\n",
    "    \n",
    "    text = re.sub('NOTE- TERMS IN BRACKETS HAVE BEEN EDITED TO PROTECT CONFIDENTIALITY','', text)\n",
    "    text = re.sub('<BR/>',' ', text)\n",
    "    text = text.lower()\n",
    "    text = re.sub('[****]','',text)\n",
    "    \n",
    "    text = re.sub('[/%#;:!,.<>\\'?\\\"()-\\[\\]]',' ',text)\n",
    "    text = re.sub('[0-9*]','',text)\n",
    "\n",
    "    text = re.sub(r'(?:^| )\\w(?:$| )', ' ', text)\n",
    "    \n",
    "    a = nltk.pos_tag(tokenize_only(text))\n",
    "    a = pd.DataFrame(a)\n",
    "    a = a[a[1] == 'NN']\n",
    "    text = ' '.join(a[0])\n",
    "    \n",
    "    return(text)\n",
    "def to_lower(text):\n",
    "    text = re.sub(r'^https?:\\/\\/.*[\\r\\n]*', '', text, flags=re.MULTILINE)\n",
    "    re.sub(r\"\\S*https?:\\S*\", \"\", text)\n",
    "    text = text.lower()\n",
    "    \n",
    "    return(text)\n",
    "\n",
    "def tokenize_only(text):\n",
    "    # first tokenize by sentence, then by word to ensure that punctuation is caught as it's own token\n",
    "    tokens = [word.lower() for sent in nltk.sent_tokenize(text) for word in nltk.word_tokenize(sent)]\n",
    "    filtered_tokens = []\n",
    "    # filter out any tokens not containing letters (e.g., numeric tokens, raw punctuation)\n",
    "    for token in tokens:\n",
    "        if re.search('[a-zA-Z]', token):\n",
    "            if(stemmer.stem(token) not in rem_words):\n",
    "                filtered_tokens.append(token)\n",
    "    return filtered_tokens\n",
    "\n",
    "def tokenize_and_stem(text):\n",
    "    \n",
    "    tokens = [word for sent in nltk.sent_tokenize(text) for word in nltk.word_tokenize(sent)]\n",
    "    filtered_tokens = []\n",
    "    # filter out any tokens not containing letters (e.g., numeric tokens, raw punctuation)\n",
    "    for token in tokens:\n",
    "        if re.search('[a-zA-Z]', token):\n",
    "            filtered_tokens.append(token)\n",
    "    stems = [stemmer.stem(t) for t in filtered_tokens]\n",
    "    stems = [e for e in stems if e not in rem_words ]\n",
    "    return stems"
   ]
  },
  {
   "cell_type": "code",
   "execution_count": 7,
   "id": "525d22a0",
   "metadata": {},
   "outputs": [],
   "source": [
    "stemmer = SnowballStemmer(\"english\")"
   ]
  },
  {
   "cell_type": "markdown",
   "id": "c92a2feb",
   "metadata": {},
   "source": [
    "### *Defining Words to Remove*"
   ]
  },
  {
   "cell_type": "code",
   "execution_count": 8,
   "id": "85fbb460",
   "metadata": {},
   "outputs": [],
   "source": [
    "rem_words_1 = \"survey,nurse,cited,am,pm,resident,residents,she,not,review,facility,state,have,year,employee,reported,management,\"\n",
    "rem_words_2 = \"he,staff,interview,care,date,reveal,record,be,month,document,physician,lpn,na,code,description,previous,hospital,m,\"\n",
    "rem_words_3 = \"observation,stated,assessment,don,mds,gna,cna,pa,cm,medical,names,order,status,immediately,redacted,condition,plan,\"\n",
    "rem_words_4 = \"administrative,note,time,indicated,incident,redirected,director,uses,include,inr,rn,investigation,asked,following,\"\n",
    "rem_words_5 = \"provided,alleged,failed,identified,said,ei,ri,parking,assist,every,get,\"\n",
    "rem_words_6 = \"room,left,mm,hg,adl,xl,day,mg,mar,knows,prn,look,ard,give,ml,also,ted,made,non,bims,pasrr,\" # 7/13 update\n",
    "num_alphas  = \"one,two,three,four,five,six,seven,eight,nine,ten,\"\n",
    "#rem_words = rem_words_1 + rem_words_2 + rem_words_3 + rem_words_4 + rem_words_5 + rem_words_6 + num_alphas\n",
    "rem_words = num_alphas\n",
    "rem_words = rem_words.split(',')\n",
    "rem_words = [stemmer.stem(t) for t in rem_words]"
   ]
  },
  {
   "cell_type": "markdown",
   "id": "6342c867",
   "metadata": {},
   "source": [
    "### *Loading Dataset*"
   ]
  },
  {
   "cell_type": "code",
   "execution_count": 77,
   "id": "d8867985",
   "metadata": {},
   "outputs": [
    {
     "name": "stderr",
     "output_type": "stream",
     "text": [
      "/opt/conda/lib/python3.7/site-packages/IPython/core/interactiveshell.py:3444: DtypeWarning: Columns (12,34,36) have mixed types.Specify dtype option on import or set low_memory=False.\n",
      "  exec(code_obj, self.user_global_ns, self.user_ns)\n",
      "/opt/conda/lib/python3.7/site-packages/IPython/core/interactiveshell.py:3444: DtypeWarning: Columns (34) have mixed types.Specify dtype option on import or set low_memory=False.\n",
      "  exec(code_obj, self.user_global_ns, self.user_ns)\n"
     ]
    }
   ],
   "source": [
    "feb20_dataset = pd.read_csv(\"Dataset/twitter_data/feb20.csv\")\n",
    "jul20_dataset = pd.read_csv(\"Dataset/twitter_data/jul20.csv\")\n",
    "sep21_dataset = pd.read_csv(\"Dataset/twitter_data/sep21.csv\")\n",
    "jan21_dataset = pd.read_csv(\"Dataset/twitter_data/jan21.csv\")"
   ]
  },
  {
   "cell_type": "code",
   "execution_count": 78,
   "id": "79185f8f",
   "metadata": {},
   "outputs": [
    {
     "data": {
      "text/html": [
       "<div>\n",
       "<style scoped>\n",
       "    .dataframe tbody tr th:only-of-type {\n",
       "        vertical-align: middle;\n",
       "    }\n",
       "\n",
       "    .dataframe tbody tr th {\n",
       "        vertical-align: top;\n",
       "    }\n",
       "\n",
       "    .dataframe thead th {\n",
       "        text-align: right;\n",
       "    }\n",
       "</style>\n",
       "<table border=\"1\" class=\"dataframe\">\n",
       "  <thead>\n",
       "    <tr style=\"text-align: right;\">\n",
       "      <th></th>\n",
       "      <th>created_at</th>\n",
       "      <th>id</th>\n",
       "      <th>id_str</th>\n",
       "      <th>full_text</th>\n",
       "      <th>source</th>\n",
       "      <th>truncated</th>\n",
       "      <th>in_reply_to_status_id</th>\n",
       "      <th>in_reply_to_status_id_str</th>\n",
       "      <th>in_reply_to_user_id</th>\n",
       "      <th>in_reply_to_user_id_str</th>\n",
       "      <th>...</th>\n",
       "      <th>matching_rules</th>\n",
       "      <th>current_user_retweet</th>\n",
       "      <th>scopes</th>\n",
       "      <th>withheld_copyright</th>\n",
       "      <th>withheld_in_countries</th>\n",
       "      <th>withheld_scope</th>\n",
       "      <th>geo</th>\n",
       "      <th>contributors</th>\n",
       "      <th>display_text_range</th>\n",
       "      <th>quoted_status_permalink</th>\n",
       "    </tr>\n",
       "  </thead>\n",
       "  <tbody>\n",
       "    <tr>\n",
       "      <th>0</th>\n",
       "      <td>Sun Feb 02 14:46:03 +0000 2020</td>\n",
       "      <td>1223980909667504130</td>\n",
       "      <td>1223980909667504130</td>\n",
       "      <td>@HereCelts Too many Corona by the looks of it</td>\n",
       "      <td>&lt;a href=\"http://twitter.com/download/android\" ...</td>\n",
       "      <td>False</td>\n",
       "      <td>1.223978e+18</td>\n",
       "      <td>1.223978e+18</td>\n",
       "      <td>1.155037e+18</td>\n",
       "      <td>1.155037e+18</td>\n",
       "      <td>...</td>\n",
       "      <td>NaN</td>\n",
       "      <td>NaN</td>\n",
       "      <td>NaN</td>\n",
       "      <td>NaN</td>\n",
       "      <td>NaN</td>\n",
       "      <td>NaN</td>\n",
       "      <td>NaN</td>\n",
       "      <td>NaN</td>\n",
       "      <td>[11, 45]</td>\n",
       "      <td>NaN</td>\n",
       "    </tr>\n",
       "    <tr>\n",
       "      <th>1</th>\n",
       "      <td>Mon Feb 03 05:25:36 +0000 2020</td>\n",
       "      <td>1224202255701700608</td>\n",
       "      <td>1224202255701700608</td>\n",
       "      <td>@v_v4victory I've heard nothing good about the...</td>\n",
       "      <td>&lt;a href=\"https://mobile.twitter.com\" rel=\"nofo...</td>\n",
       "      <td>False</td>\n",
       "      <td>1.224197e+18</td>\n",
       "      <td>1.224197e+18</td>\n",
       "      <td>1.146470e+18</td>\n",
       "      <td>1.146470e+18</td>\n",
       "      <td>...</td>\n",
       "      <td>NaN</td>\n",
       "      <td>NaN</td>\n",
       "      <td>NaN</td>\n",
       "      <td>NaN</td>\n",
       "      <td>NaN</td>\n",
       "      <td>NaN</td>\n",
       "      <td>NaN</td>\n",
       "      <td>NaN</td>\n",
       "      <td>[13, 223]</td>\n",
       "      <td>NaN</td>\n",
       "    </tr>\n",
       "  </tbody>\n",
       "</table>\n",
       "<p>2 rows × 40 columns</p>\n",
       "</div>"
      ],
      "text/plain": [
       "                       created_at                   id               id_str  \\\n",
       "0  Sun Feb 02 14:46:03 +0000 2020  1223980909667504130  1223980909667504130   \n",
       "1  Mon Feb 03 05:25:36 +0000 2020  1224202255701700608  1224202255701700608   \n",
       "\n",
       "                                           full_text  \\\n",
       "0      @HereCelts Too many Corona by the looks of it   \n",
       "1  @v_v4victory I've heard nothing good about the...   \n",
       "\n",
       "                                              source  truncated  \\\n",
       "0  <a href=\"http://twitter.com/download/android\" ...      False   \n",
       "1  <a href=\"https://mobile.twitter.com\" rel=\"nofo...      False   \n",
       "\n",
       "   in_reply_to_status_id  in_reply_to_status_id_str  in_reply_to_user_id  \\\n",
       "0           1.223978e+18               1.223978e+18         1.155037e+18   \n",
       "1           1.224197e+18               1.224197e+18         1.146470e+18   \n",
       "\n",
       "   in_reply_to_user_id_str  ... matching_rules current_user_retweet scopes  \\\n",
       "0             1.155037e+18  ...            NaN                  NaN    NaN   \n",
       "1             1.146470e+18  ...            NaN                  NaN    NaN   \n",
       "\n",
       "  withheld_copyright  withheld_in_countries  withheld_scope  geo contributors  \\\n",
       "0                NaN                    NaN             NaN  NaN          NaN   \n",
       "1                NaN                    NaN             NaN  NaN          NaN   \n",
       "\n",
       "   display_text_range  quoted_status_permalink  \n",
       "0            [11, 45]                      NaN  \n",
       "1           [13, 223]                      NaN  \n",
       "\n",
       "[2 rows x 40 columns]"
      ]
     },
     "execution_count": 78,
     "metadata": {},
     "output_type": "execute_result"
    }
   ],
   "source": [
    "feb20_dataset.head(2)"
   ]
  },
  {
   "cell_type": "code",
   "execution_count": 79,
   "id": "4147787f",
   "metadata": {},
   "outputs": [
    {
     "data": {
      "text/html": [
       "<div>\n",
       "<style scoped>\n",
       "    .dataframe tbody tr th:only-of-type {\n",
       "        vertical-align: middle;\n",
       "    }\n",
       "\n",
       "    .dataframe tbody tr th {\n",
       "        vertical-align: top;\n",
       "    }\n",
       "\n",
       "    .dataframe thead th {\n",
       "        text-align: right;\n",
       "    }\n",
       "</style>\n",
       "<table border=\"1\" class=\"dataframe\">\n",
       "  <thead>\n",
       "    <tr style=\"text-align: right;\">\n",
       "      <th></th>\n",
       "      <th>created_at</th>\n",
       "      <th>id</th>\n",
       "      <th>id_str</th>\n",
       "      <th>full_text</th>\n",
       "      <th>source</th>\n",
       "      <th>truncated</th>\n",
       "      <th>in_reply_to_status_id</th>\n",
       "      <th>in_reply_to_status_id_str</th>\n",
       "      <th>in_reply_to_user_id</th>\n",
       "      <th>in_reply_to_user_id_str</th>\n",
       "      <th>...</th>\n",
       "      <th>matching_rules</th>\n",
       "      <th>current_user_retweet</th>\n",
       "      <th>scopes</th>\n",
       "      <th>withheld_copyright</th>\n",
       "      <th>withheld_in_countries</th>\n",
       "      <th>withheld_scope</th>\n",
       "      <th>geo</th>\n",
       "      <th>contributors</th>\n",
       "      <th>display_text_range</th>\n",
       "      <th>quoted_status_permalink</th>\n",
       "    </tr>\n",
       "  </thead>\n",
       "  <tbody>\n",
       "    <tr>\n",
       "      <th>0</th>\n",
       "      <td>Wed Jul 01 01:35:16 +0000 2020</td>\n",
       "      <td>1278140078515261440</td>\n",
       "      <td>1278140078515261440</td>\n",
       "      <td>The blessings are flowing for Franklin Hills e...</td>\n",
       "      <td>&lt;a href=\"https://mobile.twitter.com\" rel=\"nofo...</td>\n",
       "      <td>False</td>\n",
       "      <td>NaN</td>\n",
       "      <td>NaN</td>\n",
       "      <td>NaN</td>\n",
       "      <td>NaN</td>\n",
       "      <td>...</td>\n",
       "      <td>NaN</td>\n",
       "      <td>NaN</td>\n",
       "      <td>NaN</td>\n",
       "      <td>NaN</td>\n",
       "      <td>NaN</td>\n",
       "      <td>NaN</td>\n",
       "      <td>NaN</td>\n",
       "      <td>NaN</td>\n",
       "      <td>[0, 65]</td>\n",
       "      <td>NaN</td>\n",
       "    </tr>\n",
       "    <tr>\n",
       "      <th>1</th>\n",
       "      <td>Wed Jul 01 01:58:05 +0000 2020</td>\n",
       "      <td>1278145820601331712</td>\n",
       "      <td>1278145820601331712</td>\n",
       "      <td>PLS I HATE THIS I HEAR IT EVERYTIME https://t....</td>\n",
       "      <td>&lt;a href=\"http://twitter.com/download/iphone\" r...</td>\n",
       "      <td>False</td>\n",
       "      <td>NaN</td>\n",
       "      <td>NaN</td>\n",
       "      <td>NaN</td>\n",
       "      <td>NaN</td>\n",
       "      <td>...</td>\n",
       "      <td>NaN</td>\n",
       "      <td>NaN</td>\n",
       "      <td>NaN</td>\n",
       "      <td>NaN</td>\n",
       "      <td>NaN</td>\n",
       "      <td>NaN</td>\n",
       "      <td>NaN</td>\n",
       "      <td>NaN</td>\n",
       "      <td>[0, 35]</td>\n",
       "      <td>{'url': 'https://t.co/bI7eFMfZgH', 'expanded':...</td>\n",
       "    </tr>\n",
       "  </tbody>\n",
       "</table>\n",
       "<p>2 rows × 40 columns</p>\n",
       "</div>"
      ],
      "text/plain": [
       "                       created_at                   id               id_str  \\\n",
       "0  Wed Jul 01 01:35:16 +0000 2020  1278140078515261440  1278140078515261440   \n",
       "1  Wed Jul 01 01:58:05 +0000 2020  1278145820601331712  1278145820601331712   \n",
       "\n",
       "                                           full_text  \\\n",
       "0  The blessings are flowing for Franklin Hills e...   \n",
       "1  PLS I HATE THIS I HEAR IT EVERYTIME https://t....   \n",
       "\n",
       "                                              source  truncated  \\\n",
       "0  <a href=\"https://mobile.twitter.com\" rel=\"nofo...      False   \n",
       "1  <a href=\"http://twitter.com/download/iphone\" r...      False   \n",
       "\n",
       "   in_reply_to_status_id  in_reply_to_status_id_str  in_reply_to_user_id  \\\n",
       "0                    NaN                        NaN                  NaN   \n",
       "1                    NaN                        NaN                  NaN   \n",
       "\n",
       "   in_reply_to_user_id_str  ... matching_rules current_user_retweet scopes  \\\n",
       "0                      NaN  ...            NaN                  NaN    NaN   \n",
       "1                      NaN  ...            NaN                  NaN    NaN   \n",
       "\n",
       "  withheld_copyright  withheld_in_countries  withheld_scope  geo contributors  \\\n",
       "0                NaN                    NaN             NaN  NaN          NaN   \n",
       "1                NaN                    NaN             NaN  NaN          NaN   \n",
       "\n",
       "   display_text_range                            quoted_status_permalink  \n",
       "0             [0, 65]                                                NaN  \n",
       "1             [0, 35]  {'url': 'https://t.co/bI7eFMfZgH', 'expanded':...  \n",
       "\n",
       "[2 rows x 40 columns]"
      ]
     },
     "execution_count": 79,
     "metadata": {},
     "output_type": "execute_result"
    }
   ],
   "source": [
    "jul20_dataset.head(2)"
   ]
  },
  {
   "cell_type": "code",
   "execution_count": 80,
   "id": "1551a699",
   "metadata": {},
   "outputs": [
    {
     "data": {
      "text/html": [
       "<div>\n",
       "<style scoped>\n",
       "    .dataframe tbody tr th:only-of-type {\n",
       "        vertical-align: middle;\n",
       "    }\n",
       "\n",
       "    .dataframe tbody tr th {\n",
       "        vertical-align: top;\n",
       "    }\n",
       "\n",
       "    .dataframe thead th {\n",
       "        text-align: right;\n",
       "    }\n",
       "</style>\n",
       "<table border=\"1\" class=\"dataframe\">\n",
       "  <thead>\n",
       "    <tr style=\"text-align: right;\">\n",
       "      <th></th>\n",
       "      <th>created_at</th>\n",
       "      <th>id</th>\n",
       "      <th>id_str</th>\n",
       "      <th>full_text</th>\n",
       "      <th>source</th>\n",
       "      <th>truncated</th>\n",
       "      <th>in_reply_to_status_id</th>\n",
       "      <th>in_reply_to_status_id_str</th>\n",
       "      <th>in_reply_to_user_id</th>\n",
       "      <th>in_reply_to_user_id_str</th>\n",
       "      <th>...</th>\n",
       "      <th>matching_rules</th>\n",
       "      <th>current_user_retweet</th>\n",
       "      <th>scopes</th>\n",
       "      <th>withheld_copyright</th>\n",
       "      <th>withheld_in_countries</th>\n",
       "      <th>withheld_scope</th>\n",
       "      <th>geo</th>\n",
       "      <th>contributors</th>\n",
       "      <th>display_text_range</th>\n",
       "      <th>quoted_status_permalink</th>\n",
       "    </tr>\n",
       "  </thead>\n",
       "  <tbody>\n",
       "    <tr>\n",
       "      <th>0</th>\n",
       "      <td>Wed Sep 01 05:43:53 +0000 2021</td>\n",
       "      <td>1432942263903170560</td>\n",
       "      <td>1432942263903170560</td>\n",
       "      <td>Scientists warn that Covid will accelerate ‘de...</td>\n",
       "      <td>&lt;a href=\"http://twitter.com/download/iphone\" r...</td>\n",
       "      <td>False</td>\n",
       "      <td>NaN</td>\n",
       "      <td>NaN</td>\n",
       "      <td>NaN</td>\n",
       "      <td>NaN</td>\n",
       "      <td>...</td>\n",
       "      <td>NaN</td>\n",
       "      <td>NaN</td>\n",
       "      <td>NaN</td>\n",
       "      <td>NaN</td>\n",
       "      <td>NaN</td>\n",
       "      <td>NaN</td>\n",
       "      <td>NaN</td>\n",
       "      <td>NaN</td>\n",
       "      <td>[0, 188]</td>\n",
       "      <td>NaN</td>\n",
       "    </tr>\n",
       "    <tr>\n",
       "      <th>1</th>\n",
       "      <td>Thu Sep 02 19:01:50 +0000 2021</td>\n",
       "      <td>1433505465019809799</td>\n",
       "      <td>1433505465019809799</td>\n",
       "      <td>That's.....nowhere near as weird as people see...</td>\n",
       "      <td>&lt;a href=\"http://twitter.com/download/android\" ...</td>\n",
       "      <td>False</td>\n",
       "      <td>NaN</td>\n",
       "      <td>NaN</td>\n",
       "      <td>NaN</td>\n",
       "      <td>NaN</td>\n",
       "      <td>...</td>\n",
       "      <td>NaN</td>\n",
       "      <td>NaN</td>\n",
       "      <td>NaN</td>\n",
       "      <td>NaN</td>\n",
       "      <td>NaN</td>\n",
       "      <td>NaN</td>\n",
       "      <td>NaN</td>\n",
       "      <td>NaN</td>\n",
       "      <td>[0, 63]</td>\n",
       "      <td>{'url': 'https://t.co/1AGpFLPkqN', 'expanded':...</td>\n",
       "    </tr>\n",
       "  </tbody>\n",
       "</table>\n",
       "<p>2 rows × 40 columns</p>\n",
       "</div>"
      ],
      "text/plain": [
       "                       created_at                   id               id_str  \\\n",
       "0  Wed Sep 01 05:43:53 +0000 2021  1432942263903170560  1432942263903170560   \n",
       "1  Thu Sep 02 19:01:50 +0000 2021  1433505465019809799  1433505465019809799   \n",
       "\n",
       "                                           full_text  \\\n",
       "0  Scientists warn that Covid will accelerate ‘de...   \n",
       "1  That's.....nowhere near as weird as people see...   \n",
       "\n",
       "                                              source  truncated  \\\n",
       "0  <a href=\"http://twitter.com/download/iphone\" r...      False   \n",
       "1  <a href=\"http://twitter.com/download/android\" ...      False   \n",
       "\n",
       "   in_reply_to_status_id  in_reply_to_status_id_str  in_reply_to_user_id  \\\n",
       "0                    NaN                        NaN                  NaN   \n",
       "1                    NaN                        NaN                  NaN   \n",
       "\n",
       "   in_reply_to_user_id_str  ... matching_rules current_user_retweet scopes  \\\n",
       "0                      NaN  ...            NaN                  NaN    NaN   \n",
       "1                      NaN  ...            NaN                  NaN    NaN   \n",
       "\n",
       "  withheld_copyright  withheld_in_countries  withheld_scope  geo contributors  \\\n",
       "0                NaN                    NaN             NaN  NaN          NaN   \n",
       "1                NaN                    NaN             NaN  NaN          NaN   \n",
       "\n",
       "   display_text_range                            quoted_status_permalink  \n",
       "0            [0, 188]                                                NaN  \n",
       "1             [0, 63]  {'url': 'https://t.co/1AGpFLPkqN', 'expanded':...  \n",
       "\n",
       "[2 rows x 40 columns]"
      ]
     },
     "execution_count": 80,
     "metadata": {},
     "output_type": "execute_result"
    }
   ],
   "source": [
    "sep21_dataset.head(2)"
   ]
  },
  {
   "cell_type": "code",
   "execution_count": 81,
   "id": "984a20bb",
   "metadata": {},
   "outputs": [
    {
     "data": {
      "text/html": [
       "<div>\n",
       "<style scoped>\n",
       "    .dataframe tbody tr th:only-of-type {\n",
       "        vertical-align: middle;\n",
       "    }\n",
       "\n",
       "    .dataframe tbody tr th {\n",
       "        vertical-align: top;\n",
       "    }\n",
       "\n",
       "    .dataframe thead th {\n",
       "        text-align: right;\n",
       "    }\n",
       "</style>\n",
       "<table border=\"1\" class=\"dataframe\">\n",
       "  <thead>\n",
       "    <tr style=\"text-align: right;\">\n",
       "      <th></th>\n",
       "      <th>created_at</th>\n",
       "      <th>id</th>\n",
       "      <th>id_str</th>\n",
       "      <th>full_text</th>\n",
       "      <th>source</th>\n",
       "      <th>truncated</th>\n",
       "      <th>in_reply_to_status_id</th>\n",
       "      <th>in_reply_to_status_id_str</th>\n",
       "      <th>in_reply_to_user_id</th>\n",
       "      <th>in_reply_to_user_id_str</th>\n",
       "      <th>...</th>\n",
       "      <th>matching_rules</th>\n",
       "      <th>current_user_retweet</th>\n",
       "      <th>scopes</th>\n",
       "      <th>withheld_copyright</th>\n",
       "      <th>withheld_in_countries</th>\n",
       "      <th>withheld_scope</th>\n",
       "      <th>geo</th>\n",
       "      <th>contributors</th>\n",
       "      <th>display_text_range</th>\n",
       "      <th>quoted_status_permalink</th>\n",
       "    </tr>\n",
       "  </thead>\n",
       "  <tbody>\n",
       "    <tr>\n",
       "      <th>0</th>\n",
       "      <td>Fri Jan 01 00:05:14 +0000 2021</td>\n",
       "      <td>1344796789275299841</td>\n",
       "      <td>1344796789275299841</td>\n",
       "      <td>WE DON'T KNOW ABOUT YOU, but we can't wait for...</td>\n",
       "      <td>&lt;a href=\"https://www.hootsuite.com\" rel=\"nofol...</td>\n",
       "      <td>False</td>\n",
       "      <td>NaN</td>\n",
       "      <td>NaN</td>\n",
       "      <td>NaN</td>\n",
       "      <td>NaN</td>\n",
       "      <td>...</td>\n",
       "      <td>NaN</td>\n",
       "      <td>NaN</td>\n",
       "      <td>NaN</td>\n",
       "      <td>NaN</td>\n",
       "      <td>NaN</td>\n",
       "      <td>NaN</td>\n",
       "      <td>NaN</td>\n",
       "      <td>NaN</td>\n",
       "      <td>[0, 277]</td>\n",
       "      <td>NaN</td>\n",
       "    </tr>\n",
       "    <tr>\n",
       "      <th>1</th>\n",
       "      <td>Fri Jan 01 00:09:34 +0000 2021</td>\n",
       "      <td>1344797880293457920</td>\n",
       "      <td>1344797880293457920</td>\n",
       "      <td>i want the vaccine . boris baby gimme the vaccine</td>\n",
       "      <td>&lt;a href=\"http://twitter.com/download/iphone\" r...</td>\n",
       "      <td>False</td>\n",
       "      <td>NaN</td>\n",
       "      <td>NaN</td>\n",
       "      <td>NaN</td>\n",
       "      <td>NaN</td>\n",
       "      <td>...</td>\n",
       "      <td>NaN</td>\n",
       "      <td>NaN</td>\n",
       "      <td>NaN</td>\n",
       "      <td>NaN</td>\n",
       "      <td>NaN</td>\n",
       "      <td>NaN</td>\n",
       "      <td>NaN</td>\n",
       "      <td>NaN</td>\n",
       "      <td>[0, 49]</td>\n",
       "      <td>NaN</td>\n",
       "    </tr>\n",
       "  </tbody>\n",
       "</table>\n",
       "<p>2 rows × 40 columns</p>\n",
       "</div>"
      ],
      "text/plain": [
       "                       created_at                   id               id_str  \\\n",
       "0  Fri Jan 01 00:05:14 +0000 2021  1344796789275299841  1344796789275299841   \n",
       "1  Fri Jan 01 00:09:34 +0000 2021  1344797880293457920  1344797880293457920   \n",
       "\n",
       "                                           full_text  \\\n",
       "0  WE DON'T KNOW ABOUT YOU, but we can't wait for...   \n",
       "1  i want the vaccine . boris baby gimme the vaccine   \n",
       "\n",
       "                                              source  truncated  \\\n",
       "0  <a href=\"https://www.hootsuite.com\" rel=\"nofol...      False   \n",
       "1  <a href=\"http://twitter.com/download/iphone\" r...      False   \n",
       "\n",
       "   in_reply_to_status_id  in_reply_to_status_id_str  in_reply_to_user_id  \\\n",
       "0                    NaN                        NaN                  NaN   \n",
       "1                    NaN                        NaN                  NaN   \n",
       "\n",
       "   in_reply_to_user_id_str  ... matching_rules current_user_retweet scopes  \\\n",
       "0                      NaN  ...            NaN                  NaN    NaN   \n",
       "1                      NaN  ...            NaN                  NaN    NaN   \n",
       "\n",
       "  withheld_copyright  withheld_in_countries  withheld_scope  geo contributors  \\\n",
       "0                NaN                    NaN             NaN  NaN          NaN   \n",
       "1                NaN                    NaN             NaN  NaN          NaN   \n",
       "\n",
       "   display_text_range  quoted_status_permalink  \n",
       "0            [0, 277]                      NaN  \n",
       "1             [0, 49]                      NaN  \n",
       "\n",
       "[2 rows x 40 columns]"
      ]
     },
     "execution_count": 81,
     "metadata": {},
     "output_type": "execute_result"
    }
   ],
   "source": [
    "jan21_dataset.head(2)"
   ]
  },
  {
   "cell_type": "code",
   "execution_count": 82,
   "id": "2ef7b0f6",
   "metadata": {},
   "outputs": [],
   "source": [
    "feb20_tweets = feb20_dataset[\"full_text\"]\n",
    "jul20_tweets = jul20_dataset[\"full_text\"]\n",
    "sep21_tweets = sep21_dataset[\"full_text\"]\n",
    "jan21_tweets = jan21_dataset[\"full_text\"]"
   ]
  },
  {
   "cell_type": "code",
   "execution_count": 83,
   "id": "dfb7e73c",
   "metadata": {},
   "outputs": [
    {
     "name": "stdout",
     "output_type": "stream",
     "text": [
      "It’s time for Southeast Asia to stand together against China – with Indonesia leading the way.\n",
      "\n",
      "We should ALL stand together against China. #fuckChina https://t.co/tbFo55NCu3\n",
      "\n",
      "In the news: Coronavirus infections going up in 36 states as July Fourth weekend starts https://t.co/UMaYTPv7EU #coronavirus #COVID19 #2019ncov\n",
      "\n",
      "Wasn't the hard lockdown rationalized because otherwise cases would be in thousands? https://t.co/cxUZyH3Z8n\n",
      "\n",
      "There is no such thing as make up that does not move under your mask! Sincerely, an overworked beauty consultant.\n"
     ]
    }
   ],
   "source": [
    "print(feb20_tweets[4],jul20_tweets[4],sep21_tweets[4], jan21_tweets[4], sep = '\\n\\n')"
   ]
  },
  {
   "cell_type": "code",
   "execution_count": 84,
   "id": "eb862c5c",
   "metadata": {},
   "outputs": [],
   "source": [
    "temp_feb20 = feb20_tweets.str.replace('\\n',' ')\n",
    "temp_jul20 = jul20_tweets.str.replace('\\n',' ')\n",
    "temp_sep21 = sep21_tweets.str.replace('\\n',' ')\n",
    "temp_jan21 = jan21_tweets.str.replace('\\n',' ')\n",
    "\n",
    "for k in range(len(temp_feb20)):\n",
    "    temp_feb20[k] = re.sub(r\"\\S*https?:\\S*\",\"\", temp_feb20[k])\n",
    "for k in range(len(temp_jul20)):\n",
    "    temp_jul20[k] = re.sub(r\"\\S*https?:\\S*\",\"\", temp_jul20[k])\n",
    "for k in range(len(temp_sep21)):\n",
    "    temp_sep21[k] = re.sub(r\"\\S*https?:\\S*\",\"\", temp_sep21[k])\n",
    "for k in range(len(temp_jan21)):\n",
    "    temp_jan21[k] = re.sub(r\"\\S*https?:\\S*\",\"\", temp_jan21[k])"
   ]
  },
  {
   "cell_type": "markdown",
   "id": "f2703ddd",
   "metadata": {},
   "source": [
    "### *Cleaning Dataset*"
   ]
  },
  {
   "cell_type": "code",
   "execution_count": 85,
   "id": "8ef91a12",
   "metadata": {},
   "outputs": [],
   "source": [
    "cleaned_feb20_tweets = []\n",
    "cleaned_jul20_tweets = []\n",
    "cleaned_sep21_tweets = []\n",
    "cleaned_jan21_tweets = []"
   ]
  },
  {
   "cell_type": "code",
   "execution_count": 86,
   "id": "e589cb02",
   "metadata": {},
   "outputs": [],
   "source": [
    "for k in temp_feb20: cleaned_feb20_tweets.append(''.join(to_lower(k)))\n",
    "for k in temp_jul20: cleaned_jul20_tweets.append(''.join(to_lower(k)))\n",
    "for k in temp_sep21: cleaned_sep21_tweets.append(''.join(to_lower(k)))\n",
    "for k in temp_jan21: cleaned_jan21_tweets.append(''.join(to_lower(k)))"
   ]
  },
  {
   "cell_type": "code",
   "execution_count": 87,
   "id": "decd3571",
   "metadata": {},
   "outputs": [
    {
     "name": "stdout",
     "output_type": "stream",
     "text": [
      "@v_v4victory I've heard nothing good about the Red Cross of China.  Either they're stockpiling in the event of a much more severe epidemic, which becomes more likely the more they do this, or they have some crooked motives.\n",
      "@v_v4victory i've heard nothing good about the red cross of china.  either they're stockpiling in the event of a much more severe epidemic, which becomes more likely the more they do this, or they have some crooked motives.\n",
      "\n",
      "In the news: Coronavirus infections going up in 36 states as July Fourth weekend starts  #coronavirus #COVID19 #2019ncov\n",
      "in the news: coronavirus infections going up in 36 states as july fourth weekend starts  #coronavirus #covid19 #2019ncov\n",
      "\n",
      "Wasn't the hard lockdown rationalized because otherwise cases would be in thousands? \n",
      "wasn't the hard lockdown rationalized because otherwise cases would be in thousands? \n",
      "\n",
      "There is no such thing as make up that does not move under your mask! Sincerely, an overworked beauty consultant.\n",
      "there is no such thing as make up that does not move under your mask! sincerely, an overworked beauty consultant.\n",
      "\n"
     ]
    }
   ],
   "source": [
    "print(temp_feb20[1], cleaned_feb20_tweets[1], sep = '\\n', end = '\\n\\n') \n",
    "print(temp_jul20[4], cleaned_jul20_tweets[4], sep = '\\n', end = '\\n\\n') \n",
    "print(temp_sep21[4], cleaned_sep21_tweets[4], sep = '\\n', end = '\\n\\n')\n",
    "print(temp_jan21[4], cleaned_jan21_tweets[4], sep = '\\n', end = '\\n\\n')"
   ]
  },
  {
   "cell_type": "code",
   "execution_count": 88,
   "id": "85585307",
   "metadata": {},
   "outputs": [],
   "source": [
    "feb20_vectors = [nltk.word_tokenize(cleaned_feb20_tweets) for cleaned_feb20_tweets in cleaned_feb20_tweets]\n",
    "jul20_vectors = [nltk.word_tokenize(cleaned_jul20_tweets) for cleaned_jul20_tweets in cleaned_jul20_tweets]\n",
    "sep21_vectors = [nltk.word_tokenize(cleaned_sep21_tweets) for cleaned_sep21_tweets in cleaned_sep21_tweets]\n",
    "jan21_vectors = [nltk.word_tokenize(cleaned_jan21_tweets) for cleaned_jan21_tweets in cleaned_jan21_tweets]"
   ]
  },
  {
   "cell_type": "markdown",
   "id": "8df31aa0",
   "metadata": {},
   "source": [
    "### *Creating W2V model*"
   ]
  },
  {
   "cell_type": "code",
   "execution_count": 89,
   "id": "019776b8",
   "metadata": {},
   "outputs": [],
   "source": [
    "feb20_model = Word2Vec(feb20_vectors)\n",
    "jul20_model = Word2Vec(jul20_vectors)\n",
    "sep21_model = Word2Vec(sep21_vectors)\n",
    "jan21_model = Word2Vec(jan21_vectors)"
   ]
  },
  {
   "cell_type": "code",
   "execution_count": 90,
   "id": "21ff7d6c",
   "metadata": {},
   "outputs": [
    {
     "data": {
      "text/plain": [
       "[('coronaviruskenya', 0.4963732063770294),\n",
       " ('#', 0.4962300658226013),\n",
       " ('t', 0.4527714252471924),\n",
       " ('paying', 0.4248821437358856),\n",
       " ('’', 0.4000583291053772),\n",
       " ('&', 0.3810502290725708),\n",
       " (';', 0.3783608078956604),\n",
       " ('s', 0.3721461892127991),\n",
       " ('amp', 0.30719107389450073),\n",
       " ('citizentvkenya', 0.2599797248840332)]"
      ]
     },
     "execution_count": 90,
     "metadata": {},
     "output_type": "execute_result"
    }
   ],
   "source": [
    "feb20_model.wv.most_similar(\"cdc\", topn=50000)[-10:]"
   ]
  },
  {
   "cell_type": "code",
   "execution_count": 100,
   "id": "133c98d3",
   "metadata": {},
   "outputs": [
    {
     "data": {
      "text/plain": [
       "[('experts', 0.718048095703125),\n",
       " ('bypass', 0.6645267605781555),\n",
       " ('official', 0.6587504148483276),\n",
       " ('fauci', 0.6577362418174744),\n",
       " ('scientists', 0.6554674506187439),\n",
       " ('police', 0.6501331329345703),\n",
       " ('senate', 0.6444199085235596),\n",
       " ('data', 0.6345052123069763),\n",
       " ('dr.', 0.6234242916107178),\n",
       " ('dr', 0.612011730670929),\n",
       " ('chief', 0.6017834544181824),\n",
       " ('democrats', 0.6015497446060181),\n",
       " ('hydroxychloroquine', 0.5950035452842712),\n",
       " ('governors', 0.5940666794776917),\n",
       " ('general', 0.5927984714508057),\n",
       " ('anthony', 0.5878850817680359),\n",
       " ('cuomo', 0.5874347686767578),\n",
       " ('provinces', 0.5858803987503052),\n",
       " ('cv19', 0.5849043726921082),\n",
       " ('warn', 0.581059455871582)]"
      ]
     },
     "execution_count": 100,
     "metadata": {},
     "output_type": "execute_result"
    }
   ],
   "source": [
    "jul20_model.wv.most_similar('cdc', topn=20)# cdc, "
   ]
  },
  {
   "cell_type": "code",
   "execution_count": 99,
   "id": "729d5d66",
   "metadata": {},
   "outputs": [
    {
     "data": {
      "text/plain": [
       "[('fda', 0.8118802905082703),\n",
       " ('fauci', 0.7291357517242432),\n",
       " ('approved', 0.6852525472640991),\n",
       " ('data', 0.6747261881828308),\n",
       " ('drug', 0.6513381600379944),\n",
       " ('science', 0.6489236354827881),\n",
       " ('study', 0.6339819431304932),\n",
       " ('ivermectin', 0.6309774518013),\n",
       " ('experts', 0.6297883987426758),\n",
       " ('gottlieb', 0.6132366061210632),\n",
       " ('dr', 0.6068515777587891),\n",
       " ('director', 0.5954670906066895),\n",
       " ('indicate', 0.5919747352600098),\n",
       " ('yahoonews', 0.5919152498245239),\n",
       " ('merck', 0.5894800424575806),\n",
       " ('dr.', 0.5848010778427124),\n",
       " ('source', 0.5801706314086914),\n",
       " ('evidence', 0.5786585211753845),\n",
       " ('ceo', 0.5758166313171387),\n",
       " ('rap', 0.5707105994224548)]"
      ]
     },
     "execution_count": 99,
     "metadata": {},
     "output_type": "execute_result"
    }
   ],
   "source": [
    "test = sep21_model.wv.most_similar('cdc', topn=20)# cdc, \n",
    "test"
   ]
  },
  {
   "cell_type": "code",
   "execution_count": 98,
   "id": "60fc79ac",
   "metadata": {},
   "outputs": [
    {
     "data": {
      "text/plain": [
       "[('report', 0.8046133518218994),\n",
       " ('israel', 0.7954927682876587),\n",
       " (\"'coronavirus\", 0.7885838747024536),\n",
       " ('data', 0.7870995402336121),\n",
       " ('fda', 0.7833999991416931),\n",
       " ('africa', 0.7788946032524109),\n",
       " ('study', 0.7748864889144897),\n",
       " ('official', 0.7681505680084229),\n",
       " ('iran', 0.7630996704101562),\n",
       " ('brazil', 0.7626031637191772),\n",
       " ('ceo', 0.7578532695770264),\n",
       " ('graham', 0.7527308464050293),\n",
       " ('lab', 0.7508912682533264),\n",
       " ('powered', 0.7476286292076111),\n",
       " ('yellen', 0.7457106709480286),\n",
       " ('west', 0.7412574291229248),\n",
       " ('b.c', 0.7411503195762634),\n",
       " ('outlined', 0.7407395839691162),\n",
       " ('whitty', 0.7399857640266418),\n",
       " ('efficacy', 0.7362862825393677)]"
      ]
     },
     "execution_count": 98,
     "metadata": {},
     "output_type": "execute_result"
    }
   ],
   "source": [
    "jan21_model.wv.most_similar('cdc', topn=20)# cdc, "
   ]
  },
  {
   "cell_type": "code",
   "execution_count": 103,
   "id": "adee3fcd",
   "metadata": {},
   "outputs": [
    {
     "data": {
      "text/plain": [
       "0.1039426326751709"
      ]
     },
     "execution_count": 103,
     "metadata": {},
     "output_type": "execute_result"
    }
   ],
   "source": [
    "dist1 = distance.cosine(feb20_model.wv['cdc'] , feb20_model.wv['trust'])\n",
    "dist1"
   ]
  },
  {
   "cell_type": "code",
   "execution_count": 104,
   "id": "ca97923a",
   "metadata": {},
   "outputs": [
    {
     "data": {
      "text/plain": [
       "0.613687664270401"
      ]
     },
     "execution_count": 104,
     "metadata": {},
     "output_type": "execute_result"
    }
   ],
   "source": [
    "dist2 = distance.cosine(jul20_model.wv['cdc'] , jul20_model.wv['trust'])\n",
    "dist2"
   ]
  },
  {
   "cell_type": "code",
   "execution_count": 106,
   "id": "e06e9770",
   "metadata": {},
   "outputs": [
    {
     "data": {
      "text/plain": [
       "0.6191674470901489"
      ]
     },
     "execution_count": 106,
     "metadata": {},
     "output_type": "execute_result"
    }
   ],
   "source": [
    "distance.cosine(jan21_model.wv['cdc'] , jan21_model.wv['trust'])"
   ]
  },
  {
   "cell_type": "code",
   "execution_count": 105,
   "id": "7a1817e4",
   "metadata": {},
   "outputs": [
    {
     "data": {
      "text/plain": [
       "0.6582457721233368"
      ]
     },
     "execution_count": 105,
     "metadata": {},
     "output_type": "execute_result"
    }
   ],
   "source": [
    "dist3 = distance.cosine(sep21_model.wv['cdc'] , sep21_model.wv['trust'])\n",
    "dist3"
   ]
  },
  {
   "cell_type": "markdown",
   "id": "70d1d02c",
   "metadata": {},
   "source": [
    "### *Creating Visualizations*"
   ]
  },
  {
   "cell_type": "code",
   "execution_count": null,
   "id": "309773cc",
   "metadata": {},
   "outputs": [],
   "source": [
    "def plot_graph():\n",
    "    plt.plot(df['Date'], df['Relation'], color='red', marker='o')\n",
    "    plt.title(\"Relationship VS Time for '{}' and '{}'\".format(str1, str2), fontsize=14)\n",
    "    plt.xlabel('Date', fontsize=14)\n",
    "    plt.ylabel('Relation (lower means closely related)', fontsize=14)\n",
    "    plt.grid(True)\n",
    "    plt.show()"
   ]
  },
  {
   "cell_type": "code",
   "execution_count": 118,
   "id": "103ca7d8",
   "metadata": {},
   "outputs": [],
   "source": [
    "def get_dist(str1, str2):\n",
    "    \n",
    "    jul20_dist = distance.cosine(jul20_model.wv[str1] , jul20_model.wv[str2])\n",
    "    jan21_dist = distance.cosine(jan21_model.wv[str1] , jan21_model.wv[str2])\n",
    "    sep21_dist = distance.cosine(sep21_model.wv[str1] , sep21_model.wv[str2])\n",
    "    \n",
    "#     print(jul20_dist, jan21_dist, sep21_dist)\n",
    "    \n",
    "    return jul20_dist, jan21_dist, sep21_dist\n",
    "\n",
    "def vis_relation(str1, str2):\n",
    "    \n",
    "    jul_dist, jan_dist, sep_dist = get_dist(str1, str2)\n",
    "    \n",
    "    Data = {'Relation': [jul_dist, jan_dist, sep_dist],\n",
    "        'Date': [\"jul20\", \"jan21\", \"sep21\"]\n",
    "    }\n",
    "    \n",
    "    figure(figsize=(15, 6), dpi=80)\n",
    "  \n",
    "    df = pd.DataFrame(Data,columns=['Date','Relation'])\n",
    "\n",
    "    plt.plot(df['Date'], df['Relation'], color='red', marker='o')\n",
    "    plt.title(\"Relationship VS Time for '{}' and '{}'\".format(str1, str2), fontsize=14)\n",
    "    plt.xlabel('Date', fontsize=14)\n",
    "    plt.ylabel('Relation (lower means closely related)', fontsize=14)\n",
    "    plt.grid(True)\n",
    "    plt.show()\n",
    "    \n",
    "def top_relation(keyword, month, top):\n",
    "    if month == \"feb\":\n",
    "        top_words = feb20_model.wv.most_similar(keyword, topn=top)\n",
    "    elif month == \"jul\":\n",
    "        top_words = jul20_model.wv.most_similar(keyword, topn=top)\n",
    "    elif month == \"jan\":\n",
    "        top_words = jan21_model.wv.most_similar(keyword, topn=top)\n",
    "    elif month == \"sep\":\n",
    "        top_words = sep21_model.wv.most_similar(keyword, topn=top)\n",
    "    else:\n",
    "        print(\"Error in 'month' field\")\n",
    "        exit()\n",
    "        \n",
    "    print(top_words)\n",
    "    \n",
    "    Data = {'Date': [\"jul20\", \"jan21\", \"sep21\"]}\n",
    "    columns = ['Date']\n",
    "    cols = []\n",
    "    \n",
    "    \n",
    "    fig, ax = plt.subplots(figsize=(15,10))\n",
    "\n",
    "        \n",
    "    for i, val in enumerate(top_words):\n",
    "        \n",
    "        try:\n",
    "            jul_dist, jan_dist, sep_dist = get_dist(keyword, val[0])\n",
    "        except:\n",
    "            continue\n",
    "        \n",
    "        \n",
    "#         print(\"..\", jul_dist, jan_dist, sep_dist)\n",
    "        \n",
    "        arr = [jul_dist, jan_dist, sep_dist]\n",
    "        \n",
    "        Data[val[0]] = arr\n",
    "        \n",
    "        columns.append(val[0])\n",
    "        cols.append(val[0])\n",
    "        \n",
    "        ax.annotate(val[0], (\"sep21\", sep_dist))\n",
    "        \n",
    "    df = pd.DataFrame(Data,columns=columns)\n",
    "        \n",
    "\n",
    "    plt.plot(df['Date'], df[cols], color='red', marker='o')\n",
    "    plt.title(\"Relationship VS Time for '{}' compared to colsest '{}' words in {}\".format(keyword, top, month), fontsize=14)\n",
    "    plt.xlabel('Date', fontsize=14)\n",
    "    plt.ylabel('Relation (lower means closely related)', fontsize=14)\n",
    "    plt.grid(True)\n",
    "    plt.show()"
   ]
  },
  {
   "cell_type": "code",
   "execution_count": 124,
   "id": "15f48e01",
   "metadata": {},
   "outputs": [
    {
     "data": {
      "image/png": "[encoded data removed]",
      "text/plain": [
       "<Figure size 1200x480 with 1 Axes>"
      ]
     },
     "metadata": {
      "needs_background": "light"
     },
     "output_type": "display_data"
    }
   ],
   "source": [
    "vis_relation(\"cdc\", \"trust\")"
   ]
  },
  {
   "cell_type": "code",
   "execution_count": 123,
   "id": "be463751",
   "metadata": {},
   "outputs": [
    {
     "name": "stdout",
     "output_type": "stream",
     "text": [
      "[('report', 0.8046133518218994), ('israel', 0.7954927682876587), (\"'coronavirus\", 0.7885838747024536), ('data', 0.7870995402336121), ('fda', 0.7833999991416931), ('africa', 0.7788946032524109), ('study', 0.7748864889144897), ('official', 0.7681505680084229), ('iran', 0.7630996704101562), ('brazil', 0.7626031637191772), ('ceo', 0.7578532695770264), ('graham', 0.7527308464050293), ('lab', 0.7508912682533264), ('powered', 0.7476286292076111), ('yellen', 0.7457106709480286), ('west', 0.7412574291229248), ('b.c', 0.7411503195762634), ('outlined', 0.7407395839691162), ('whitty', 0.7399857640266418), ('efficacy', 0.7362862825393677)]\n"
     ]
    },
    {
     "data": {
      "image/png": "[encoded data removed]",
      "text/plain": [
       "<Figure size 1080x720 with 1 Axes>"
      ]
     },
     "metadata": {
      "needs_background": "light"
     },
     "output_type": "display_data"
    }
   ],
   "source": [
    "top_relation(\"cdc\", \"jan\", 20)"
   ]
  },
  {
   "cell_type": "code",
   "execution_count": null,
   "id": "433db1d0",
   "metadata": {},
   "outputs": [],
   "source": []
  }
 ],
 "metadata": {
  "kernelspec": {
   "display_name": "Python 3 (ipykernel)",
   "language": "python",
   "name": "python3"
  },
  "language_info": {
   "codemirror_mode": {
    "name": "ipython",
    "version": 3
   },
   "file_extension": ".py",
   "mimetype": "text/x-python",
   "name": "python",
   "nbconvert_exporter": "python",
   "pygments_lexer": "ipython3",
   "version": "3.7.12"
  }
 },
 "nbformat": 4,
 "nbformat_minor": 5
}
