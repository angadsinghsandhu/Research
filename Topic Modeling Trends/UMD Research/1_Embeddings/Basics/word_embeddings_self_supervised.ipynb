{
 "metadata": {
  "language_info": {
   "codemirror_mode": {
    "name": "ipython",
    "version": 3
   },
   "file_extension": ".py",
   "mimetype": "text/x-python",
   "name": "python",
   "nbconvert_exporter": "python",
   "pygments_lexer": "ipython3",
   "version": "3.9.0"
  },
  "orig_nbformat": 2,
  "kernelspec": {
   "name": "python390jvsc74a57bd0d455eddb6368c0d16204c1659e374cfdf0528942b4fc510cf88f49775496f1b6",
   "display_name": "Python 3.9.0 64-bit"
  }
 },
 "nbformat": 4,
 "nbformat_minor": 2,
 "cells": [
  {
   "source": [
    "# Using Word2Vec to create self-Supervised Embeddings\n",
    "\n",
    "We will use _Tensorflow_ to create a 3 layer `Word2Vec` model to train embeddings"
   ],
   "cell_type": "markdown",
   "metadata": {}
  },
  {
   "cell_type": "code",
   "execution_count": 13,
   "metadata": {},
   "outputs": [
    {
     "output_type": "error",
     "ename": "ModuleNotFoundError",
     "evalue": "No module named 'numpy'",
     "traceback": [
      "\u001b[1;31m---------------------------------------------------------------------------\u001b[0m",
      "\u001b[1;31mModuleNotFoundError\u001b[0m                       Traceback (most recent call last)",
      "\u001b[1;32m<ipython-input-13-de001fca6704>\u001b[0m in \u001b[0;36m<module>\u001b[1;34m\u001b[0m\n\u001b[1;32m----> 1\u001b[1;33m \u001b[1;32mimport\u001b[0m \u001b[0mnumpy\u001b[0m \u001b[1;32mas\u001b[0m \u001b[0mnp\u001b[0m\u001b[1;33m\u001b[0m\u001b[1;33m\u001b[0m\u001b[0m\n\u001b[0m\u001b[0;32m      2\u001b[0m \u001b[1;32mimport\u001b[0m \u001b[0mtensorflow\u001b[0m \u001b[1;32mas\u001b[0m \u001b[0mtf\u001b[0m\u001b[1;33m\u001b[0m\u001b[1;33m\u001b[0m\u001b[0m\n\u001b[0;32m      3\u001b[0m \u001b[1;32mimport\u001b[0m \u001b[0mtensorflow\u001b[0m\u001b[1;33m.\u001b[0m\u001b[0mkeras\u001b[0m \u001b[1;32mas\u001b[0m \u001b[0mk\u001b[0m\u001b[1;33m\u001b[0m\u001b[1;33m\u001b[0m\u001b[0m\n\u001b[0;32m      4\u001b[0m \u001b[1;32mfrom\u001b[0m \u001b[0mk\u001b[0m\u001b[1;33m.\u001b[0m\u001b[0mpreprocessing\u001b[0m\u001b[1;33m.\u001b[0m\u001b[0mtext\u001b[0m \u001b[1;32mimport\u001b[0m \u001b[0mone_hot\u001b[0m\u001b[1;33m\u001b[0m\u001b[1;33m\u001b[0m\u001b[0m\n\u001b[0;32m      5\u001b[0m \u001b[1;32mfrom\u001b[0m \u001b[0mk\u001b[0m\u001b[1;33m.\u001b[0m\u001b[0mpreprocessing\u001b[0m\u001b[1;33m.\u001b[0m\u001b[0msequence\u001b[0m \u001b[1;32mimport\u001b[0m \u001b[0mpad_sequences\u001b[0m\u001b[1;33m\u001b[0m\u001b[1;33m\u001b[0m\u001b[0m\n",
      "\u001b[1;31mModuleNotFoundError\u001b[0m: No module named 'numpy'"
     ]
    }
   ],
   "source": [
    "import numpy as np\n",
    "import tensorflow as tf\n",
    "import tensorflow.keras as k\n",
    "from k.preprocessing.text import one_hot\n",
    "from k.preprocessing.sequence import pad_sequences\n",
    "from k.models import Sequential\n",
    "import k.layers as tf_layer\n",
    "from sklearn.manifold import TSNE\n",
    "from sklearn import preprocessing\n",
    "import matplotlib.pyplot as plt\n",
    "\n",
    "\n"
   ]
  },
  {
   "source": [
    "### *Cleaning up our Corpus* "
   ],
   "cell_type": "markdown",
   "metadata": {}
  },
  {
   "cell_type": "code",
   "execution_count": null,
   "metadata": {},
   "outputs": [],
   "source": [
    "# taking our Corpus and converting it to be lowercase\n",
    "corpus = \"nice food, amazing restaurant, too good, horrible sevice, highly disgusting, never recommending this to anyone\"\n",
    "corpus = corpus.lower()\n",
    "\n",
    "words = []\n",
    "\n",
    "# TODO : Use Tokenizer Instead\n",
    "\n",
    "# Splitting up and storing our words\n",
    "for word in corpus.split():\n",
    "    if word is not '.' or ',':\n",
    "        words.append(word)\n",
    "\n",
    "# initializing dictionaries\n",
    "word2int = {}\n",
    "int2word = {}\n",
    "\n",
    "VOCAB_SIZE = len(words)\n",
    "\n",
    "for i, word in enumerate(words):\n",
    "    word2int[word] = i\n",
    "    int2word[i] = word"
   ]
  },
  {
   "cell_type": "code",
   "execution_count": null,
   "metadata": {},
   "outputs": [],
   "source": [
    "# Testing our dicionaries\n",
    "print(word2int[\"nice\"])\n",
    "print(int2word[5])"
   ]
  },
  {
   "cell_type": "code",
   "execution_count": null,
   "metadata": {},
   "outputs": [],
   "source": [
    "# Creating List of sentences from our corpus\n",
    "sentences = []\n",
    "\n",
    "for sentence in corpus.split(\",\"):\n",
    "    sentences.append(sentence.split())\n",
    "\n",
    "print(sentences)"
   ]
  },
  {
   "source": [
    "### *Generating Test Data*\n",
    "\n",
    "a window size decides the number of words that will be predicted from a central word\n",
    "\n",
    "a window size of 2 means the we will create 2x2=4 pairs of data points \n",
    "for each central word which has the central word and the actual \n",
    "surrounding word next to it\n",
    "\n",
    "If, the central word is at/close-to the cornors then a reduced number of sets are formed \n",
    "\n",
    "e.g. : \n",
    "\n",
    "![Image](http://mccormickml.com/assets/word2vec/training_data.png)"
   ],
   "cell_type": "markdown",
   "metadata": {}
  },
  {
   "cell_type": "code",
   "execution_count": null,
   "metadata": {},
   "outputs": [],
   "source": [
    "data = []\n",
    "\n",
    "WINDOW_SIZE = 2\n",
    "\n",
    "# Creating Pairs\n",
    "for sentence in sentences:\n",
    "    for index, word in enumerate(sentence):\n",
    "        for word_neighbour in sentence[ max(index - WINDOW_SIZE, 0) : min(index + WINDOW_SIZE, len(sentence)) + 1 ]:\n",
    "            if word_neighbour is not word:\n",
    "                data.append([word, word_neighbour])\n",
    "\n",
    "print(data)"
   ]
  },
  {
   "source": [
    "### *Converting our Data into `One Hot Vectors`*"
   ],
   "cell_type": "markdown",
   "metadata": {}
  },
  {
   "cell_type": "code",
   "execution_count": null,
   "metadata": {},
   "outputs": [],
   "source": [
    "# defining input data\n",
    "x_train = []\n",
    "y_train = []\n",
    "\n",
    "def to_one_hot(data_point_index, VOCAB_SIZE):\n",
    "    temp = np.zeros(VOCAB_SIZE)\n",
    "    temp[data_point_index] = 1\n",
    "    return temp\n",
    "\n",
    "# looping our data\n",
    "for index, pair in enumerate(data):\n",
    "    x_train.append(to_one_hot(word2int[pair[0]], VOCAB_SIZE))\n",
    "    y_train.append(to_one_hot(word2int[pair[1]], VOCAB_SIZE))\n",
    "\n",
    "    # data[index] = [  , one_hot(word2int[pair[0]], VOCAB_SIZE) ]\n",
    "    # x_train.append(one_hot(word2int[pair[0]], VOCAB_SIZE))\n",
    "    # y_train.append(one_hot(word2int[pair[1]], VOCAB_SIZE))\n",
    "\n",
    "# converting to numpy arrays\n",
    "x_train = np.asarray(x_train)\n",
    "y_train = np.asarray(y_train)\n",
    "\n",
    "print(x_train.shape, y_train.shape)\n",
    "print(x_train[:10])"
   ]
  },
  {
   "source": [
    "### *Creatng Model*\n",
    "\n",
    "![Model Structure](https://miro.medium.com/max/700/1*Os5hj9qg1t6sr0S3DF4gyA.jpeg)"
   ],
   "cell_type": "markdown",
   "metadata": {}
  },
  {
   "cell_type": "code",
   "execution_count": null,
   "metadata": {},
   "outputs": [],
   "source": [
    "# making placeholders for x_train and y_train\n",
    "x = tf.placeholder(tf.float32, shape=(None, VOCAB_SIZE))\n",
    "y_label = tf.placeholder(tf.float32, shape=(None, VOCAB_SIZE))\n",
    "\n",
    "# specifying the Embedding Dimentions\n",
    "EMBEDDING_DIM = 5\n",
    "\n",
    "# initializing embedding matrix and bias\n",
    "W1 = tf.Variable(tf.random_normal([VOCAB_SIZE, EMBEDDING_DIM])) \n",
    "b1 = tf.Variable(tf.random_normal([EMBEDDING_DIM])) \n",
    "\n",
    "hidden_representations = tf.add(tf.matmul(x, W1), b1)"
   ]
  },
  {
   "source": [
    "### *Predictig the Neighbouring words to train Embeddings*\n",
    "\n",
    "![2nd Layer Model](https://miro.medium.com/max/700/1*KxWiUoe-FXPpBdATP-IHOw.jpeg)"
   ],
   "cell_type": "markdown",
   "metadata": {}
  },
  {
   "cell_type": "code",
   "execution_count": 15,
   "metadata": {},
   "outputs": [],
   "source": [
    "W2 = tf.Variable(tf.random_normal([EMBEDDING_DIM, VOCAB_SIZE]))\n",
    "b2 = tf.Variable(tf.random_normal([VOCAB_SIZE]))\n",
    "\n",
    "prediction = tf.nn.softmax(tf.add( tf.matmul(hidden_representation, W2), b2) )"
   ]
  },
  {
   "source": [
    "### *Finally to summarize*\n",
    "\n",
    "![softmax](https://miro.medium.com/max/700/1*cnzY08TWRxG3lMKExbslHw.jpeg)"
   ],
   "cell_type": "markdown",
   "metadata": {}
  },
  {
   "source": [
    "## *Training our Model*"
   ],
   "cell_type": "markdown",
   "metadata": {}
  },
  {
   "cell_type": "code",
   "execution_count": null,
   "metadata": {},
   "outputs": [],
   "source": [
    "# Creating and Initializing our Session\n",
    "sess = tf.Session()\n",
    "init = tf.global_variables_initializer()\n",
    "\n",
    "# Running Model\n",
    "sess.run(init)\n",
    "\n",
    "# define the loss function:\n",
    "cross_entropy_loss = tf.reduce_mean(-tf.reduce_sum(y_label * tf.log(prediction), reduction_indices=[1]))\n",
    "\n",
    "# define the training step:\n",
    "train_step = tf.train.GradientDescentOptimizer(0.1).minimize(cross_entropy_loss)\n",
    "n_iters = 10000\n",
    "\n",
    "# train for n_iter iterations\n",
    "for _ in range(n_iters):\n",
    "    sess.run(train_step, feed_dict={x: x_train, y_label: y_train})\n",
    "    \n",
    "    print('loss is : ', sess.run(cross_entropy_loss, feed_dict={x: x_train, y_label: y_train}))"
   ]
  },
  {
   "source": [
    "### *Getting W1 and b1 Embeddings*"
   ],
   "cell_type": "markdown",
   "metadata": {}
  },
  {
   "cell_type": "code",
   "execution_count": null,
   "metadata": {},
   "outputs": [],
   "source": [
    "print(sess.run(W1))\n",
    "print('----------')\n",
    "print(sess.run(b1))\n",
    "print('----------')"
   ]
  },
  {
   "cell_type": "code",
   "execution_count": null,
   "metadata": {},
   "outputs": [],
   "source": [
    "# Getting Vectors\n",
    "vectors = sess.run(W1 + b1)\n",
    "print(vectors.shape)\n",
    "print(vectors)"
   ]
  },
  {
   "cell_type": "code",
   "execution_count": null,
   "metadata": {},
   "outputs": [],
   "source": [
    "# testing trained embedding output\n",
    "print( vectors[ word2int['nice'] ])"
   ]
  },
  {
   "cell_type": "code",
   "execution_count": null,
   "metadata": {},
   "outputs": [],
   "source": [
    "# Functions to get closest Words\n",
    "def euclidean_dist(vec1, vec2):\n",
    "    return np.sqrt(np.sum((vec1-vec2)**2))\n",
    "\n",
    "def find_closest(word_index, vectors):\n",
    "    min_dist = 10000 # to act like positive infinity\n",
    "    min_index = -1\n",
    "    query_vector = vectors[word_index]\n",
    "    for index, vector in enumerate(vectors):\n",
    "        if euclidean_dist(vector, query_vector) < min_dist and not np.array_equal(vector, query_vector):\n",
    "            min_dist = euclidean_dist(vector, query_vector)\n",
    "            min_index = index\n",
    "    return min_index"
   ]
  },
  {
   "cell_type": "code",
   "execution_count": null,
   "metadata": {},
   "outputs": [],
   "source": [
    "print(int2word[ find_closest( word2int['king'], vectors ) ])\n",
    "print(int2word[ find_closest( word2int['queen'], vectors ) ])\n",
    "print(int2word[ find_closest( word2int['royal'], vectors ) ])"
   ]
  },
  {
   "source": [
    "# Reducing Dimentionality with t-SNE"
   ],
   "cell_type": "markdown",
   "metadata": {}
  },
  {
   "cell_type": "code",
   "execution_count": null,
   "metadata": {},
   "outputs": [],
   "source": [
    "model = TSNE(n_components=2, random_state=0)\n",
    "np.set_printoptions(suppress=True)\n",
    "vectors = model.fit_transform(vectors)"
   ]
  },
  {
   "cell_type": "code",
   "execution_count": null,
   "metadata": {},
   "outputs": [],
   "source": [
    "# normalizing values to show in matplotlib\n",
    "normalizer = preprocessing.Normalizer()\n",
    "vectors =  normalizer.fit_transform(vectors, 'l2')"
   ]
  },
  {
   "cell_type": "code",
   "execution_count": null,
   "metadata": {},
   "outputs": [],
   "source": [
    "# Plotting 2D graph\n",
    "fig, ax = plt.subplots()\n",
    "for word in words:\n",
    "    print(word, vectors[word2int[word]][1])\n",
    "    ax.annotate(word, (vectors[word2int[word]][0],vectors[word2int[word]][1] ))\n",
    "\n",
    "plt.show()"
   ]
  },
  {
   "cell_type": "code",
   "execution_count": null,
   "metadata": {},
   "outputs": [],
   "source": []
  }
 ]
}