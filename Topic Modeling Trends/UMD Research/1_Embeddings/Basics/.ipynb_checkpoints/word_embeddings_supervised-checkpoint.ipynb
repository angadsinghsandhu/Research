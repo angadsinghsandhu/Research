{
 "cells": [
  {
   "cell_type": "code",
   "execution_count": 3,
   "metadata": {},
   "outputs": [],
   "source": [
    "import tensorflow as tf\n",
    "import numpy as np\n",
    "import tensorflow.keras as k\n",
    "from tensorflow.keras.preprocessing.text import one_hot\n",
    "from tensorflow.keras.preprocessing.sequence import pad_sequences\n",
    "from tensorflow.keras.models import Sequential\n",
    "import tensorflow.keras.layers as tf_layer\n"
   ]
  },
  {
   "cell_type": "code",
   "execution_count": 4,
   "metadata": {},
   "outputs": [],
   "source": [
    "reviews = [\n",
    "    \"nice food\",\n",
    "    \"amazing restaurant\",\n",
    "    \"too good\",\n",
    "    \"horrible sevice\",\n",
    "    \"highly disgusting\",\n",
    "    \"never recommending this to anyone\",\n",
    "]\n",
    "\n",
    "sentiment = np.array([1, 1, 1, 0, 0, 0,]) "
   ]
  },
  {
   "cell_type": "code",
   "execution_count": 5,
   "metadata": {},
   "outputs": [],
   "source": [
    "# specifying vocabulary and padding dimention\n",
    "vocab_size = 500\n",
    "pad_len = 5\n",
    "\n",
    "# encoding reviews into one-hot vectors\n",
    "encoded_reviews = [one_hot(i, vocab_size) for i in reviews]\n",
    "\n",
    "# padding sentences\n",
    "padded_reviews = pad_sequences(encoded_reviews, maxlen=pad_len, padding='post')\n",
    "\n",
    "# specifying the size of our vector embeddings \n",
    "vector_size = 5"
   ]
  },
  {
   "cell_type": "code",
   "execution_count": 6,
   "metadata": {},
   "outputs": [
    {
     "data": {
      "text/plain": [
       "array([[ 81, 261,   0,   0,   0],\n",
       "       [335,  13,   0,   0,   0],\n",
       "       [322,  20,   0,   0,   0],\n",
       "       [344, 301,   0,   0,   0],\n",
       "       [260, 350,   0,   0,   0],\n",
       "       [ 70, 229, 412, 369,  92]])"
      ]
     },
     "execution_count": 6,
     "metadata": {},
     "output_type": "execute_result"
    }
   ],
   "source": [
    "padded_reviews"
   ]
  },
  {
   "cell_type": "code",
   "execution_count": 8,
   "metadata": {},
   "outputs": [],
   "source": [
    "# defining NLP model\n",
    "model = Sequential()\n",
    "\n",
    "# specifyng model layers\n",
    "model.add(k.layers.Embedding(vocab_size, vector_size, input_length=pad_len, name=\"embedding\"))\n",
    "model.add(k.layers.Flatten())\n",
    "model.add(k.layers.Dense(1, activation='sigmoid'))\n"
   ]
  },
  {
   "cell_type": "code",
   "execution_count": 9,
   "metadata": {},
   "outputs": [],
   "source": [
    "x = padded_reviews\n",
    "y = sentiment"
   ]
  },
  {
   "cell_type": "code",
   "execution_count": 13,
   "metadata": {},
   "outputs": [
    {
     "name": "stdout",
     "output_type": "stream",
     "text": [
      "Model: \"sequential_1\"\n",
      "_________________________________________________________________\n",
      "Layer (type)                 Output Shape              Param #   \n",
      "=================================================================\n",
      "embedding (Embedding)        (None, 5, 5)              2500      \n",
      "_________________________________________________________________\n",
      "flatten (Flatten)            (None, 25)                0         \n",
      "_________________________________________________________________\n",
      "dense (Dense)                (None, 1)                 26        \n",
      "=================================================================\n",
      "Total params: 2,526\n",
      "Trainable params: 2,526\n",
      "Non-trainable params: 0\n",
      "_________________________________________________________________\n"
     ]
    }
   ],
   "source": [
    "model.compile(optimizer='adam', loss='binary_crossentropy', metrics=['accuracy'])\n",
    "model.summary()"
   ]
  },
  {
   "cell_type": "code",
   "execution_count": 14,
   "metadata": {},
   "outputs": [
    {
     "name": "stdout",
     "output_type": "stream",
     "text": [
      "Epoch 1/50\n",
      "1/1 [==============================] - 0s 1ms/step - loss: 0.6910 - accuracy: 0.5000\n",
      "Epoch 2/50\n",
      "1/1 [==============================] - 0s 1ms/step - loss: 0.6896 - accuracy: 0.6667\n",
      "Epoch 3/50\n",
      "1/1 [==============================] - 0s 939us/step - loss: 0.6881 - accuracy: 0.6667\n",
      "Epoch 4/50\n",
      "1/1 [==============================] - 0s 0s/step - loss: 0.6867 - accuracy: 0.6667\n",
      "Epoch 5/50\n",
      "1/1 [==============================] - 0s 956us/step - loss: 0.6853 - accuracy: 0.6667\n",
      "Epoch 6/50\n",
      "1/1 [==============================] - 0s 945us/step - loss: 0.6838 - accuracy: 0.8333\n",
      "Epoch 7/50\n",
      "1/1 [==============================] - 0s 1000us/step - loss: 0.6824 - accuracy: 0.8333\n",
      "Epoch 8/50\n",
      "1/1 [==============================] - 0s 1ms/step - loss: 0.6810 - accuracy: 0.8333\n",
      "Epoch 9/50\n",
      "1/1 [==============================] - 0s 1000us/step - loss: 0.6796 - accuracy: 0.8333\n",
      "Epoch 10/50\n",
      "1/1 [==============================] - 0s 999us/step - loss: 0.6781 - accuracy: 0.8333\n",
      "Epoch 11/50\n",
      "1/1 [==============================] - 0s 1ms/step - loss: 0.6767 - accuracy: 0.8333\n",
      "Epoch 12/50\n",
      "1/1 [==============================] - 0s 2ms/step - loss: 0.6753 - accuracy: 0.8333\n",
      "Epoch 13/50\n",
      "1/1 [==============================] - 0s 2ms/step - loss: 0.6738 - accuracy: 0.8333\n",
      "Epoch 14/50\n",
      "1/1 [==============================] - 0s 997us/step - loss: 0.6724 - accuracy: 0.8333\n",
      "Epoch 15/50\n",
      "1/1 [==============================] - 0s 999us/step - loss: 0.6709 - accuracy: 0.8333\n",
      "Epoch 16/50\n",
      "1/1 [==============================] - 0s 0s/step - loss: 0.6695 - accuracy: 0.8333\n",
      "Epoch 17/50\n",
      "1/1 [==============================] - 0s 0s/step - loss: 0.6680 - accuracy: 0.8333\n",
      "Epoch 18/50\n",
      "1/1 [==============================] - 0s 965us/step - loss: 0.6666 - accuracy: 0.8333\n",
      "Epoch 19/50\n",
      "1/1 [==============================] - 0s 997us/step - loss: 0.6651 - accuracy: 0.8333\n",
      "Epoch 20/50\n",
      "1/1 [==============================] - 0s 0s/step - loss: 0.6636 - accuracy: 0.8333\n",
      "Epoch 21/50\n",
      "1/1 [==============================] - 0s 1000us/step - loss: 0.6621 - accuracy: 0.8333\n",
      "Epoch 22/50\n",
      "1/1 [==============================] - 0s 991us/step - loss: 0.6606 - accuracy: 0.8333\n",
      "Epoch 23/50\n",
      "1/1 [==============================] - 0s 1ms/step - loss: 0.6591 - accuracy: 0.8333\n",
      "Epoch 24/50\n",
      "1/1 [==============================] - 0s 1ms/step - loss: 0.6576 - accuracy: 0.8333\n",
      "Epoch 25/50\n",
      "1/1 [==============================] - 0s 997us/step - loss: 0.6560 - accuracy: 0.8333\n",
      "Epoch 26/50\n",
      "1/1 [==============================] - 0s 1ms/step - loss: 0.6545 - accuracy: 0.8333\n",
      "Epoch 27/50\n",
      "1/1 [==============================] - 0s 999us/step - loss: 0.6529 - accuracy: 0.8333\n",
      "Epoch 28/50\n",
      "1/1 [==============================] - 0s 999us/step - loss: 0.6514 - accuracy: 0.8333\n",
      "Epoch 29/50\n",
      "1/1 [==============================] - 0s 2ms/step - loss: 0.6498 - accuracy: 0.8333\n",
      "Epoch 30/50\n",
      "1/1 [==============================] - 0s 0s/step - loss: 0.6482 - accuracy: 0.8333\n",
      "Epoch 31/50\n",
      "1/1 [==============================] - 0s 966us/step - loss: 0.6466 - accuracy: 0.8333\n",
      "Epoch 32/50\n",
      "1/1 [==============================] - 0s 995us/step - loss: 0.6450 - accuracy: 0.8333\n",
      "Epoch 33/50\n",
      "1/1 [==============================] - 0s 996us/step - loss: 0.6434 - accuracy: 0.8333\n",
      "Epoch 34/50\n",
      "1/1 [==============================] - 0s 999us/step - loss: 0.6417 - accuracy: 0.8333\n",
      "Epoch 35/50\n",
      "1/1 [==============================] - 0s 964us/step - loss: 0.6401 - accuracy: 0.8333\n",
      "Epoch 36/50\n",
      "1/1 [==============================] - 0s 3ms/step - loss: 0.6384 - accuracy: 0.8333\n",
      "Epoch 37/50\n",
      "1/1 [==============================] - 0s 1ms/step - loss: 0.6367 - accuracy: 0.8333\n",
      "Epoch 38/50\n",
      "1/1 [==============================] - 0s 1ms/step - loss: 0.6351 - accuracy: 1.0000\n",
      "Epoch 39/50\n",
      "1/1 [==============================] - 0s 0s/step - loss: 0.6334 - accuracy: 1.0000\n",
      "Epoch 40/50\n",
      "1/1 [==============================] - 0s 1ms/step - loss: 0.6316 - accuracy: 1.0000\n",
      "Epoch 41/50\n",
      "1/1 [==============================] - 0s 998us/step - loss: 0.6299 - accuracy: 1.0000\n",
      "Epoch 42/50\n",
      "1/1 [==============================] - 0s 0s/step - loss: 0.6282 - accuracy: 1.0000\n",
      "Epoch 43/50\n",
      "1/1 [==============================] - 0s 1000us/step - loss: 0.6264 - accuracy: 1.0000\n",
      "Epoch 44/50\n",
      "1/1 [==============================] - 0s 1ms/step - loss: 0.6247 - accuracy: 1.0000\n",
      "Epoch 45/50\n",
      "1/1 [==============================] - 0s 2ms/step - loss: 0.6229 - accuracy: 1.0000\n",
      "Epoch 46/50\n",
      "1/1 [==============================] - 0s 1000us/step - loss: 0.6211 - accuracy: 1.0000\n",
      "Epoch 47/50\n",
      "1/1 [==============================] - 0s 1ms/step - loss: 0.6193 - accuracy: 1.0000\n",
      "Epoch 48/50\n",
      "1/1 [==============================] - 0s 0s/step - loss: 0.6175 - accuracy: 1.0000\n",
      "Epoch 49/50\n",
      "1/1 [==============================] - 0s 1ms/step - loss: 0.6156 - accuracy: 1.0000\n",
      "Epoch 50/50\n",
      "1/1 [==============================] - 0s 998us/step - loss: 0.6138 - accuracy: 1.0000\n"
     ]
    },
    {
     "data": {
      "text/plain": [
       "<tensorflow.python.keras.callbacks.History at 0x1c3c3912e20>"
      ]
     },
     "execution_count": 14,
     "metadata": {},
     "output_type": "execute_result"
    }
   ],
   "source": [
    "# running our model\n",
    "model.fit(x, y, epochs=50, verbose=1)"
   ]
  },
  {
   "cell_type": "code",
   "execution_count": 15,
   "metadata": {},
   "outputs": [
    {
     "name": "stdout",
     "output_type": "stream",
     "text": [
      "1/1 [==============================] - 0s 0s/step - loss: 0.6119 - accuracy: 1.0000\n"
     ]
    },
    {
     "data": {
      "text/plain": [
       "1.0"
      ]
     },
     "execution_count": 15,
     "metadata": {},
     "output_type": "execute_result"
    }
   ],
   "source": [
    "# evaluating the model\n",
    "loss, accuracy = model.evaluate(x, y)\n",
    "accuracy"
   ]
  },
  {
   "cell_type": "code",
   "execution_count": 16,
   "metadata": {},
   "outputs": [
    {
     "data": {
      "text/plain": [
       "500"
      ]
     },
     "execution_count": 16,
     "metadata": {},
     "output_type": "execute_result"
    }
   ],
   "source": [
    "# getting the weights of our embedding layer i.e. the word embeddings\n",
    "weights = model.get_layer('embedding').get_weights()[0]\n",
    "len(weights)\n",
    "\n",
    "# these weights can be saved and loaded later in the 'Embedding()' layer"
   ]
  },
  {
   "cell_type": "code",
   "execution_count": 18,
   "metadata": {},
   "outputs": [
    {
     "name": "stdout",
     "output_type": "stream",
     "text": [
      "[-0.07359031 -0.09622839 -0.01987388 -0.02390474  0.03942892]\n",
      "\n",
      "\n",
      "\n",
      "[-0.0215869  -0.04701802 -0.05235895 -0.03190172  0.04433507]\n"
     ]
    }
   ],
   "source": [
    "# testing embedding of 'nice' and 'amazing'\n",
    "print(weights[335])\n",
    "print(\"\\n\\n\")\n",
    "print(weights[322])\n",
    "\n",
    "# cosine similarity increases with vocabulary size"
   ]
  }
 ],
 "metadata": {
  "kernelspec": {
   "display_name": "Python 3",
   "language": "python",
   "name": "python3"
  },
  "language_info": {
   "codemirror_mode": {
    "name": "ipython",
    "version": 3
   },
   "file_extension": ".py",
   "mimetype": "text/x-python",
   "name": "python",
   "nbconvert_exporter": "python",
   "pygments_lexer": "ipython3",
   "version": "3.8.8"
  }
 },
 "nbformat": 4,
 "nbformat_minor": 2
}
