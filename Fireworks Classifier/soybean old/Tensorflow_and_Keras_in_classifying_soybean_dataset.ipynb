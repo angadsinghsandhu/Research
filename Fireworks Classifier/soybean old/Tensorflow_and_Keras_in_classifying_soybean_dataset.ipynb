{
  "nbformat": 4,
  "nbformat_minor": 0,
  "metadata": {
    "colab": {
      "name": "Tensorflow_and_Keras_in_classifying_soybean_dataset.ipynb",
      "provenance": []
    },
    "kernelspec": {
      "name": "python3",
      "display_name": "Python 3"
    },
    "language_info": {
      "name": "python"
    }
  },
  "cells": [
    {
      "cell_type": "markdown",
      "source": [
        "# How to use Keras and Tensorflow in classifying soybean dataset in Python\n",
        "\n",
        "The soybean dataset has 14 types of leafs. Each one class have minimum 10 types of images and some have 50 images. the total images are 375 images. in the test folder we have 41 images. with this we have to train 375 images with class labels and test on 41 images, predict each image class label.\n",
        "\n",
        "### https://www.youtube.com/watch?v=eObe1eaGVnc&ab_channel=MachineLearningandDataScienceforBeginners"
      ],
      "metadata": {
        "id": "ZEBqcbgsx_kS"
      }
    },
    {
      "cell_type": "code",
      "source": [
        "!pip install pmlb"
      ],
      "metadata": {
        "colab": {
          "base_uri": "https://localhost:8080/"
        },
        "id": "7PiNFSlV7LtZ",
        "outputId": "17a9c203-163c-4ada-82e6-2b8864184d79"
      },
      "execution_count": 11,
      "outputs": [
        {
          "output_type": "stream",
          "name": "stdout",
          "text": [
            "Requirement already satisfied: pmlb in /usr/local/lib/python3.6/site-packages (1.0.1.post3)\n",
            "Requirement already satisfied: pyyaml>=5.3.1 in /usr/local/lib/python3.6/site-packages (from pmlb) (5.4.1)\n",
            "Requirement already satisfied: requests>=2.24.0 in /usr/local/lib/python3.6/site-packages (from pmlb) (2.27.1)\n",
            "Requirement already satisfied: pandas>=1.0.5 in /usr/local/lib/python3.6/site-packages (from pmlb) (1.1.5)\n",
            "Requirement already satisfied: python-dateutil>=2.7.3 in /usr/local/lib/python3.6/site-packages (from pandas>=1.0.5->pmlb) (2.8.2)\n",
            "Requirement already satisfied: pytz>=2017.2 in /usr/local/lib/python3.6/site-packages (from pandas>=1.0.5->pmlb) (2017.3)\n",
            "Requirement already satisfied: numpy>=1.15.4 in /usr/local/lib/python3.6/site-packages (from pandas>=1.0.5->pmlb) (1.15.4)\n",
            "Requirement already satisfied: six>=1.5 in /usr/local/lib/python3.6/site-packages (from python-dateutil>=2.7.3->pandas>=1.0.5->pmlb) (1.16.0)\n",
            "Requirement already satisfied: idna<4,>=2.5 in /usr/local/lib/python3.6/site-packages (from requests>=2.24.0->pmlb) (2.6)\n",
            "Requirement already satisfied: certifi>=2017.4.17 in /usr/local/lib/python3.6/site-packages (from requests>=2.24.0->pmlb) (2021.5.30)\n",
            "Requirement already satisfied: charset-normalizer~=2.0.0 in /usr/local/lib/python3.6/site-packages (from requests>=2.24.0->pmlb) (2.0.12)\n",
            "Requirement already satisfied: urllib3<1.27,>=1.21.1 in /usr/local/lib/python3.6/site-packages (from requests>=2.24.0->pmlb) (1.22)\n",
            "\u001b[33mWARNING: Running pip as the 'root' user can result in broken permissions and conflicting behaviour with the system package manager. It is recommended to use a virtual environment instead: https://pip.pypa.io/warnings/venv\u001b[0m\n"
          ]
        }
      ]
    },
    {
      "cell_type": "code",
      "execution_count": 13,
      "metadata": {
        "id": "k6oUJGsqxlrx"
      },
      "outputs": [],
      "source": [
        "# imports\n",
        "from pmlb import fetch_data\n",
        "from sklearn.preprocessing import MinMaxScaler\n",
        "from sklearn.model_selection import train_test_split\n",
        "\n",
        "from keras.models import Sequential\n",
        "import tensorflow.keras.layers as Layers\n",
        "from keras.layers import Conv2D, MaxPooling2D, Dense, Dropout, Input, Flatten, SeparableConv2D, Activation, BatchNormalization\n",
        "from tensorflow.keras.utils import to_categorical"
      ]
    },
    {
      "cell_type": "markdown",
      "source": [
        "### *Loading Dataset*"
      ],
      "metadata": {
        "id": "kRCg_Qq-ynXK"
      }
    },
    {
      "cell_type": "code",
      "source": [
        "# loading dataset\n",
        "dataset_name = 'soybean'\n",
        "dataset = fetch_data(dataset_name)\n",
        "print(dataset.head())\n",
        "\n",
        "print(\"\\n\", dataset.columns)\n",
        "\n",
        "cols = ['date', 'plant-stand', 'precip', 'temp', 'hail', 'crop-hist',\n",
        "       'area-damaged', 'severity', 'seed-tmt', 'germination', 'plant-growth',\n",
        "       'leaves', 'leafspots-halo', 'leafspots-marg', 'leafspot-size',\n",
        "       'leaf-shread', 'leaf-malf', 'leaf-mild', 'stem', 'lodging',\n",
        "       'stem-cankers', 'canker-lesion', 'fruiting-bodies', 'external-decay',\n",
        "       'mycelium', 'int-discolor', 'sclerotia', 'fruit-pods', 'fruit-spots',\n",
        "       'seed', 'mold-growth', 'seed-discolor', 'seed-size', 'shriveling',\n",
        "       'roots', 'target']\n",
        "\n",
        "print(dataset[cols].info())\n",
        "print(dataset[cols].describe())\n",
        "print(dataset[cols].corr())"
      ],
      "metadata": {
        "colab": {
          "base_uri": "https://localhost:8080/"
        },
        "id": "lZA0Apjoyn4m",
        "outputId": "d52be4f5-217f-4063-b71f-34858ecc1d08"
      },
      "execution_count": 15,
      "outputs": [
        {
          "output_type": "stream",
          "name": "stdout",
          "text": [
            "   date  plant-stand  precip  temp  ...  seed-size  shriveling  roots  target\n",
            "0     6            2       1     3  ...          2           1      2      10\n",
            "1     2            2       1     3  ...          2           1      2      10\n",
            "2     3            2       1     3  ...          2           1      2      10\n",
            "3     3            2       1     3  ...          2           1      2      10\n",
            "4     6            2       1     3  ...          2           1      2      10\n",
            "\n",
            "[5 rows x 36 columns]\n",
            "\n",
            " Index(['date', 'plant-stand', 'precip', 'temp', 'hail', 'crop-hist',\n",
            "       'area-damaged', 'severity', 'seed-tmt', 'germination', 'plant-growth',\n",
            "       'leaves', 'leafspots-halo', 'leafspots-marg', 'leafspot-size',\n",
            "       'leaf-shread', 'leaf-malf', 'leaf-mild', 'stem', 'lodging',\n",
            "       'stem-cankers', 'canker-lesion', 'fruiting-bodies', 'external-decay',\n",
            "       'mycelium', 'int-discolor', 'sclerotia', 'fruit-pods', 'fruit-spots',\n",
            "       'seed', 'mold-growth', 'seed-discolor', 'seed-size', 'shriveling',\n",
            "       'roots', 'target'],\n",
            "      dtype='object')\n",
            "<class 'pandas.core.frame.DataFrame'>\n",
            "Int64Index: 675 entries, 0 to 674\n",
            "Data columns (total 36 columns):\n",
            " #   Column           Non-Null Count  Dtype\n",
            "---  ------           --------------  -----\n",
            " 0   date             675 non-null    int64\n",
            " 1   plant-stand      675 non-null    int64\n",
            " 2   precip           675 non-null    int64\n",
            " 3   temp             675 non-null    int64\n",
            " 4   hail             675 non-null    int64\n",
            " 5   crop-hist        675 non-null    int64\n",
            " 6   area-damaged     675 non-null    int64\n",
            " 7   severity         675 non-null    int64\n",
            " 8   seed-tmt         675 non-null    int64\n",
            " 9   germination      675 non-null    int64\n",
            " 10  plant-growth     675 non-null    int64\n",
            " 11  leaves           675 non-null    int64\n",
            " 12  leafspots-halo   675 non-null    int64\n",
            " 13  leafspots-marg   675 non-null    int64\n",
            " 14  leafspot-size    675 non-null    int64\n",
            " 15  leaf-shread      675 non-null    int64\n",
            " 16  leaf-malf        675 non-null    int64\n",
            " 17  leaf-mild        675 non-null    int64\n",
            " 18  stem             675 non-null    int64\n",
            " 19  lodging          675 non-null    int64\n",
            " 20  stem-cankers     675 non-null    int64\n",
            " 21  canker-lesion    675 non-null    int64\n",
            " 22  fruiting-bodies  675 non-null    int64\n",
            " 23  external-decay   675 non-null    int64\n",
            " 24  mycelium         675 non-null    int64\n",
            " 25  int-discolor     675 non-null    int64\n",
            " 26  sclerotia        675 non-null    int64\n",
            " 27  fruit-pods       675 non-null    int64\n",
            " 28  fruit-spots      675 non-null    int64\n",
            " 29  seed             675 non-null    int64\n",
            " 30  mold-growth      675 non-null    int64\n",
            " 31  seed-discolor    675 non-null    int64\n",
            " 32  seed-size        675 non-null    int64\n",
            " 33  shriveling       675 non-null    int64\n",
            " 34  roots            675 non-null    int64\n",
            " 35  target           675 non-null    int64\n",
            "dtypes: int64(36)\n",
            "memory usage: 195.1 KB\n",
            "None\n",
            "             date  plant-stand      precip  ...  shriveling       roots      target\n",
            "count  675.000000   675.000000  675.000000  ...  675.000000  675.000000  675.000000\n",
            "mean     4.364444     1.471111    1.397037  ...    0.911111    2.001481    8.240000\n",
            "std      1.944461     0.596959    0.813092  ...    0.440304    0.567412    5.519741\n",
            "min      0.000000     0.000000    0.000000  ...    0.000000    0.000000    0.000000\n",
            "25%      3.000000     1.000000    1.000000  ...    1.000000    2.000000    3.000000\n",
            "50%      4.000000     2.000000    1.000000  ...    1.000000    2.000000    7.000000\n",
            "75%      6.000000     2.000000    2.000000  ...    1.000000    2.000000   12.000000\n",
            "max      7.000000     2.000000    3.000000  ...    2.000000    3.000000   18.000000\n",
            "\n",
            "[8 rows x 36 columns]\n",
            "                     date  plant-stand  ...     roots    target\n",
            "date             1.000000     0.111339  ... -0.090589 -0.177501\n",
            "plant-stand      0.111339     1.000000  ...  0.195047 -0.094702\n",
            "precip          -0.096349     0.145935  ...  0.307449  0.155269\n",
            "temp            -0.115200     0.337721  ...  0.365790  0.051739\n",
            "hail             0.112365     0.439608  ...  0.053062 -0.242907\n",
            "crop-hist        0.013363     0.235561  ...  0.241096  0.078991\n",
            "area-damaged     0.160671     0.223809  ... -0.270565 -0.305521\n",
            "severity        -0.054078     0.379320  ...  0.041895 -0.143829\n",
            "seed-tmt         0.023662     0.412524  ...  0.043257 -0.188456\n",
            "germination     -0.027244    -0.432842  ...  0.038234  0.080557\n",
            "plant-growth     0.216065     0.439670  ...  0.046220 -0.197243\n",
            "leaves           0.100585    -0.072464  ... -0.239293  0.087464\n",
            "leafspots-halo   0.058010     0.374830  ...  0.008453 -0.355685\n",
            "leafspots-marg   0.086871     0.372828  ... -0.004410 -0.329457\n",
            "leafspot-size    0.053647     0.392309  ...  0.014567 -0.343434\n",
            "leaf-shread      0.024703     0.428121  ...  0.135806 -0.279668\n",
            "leaf-malf        0.000235     0.179251  ... -0.256082 -0.296312\n",
            "leaf-mild        0.074088     0.343526  ...  0.101692  0.058376\n",
            "stem             0.011261     0.184836  ...  0.124107 -0.187090\n",
            "lodging          0.100289     0.518683  ...  0.056539 -0.248006\n",
            "stem-cankers     0.031093     0.228154  ...  0.152085  0.060236\n",
            "canker-lesion    0.149257     0.435940  ...  0.183450 -0.070618\n",
            "fruiting-bodies  0.196289     0.404895  ... -0.248445 -0.280119\n",
            "external-decay   0.071929     0.220431  ...  0.357082  0.343625\n",
            "mycelium         0.089371     0.471344  ...  0.527136  0.228073\n",
            "int-discolor     0.091611     0.341775  ...  0.502293  0.206809\n",
            "sclerotia        0.122450     0.499989  ...  0.442414  0.109114\n",
            "fruit-pods      -0.007781     0.373843  ... -0.067312 -0.387359\n",
            "fruit-spots      0.086289     0.233313  ... -0.101204  0.206542\n",
            "seed             0.081645     0.418796  ... -0.128768 -0.235826\n",
            "mold-growth      0.181123     0.289259  ... -0.359455 -0.250749\n",
            "seed-discolor    0.199324     0.458780  ... -0.273189 -0.164718\n",
            "seed-size        0.102901     0.487763  ... -0.120412 -0.195663\n",
            "shriveling       0.251048     0.407926  ... -0.308283 -0.272639\n",
            "roots           -0.090589     0.195047  ...  1.000000  0.322017\n",
            "target          -0.177501    -0.094702  ...  0.322017  1.000000\n",
            "\n",
            "[36 rows x 36 columns]\n"
          ]
        }
      ]
    },
    {
      "cell_type": "markdown",
      "source": [
        "### *Handling and Spliting Data*"
      ],
      "metadata": {
        "id": "uW-KKR-F1mX0"
      }
    },
    {
      "cell_type": "code",
      "source": [
        "# loading features and targets from dataset\n",
        "X, y = fetch_data(dataset_name, return_X_y=True)\n",
        "\n",
        "# split Data\n",
        "X_train, X_test, y_train, y_test = train_test_split(X, y, test_size=0.33)\n",
        "\n",
        "# Normalizing dataset\n",
        "scaler = MinMaxScaler(feature_range=(0, 1))\n",
        "X_train = scaler.fit_transform(X_train)\n",
        "X_test = scaler.fit_transform(X_test)\n",
        "\n",
        "# One-hot encoding\n",
        "y_train = to_categorical(y_train)\n",
        "y_test = to_categorical(y_test)"
      ],
      "metadata": {
        "id": "FWKRnoQg1nht"
      },
      "execution_count": 16,
      "outputs": []
    },
    {
      "cell_type": "markdown",
      "source": [
        "### *Creating Model*"
      ],
      "metadata": {
        "id": "8rQcnpVP1xjY"
      }
    },
    {
      "cell_type": "code",
      "source": [
        "# create Model\n",
        "model = Sequential()\n",
        "model.add(Dense(units = 56, input_dim=35, activation=\"relu\"))\n",
        "model.add(Dense(units = 28, activation=\"relu\"))\n",
        "model.add(Dense(units = 19, activation=\"softmax\"))"
      ],
      "metadata": {
        "id": "5DO0edJY1xLP"
      },
      "execution_count": 18,
      "outputs": []
    },
    {
      "cell_type": "markdown",
      "source": [
        "### *Compiling Model*"
      ],
      "metadata": {
        "id": "PJkOYuO9161A"
      }
    },
    {
      "cell_type": "code",
      "source": [
        "# compiling model\n",
        "model.compile(loss='categorical_crossentropy', optimizer='adam', metrics=['acc'])"
      ],
      "metadata": {
        "id": "HAddPOxe2KxH"
      },
      "execution_count": 19,
      "outputs": []
    },
    {
      "cell_type": "markdown",
      "source": [
        "### *Training Model*"
      ],
      "metadata": {
        "id": "2nDdNuTT16el"
      }
    },
    {
      "cell_type": "code",
      "source": [
        "# training model\n",
        "model.fit(X_train, y_train, epochs=100, batch_size=10, verbose=1)"
      ],
      "metadata": {
        "colab": {
          "base_uri": "https://localhost:8080/"
        },
        "id": "EIBP5bXB2LMq",
        "outputId": "90b18601-eeb6-4a38-fe21-f6a5138fb374"
      },
      "execution_count": 20,
      "outputs": [
        {
          "output_type": "stream",
          "name": "stdout",
          "text": [
            "Epoch 1/100\n",
            "46/46 [==============================] - 1s 2ms/step - loss: 2.7887 - acc: 0.1947\n",
            "Epoch 2/100\n",
            "46/46 [==============================] - 0s 2ms/step - loss: 2.4221 - acc: 0.3031\n",
            "Epoch 3/100\n",
            "46/46 [==============================] - 0s 2ms/step - loss: 2.1801 - acc: 0.3606\n",
            "Epoch 4/100\n",
            "46/46 [==============================] - 0s 2ms/step - loss: 1.9893 - acc: 0.4248\n",
            "Epoch 5/100\n",
            "46/46 [==============================] - 0s 2ms/step - loss: 1.8125 - acc: 0.5022\n",
            "Epoch 6/100\n",
            "46/46 [==============================] - 0s 2ms/step - loss: 1.6172 - acc: 0.5708\n",
            "Epoch 7/100\n",
            "46/46 [==============================] - 0s 2ms/step - loss: 1.4388 - acc: 0.6261\n",
            "Epoch 8/100\n",
            "46/46 [==============================] - 0s 2ms/step - loss: 1.3005 - acc: 0.6239\n",
            "Epoch 9/100\n",
            "46/46 [==============================] - 0s 2ms/step - loss: 1.1781 - acc: 0.6504\n",
            "Epoch 10/100\n",
            "46/46 [==============================] - 0s 2ms/step - loss: 1.0594 - acc: 0.6925\n",
            "Epoch 11/100\n",
            "46/46 [==============================] - 0s 2ms/step - loss: 0.9485 - acc: 0.7345\n",
            "Epoch 12/100\n",
            "46/46 [==============================] - 0s 2ms/step - loss: 0.8702 - acc: 0.7677\n",
            "Epoch 13/100\n",
            "46/46 [==============================] - 0s 2ms/step - loss: 0.8064 - acc: 0.7854\n",
            "Epoch 14/100\n",
            "46/46 [==============================] - 0s 2ms/step - loss: 0.7550 - acc: 0.8009\n",
            "Epoch 15/100\n",
            "46/46 [==============================] - 0s 2ms/step - loss: 0.6888 - acc: 0.8164\n",
            "Epoch 16/100\n",
            "46/46 [==============================] - 0s 2ms/step - loss: 0.6546 - acc: 0.8164\n",
            "Epoch 17/100\n",
            "46/46 [==============================] - 0s 2ms/step - loss: 0.5942 - acc: 0.8407\n",
            "Epoch 18/100\n",
            "46/46 [==============================] - 0s 2ms/step - loss: 0.5690 - acc: 0.8540\n",
            "Epoch 19/100\n",
            "46/46 [==============================] - 0s 2ms/step - loss: 0.5414 - acc: 0.8341\n",
            "Epoch 20/100\n",
            "46/46 [==============================] - 0s 2ms/step - loss: 0.5007 - acc: 0.8695\n",
            "Epoch 21/100\n",
            "46/46 [==============================] - 0s 2ms/step - loss: 0.4887 - acc: 0.8695\n",
            "Epoch 22/100\n",
            "46/46 [==============================] - 0s 2ms/step - loss: 0.4657 - acc: 0.8695\n",
            "Epoch 23/100\n",
            "46/46 [==============================] - 0s 2ms/step - loss: 0.4357 - acc: 0.8717\n",
            "Epoch 24/100\n",
            "46/46 [==============================] - 0s 2ms/step - loss: 0.4170 - acc: 0.8894\n",
            "Epoch 25/100\n",
            "46/46 [==============================] - 0s 2ms/step - loss: 0.4082 - acc: 0.8938\n",
            "Epoch 26/100\n",
            "46/46 [==============================] - 0s 2ms/step - loss: 0.3871 - acc: 0.8761\n",
            "Epoch 27/100\n",
            "46/46 [==============================] - 0s 2ms/step - loss: 0.3773 - acc: 0.8960\n",
            "Epoch 28/100\n",
            "46/46 [==============================] - 0s 2ms/step - loss: 0.3707 - acc: 0.8916\n",
            "Epoch 29/100\n",
            "46/46 [==============================] - 0s 2ms/step - loss: 0.3417 - acc: 0.9049\n",
            "Epoch 30/100\n",
            "46/46 [==============================] - 0s 2ms/step - loss: 0.3375 - acc: 0.9071\n",
            "Epoch 31/100\n",
            "46/46 [==============================] - 0s 2ms/step - loss: 0.3574 - acc: 0.8827\n",
            "Epoch 32/100\n",
            "46/46 [==============================] - 0s 2ms/step - loss: 0.3297 - acc: 0.8982\n",
            "Epoch 33/100\n",
            "46/46 [==============================] - 0s 2ms/step - loss: 0.3090 - acc: 0.9115\n",
            "Epoch 34/100\n",
            "46/46 [==============================] - 0s 2ms/step - loss: 0.3072 - acc: 0.9115\n",
            "Epoch 35/100\n",
            "46/46 [==============================] - 0s 2ms/step - loss: 0.3109 - acc: 0.9159\n",
            "Epoch 36/100\n",
            "46/46 [==============================] - 0s 2ms/step - loss: 0.2958 - acc: 0.9181\n",
            "Epoch 37/100\n",
            "46/46 [==============================] - 0s 2ms/step - loss: 0.2956 - acc: 0.9093\n",
            "Epoch 38/100\n",
            "46/46 [==============================] - 0s 2ms/step - loss: 0.3222 - acc: 0.9027\n",
            "Epoch 39/100\n",
            "46/46 [==============================] - 0s 2ms/step - loss: 0.2680 - acc: 0.9314\n",
            "Epoch 40/100\n",
            "46/46 [==============================] - 0s 2ms/step - loss: 0.2663 - acc: 0.9137\n",
            "Epoch 41/100\n",
            "46/46 [==============================] - 0s 2ms/step - loss: 0.2615 - acc: 0.9270\n",
            "Epoch 42/100\n",
            "46/46 [==============================] - 0s 2ms/step - loss: 0.2554 - acc: 0.9226\n",
            "Epoch 43/100\n",
            "46/46 [==============================] - 0s 2ms/step - loss: 0.2718 - acc: 0.9071\n",
            "Epoch 44/100\n",
            "46/46 [==============================] - 0s 2ms/step - loss: 0.2615 - acc: 0.9226\n",
            "Epoch 45/100\n",
            "46/46 [==============================] - 0s 2ms/step - loss: 0.2398 - acc: 0.9270\n",
            "Epoch 46/100\n",
            "46/46 [==============================] - 0s 2ms/step - loss: 0.2328 - acc: 0.9292\n",
            "Epoch 47/100\n",
            "46/46 [==============================] - 0s 2ms/step - loss: 0.2479 - acc: 0.9159\n",
            "Epoch 48/100\n",
            "46/46 [==============================] - 0s 2ms/step - loss: 0.2449 - acc: 0.9292\n",
            "Epoch 49/100\n",
            "46/46 [==============================] - 0s 2ms/step - loss: 0.2308 - acc: 0.9248\n",
            "Epoch 50/100\n",
            "46/46 [==============================] - 0s 2ms/step - loss: 0.2259 - acc: 0.9270\n",
            "Epoch 51/100\n",
            "46/46 [==============================] - 0s 2ms/step - loss: 0.2298 - acc: 0.9248\n",
            "Epoch 52/100\n",
            "46/46 [==============================] - 0s 2ms/step - loss: 0.2224 - acc: 0.9270\n",
            "Epoch 53/100\n",
            "46/46 [==============================] - 0s 2ms/step - loss: 0.2180 - acc: 0.9292\n",
            "Epoch 54/100\n",
            "46/46 [==============================] - 0s 2ms/step - loss: 0.2186 - acc: 0.9248\n",
            "Epoch 55/100\n",
            "46/46 [==============================] - 0s 2ms/step - loss: 0.2083 - acc: 0.9336\n",
            "Epoch 56/100\n",
            "46/46 [==============================] - 0s 2ms/step - loss: 0.2075 - acc: 0.9381\n",
            "Epoch 57/100\n",
            "46/46 [==============================] - 0s 2ms/step - loss: 0.2125 - acc: 0.9248\n",
            "Epoch 58/100\n",
            "46/46 [==============================] - 0s 2ms/step - loss: 0.2037 - acc: 0.9270\n",
            "Epoch 59/100\n",
            "46/46 [==============================] - 0s 2ms/step - loss: 0.2002 - acc: 0.9358\n",
            "Epoch 60/100\n",
            "46/46 [==============================] - 0s 2ms/step - loss: 0.1879 - acc: 0.9358\n",
            "Epoch 61/100\n",
            "46/46 [==============================] - 0s 2ms/step - loss: 0.1947 - acc: 0.9248\n",
            "Epoch 62/100\n",
            "46/46 [==============================] - 0s 2ms/step - loss: 0.2139 - acc: 0.9226\n",
            "Epoch 63/100\n",
            "46/46 [==============================] - 0s 2ms/step - loss: 0.1929 - acc: 0.9226\n",
            "Epoch 64/100\n",
            "46/46 [==============================] - 0s 2ms/step - loss: 0.1950 - acc: 0.9314\n",
            "Epoch 65/100\n",
            "46/46 [==============================] - 0s 2ms/step - loss: 0.1831 - acc: 0.9425\n",
            "Epoch 66/100\n",
            "46/46 [==============================] - 0s 2ms/step - loss: 0.2027 - acc: 0.9292\n",
            "Epoch 67/100\n",
            "46/46 [==============================] - 0s 2ms/step - loss: 0.1989 - acc: 0.9358\n",
            "Epoch 68/100\n",
            "46/46 [==============================] - 0s 2ms/step - loss: 0.1922 - acc: 0.9314\n",
            "Epoch 69/100\n",
            "46/46 [==============================] - 0s 2ms/step - loss: 0.1999 - acc: 0.9447\n",
            "Epoch 70/100\n",
            "46/46 [==============================] - 0s 2ms/step - loss: 0.1936 - acc: 0.9270\n",
            "Epoch 71/100\n",
            "46/46 [==============================] - 0s 2ms/step - loss: 0.2063 - acc: 0.9336\n",
            "Epoch 72/100\n",
            "46/46 [==============================] - 0s 2ms/step - loss: 0.1792 - acc: 0.9336\n",
            "Epoch 73/100\n",
            "46/46 [==============================] - 0s 2ms/step - loss: 0.1806 - acc: 0.9381\n",
            "Epoch 74/100\n",
            "46/46 [==============================] - 0s 2ms/step - loss: 0.1827 - acc: 0.9336\n",
            "Epoch 75/100\n",
            "46/46 [==============================] - 0s 2ms/step - loss: 0.1795 - acc: 0.9358\n",
            "Epoch 76/100\n",
            "46/46 [==============================] - 0s 2ms/step - loss: 0.1983 - acc: 0.9226\n",
            "Epoch 77/100\n",
            "46/46 [==============================] - 0s 2ms/step - loss: 0.1645 - acc: 0.9447\n",
            "Epoch 78/100\n",
            "46/46 [==============================] - 0s 2ms/step - loss: 0.1754 - acc: 0.9358\n",
            "Epoch 79/100\n",
            "46/46 [==============================] - 0s 2ms/step - loss: 0.1731 - acc: 0.9381\n",
            "Epoch 80/100\n",
            "46/46 [==============================] - 0s 2ms/step - loss: 0.1671 - acc: 0.9336\n",
            "Epoch 81/100\n",
            "46/46 [==============================] - 0s 2ms/step - loss: 0.1701 - acc: 0.9381\n",
            "Epoch 82/100\n",
            "46/46 [==============================] - 0s 2ms/step - loss: 0.1822 - acc: 0.9270\n",
            "Epoch 83/100\n",
            "46/46 [==============================] - 0s 2ms/step - loss: 0.1637 - acc: 0.9425\n",
            "Epoch 84/100\n",
            "46/46 [==============================] - 0s 2ms/step - loss: 0.1735 - acc: 0.9336\n",
            "Epoch 85/100\n",
            "46/46 [==============================] - 0s 2ms/step - loss: 0.1684 - acc: 0.9491\n",
            "Epoch 86/100\n",
            "46/46 [==============================] - 0s 2ms/step - loss: 0.1633 - acc: 0.9403\n",
            "Epoch 87/100\n",
            "46/46 [==============================] - 0s 2ms/step - loss: 0.1655 - acc: 0.9403\n",
            "Epoch 88/100\n",
            "46/46 [==============================] - 0s 2ms/step - loss: 0.1652 - acc: 0.9425\n",
            "Epoch 89/100\n",
            "46/46 [==============================] - 0s 2ms/step - loss: 0.1703 - acc: 0.9292\n",
            "Epoch 90/100\n",
            "46/46 [==============================] - 0s 2ms/step - loss: 0.1584 - acc: 0.9336\n",
            "Epoch 91/100\n",
            "46/46 [==============================] - 0s 2ms/step - loss: 0.1541 - acc: 0.9381\n",
            "Epoch 92/100\n",
            "46/46 [==============================] - 0s 2ms/step - loss: 0.1771 - acc: 0.9381\n",
            "Epoch 93/100\n",
            "46/46 [==============================] - 0s 2ms/step - loss: 0.1627 - acc: 0.9403\n",
            "Epoch 94/100\n",
            "46/46 [==============================] - 0s 2ms/step - loss: 0.1497 - acc: 0.9381\n",
            "Epoch 95/100\n",
            "46/46 [==============================] - 0s 2ms/step - loss: 0.1664 - acc: 0.9314\n",
            "Epoch 96/100\n",
            "46/46 [==============================] - 0s 2ms/step - loss: 0.1758 - acc: 0.9292\n",
            "Epoch 97/100\n",
            "46/46 [==============================] - 0s 2ms/step - loss: 0.1533 - acc: 0.9447\n",
            "Epoch 98/100\n",
            "46/46 [==============================] - 0s 2ms/step - loss: 0.1539 - acc: 0.9425\n",
            "Epoch 99/100\n",
            "46/46 [==============================] - 0s 2ms/step - loss: 0.1440 - acc: 0.9491\n",
            "Epoch 100/100\n",
            "46/46 [==============================] - 0s 2ms/step - loss: 0.1555 - acc: 0.9469\n"
          ]
        },
        {
          "output_type": "execute_result",
          "data": {
            "text/plain": [
              "<keras.callbacks.History at 0x7f21a1862a50>"
            ]
          },
          "metadata": {},
          "execution_count": 20
        }
      ]
    },
    {
      "cell_type": "markdown",
      "source": [
        "### *Evaluating Model*"
      ],
      "metadata": {
        "id": "l6a2Xhk82DbG"
      }
    },
    {
      "cell_type": "code",
      "source": [
        "# evaluating model\n",
        "scores = model.evaluate(X_test, y_test)\n",
        "print() ; print(model.metrics_names) ; print(scores)\n",
        "print(\"\\n%s : %.2f%%\" % (model.metrics_names[1], scores[1]))"
      ],
      "metadata": {
        "colab": {
          "base_uri": "https://localhost:8080/"
        },
        "id": "xpfgppZw2LhL",
        "outputId": "1cdc8874-10c3-40b6-9f8e-c673605baf0d"
      },
      "execution_count": 21,
      "outputs": [
        {
          "output_type": "stream",
          "name": "stdout",
          "text": [
            "7/7 [==============================] - 0s 2ms/step - loss: 0.4061 - acc: 0.8386\n",
            "\n",
            "['loss', 'acc']\n",
            "[0.40605494379997253, 0.8385650515556335]\n",
            "\n",
            "acc : 0.84%\n"
          ]
        }
      ]
    },
    {
      "cell_type": "markdown",
      "source": [
        "### *Model Description*"
      ],
      "metadata": {
        "id": "5GcBLQpf2C8h"
      }
    },
    {
      "cell_type": "code",
      "source": [
        "# more on model\n",
        "print(model.summary())"
      ],
      "metadata": {
        "colab": {
          "base_uri": "https://localhost:8080/"
        },
        "id": "0WPF_meZ2LyX",
        "outputId": "59c82e78-df1b-43e6-8e2d-63647fb0fa52"
      },
      "execution_count": 22,
      "outputs": [
        {
          "output_type": "stream",
          "name": "stdout",
          "text": [
            "Model: \"sequential\"\n",
            "_________________________________________________________________\n",
            " Layer (type)                Output Shape              Param #   \n",
            "=================================================================\n",
            " dense (Dense)               (None, 56)                2016      \n",
            "                                                                 \n",
            " dense_1 (Dense)             (None, 28)                1596      \n",
            "                                                                 \n",
            " dense_2 (Dense)             (None, 19)                551       \n",
            "                                                                 \n",
            "=================================================================\n",
            "Total params: 4,163\n",
            "Trainable params: 4,163\n",
            "Non-trainable params: 0\n",
            "_________________________________________________________________\n",
            "None\n"
          ]
        }
      ]
    }
  ]
}