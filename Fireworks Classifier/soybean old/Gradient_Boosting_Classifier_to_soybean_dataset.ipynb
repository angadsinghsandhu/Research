{
  "nbformat": 4,
  "nbformat_minor": 0,
  "metadata": {
    "colab": {
      "name": "Gradient Boosting Classifier to soybean dataset.ipynb",
      "provenance": []
    },
    "kernelspec": {
      "name": "python3",
      "display_name": "Python 3"
    },
    "language_info": {
      "name": "python"
    }
  },
  "cells": [
    {
      "cell_type": "markdown",
      "source": [
        "# How to apply Gradient Boosting Classifier to soybean dataset\n",
        "\n",
        "The soybean dataset has 14 types of leafs. Each one class have minimum 10 types of images and some have 50 images. the total images are 375 images. in the test folder we have 41 images. with this we have to train 375 images with class labels and test on 41 images, predict each image class label.\n",
        "\n",
        "### https://www.youtube.com/watch?v=lBeAYlzvUk4"
      ],
      "metadata": {
        "id": "HveIYWn5yCCR"
      }
    },
    {
      "cell_type": "code",
      "source": [
        "!pip install pmlb"
      ],
      "metadata": {
        "colab": {
          "base_uri": "https://localhost:8080/"
        },
        "id": "Euc8cDRC7dlg",
        "outputId": "dac3c204-7534-4055-c1dd-e86b006f1c1f"
      },
      "execution_count": 5,
      "outputs": [
        {
          "output_type": "stream",
          "name": "stdout",
          "text": [
            "Collecting pmlb\n",
            "  Downloading pmlb-1.0.1.post3-py3-none-any.whl (19 kB)\n",
            "Collecting pyyaml>=5.3.1\n",
            "  Downloading PyYAML-6.0-cp37-cp37m-manylinux_2_5_x86_64.manylinux1_x86_64.manylinux_2_12_x86_64.manylinux2010_x86_64.whl (596 kB)\n",
            "\u001b[K     |████████████████████████████████| 596 kB 4.8 MB/s \n",
            "\u001b[?25hRequirement already satisfied: pandas>=1.0.5 in /usr/local/lib/python3.7/dist-packages (from pmlb) (1.3.5)\n",
            "Collecting requests>=2.24.0\n",
            "  Downloading requests-2.27.1-py2.py3-none-any.whl (63 kB)\n",
            "\u001b[K     |████████████████████████████████| 63 kB 1.5 MB/s \n",
            "\u001b[?25hRequirement already satisfied: numpy>=1.17.3 in /usr/local/lib/python3.7/dist-packages (from pandas>=1.0.5->pmlb) (1.21.5)\n",
            "Requirement already satisfied: pytz>=2017.3 in /usr/local/lib/python3.7/dist-packages (from pandas>=1.0.5->pmlb) (2018.9)\n",
            "Requirement already satisfied: python-dateutil>=2.7.3 in /usr/local/lib/python3.7/dist-packages (from pandas>=1.0.5->pmlb) (2.8.2)\n",
            "Requirement already satisfied: six>=1.5 in /usr/local/lib/python3.7/dist-packages (from python-dateutil>=2.7.3->pandas>=1.0.5->pmlb) (1.15.0)\n",
            "Requirement already satisfied: idna<4,>=2.5 in /usr/local/lib/python3.7/dist-packages (from requests>=2.24.0->pmlb) (2.10)\n",
            "Requirement already satisfied: charset-normalizer~=2.0.0 in /usr/local/lib/python3.7/dist-packages (from requests>=2.24.0->pmlb) (2.0.12)\n",
            "Requirement already satisfied: urllib3<1.27,>=1.21.1 in /usr/local/lib/python3.7/dist-packages (from requests>=2.24.0->pmlb) (1.24.3)\n",
            "Requirement already satisfied: certifi>=2017.4.17 in /usr/local/lib/python3.7/dist-packages (from requests>=2.24.0->pmlb) (2021.10.8)\n",
            "Installing collected packages: requests, pyyaml, pmlb\n",
            "  Attempting uninstall: requests\n",
            "    Found existing installation: requests 2.23.0\n",
            "    Uninstalling requests-2.23.0:\n",
            "      Successfully uninstalled requests-2.23.0\n",
            "  Attempting uninstall: pyyaml\n",
            "    Found existing installation: PyYAML 3.13\n",
            "    Uninstalling PyYAML-3.13:\n",
            "      Successfully uninstalled PyYAML-3.13\n",
            "\u001b[31mERROR: pip's dependency resolver does not currently take into account all the packages that are installed. This behaviour is the source of the following dependency conflicts.\n",
            "google-colab 1.0.0 requires requests~=2.23.0, but you have requests 2.27.1 which is incompatible.\n",
            "datascience 0.10.6 requires folium==0.2.1, but you have folium 0.8.3 which is incompatible.\u001b[0m\n",
            "Successfully installed pmlb-1.0.1.post3 pyyaml-6.0 requests-2.27.1\n"
          ]
        }
      ]
    },
    {
      "cell_type": "code",
      "execution_count": 6,
      "metadata": {
        "id": "-VqcxneZxl7X"
      },
      "outputs": [],
      "source": [
        "# imports\n",
        "from pmlb import fetch_data\n",
        "import seaborn as sns\n",
        "from sklearn.ensemble import GradientBoostingClassifier\n",
        "from sklearn.model_selection import train_test_split\n",
        "import matplotlib.pyplot as plt\n",
        "\n",
        "from keras.models import Sequential\n",
        "import tensorflow.keras.layers as Layers\n",
        "from keras.layers import Conv2D, MaxPooling2D, Dense, Dropout, Input, Flatten, SeparableConv2D, Activation, BatchNormalization\n",
        "from tensorflow.keras.utils import to_categorical"
      ]
    },
    {
      "cell_type": "markdown",
      "source": [
        "### *Loading Dataset*"
      ],
      "metadata": {
        "id": "gWYoFoZP3DXZ"
      }
    },
    {
      "cell_type": "code",
      "source": [
        "# loading dataset\n",
        "dataset_name = 'soybean'\n",
        "dataset = fetch_data(dataset_name)\n",
        "print(dataset.head())\n",
        "\n",
        "print(\"\\n\", dataset.columns)\n",
        "\n",
        "cols = ['date', 'plant-stand', 'precip', 'temp', 'hail', 'crop-hist',\n",
        "       'area-damaged', 'severity', 'seed-tmt', 'germination', 'plant-growth',\n",
        "       'leaves', 'leafspots-halo', 'leafspots-marg', 'leafspot-size',\n",
        "       'leaf-shread', 'leaf-malf', 'leaf-mild', 'stem', 'lodging',\n",
        "       'stem-cankers', 'canker-lesion', 'fruiting-bodies', 'external-decay',\n",
        "       'mycelium', 'int-discolor', 'sclerotia', 'fruit-pods', 'fruit-spots',\n",
        "       'seed', 'mold-growth', 'seed-discolor', 'seed-size', 'shriveling',\n",
        "       'roots', 'target']\n",
        "\n",
        "print(dataset[cols].info())\n",
        "print(dataset[cols].describe())\n",
        "print(dataset[cols].corr())"
      ],
      "metadata": {
        "colab": {
          "base_uri": "https://localhost:8080/"
        },
        "id": "0sDY5rJ63Nmy",
        "outputId": "622bb347-cdff-4bde-c2a5-531c9e296979"
      },
      "execution_count": 8,
      "outputs": [
        {
          "output_type": "stream",
          "name": "stdout",
          "text": [
            "   date  plant-stand  precip  temp  ...  seed-size  shriveling  roots  target\n",
            "0     6            2       1     3  ...          2           1      2      10\n",
            "1     2            2       1     3  ...          2           1      2      10\n",
            "2     3            2       1     3  ...          2           1      2      10\n",
            "3     3            2       1     3  ...          2           1      2      10\n",
            "4     6            2       1     3  ...          2           1      2      10\n",
            "\n",
            "[5 rows x 36 columns]\n",
            "\n",
            " Index(['date', 'plant-stand', 'precip', 'temp', 'hail', 'crop-hist',\n",
            "       'area-damaged', 'severity', 'seed-tmt', 'germination', 'plant-growth',\n",
            "       'leaves', 'leafspots-halo', 'leafspots-marg', 'leafspot-size',\n",
            "       'leaf-shread', 'leaf-malf', 'leaf-mild', 'stem', 'lodging',\n",
            "       'stem-cankers', 'canker-lesion', 'fruiting-bodies', 'external-decay',\n",
            "       'mycelium', 'int-discolor', 'sclerotia', 'fruit-pods', 'fruit-spots',\n",
            "       'seed', 'mold-growth', 'seed-discolor', 'seed-size', 'shriveling',\n",
            "       'roots', 'target'],\n",
            "      dtype='object')\n",
            "<class 'pandas.core.frame.DataFrame'>\n",
            "Int64Index: 675 entries, 0 to 674\n",
            "Data columns (total 36 columns):\n",
            " #   Column           Non-Null Count  Dtype\n",
            "---  ------           --------------  -----\n",
            " 0   date             675 non-null    int64\n",
            " 1   plant-stand      675 non-null    int64\n",
            " 2   precip           675 non-null    int64\n",
            " 3   temp             675 non-null    int64\n",
            " 4   hail             675 non-null    int64\n",
            " 5   crop-hist        675 non-null    int64\n",
            " 6   area-damaged     675 non-null    int64\n",
            " 7   severity         675 non-null    int64\n",
            " 8   seed-tmt         675 non-null    int64\n",
            " 9   germination      675 non-null    int64\n",
            " 10  plant-growth     675 non-null    int64\n",
            " 11  leaves           675 non-null    int64\n",
            " 12  leafspots-halo   675 non-null    int64\n",
            " 13  leafspots-marg   675 non-null    int64\n",
            " 14  leafspot-size    675 non-null    int64\n",
            " 15  leaf-shread      675 non-null    int64\n",
            " 16  leaf-malf        675 non-null    int64\n",
            " 17  leaf-mild        675 non-null    int64\n",
            " 18  stem             675 non-null    int64\n",
            " 19  lodging          675 non-null    int64\n",
            " 20  stem-cankers     675 non-null    int64\n",
            " 21  canker-lesion    675 non-null    int64\n",
            " 22  fruiting-bodies  675 non-null    int64\n",
            " 23  external-decay   675 non-null    int64\n",
            " 24  mycelium         675 non-null    int64\n",
            " 25  int-discolor     675 non-null    int64\n",
            " 26  sclerotia        675 non-null    int64\n",
            " 27  fruit-pods       675 non-null    int64\n",
            " 28  fruit-spots      675 non-null    int64\n",
            " 29  seed             675 non-null    int64\n",
            " 30  mold-growth      675 non-null    int64\n",
            " 31  seed-discolor    675 non-null    int64\n",
            " 32  seed-size        675 non-null    int64\n",
            " 33  shriveling       675 non-null    int64\n",
            " 34  roots            675 non-null    int64\n",
            " 35  target           675 non-null    int64\n",
            "dtypes: int64(36)\n",
            "memory usage: 195.1 KB\n",
            "None\n",
            "             date  plant-stand      precip  ...  shriveling       roots      target\n",
            "count  675.000000   675.000000  675.000000  ...  675.000000  675.000000  675.000000\n",
            "mean     4.364444     1.471111    1.397037  ...    0.911111    2.001481    8.240000\n",
            "std      1.944461     0.596959    0.813092  ...    0.440304    0.567412    5.519741\n",
            "min      0.000000     0.000000    0.000000  ...    0.000000    0.000000    0.000000\n",
            "25%      3.000000     1.000000    1.000000  ...    1.000000    2.000000    3.000000\n",
            "50%      4.000000     2.000000    1.000000  ...    1.000000    2.000000    7.000000\n",
            "75%      6.000000     2.000000    2.000000  ...    1.000000    2.000000   12.000000\n",
            "max      7.000000     2.000000    3.000000  ...    2.000000    3.000000   18.000000\n",
            "\n",
            "[8 rows x 36 columns]\n",
            "                     date  plant-stand  ...     roots    target\n",
            "date             1.000000     0.111339  ... -0.090589 -0.177501\n",
            "plant-stand      0.111339     1.000000  ...  0.195047 -0.094702\n",
            "precip          -0.096349     0.145935  ...  0.307449  0.155269\n",
            "temp            -0.115200     0.337721  ...  0.365790  0.051739\n",
            "hail             0.112365     0.439608  ...  0.053062 -0.242907\n",
            "crop-hist        0.013363     0.235561  ...  0.241096  0.078991\n",
            "area-damaged     0.160671     0.223809  ... -0.270565 -0.305521\n",
            "severity        -0.054078     0.379320  ...  0.041895 -0.143829\n",
            "seed-tmt         0.023662     0.412524  ...  0.043257 -0.188456\n",
            "germination     -0.027244    -0.432842  ...  0.038234  0.080557\n",
            "plant-growth     0.216065     0.439670  ...  0.046220 -0.197243\n",
            "leaves           0.100585    -0.072464  ... -0.239293  0.087464\n",
            "leafspots-halo   0.058010     0.374830  ...  0.008453 -0.355685\n",
            "leafspots-marg   0.086871     0.372828  ... -0.004410 -0.329457\n",
            "leafspot-size    0.053647     0.392309  ...  0.014567 -0.343434\n",
            "leaf-shread      0.024703     0.428121  ...  0.135806 -0.279668\n",
            "leaf-malf        0.000235     0.179251  ... -0.256082 -0.296312\n",
            "leaf-mild        0.074088     0.343526  ...  0.101692  0.058376\n",
            "stem             0.011261     0.184836  ...  0.124107 -0.187090\n",
            "lodging          0.100289     0.518683  ...  0.056539 -0.248006\n",
            "stem-cankers     0.031093     0.228154  ...  0.152085  0.060236\n",
            "canker-lesion    0.149257     0.435940  ...  0.183450 -0.070618\n",
            "fruiting-bodies  0.196289     0.404895  ... -0.248445 -0.280119\n",
            "external-decay   0.071929     0.220431  ...  0.357082  0.343625\n",
            "mycelium         0.089371     0.471344  ...  0.527136  0.228073\n",
            "int-discolor     0.091611     0.341775  ...  0.502293  0.206809\n",
            "sclerotia        0.122450     0.499989  ...  0.442414  0.109114\n",
            "fruit-pods      -0.007781     0.373843  ... -0.067312 -0.387359\n",
            "fruit-spots      0.086289     0.233313  ... -0.101204  0.206542\n",
            "seed             0.081645     0.418796  ... -0.128768 -0.235826\n",
            "mold-growth      0.181123     0.289259  ... -0.359455 -0.250749\n",
            "seed-discolor    0.199324     0.458780  ... -0.273189 -0.164718\n",
            "seed-size        0.102901     0.487763  ... -0.120412 -0.195663\n",
            "shriveling       0.251048     0.407926  ... -0.308283 -0.272639\n",
            "roots           -0.090589     0.195047  ...  1.000000  0.322017\n",
            "target          -0.177501    -0.094702  ...  0.322017  1.000000\n",
            "\n",
            "[36 rows x 36 columns]\n"
          ]
        }
      ]
    },
    {
      "cell_type": "markdown",
      "source": [
        "### *Handling and Spliting Data*"
      ],
      "metadata": {
        "id": "1X1VDJ5o3RbM"
      }
    },
    {
      "cell_type": "code",
      "source": [
        "# loading features and targets from dataset\n",
        "X, y = fetch_data(dataset_name, return_X_y=True)\n",
        "\n",
        "# split Data\n",
        "X_train, X_test, y_train, y_test = train_test_split(X, y, test_size=0.33)\n",
        "\n",
        "scores1 = [] ; scores2 = [] ; scores3 = [] ; "
      ],
      "metadata": {
        "id": "Ey2BA8Oy3Rz-"
      },
      "execution_count": 9,
      "outputs": []
    },
    {
      "cell_type": "markdown",
      "source": [
        "### *Creating Model*"
      ],
      "metadata": {
        "id": "mdPzzX_F3j5S"
      }
    },
    {
      "cell_type": "code",
      "source": [
        "# Applying Gradient Boosting\n",
        "dtree = GradientBoostingClassifier(random_state=42, max_depth=4, n_estimators=50, verbose=1)\n",
        "dtree.fit(X_train, y_train)\n",
        "scores1.append(dtree.score(X_test, y_test))\n",
        "\n",
        "dtree = GradientBoostingClassifier(random_state=42, max_depth=8, n_estimators=100, verbose=1)\n",
        "dtree.fit(X_train, y_train)\n",
        "scores2.append(dtree.score(X_test, y_test))\n",
        "\n",
        "dtree = GradientBoostingClassifier(random_state=42, max_depth=12, n_estimators=200, verbose=1)\n",
        "dtree.fit(X_train, y_train)\n",
        "scores3.append(dtree.score(X_test, y_test))"
      ],
      "metadata": {
        "colab": {
          "base_uri": "https://localhost:8080/"
        },
        "id": "ZUQ1wKT73k8G",
        "outputId": "59ae2925-76ca-466a-eb4a-842f225b22c0"
      },
      "execution_count": 10,
      "outputs": [
        {
          "output_type": "stream",
          "name": "stdout",
          "text": [
            "      Iter       Train Loss   Remaining Time \n",
            "         1           1.2581            4.46s\n",
            "         2           1.0174            3.49s\n",
            "         3           0.8488            3.30s\n",
            "         4           0.7217            3.77s\n",
            "         5           0.6223            3.63s\n",
            "         6           0.5401            3.94s\n",
            "         7           0.4731            3.63s\n",
            "         8           0.4142            3.69s\n",
            "         9           0.3661            3.66s\n",
            "        10           0.3258            3.71s\n",
            "        20           0.1261            2.62s\n",
            "        30           0.0593            1.70s\n",
            "        40           0.0332            0.81s\n",
            "        50           0.0192            0.00s\n",
            "      Iter       Train Loss   Remaining Time \n",
            "         1           1.1997            5.98s\n",
            "         2           0.9356            5.71s\n",
            "         3           0.7525            5.84s\n",
            "         4           0.6154            6.00s\n",
            "         5           0.5080            6.42s\n",
            "         6           0.4228            6.42s\n",
            "         7           0.3528            6.43s\n",
            "         8           0.2965            6.39s\n",
            "         9           0.2493            6.33s\n",
            "        10           0.2104            6.29s\n",
            "        20           0.0407            5.94s\n",
            "        30           0.0083            5.39s\n",
            "        40           0.0016            4.62s\n",
            "        50           0.0003            3.86s\n",
            "        60           0.0001            3.07s\n",
            "        70           0.0000            2.27s\n",
            "        80           0.0000            1.47s\n",
            "        90           0.0000            0.70s\n",
            "       100           0.0000            0.00s\n",
            "      Iter       Train Loss   Remaining Time \n",
            "         1           1.1724            7.93s\n",
            "         2           0.9053           14.99s\n",
            "         3           0.7195           18.45s\n",
            "         4           0.5810           21.14s\n",
            "         5           0.4735           21.92s\n",
            "         6           0.3878           22.84s\n",
            "         7           0.3187           23.16s\n",
            "         8           0.2625           23.95s\n",
            "         9           0.2168           24.87s\n",
            "        10           0.1792           25.40s\n",
            "        20           0.0277           30.33s\n",
            "        30           0.0043           26.83s\n",
            "        40           0.0007           22.28s\n",
            "        50           0.0001           19.10s\n",
            "        60           0.0000           16.58s\n",
            "        70           0.0000           14.41s\n",
            "        80           0.0000           12.26s\n",
            "        90           0.0000           10.30s\n",
            "       100           0.0000            8.59s\n",
            "       200           0.0000            0.00s\n"
          ]
        }
      ]
    },
    {
      "cell_type": "markdown",
      "source": [
        "### *Plotting Data*"
      ],
      "metadata": {
        "id": "gR7hoigP3us7"
      }
    },
    {
      "cell_type": "code",
      "source": [
        "# plotting data\n",
        "sns.barplot(data=[scores1, scores2, scores3])\n",
        "plt.xticks([0, 1, 2], ['GB_Clf1', 'GB_Clf1', 'GB_Clf1'])\n",
        "plt.ylabel('test Accuracy') ; plt.show()\n",
        "\n",
        "sns.barplot(data=[scores1, scores2, scores3])\n",
        "plt.xticks([0, 1, 2], ['GB_Clf1', 'GB_Clf1', 'GB_Clf1'])\n",
        "plt.ylabel('test Accuracy') ; plt.show()\n",
        "\n",
        "sns.barplot(data=[scores1, scores2, scores3])\n",
        "plt.xticks([0, 1, 2], ['GB_Clf1', 'GB_Clf1', 'GB_Clf1'])\n",
        "plt.ylabel('test Accuracy') ; plt.show()"
      ],
      "metadata": {
        "colab": {
          "base_uri": "https://localhost:8080/",
          "height": 764
        },
        "id": "_c3Ca_Zj30GL",
        "outputId": "4754d670-5434-4550-fa1d-827e74350b48"
      },
      "execution_count": 11,
      "outputs": [
        {
          "output_type": "display_data",
          "data": {
            "image/png": "[encoded data removed]",
            "text/plain": [
              "<Figure size 432x288 with 1 Axes>"
            ]
          },
          "metadata": {
            "needs_background": "light"
          }
        },
        {
          "output_type": "display_data",
          "data": {
            "image/png": "[encoded data removed]",
            "text/plain": [
              "<Figure size 432x288 with 1 Axes>"
            ]
          },
          "metadata": {
            "needs_background": "light"
          }
        },
        {
          "output_type": "display_data",
          "data": {
            "image/png": "[encoded data removed]",
            "text/plain": [
              "<Figure size 432x288 with 1 Axes>"
            ]
          },
          "metadata": {
            "needs_background": "light"
          }
        }
      ]
    }
  ]
}