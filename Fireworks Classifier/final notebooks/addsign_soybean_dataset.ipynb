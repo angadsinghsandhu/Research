{
  "nbformat": 4,
  "nbformat_minor": 0,
  "metadata": {
    "colab": {
      "name": "addsign_soybean_dataset.ipynb",
      "provenance": []
    },
    "kernelspec": {
      "name": "python3",
      "display_name": "Python 3"
    },
    "language_info": {
      "name": "python"
    }
  },
  "cells": [
    {
      "cell_type": "markdown",
      "source": [
        "# How to use AddSign/PowSign Optimizers in classifying soybean dataset in Python\n",
        "\n",
        "The soybean dataset has 14 types of leafs. Each one class have minimum 10 types of images and some have 50 images. the total images are 375 images. in the test folder we have 41 images. with this we have to train 375 images with class labels and test on 41 images, predict each image class label.\n",
        "\n",
        "### https://towardsdatascience.com/custom-optimizer-in-tensorflow-d5b41f75644a"
      ],
      "metadata": {
        "id": "ZEBqcbgsx_kS"
      }
    },
    {
      "cell_type": "code",
      "source": [
        "!pip install pmlb"
      ],
      "metadata": {
        "colab": {
          "base_uri": "https://localhost:8080/"
        },
        "id": "7PiNFSlV7LtZ",
        "outputId": "f29ae12e-59ee-4132-d9f4-9e7bbc15efe8"
      },
      "execution_count": 2,
      "outputs": [
        {
          "output_type": "stream",
          "name": "stdout",
          "text": [
            "Requirement already satisfied: pmlb in /usr/local/lib/python3.7/dist-packages (1.0.1.post3)\n",
            "Requirement already satisfied: requests>=2.24.0 in /usr/local/lib/python3.7/dist-packages (from pmlb) (2.27.1)\n",
            "Requirement already satisfied: pandas>=1.0.5 in /usr/local/lib/python3.7/dist-packages (from pmlb) (1.3.5)\n",
            "Requirement already satisfied: pyyaml>=5.3.1 in /usr/local/lib/python3.7/dist-packages (from pmlb) (6.0)\n",
            "Requirement already satisfied: pytz>=2017.3 in /usr/local/lib/python3.7/dist-packages (from pandas>=1.0.5->pmlb) (2018.9)\n",
            "Requirement already satisfied: numpy>=1.17.3 in /usr/local/lib/python3.7/dist-packages (from pandas>=1.0.5->pmlb) (1.21.5)\n",
            "Requirement already satisfied: python-dateutil>=2.7.3 in /usr/local/lib/python3.7/dist-packages (from pandas>=1.0.5->pmlb) (2.8.2)\n",
            "Requirement already satisfied: six>=1.5 in /usr/local/lib/python3.7/dist-packages (from python-dateutil>=2.7.3->pandas>=1.0.5->pmlb) (1.15.0)\n",
            "Requirement already satisfied: idna<4,>=2.5 in /usr/local/lib/python3.7/dist-packages (from requests>=2.24.0->pmlb) (2.10)\n",
            "Requirement already satisfied: urllib3<1.27,>=1.21.1 in /usr/local/lib/python3.7/dist-packages (from requests>=2.24.0->pmlb) (1.24.3)\n",
            "Requirement already satisfied: charset-normalizer~=2.0.0 in /usr/local/lib/python3.7/dist-packages (from requests>=2.24.0->pmlb) (2.0.12)\n",
            "Requirement already satisfied: certifi>=2017.4.17 in /usr/local/lib/python3.7/dist-packages (from requests>=2.24.0->pmlb) (2021.10.8)\n"
          ]
        }
      ]
    },
    {
      "cell_type": "code",
      "execution_count": 3,
      "metadata": {
        "id": "k6oUJGsqxlrx"
      },
      "outputs": [],
      "source": [
        "# imports\n",
        "from pmlb import fetch_data\n",
        "from sklearn.preprocessing import MinMaxScaler\n",
        "from sklearn.model_selection import train_test_split\n",
        "\n",
        "import tensorflow as tf\n",
        "import numpy as np\n",
        "\n",
        "from keras.models import Sequential\n",
        "import tensorflow.keras.layers as Layers\n",
        "from keras.layers import Conv2D, MaxPooling2D, Dense, Dropout, Input, Flatten, SeparableConv2D, Activation, BatchNormalization\n",
        "from tensorflow.keras.utils import to_categorical"
      ]
    },
    {
      "cell_type": "markdown",
      "source": [
        "### *Loading Dataset*"
      ],
      "metadata": {
        "id": "kRCg_Qq-ynXK"
      }
    },
    {
      "cell_type": "code",
      "source": [
        "# loading dataset\n",
        "dataset_name = 'soybean'\n",
        "dataset = fetch_data(dataset_name)\n",
        "print(dataset.head())\n",
        "\n",
        "print(\"\\n\", dataset.columns)\n",
        "\n",
        "cols = ['date', 'plant-stand', 'precip', 'temp', 'hail', 'crop-hist',\n",
        "       'area-damaged', 'severity', 'seed-tmt', 'germination', 'plant-growth',\n",
        "       'leaves', 'leafspots-halo', 'leafspots-marg', 'leafspot-size',\n",
        "       'leaf-shread', 'leaf-malf', 'leaf-mild', 'stem', 'lodging',\n",
        "       'stem-cankers', 'canker-lesion', 'fruiting-bodies', 'external-decay',\n",
        "       'mycelium', 'int-discolor', 'sclerotia', 'fruit-pods', 'fruit-spots',\n",
        "       'seed', 'mold-growth', 'seed-discolor', 'seed-size', 'shriveling',\n",
        "       'roots', 'target']\n",
        "\n",
        "print(dataset[cols].info())\n",
        "print(dataset[cols].describe())\n",
        "print(dataset[cols].corr())"
      ],
      "metadata": {
        "colab": {
          "base_uri": "https://localhost:8080/"
        },
        "id": "lZA0Apjoyn4m",
        "outputId": "c6ab04b0-90bb-42e8-e222-652cd981a534"
      },
      "execution_count": 4,
      "outputs": [
        {
          "output_type": "stream",
          "name": "stdout",
          "text": [
            "   date  plant-stand  precip  temp  ...  seed-size  shriveling  roots  target\n",
            "0     6            2       1     3  ...          2           1      2      10\n",
            "1     2            2       1     3  ...          2           1      2      10\n",
            "2     3            2       1     3  ...          2           1      2      10\n",
            "3     3            2       1     3  ...          2           1      2      10\n",
            "4     6            2       1     3  ...          2           1      2      10\n",
            "\n",
            "[5 rows x 36 columns]\n",
            "\n",
            " Index(['date', 'plant-stand', 'precip', 'temp', 'hail', 'crop-hist',\n",
            "       'area-damaged', 'severity', 'seed-tmt', 'germination', 'plant-growth',\n",
            "       'leaves', 'leafspots-halo', 'leafspots-marg', 'leafspot-size',\n",
            "       'leaf-shread', 'leaf-malf', 'leaf-mild', 'stem', 'lodging',\n",
            "       'stem-cankers', 'canker-lesion', 'fruiting-bodies', 'external-decay',\n",
            "       'mycelium', 'int-discolor', 'sclerotia', 'fruit-pods', 'fruit-spots',\n",
            "       'seed', 'mold-growth', 'seed-discolor', 'seed-size', 'shriveling',\n",
            "       'roots', 'target'],\n",
            "      dtype='object')\n",
            "<class 'pandas.core.frame.DataFrame'>\n",
            "Int64Index: 675 entries, 0 to 674\n",
            "Data columns (total 36 columns):\n",
            " #   Column           Non-Null Count  Dtype\n",
            "---  ------           --------------  -----\n",
            " 0   date             675 non-null    int64\n",
            " 1   plant-stand      675 non-null    int64\n",
            " 2   precip           675 non-null    int64\n",
            " 3   temp             675 non-null    int64\n",
            " 4   hail             675 non-null    int64\n",
            " 5   crop-hist        675 non-null    int64\n",
            " 6   area-damaged     675 non-null    int64\n",
            " 7   severity         675 non-null    int64\n",
            " 8   seed-tmt         675 non-null    int64\n",
            " 9   germination      675 non-null    int64\n",
            " 10  plant-growth     675 non-null    int64\n",
            " 11  leaves           675 non-null    int64\n",
            " 12  leafspots-halo   675 non-null    int64\n",
            " 13  leafspots-marg   675 non-null    int64\n",
            " 14  leafspot-size    675 non-null    int64\n",
            " 15  leaf-shread      675 non-null    int64\n",
            " 16  leaf-malf        675 non-null    int64\n",
            " 17  leaf-mild        675 non-null    int64\n",
            " 18  stem             675 non-null    int64\n",
            " 19  lodging          675 non-null    int64\n",
            " 20  stem-cankers     675 non-null    int64\n",
            " 21  canker-lesion    675 non-null    int64\n",
            " 22  fruiting-bodies  675 non-null    int64\n",
            " 23  external-decay   675 non-null    int64\n",
            " 24  mycelium         675 non-null    int64\n",
            " 25  int-discolor     675 non-null    int64\n",
            " 26  sclerotia        675 non-null    int64\n",
            " 27  fruit-pods       675 non-null    int64\n",
            " 28  fruit-spots      675 non-null    int64\n",
            " 29  seed             675 non-null    int64\n",
            " 30  mold-growth      675 non-null    int64\n",
            " 31  seed-discolor    675 non-null    int64\n",
            " 32  seed-size        675 non-null    int64\n",
            " 33  shriveling       675 non-null    int64\n",
            " 34  roots            675 non-null    int64\n",
            " 35  target           675 non-null    int64\n",
            "dtypes: int64(36)\n",
            "memory usage: 195.1 KB\n",
            "None\n",
            "             date  plant-stand      precip  ...  shriveling       roots      target\n",
            "count  675.000000   675.000000  675.000000  ...  675.000000  675.000000  675.000000\n",
            "mean     4.364444     1.471111    1.397037  ...    0.911111    2.001481    8.240000\n",
            "std      1.944461     0.596959    0.813092  ...    0.440304    0.567412    5.519741\n",
            "min      0.000000     0.000000    0.000000  ...    0.000000    0.000000    0.000000\n",
            "25%      3.000000     1.000000    1.000000  ...    1.000000    2.000000    3.000000\n",
            "50%      4.000000     2.000000    1.000000  ...    1.000000    2.000000    7.000000\n",
            "75%      6.000000     2.000000    2.000000  ...    1.000000    2.000000   12.000000\n",
            "max      7.000000     2.000000    3.000000  ...    2.000000    3.000000   18.000000\n",
            "\n",
            "[8 rows x 36 columns]\n",
            "                     date  plant-stand  ...     roots    target\n",
            "date             1.000000     0.111339  ... -0.090589 -0.177501\n",
            "plant-stand      0.111339     1.000000  ...  0.195047 -0.094702\n",
            "precip          -0.096349     0.145935  ...  0.307449  0.155269\n",
            "temp            -0.115200     0.337721  ...  0.365790  0.051739\n",
            "hail             0.112365     0.439608  ...  0.053062 -0.242907\n",
            "crop-hist        0.013363     0.235561  ...  0.241096  0.078991\n",
            "area-damaged     0.160671     0.223809  ... -0.270565 -0.305521\n",
            "severity        -0.054078     0.379320  ...  0.041895 -0.143829\n",
            "seed-tmt         0.023662     0.412524  ...  0.043257 -0.188456\n",
            "germination     -0.027244    -0.432842  ...  0.038234  0.080557\n",
            "plant-growth     0.216065     0.439670  ...  0.046220 -0.197243\n",
            "leaves           0.100585    -0.072464  ... -0.239293  0.087464\n",
            "leafspots-halo   0.058010     0.374830  ...  0.008453 -0.355685\n",
            "leafspots-marg   0.086871     0.372828  ... -0.004410 -0.329457\n",
            "leafspot-size    0.053647     0.392309  ...  0.014567 -0.343434\n",
            "leaf-shread      0.024703     0.428121  ...  0.135806 -0.279668\n",
            "leaf-malf        0.000235     0.179251  ... -0.256082 -0.296312\n",
            "leaf-mild        0.074088     0.343526  ...  0.101692  0.058376\n",
            "stem             0.011261     0.184836  ...  0.124107 -0.187090\n",
            "lodging          0.100289     0.518683  ...  0.056539 -0.248006\n",
            "stem-cankers     0.031093     0.228154  ...  0.152085  0.060236\n",
            "canker-lesion    0.149257     0.435940  ...  0.183450 -0.070618\n",
            "fruiting-bodies  0.196289     0.404895  ... -0.248445 -0.280119\n",
            "external-decay   0.071929     0.220431  ...  0.357082  0.343625\n",
            "mycelium         0.089371     0.471344  ...  0.527136  0.228073\n",
            "int-discolor     0.091611     0.341775  ...  0.502293  0.206809\n",
            "sclerotia        0.122450     0.499989  ...  0.442414  0.109114\n",
            "fruit-pods      -0.007781     0.373843  ... -0.067312 -0.387359\n",
            "fruit-spots      0.086289     0.233313  ... -0.101204  0.206542\n",
            "seed             0.081645     0.418796  ... -0.128768 -0.235826\n",
            "mold-growth      0.181123     0.289259  ... -0.359455 -0.250749\n",
            "seed-discolor    0.199324     0.458780  ... -0.273189 -0.164718\n",
            "seed-size        0.102901     0.487763  ... -0.120412 -0.195663\n",
            "shriveling       0.251048     0.407926  ... -0.308283 -0.272639\n",
            "roots           -0.090589     0.195047  ...  1.000000  0.322017\n",
            "target          -0.177501    -0.094702  ...  0.322017  1.000000\n",
            "\n",
            "[36 rows x 36 columns]\n"
          ]
        }
      ]
    },
    {
      "cell_type": "markdown",
      "source": [
        "### *Handling and Spliting Data*"
      ],
      "metadata": {
        "id": "uW-KKR-F1mX0"
      }
    },
    {
      "cell_type": "code",
      "source": [
        "# loading features and targets from dataset\n",
        "X, y = fetch_data(dataset_name, return_X_y=True)\n",
        "\n",
        "# split Data\n",
        "X_train, X_test, y_train, y_test = train_test_split(X, y, test_size=0.33)\n",
        "\n",
        "# Normalizing dataset\n",
        "scaler = MinMaxScaler(feature_range=(0, 1))\n",
        "X_train = scaler.fit_transform(X_train)\n",
        "X_test = scaler.fit_transform(X_test)\n",
        "\n",
        "# One-hot encoding\n",
        "y_train = to_categorical(y_train)\n",
        "y_test = to_categorical(y_test)"
      ],
      "metadata": {
        "id": "FWKRnoQg1nht"
      },
      "execution_count": 5,
      "outputs": []
    },
    {
      "cell_type": "markdown",
      "source": [
        "### *Creating Model*"
      ],
      "metadata": {
        "id": "8rQcnpVP1xjY"
      }
    },
    {
      "cell_type": "code",
      "source": [
        "# create Model\n",
        "model = Sequential()\n",
        "model.add(Dense(units = 56, input_dim=35, activation=\"relu\"))\n",
        "model.add(Dense(units = 28, activation=\"relu\"))\n",
        "model.add(Dense(units = 19, activation=\"softmax\"))"
      ],
      "metadata": {
        "id": "5DO0edJY1xLP"
      },
      "execution_count": 6,
      "outputs": []
    },
    {
      "cell_type": "markdown",
      "source": [
        "# **<u>Creating Custom Optimizer**"
      ],
      "metadata": {
        "id": "57mnBRNGE7AO"
      }
    },
    {
      "cell_type": "code",
      "source": [
        "from tensorflow.keras.optimizers import Adam\n",
        "\n",
        "# This class defines the API to add Ops to train a model. \n",
        "from tensorflow.python.ops import control_flow_ops\n",
        "from tensorflow.python.ops import math_ops\n",
        "from tensorflow.python.ops import state_ops\n",
        "from tensorflow.python.framework import ops\n",
        "from tensorflow.python.training import optimizer\n",
        "import tensorflow as tf"
      ],
      "metadata": {
        "id": "WrA5sqKPF9g0"
      },
      "execution_count": 7,
      "outputs": []
    },
    {
      "cell_type": "code",
      "source": [
        "class PowerSign(optimizer.Optimizer):\n",
        "  \"\"\"Implementation of PowerSign.\n",
        "  See [Bello et. al., 2017](https://arxiv.org/abs/1709.07417)\n",
        "  @@__init__\n",
        "  \"\"\"\n",
        "  def __init__(self, learning_rate=0.001,alpha=0.01,beta=0.5, use_locking=False, name=\"PowerSign\"):\n",
        "    super(PowerSign, self).__init__(use_locking, name)\n",
        "    self._lr = learning_rate\n",
        "    self._alpha = alpha\n",
        "    self._beta = beta\n",
        "    \n",
        "    # Tensor versions of the constructor arguments, created in _prepare().\n",
        "    self._lr_t = None\n",
        "    self._alpha_t = None\n",
        "    self._beta_t = None\n",
        "\n",
        "  def _prepare(self):\n",
        "    self._lr_t = ops.convert_to_tensor(self._lr, name=\"learning_rate\")\n",
        "    self._alpha_t = ops.convert_to_tensor(self._beta, name=\"alpha_t\")\n",
        "    self._beta_t = ops.convert_to_tensor(self._beta, name=\"beta_t\")\n",
        "\n",
        "  def _create_slots(self, var_list):\n",
        "    # Create slots for the first and second moments.\n",
        "    for v in var_list:\n",
        "        self._zeros_slot(v, \"m\", self._name)\n",
        "\n",
        "  def _resource_apply_dense(self, grad, var):\n",
        "    lr_t = math_ops.cast(self._lr_t, var.dtype.base_dtype)\n",
        "    alpha_t = math_ops.cast(self._alpha_t, var.dtype.base_dtype)\n",
        "    beta_t = math_ops.cast(self._beta_t, var.dtype.base_dtype)\n",
        "\n",
        "    eps = 1e-7 #cap for moving average\n",
        "    \n",
        "    m = self.get_slot(var, \"m\")\n",
        "    m_t = m.assign(tf.maximum(beta_t * m + eps, tf.abs(grad)))\n",
        "\n",
        "    var_update = state_ops.assign_sub(var, lr_t*grad*tf.exp( tf.math.log(alpha_t)*tf.sign(grad)*tf.sign(m_t))) #Update 'ref' by subtracting 'value\n",
        "    #Create an op that groups multiple operations.\n",
        "    #When this op finishes, all ops in input have finished\n",
        "    return control_flow_ops.group(*[var_update, m_t])\n",
        "\n",
        "  def _apply_sparse(self, grad, var):\n",
        "    raise NotImplementedError(\"Sparse gradient updates are not supported.\")"
      ],
      "metadata": {
        "id": "PVydJtThGnUu"
      },
      "execution_count": 36,
      "outputs": []
    },
    {
      "cell_type": "code",
      "source": [
        "class AddSign(optimizer.Optimizer):\n",
        "    \"\"\"Implementation of AddSign.\n",
        "    See [Bello et. al., 2017](https://arxiv.org/abs/1709.07417)\n",
        "    @@__init__\n",
        "    \"\"\"\n",
        "\n",
        "    def __init__(self, learning_rate=1.001,alpha=0.01,beta=0.5, use_locking=False, name=\"AddSign\"):\n",
        "        super(AddSign, self).__init__(use_locking, name)\n",
        "        self._lr = learning_rate\n",
        "        self._alpha = alpha\n",
        "        self._beta = beta\n",
        "        \n",
        "        # Tensor versions of the constructor arguments, created in _prepare().\n",
        "        self._lr_t = None\n",
        "        self._alpha_t = None\n",
        "        self._beta_t = None\n",
        "      \n",
        "    def _prepare(self):\n",
        "        self._lr_t = ops.convert_to_tensor(self._lr, name=\"learning_rate\")\n",
        "        self._alpha_t = ops.convert_to_tensor(self._beta, name=\"beta_t\")\n",
        "        self._beta_t = ops.convert_to_tensor(self._beta, name=\"beta_t\")\n",
        "\n",
        "    def _create_slots(self, var_list):\n",
        "        # Create slots for the first and second moments.\n",
        "        for v in var_list:\n",
        "            self._zeros_slot(v, \"m\", self._name)\n",
        "\n",
        "    def _apply_dense(self, grad, var):\n",
        "        raise NotImplementedError(\"Dense gradient updates are not supported.\")\n",
        "\n",
        "    def _apply_sparse(self, grad, var):\n",
        "        raise NotImplementedError(\"Sparse gradient updates are not supported.\")\n",
        "\n",
        "    def _resource_apply_dense(self, grad, var):\n",
        "        lr_t = math_ops.cast(self._lr_t, var.dtype.base_dtype)\n",
        "        beta_t = math_ops.cast(self._beta_t, var.dtype.base_dtype)\n",
        "        alpha_t = math_ops.cast(self._alpha_t, var.dtype.base_dtype)\n",
        "    \n",
        "        eps = 1e-7 #cap for moving average\n",
        "        \n",
        "        m = self.get_slot(var, \"m\")\n",
        "        m_t = m.assign(tf.maximum(beta_t * m + eps, tf.abs(grad)))\n",
        "        \n",
        "        var_update = state_ops.assign_sub(var, lr_t*grad*(1.0+alpha_t*tf.sign(grad)*tf.sign(m_t) ) )\n",
        "        #Create an op that groups multiple operations\n",
        "        #When this op finishes, all ops in input have finished\n",
        "        return control_flow_ops.group(*[var_update, m_t])"
      ],
      "metadata": {
        "id": "OWVqiaE5GqLs"
      },
      "execution_count": 37,
      "outputs": []
    },
    {
      "cell_type": "code",
      "source": [
        "# New Custom Function\n",
        "# opti = AddSign(learning_rate=0.001)\n",
        "opti = PowerSign(learning_rate=0.001)"
      ],
      "metadata": {
        "id": "PiQ2cR-TGSpl"
      },
      "execution_count": 42,
      "outputs": []
    },
    {
      "cell_type": "markdown",
      "source": [
        "New TensorFlow Session"
      ],
      "metadata": {
        "id": "fT115LAgGHfL"
      }
    },
    {
      "cell_type": "code",
      "source": [
        "tf.keras.backend.clear_session()\n",
        "np.random.seed(42)\n",
        "tf.random.set_seed(42)"
      ],
      "metadata": {
        "id": "Z9TYzL27GH1N"
      },
      "execution_count": 46,
      "outputs": []
    },
    {
      "cell_type": "markdown",
      "source": [
        "### *Compiling Model*"
      ],
      "metadata": {
        "id": "PJkOYuO9161A"
      }
    },
    {
      "cell_type": "code",
      "source": [
        "# compiling model\n",
        "model.compile(loss='categorical_crossentropy', optimizer=opti, metrics=['acc'])"
      ],
      "metadata": {
        "id": "HAddPOxe2KxH"
      },
      "execution_count": 47,
      "outputs": []
    },
    {
      "cell_type": "markdown",
      "source": [
        "### *Training Model*"
      ],
      "metadata": {
        "id": "2nDdNuTT16el"
      }
    },
    {
      "cell_type": "code",
      "source": [
        "# training model\n",
        "model.fit(X_train, y_train, epochs=120, batch_size=10, verbose=1)"
      ],
      "metadata": {
        "colab": {
          "base_uri": "https://localhost:8080/"
        },
        "id": "EIBP5bXB2LMq",
        "outputId": "89395f57-2fbe-45c1-9783-f0d00aabbe88"
      },
      "execution_count": 48,
      "outputs": [
        {
          "output_type": "stream",
          "name": "stdout",
          "text": [
            "Epoch 1/120\n",
            "46/46 [==============================] - 1s 2ms/step - loss: 0.2631 - acc: 0.9425\n",
            "Epoch 2/120\n",
            "46/46 [==============================] - 0s 2ms/step - loss: 0.2631 - acc: 0.9447\n",
            "Epoch 3/120\n",
            "46/46 [==============================] - 0s 2ms/step - loss: 0.2643 - acc: 0.9425\n",
            "Epoch 4/120\n",
            "46/46 [==============================] - 0s 2ms/step - loss: 0.2642 - acc: 0.9447\n",
            "Epoch 5/120\n",
            "46/46 [==============================] - 0s 2ms/step - loss: 0.2631 - acc: 0.9425\n",
            "Epoch 6/120\n",
            "46/46 [==============================] - 0s 2ms/step - loss: 0.2633 - acc: 0.9447\n",
            "Epoch 7/120\n",
            "46/46 [==============================] - 0s 2ms/step - loss: 0.2628 - acc: 0.9447\n",
            "Epoch 8/120\n",
            "46/46 [==============================] - 0s 2ms/step - loss: 0.2632 - acc: 0.9447\n",
            "Epoch 9/120\n",
            "46/46 [==============================] - 0s 2ms/step - loss: 0.2629 - acc: 0.9447\n",
            "Epoch 10/120\n",
            "46/46 [==============================] - 0s 2ms/step - loss: 0.2625 - acc: 0.9447\n",
            "Epoch 11/120\n",
            "46/46 [==============================] - 0s 2ms/step - loss: 0.2626 - acc: 0.9425\n",
            "Epoch 12/120\n",
            "46/46 [==============================] - 0s 2ms/step - loss: 0.2628 - acc: 0.9447\n",
            "Epoch 13/120\n",
            "46/46 [==============================] - 0s 2ms/step - loss: 0.2625 - acc: 0.9447\n",
            "Epoch 14/120\n",
            "46/46 [==============================] - 0s 2ms/step - loss: 0.2616 - acc: 0.9469\n",
            "Epoch 15/120\n",
            "46/46 [==============================] - 0s 2ms/step - loss: 0.2617 - acc: 0.9447\n",
            "Epoch 16/120\n",
            "46/46 [==============================] - 0s 2ms/step - loss: 0.2616 - acc: 0.9447\n",
            "Epoch 17/120\n",
            "46/46 [==============================] - 0s 2ms/step - loss: 0.2616 - acc: 0.9425\n",
            "Epoch 18/120\n",
            "46/46 [==============================] - 0s 2ms/step - loss: 0.2618 - acc: 0.9447\n",
            "Epoch 19/120\n",
            "46/46 [==============================] - 0s 2ms/step - loss: 0.2621 - acc: 0.9447\n",
            "Epoch 20/120\n",
            "46/46 [==============================] - 0s 2ms/step - loss: 0.2620 - acc: 0.9469\n",
            "Epoch 21/120\n",
            "46/46 [==============================] - 0s 2ms/step - loss: 0.2615 - acc: 0.9447\n",
            "Epoch 22/120\n",
            "46/46 [==============================] - 0s 2ms/step - loss: 0.2610 - acc: 0.9447\n",
            "Epoch 23/120\n",
            "46/46 [==============================] - 0s 2ms/step - loss: 0.2613 - acc: 0.9447\n",
            "Epoch 24/120\n",
            "46/46 [==============================] - 0s 2ms/step - loss: 0.2608 - acc: 0.9447\n",
            "Epoch 25/120\n",
            "46/46 [==============================] - 0s 2ms/step - loss: 0.2600 - acc: 0.9447\n",
            "Epoch 26/120\n",
            "46/46 [==============================] - 0s 2ms/step - loss: 0.2606 - acc: 0.9447\n",
            "Epoch 27/120\n",
            "46/46 [==============================] - 0s 2ms/step - loss: 0.2600 - acc: 0.9447\n",
            "Epoch 28/120\n",
            "46/46 [==============================] - 0s 2ms/step - loss: 0.2601 - acc: 0.9447\n",
            "Epoch 29/120\n",
            "46/46 [==============================] - 0s 2ms/step - loss: 0.2610 - acc: 0.9447\n",
            "Epoch 30/120\n",
            "46/46 [==============================] - 0s 2ms/step - loss: 0.2612 - acc: 0.9447\n",
            "Epoch 31/120\n",
            "46/46 [==============================] - 0s 2ms/step - loss: 0.2616 - acc: 0.9447\n",
            "Epoch 32/120\n",
            "46/46 [==============================] - 0s 2ms/step - loss: 0.2611 - acc: 0.9447\n",
            "Epoch 33/120\n",
            "46/46 [==============================] - 0s 2ms/step - loss: 0.2617 - acc: 0.9425\n",
            "Epoch 34/120\n",
            "46/46 [==============================] - 0s 2ms/step - loss: 0.2614 - acc: 0.9425\n",
            "Epoch 35/120\n",
            "46/46 [==============================] - 0s 2ms/step - loss: 0.2614 - acc: 0.9447\n",
            "Epoch 36/120\n",
            "46/46 [==============================] - 0s 2ms/step - loss: 0.2602 - acc: 0.9447\n",
            "Epoch 37/120\n",
            "46/46 [==============================] - 0s 2ms/step - loss: 0.2603 - acc: 0.9447\n",
            "Epoch 38/120\n",
            "46/46 [==============================] - 0s 2ms/step - loss: 0.2601 - acc: 0.9447\n",
            "Epoch 39/120\n",
            "46/46 [==============================] - 0s 2ms/step - loss: 0.2600 - acc: 0.9447\n",
            "Epoch 40/120\n",
            "46/46 [==============================] - 0s 2ms/step - loss: 0.2601 - acc: 0.9447\n",
            "Epoch 41/120\n",
            "46/46 [==============================] - 0s 2ms/step - loss: 0.2605 - acc: 0.9447\n",
            "Epoch 42/120\n",
            "46/46 [==============================] - 0s 2ms/step - loss: 0.2621 - acc: 0.9447\n",
            "Epoch 43/120\n",
            "46/46 [==============================] - 0s 2ms/step - loss: 0.2612 - acc: 0.9447\n",
            "Epoch 44/120\n",
            "46/46 [==============================] - 0s 2ms/step - loss: 0.2612 - acc: 0.9447\n",
            "Epoch 45/120\n",
            "46/46 [==============================] - 0s 2ms/step - loss: 0.2614 - acc: 0.9447\n",
            "Epoch 46/120\n",
            "46/46 [==============================] - 0s 2ms/step - loss: 0.2625 - acc: 0.9447\n",
            "Epoch 47/120\n",
            "46/46 [==============================] - 0s 2ms/step - loss: 0.2613 - acc: 0.9447\n",
            "Epoch 48/120\n",
            "46/46 [==============================] - 0s 2ms/step - loss: 0.2620 - acc: 0.9469\n",
            "Epoch 49/120\n",
            "46/46 [==============================] - 0s 2ms/step - loss: 0.2612 - acc: 0.9447\n",
            "Epoch 50/120\n",
            "46/46 [==============================] - 0s 2ms/step - loss: 0.2609 - acc: 0.9447\n",
            "Epoch 51/120\n",
            "46/46 [==============================] - 0s 2ms/step - loss: 0.2622 - acc: 0.9447\n",
            "Epoch 52/120\n",
            "46/46 [==============================] - 0s 2ms/step - loss: 0.2631 - acc: 0.9447\n",
            "Epoch 53/120\n",
            "46/46 [==============================] - 0s 2ms/step - loss: 0.2642 - acc: 0.9447\n",
            "Epoch 54/120\n",
            "46/46 [==============================] - 0s 2ms/step - loss: 0.2630 - acc: 0.9447\n",
            "Epoch 55/120\n",
            "46/46 [==============================] - 0s 2ms/step - loss: 0.2631 - acc: 0.9447\n",
            "Epoch 56/120\n",
            "46/46 [==============================] - 0s 2ms/step - loss: 0.2634 - acc: 0.9447\n",
            "Epoch 57/120\n",
            "46/46 [==============================] - 0s 2ms/step - loss: 0.2623 - acc: 0.9447\n",
            "Epoch 58/120\n",
            "46/46 [==============================] - 0s 2ms/step - loss: 0.2620 - acc: 0.9447\n",
            "Epoch 59/120\n",
            "46/46 [==============================] - 0s 2ms/step - loss: 0.2628 - acc: 0.9447\n",
            "Epoch 60/120\n",
            "46/46 [==============================] - 0s 2ms/step - loss: 0.2620 - acc: 0.9469\n",
            "Epoch 61/120\n",
            "46/46 [==============================] - 0s 2ms/step - loss: 0.2617 - acc: 0.9447\n",
            "Epoch 62/120\n",
            "46/46 [==============================] - 0s 2ms/step - loss: 0.2615 - acc: 0.9447\n",
            "Epoch 63/120\n",
            "46/46 [==============================] - 0s 2ms/step - loss: 0.2615 - acc: 0.9447\n",
            "Epoch 64/120\n",
            "46/46 [==============================] - 0s 2ms/step - loss: 0.2615 - acc: 0.9447\n",
            "Epoch 65/120\n",
            "46/46 [==============================] - 0s 2ms/step - loss: 0.2618 - acc: 0.9447\n",
            "Epoch 66/120\n",
            "46/46 [==============================] - 0s 2ms/step - loss: 0.2608 - acc: 0.9447\n",
            "Epoch 67/120\n",
            "46/46 [==============================] - 0s 2ms/step - loss: 0.2609 - acc: 0.9447\n",
            "Epoch 68/120\n",
            "46/46 [==============================] - 0s 2ms/step - loss: 0.2602 - acc: 0.9447\n",
            "Epoch 69/120\n",
            "46/46 [==============================] - 0s 2ms/step - loss: 0.2605 - acc: 0.9469\n",
            "Epoch 70/120\n",
            "46/46 [==============================] - 0s 2ms/step - loss: 0.2605 - acc: 0.9469\n",
            "Epoch 71/120\n",
            "46/46 [==============================] - 0s 2ms/step - loss: 0.2613 - acc: 0.9469\n",
            "Epoch 72/120\n",
            "46/46 [==============================] - 0s 2ms/step - loss: 0.2611 - acc: 0.9447\n",
            "Epoch 73/120\n",
            "46/46 [==============================] - 0s 2ms/step - loss: 0.2612 - acc: 0.9447\n",
            "Epoch 74/120\n",
            "46/46 [==============================] - 0s 2ms/step - loss: 0.2619 - acc: 0.9491\n",
            "Epoch 75/120\n",
            "46/46 [==============================] - 0s 2ms/step - loss: 0.2620 - acc: 0.9491\n",
            "Epoch 76/120\n",
            "46/46 [==============================] - 0s 2ms/step - loss: 0.2618 - acc: 0.9447\n",
            "Epoch 77/120\n",
            "46/46 [==============================] - 0s 2ms/step - loss: 0.2628 - acc: 0.9469\n",
            "Epoch 78/120\n",
            "46/46 [==============================] - 0s 2ms/step - loss: 0.2632 - acc: 0.9491\n",
            "Epoch 79/120\n",
            "46/46 [==============================] - 0s 2ms/step - loss: 0.2649 - acc: 0.9469\n",
            "Epoch 80/120\n",
            "46/46 [==============================] - 0s 2ms/step - loss: 0.2641 - acc: 0.9447\n",
            "Epoch 81/120\n",
            "46/46 [==============================] - 0s 2ms/step - loss: 0.2640 - acc: 0.9469\n",
            "Epoch 82/120\n",
            "46/46 [==============================] - 0s 2ms/step - loss: 0.2631 - acc: 0.9469\n",
            "Epoch 83/120\n",
            "46/46 [==============================] - 0s 2ms/step - loss: 0.2627 - acc: 0.9469\n",
            "Epoch 84/120\n",
            "46/46 [==============================] - 0s 2ms/step - loss: 0.2619 - acc: 0.9447\n",
            "Epoch 85/120\n",
            "46/46 [==============================] - 0s 2ms/step - loss: 0.2622 - acc: 0.9469\n",
            "Epoch 86/120\n",
            "46/46 [==============================] - 0s 2ms/step - loss: 0.2619 - acc: 0.9447\n",
            "Epoch 87/120\n",
            "46/46 [==============================] - 0s 2ms/step - loss: 0.2622 - acc: 0.9447\n",
            "Epoch 88/120\n",
            "46/46 [==============================] - 0s 2ms/step - loss: 0.2624 - acc: 0.9447\n",
            "Epoch 89/120\n",
            "46/46 [==============================] - 0s 2ms/step - loss: 0.2647 - acc: 0.9447\n",
            "Epoch 90/120\n",
            "46/46 [==============================] - 0s 2ms/step - loss: 0.2639 - acc: 0.9447\n",
            "Epoch 91/120\n",
            "46/46 [==============================] - 0s 2ms/step - loss: 0.2638 - acc: 0.9447\n",
            "Epoch 92/120\n",
            "46/46 [==============================] - 0s 2ms/step - loss: 0.2638 - acc: 0.9447\n",
            "Epoch 93/120\n",
            "46/46 [==============================] - 0s 2ms/step - loss: 0.2630 - acc: 0.9469\n",
            "Epoch 94/120\n",
            "46/46 [==============================] - 0s 2ms/step - loss: 0.2629 - acc: 0.9447\n",
            "Epoch 95/120\n",
            "46/46 [==============================] - 0s 2ms/step - loss: 0.2632 - acc: 0.9447\n",
            "Epoch 96/120\n",
            "46/46 [==============================] - 0s 2ms/step - loss: 0.2625 - acc: 0.9447\n",
            "Epoch 97/120\n",
            "46/46 [==============================] - 0s 2ms/step - loss: 0.2623 - acc: 0.9447\n",
            "Epoch 98/120\n",
            "46/46 [==============================] - 0s 2ms/step - loss: 0.2618 - acc: 0.9469\n",
            "Epoch 99/120\n",
            "46/46 [==============================] - 0s 2ms/step - loss: 0.2622 - acc: 0.9447\n",
            "Epoch 100/120\n",
            "46/46 [==============================] - 0s 2ms/step - loss: 0.2619 - acc: 0.9491\n",
            "Epoch 101/120\n",
            "46/46 [==============================] - 0s 2ms/step - loss: 0.2625 - acc: 0.9447\n",
            "Epoch 102/120\n",
            "46/46 [==============================] - 0s 2ms/step - loss: 0.2629 - acc: 0.9469\n",
            "Epoch 103/120\n",
            "46/46 [==============================] - 0s 2ms/step - loss: 0.2622 - acc: 0.9469\n",
            "Epoch 104/120\n",
            "46/46 [==============================] - 0s 2ms/step - loss: 0.2623 - acc: 0.9491\n",
            "Epoch 105/120\n",
            "46/46 [==============================] - 0s 2ms/step - loss: 0.2622 - acc: 0.9469\n",
            "Epoch 106/120\n",
            "46/46 [==============================] - 0s 2ms/step - loss: 0.2630 - acc: 0.9469\n",
            "Epoch 107/120\n",
            "46/46 [==============================] - 0s 2ms/step - loss: 0.2617 - acc: 0.9469\n",
            "Epoch 108/120\n",
            "46/46 [==============================] - 0s 2ms/step - loss: 0.2632 - acc: 0.9447\n",
            "Epoch 109/120\n",
            "46/46 [==============================] - 0s 2ms/step - loss: 0.2625 - acc: 0.9469\n",
            "Epoch 110/120\n",
            "46/46 [==============================] - 0s 2ms/step - loss: 0.2617 - acc: 0.9469\n",
            "Epoch 111/120\n",
            "46/46 [==============================] - 0s 2ms/step - loss: 0.2624 - acc: 0.9447\n",
            "Epoch 112/120\n",
            "46/46 [==============================] - 0s 2ms/step - loss: 0.2615 - acc: 0.9447\n",
            "Epoch 113/120\n",
            "46/46 [==============================] - 0s 2ms/step - loss: 0.2616 - acc: 0.9447\n",
            "Epoch 114/120\n",
            "46/46 [==============================] - 0s 2ms/step - loss: 0.2613 - acc: 0.9469\n",
            "Epoch 115/120\n",
            "46/46 [==============================] - 0s 2ms/step - loss: 0.2605 - acc: 0.9491\n",
            "Epoch 116/120\n",
            "46/46 [==============================] - 0s 2ms/step - loss: 0.2600 - acc: 0.9469\n",
            "Epoch 117/120\n",
            "46/46 [==============================] - 0s 2ms/step - loss: 0.2605 - acc: 0.9491\n",
            "Epoch 118/120\n",
            "46/46 [==============================] - 0s 2ms/step - loss: 0.2613 - acc: 0.9469\n",
            "Epoch 119/120\n",
            "46/46 [==============================] - 0s 2ms/step - loss: 0.2625 - acc: 0.9469\n",
            "Epoch 120/120\n",
            "46/46 [==============================] - 0s 2ms/step - loss: 0.2618 - acc: 0.9469\n"
          ]
        },
        {
          "output_type": "execute_result",
          "data": {
            "text/plain": [
              "<keras.callbacks.History at 0x7fe2765388d0>"
            ]
          },
          "metadata": {},
          "execution_count": 48
        }
      ]
    },
    {
      "cell_type": "markdown",
      "source": [
        "### *Evaluating Model*"
      ],
      "metadata": {
        "id": "l6a2Xhk82DbG"
      }
    },
    {
      "cell_type": "code",
      "source": [
        "# evaluating model\n",
        "scores = model.evaluate(X_test, y_test)\n",
        "print() ; print(model.metrics_names) ; print(scores)\n",
        "print(\"\\n%s : %.2f%%\" % (model.metrics_names[1], 100*scores[1]))"
      ],
      "metadata": {
        "colab": {
          "base_uri": "https://localhost:8080/"
        },
        "id": "xpfgppZw2LhL",
        "outputId": "5f7da321-259e-4623-f559-0eb24b98b403"
      },
      "execution_count": 49,
      "outputs": [
        {
          "output_type": "stream",
          "name": "stdout",
          "text": [
            "7/7 [==============================] - 0s 2ms/step - loss: 0.4927 - acc: 0.8475\n",
            "\n",
            "['loss', 'acc']\n",
            "[0.49272477626800537, 0.847533643245697]\n",
            "\n",
            "acc : 84.75%\n"
          ]
        }
      ]
    },
    {
      "cell_type": "markdown",
      "source": [
        "### *Model Description*"
      ],
      "metadata": {
        "id": "5GcBLQpf2C8h"
      }
    },
    {
      "cell_type": "code",
      "source": [
        "# more on model\n",
        "print(model.summary())"
      ],
      "metadata": {
        "colab": {
          "base_uri": "https://localhost:8080/"
        },
        "id": "0WPF_meZ2LyX",
        "outputId": "59c82e78-df1b-43e6-8e2d-63647fb0fa52"
      },
      "execution_count": null,
      "outputs": [
        {
          "output_type": "stream",
          "name": "stdout",
          "text": [
            "Model: \"sequential\"\n",
            "_________________________________________________________________\n",
            " Layer (type)                Output Shape              Param #   \n",
            "=================================================================\n",
            " dense (Dense)               (None, 56)                2016      \n",
            "                                                                 \n",
            " dense_1 (Dense)             (None, 28)                1596      \n",
            "                                                                 \n",
            " dense_2 (Dense)             (None, 19)                551       \n",
            "                                                                 \n",
            "=================================================================\n",
            "Total params: 4,163\n",
            "Trainable params: 4,163\n",
            "Non-trainable params: 0\n",
            "_________________________________________________________________\n",
            "None\n"
          ]
        }
      ]
    }
  ]
}