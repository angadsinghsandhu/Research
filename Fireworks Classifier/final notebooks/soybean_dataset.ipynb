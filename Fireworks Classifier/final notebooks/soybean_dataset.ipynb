{
  "nbformat": 4,
  "nbformat_minor": 0,
  "metadata": {
    "colab": {
      "name": "soybean_dataset.ipynb",
      "provenance": []
    },
    "kernelspec": {
      "name": "python3",
      "display_name": "Python 3"
    },
    "language_info": {
      "name": "python"
    }
  },
  "cells": [
    {
      "cell_type": "markdown",
      "source": [
        "# How to use Keras and Tensorflow in classifying soybean dataset in Python\n",
        "\n",
        "The soybean dataset has 14 types of leafs. Each one class have minimum 10 types of images and some have 50 images. the total images are 375 images. in the test folder we have 41 images. with this we have to train 375 images with class labels and test on 41 images, predict each image class label.\n",
        "\n",
        "### https://www.youtube.com/watch?v=eObe1eaGVnc&ab_channel=MachineLearningandDataScienceforBeginners"
      ],
      "metadata": {
        "id": "ZEBqcbgsx_kS"
      }
    },
    {
      "cell_type": "code",
      "source": [
        "!pip install pmlb"
      ],
      "metadata": {
        "colab": {
          "base_uri": "https://localhost:8080/"
        },
        "id": "7PiNFSlV7LtZ",
        "outputId": "6f158177-81eb-4316-9d99-803a6739e26b"
      },
      "execution_count": 1,
      "outputs": [
        {
          "output_type": "stream",
          "name": "stdout",
          "text": [
            "Collecting pmlb\n",
            "  Downloading pmlb-1.0.1.post3-py3-none-any.whl (19 kB)\n",
            "Collecting pyyaml>=5.3.1\n",
            "  Downloading PyYAML-6.0-cp37-cp37m-manylinux_2_5_x86_64.manylinux1_x86_64.manylinux_2_12_x86_64.manylinux2010_x86_64.whl (596 kB)\n",
            "\u001b[K     |████████████████████████████████| 596 kB 5.0 MB/s \n",
            "\u001b[?25hRequirement already satisfied: pandas>=1.0.5 in /usr/local/lib/python3.7/dist-packages (from pmlb) (1.3.5)\n",
            "Collecting requests>=2.24.0\n",
            "  Downloading requests-2.27.1-py2.py3-none-any.whl (63 kB)\n",
            "\u001b[K     |████████████████████████████████| 63 kB 1.8 MB/s \n",
            "\u001b[?25hRequirement already satisfied: numpy>=1.17.3 in /usr/local/lib/python3.7/dist-packages (from pandas>=1.0.5->pmlb) (1.21.5)\n",
            "Requirement already satisfied: pytz>=2017.3 in /usr/local/lib/python3.7/dist-packages (from pandas>=1.0.5->pmlb) (2018.9)\n",
            "Requirement already satisfied: python-dateutil>=2.7.3 in /usr/local/lib/python3.7/dist-packages (from pandas>=1.0.5->pmlb) (2.8.2)\n",
            "Requirement already satisfied: six>=1.5 in /usr/local/lib/python3.7/dist-packages (from python-dateutil>=2.7.3->pandas>=1.0.5->pmlb) (1.15.0)\n",
            "Requirement already satisfied: urllib3<1.27,>=1.21.1 in /usr/local/lib/python3.7/dist-packages (from requests>=2.24.0->pmlb) (1.24.3)\n",
            "Requirement already satisfied: idna<4,>=2.5 in /usr/local/lib/python3.7/dist-packages (from requests>=2.24.0->pmlb) (2.10)\n",
            "Requirement already satisfied: certifi>=2017.4.17 in /usr/local/lib/python3.7/dist-packages (from requests>=2.24.0->pmlb) (2021.10.8)\n",
            "Requirement already satisfied: charset-normalizer~=2.0.0 in /usr/local/lib/python3.7/dist-packages (from requests>=2.24.0->pmlb) (2.0.12)\n",
            "Installing collected packages: requests, pyyaml, pmlb\n",
            "  Attempting uninstall: requests\n",
            "    Found existing installation: requests 2.23.0\n",
            "    Uninstalling requests-2.23.0:\n",
            "      Successfully uninstalled requests-2.23.0\n",
            "  Attempting uninstall: pyyaml\n",
            "    Found existing installation: PyYAML 3.13\n",
            "    Uninstalling PyYAML-3.13:\n",
            "      Successfully uninstalled PyYAML-3.13\n",
            "\u001b[31mERROR: pip's dependency resolver does not currently take into account all the packages that are installed. This behaviour is the source of the following dependency conflicts.\n",
            "google-colab 1.0.0 requires requests~=2.23.0, but you have requests 2.27.1 which is incompatible.\n",
            "datascience 0.10.6 requires folium==0.2.1, but you have folium 0.8.3 which is incompatible.\u001b[0m\n",
            "Successfully installed pmlb-1.0.1.post3 pyyaml-6.0 requests-2.27.1\n"
          ]
        }
      ]
    },
    {
      "cell_type": "code",
      "execution_count": 2,
      "metadata": {
        "id": "k6oUJGsqxlrx"
      },
      "outputs": [],
      "source": [
        "# imports\n",
        "from pmlb import fetch_data\n",
        "from sklearn.preprocessing import MinMaxScaler\n",
        "from sklearn.model_selection import train_test_split\n",
        "\n",
        "from keras.models import Sequential\n",
        "import tensorflow.keras.layers as Layers\n",
        "from keras.layers import Conv2D, MaxPooling2D, Dense, Dropout, Input, Flatten, SeparableConv2D, Activation, BatchNormalization\n",
        "from tensorflow.keras.utils import to_categorical"
      ]
    },
    {
      "cell_type": "markdown",
      "source": [
        "### *Loading Dataset*"
      ],
      "metadata": {
        "id": "kRCg_Qq-ynXK"
      }
    },
    {
      "cell_type": "code",
      "source": [
        "# loading dataset\n",
        "dataset_name = 'soybean'\n",
        "dataset = fetch_data(dataset_name)\n",
        "print(dataset.head())\n",
        "\n",
        "print(\"\\n\", dataset.columns)\n",
        "\n",
        "cols = ['date', 'plant-stand', 'precip', 'temp', 'hail', 'crop-hist',\n",
        "       'area-damaged', 'severity', 'seed-tmt', 'germination', 'plant-growth',\n",
        "       'leaves', 'leafspots-halo', 'leafspots-marg', 'leafspot-size',\n",
        "       'leaf-shread', 'leaf-malf', 'leaf-mild', 'stem', 'lodging',\n",
        "       'stem-cankers', 'canker-lesion', 'fruiting-bodies', 'external-decay',\n",
        "       'mycelium', 'int-discolor', 'sclerotia', 'fruit-pods', 'fruit-spots',\n",
        "       'seed', 'mold-growth', 'seed-discolor', 'seed-size', 'shriveling',\n",
        "       'roots', 'target']\n",
        "\n",
        "print(dataset[cols].info())\n",
        "print(dataset[cols].describe())\n",
        "print(dataset[cols].corr())"
      ],
      "metadata": {
        "colab": {
          "base_uri": "https://localhost:8080/"
        },
        "id": "lZA0Apjoyn4m",
        "outputId": "9fb85ea7-e76a-4d6b-b54d-f95263811794"
      },
      "execution_count": 3,
      "outputs": [
        {
          "output_type": "stream",
          "name": "stdout",
          "text": [
            "   date  plant-stand  precip  temp  ...  seed-size  shriveling  roots  target\n",
            "0     6            2       1     3  ...          2           1      2      10\n",
            "1     2            2       1     3  ...          2           1      2      10\n",
            "2     3            2       1     3  ...          2           1      2      10\n",
            "3     3            2       1     3  ...          2           1      2      10\n",
            "4     6            2       1     3  ...          2           1      2      10\n",
            "\n",
            "[5 rows x 36 columns]\n",
            "\n",
            " Index(['date', 'plant-stand', 'precip', 'temp', 'hail', 'crop-hist',\n",
            "       'area-damaged', 'severity', 'seed-tmt', 'germination', 'plant-growth',\n",
            "       'leaves', 'leafspots-halo', 'leafspots-marg', 'leafspot-size',\n",
            "       'leaf-shread', 'leaf-malf', 'leaf-mild', 'stem', 'lodging',\n",
            "       'stem-cankers', 'canker-lesion', 'fruiting-bodies', 'external-decay',\n",
            "       'mycelium', 'int-discolor', 'sclerotia', 'fruit-pods', 'fruit-spots',\n",
            "       'seed', 'mold-growth', 'seed-discolor', 'seed-size', 'shriveling',\n",
            "       'roots', 'target'],\n",
            "      dtype='object')\n",
            "<class 'pandas.core.frame.DataFrame'>\n",
            "Int64Index: 675 entries, 0 to 674\n",
            "Data columns (total 36 columns):\n",
            " #   Column           Non-Null Count  Dtype\n",
            "---  ------           --------------  -----\n",
            " 0   date             675 non-null    int64\n",
            " 1   plant-stand      675 non-null    int64\n",
            " 2   precip           675 non-null    int64\n",
            " 3   temp             675 non-null    int64\n",
            " 4   hail             675 non-null    int64\n",
            " 5   crop-hist        675 non-null    int64\n",
            " 6   area-damaged     675 non-null    int64\n",
            " 7   severity         675 non-null    int64\n",
            " 8   seed-tmt         675 non-null    int64\n",
            " 9   germination      675 non-null    int64\n",
            " 10  plant-growth     675 non-null    int64\n",
            " 11  leaves           675 non-null    int64\n",
            " 12  leafspots-halo   675 non-null    int64\n",
            " 13  leafspots-marg   675 non-null    int64\n",
            " 14  leafspot-size    675 non-null    int64\n",
            " 15  leaf-shread      675 non-null    int64\n",
            " 16  leaf-malf        675 non-null    int64\n",
            " 17  leaf-mild        675 non-null    int64\n",
            " 18  stem             675 non-null    int64\n",
            " 19  lodging          675 non-null    int64\n",
            " 20  stem-cankers     675 non-null    int64\n",
            " 21  canker-lesion    675 non-null    int64\n",
            " 22  fruiting-bodies  675 non-null    int64\n",
            " 23  external-decay   675 non-null    int64\n",
            " 24  mycelium         675 non-null    int64\n",
            " 25  int-discolor     675 non-null    int64\n",
            " 26  sclerotia        675 non-null    int64\n",
            " 27  fruit-pods       675 non-null    int64\n",
            " 28  fruit-spots      675 non-null    int64\n",
            " 29  seed             675 non-null    int64\n",
            " 30  mold-growth      675 non-null    int64\n",
            " 31  seed-discolor    675 non-null    int64\n",
            " 32  seed-size        675 non-null    int64\n",
            " 33  shriveling       675 non-null    int64\n",
            " 34  roots            675 non-null    int64\n",
            " 35  target           675 non-null    int64\n",
            "dtypes: int64(36)\n",
            "memory usage: 195.1 KB\n",
            "None\n",
            "             date  plant-stand      precip  ...  shriveling       roots      target\n",
            "count  675.000000   675.000000  675.000000  ...  675.000000  675.000000  675.000000\n",
            "mean     4.364444     1.471111    1.397037  ...    0.911111    2.001481    8.240000\n",
            "std      1.944461     0.596959    0.813092  ...    0.440304    0.567412    5.519741\n",
            "min      0.000000     0.000000    0.000000  ...    0.000000    0.000000    0.000000\n",
            "25%      3.000000     1.000000    1.000000  ...    1.000000    2.000000    3.000000\n",
            "50%      4.000000     2.000000    1.000000  ...    1.000000    2.000000    7.000000\n",
            "75%      6.000000     2.000000    2.000000  ...    1.000000    2.000000   12.000000\n",
            "max      7.000000     2.000000    3.000000  ...    2.000000    3.000000   18.000000\n",
            "\n",
            "[8 rows x 36 columns]\n",
            "                     date  plant-stand  ...     roots    target\n",
            "date             1.000000     0.111339  ... -0.090589 -0.177501\n",
            "plant-stand      0.111339     1.000000  ...  0.195047 -0.094702\n",
            "precip          -0.096349     0.145935  ...  0.307449  0.155269\n",
            "temp            -0.115200     0.337721  ...  0.365790  0.051739\n",
            "hail             0.112365     0.439608  ...  0.053062 -0.242907\n",
            "crop-hist        0.013363     0.235561  ...  0.241096  0.078991\n",
            "area-damaged     0.160671     0.223809  ... -0.270565 -0.305521\n",
            "severity        -0.054078     0.379320  ...  0.041895 -0.143829\n",
            "seed-tmt         0.023662     0.412524  ...  0.043257 -0.188456\n",
            "germination     -0.027244    -0.432842  ...  0.038234  0.080557\n",
            "plant-growth     0.216065     0.439670  ...  0.046220 -0.197243\n",
            "leaves           0.100585    -0.072464  ... -0.239293  0.087464\n",
            "leafspots-halo   0.058010     0.374830  ...  0.008453 -0.355685\n",
            "leafspots-marg   0.086871     0.372828  ... -0.004410 -0.329457\n",
            "leafspot-size    0.053647     0.392309  ...  0.014567 -0.343434\n",
            "leaf-shread      0.024703     0.428121  ...  0.135806 -0.279668\n",
            "leaf-malf        0.000235     0.179251  ... -0.256082 -0.296312\n",
            "leaf-mild        0.074088     0.343526  ...  0.101692  0.058376\n",
            "stem             0.011261     0.184836  ...  0.124107 -0.187090\n",
            "lodging          0.100289     0.518683  ...  0.056539 -0.248006\n",
            "stem-cankers     0.031093     0.228154  ...  0.152085  0.060236\n",
            "canker-lesion    0.149257     0.435940  ...  0.183450 -0.070618\n",
            "fruiting-bodies  0.196289     0.404895  ... -0.248445 -0.280119\n",
            "external-decay   0.071929     0.220431  ...  0.357082  0.343625\n",
            "mycelium         0.089371     0.471344  ...  0.527136  0.228073\n",
            "int-discolor     0.091611     0.341775  ...  0.502293  0.206809\n",
            "sclerotia        0.122450     0.499989  ...  0.442414  0.109114\n",
            "fruit-pods      -0.007781     0.373843  ... -0.067312 -0.387359\n",
            "fruit-spots      0.086289     0.233313  ... -0.101204  0.206542\n",
            "seed             0.081645     0.418796  ... -0.128768 -0.235826\n",
            "mold-growth      0.181123     0.289259  ... -0.359455 -0.250749\n",
            "seed-discolor    0.199324     0.458780  ... -0.273189 -0.164718\n",
            "seed-size        0.102901     0.487763  ... -0.120412 -0.195663\n",
            "shriveling       0.251048     0.407926  ... -0.308283 -0.272639\n",
            "roots           -0.090589     0.195047  ...  1.000000  0.322017\n",
            "target          -0.177501    -0.094702  ...  0.322017  1.000000\n",
            "\n",
            "[36 rows x 36 columns]\n"
          ]
        }
      ]
    },
    {
      "cell_type": "markdown",
      "source": [
        "### *Handling and Spliting Data*"
      ],
      "metadata": {
        "id": "uW-KKR-F1mX0"
      }
    },
    {
      "cell_type": "code",
      "source": [
        "# loading features and targets from dataset\n",
        "X, y = fetch_data(dataset_name, return_X_y=True)\n",
        "\n",
        "# split Data\n",
        "X_train, X_test, y_train, y_test = train_test_split(X, y, test_size=0.33)\n",
        "\n",
        "# Normalizing dataset\n",
        "scaler = MinMaxScaler(feature_range=(0, 1))\n",
        "X_train = scaler.fit_transform(X_train)\n",
        "X_test = scaler.fit_transform(X_test)\n",
        "\n",
        "# One-hot encoding\n",
        "y_train = to_categorical(y_train)\n",
        "y_test = to_categorical(y_test)"
      ],
      "metadata": {
        "id": "FWKRnoQg1nht"
      },
      "execution_count": 4,
      "outputs": []
    },
    {
      "cell_type": "markdown",
      "source": [
        "### *Creating Model*"
      ],
      "metadata": {
        "id": "8rQcnpVP1xjY"
      }
    },
    {
      "cell_type": "code",
      "source": [
        "# create Model\n",
        "model = Sequential()\n",
        "model.add(Dense(units = 56, input_dim=35, activation=\"relu\"))\n",
        "model.add(Dense(units = 28, activation=\"relu\"))\n",
        "model.add(Dense(units = 19, activation=\"softmax\"))"
      ],
      "metadata": {
        "id": "5DO0edJY1xLP"
      },
      "execution_count": 5,
      "outputs": []
    },
    {
      "cell_type": "markdown",
      "source": [
        "# **<u>Creating Custom Optimizer**"
      ],
      "metadata": {
        "id": "57mnBRNGE7AO"
      }
    },
    {
      "cell_type": "code",
      "source": [
        "# basic Optimizer\n",
        "opti = \"adam\""
      ],
      "metadata": {
        "id": "C_WDnRh6FP6U"
      },
      "execution_count": 6,
      "outputs": []
    },
    {
      "cell_type": "markdown",
      "source": [
        "### *Compiling Model*"
      ],
      "metadata": {
        "id": "PJkOYuO9161A"
      }
    },
    {
      "cell_type": "code",
      "source": [
        "# compiling model\n",
        "model.compile(loss='categorical_crossentropy', optimizer=opti, metrics=['acc'])"
      ],
      "metadata": {
        "id": "HAddPOxe2KxH"
      },
      "execution_count": 7,
      "outputs": []
    },
    {
      "cell_type": "markdown",
      "source": [
        "### *Training Model*"
      ],
      "metadata": {
        "id": "2nDdNuTT16el"
      }
    },
    {
      "cell_type": "code",
      "source": [
        "# training model\n",
        "model.fit(X_train, y_train, epochs=100, batch_size=10, verbose=1)"
      ],
      "metadata": {
        "colab": {
          "base_uri": "https://localhost:8080/"
        },
        "id": "EIBP5bXB2LMq",
        "outputId": "14eb3d4a-1a5e-43b5-ba9f-219df80524a2"
      },
      "execution_count": 8,
      "outputs": [
        {
          "output_type": "stream",
          "name": "stdout",
          "text": [
            "Epoch 1/100\n",
            "46/46 [==============================] - 1s 2ms/step - loss: 2.8641 - acc: 0.1438\n",
            "Epoch 2/100\n",
            "46/46 [==============================] - 0s 2ms/step - loss: 2.5241 - acc: 0.2146\n",
            "Epoch 3/100\n",
            "46/46 [==============================] - 0s 2ms/step - loss: 2.2295 - acc: 0.3584\n",
            "Epoch 4/100\n",
            "46/46 [==============================] - 0s 2ms/step - loss: 1.9608 - acc: 0.4381\n",
            "Epoch 5/100\n",
            "46/46 [==============================] - 0s 2ms/step - loss: 1.7416 - acc: 0.4889\n",
            "Epoch 6/100\n",
            "46/46 [==============================] - 0s 2ms/step - loss: 1.5500 - acc: 0.6062\n",
            "Epoch 7/100\n",
            "46/46 [==============================] - 0s 2ms/step - loss: 1.3874 - acc: 0.6283\n",
            "Epoch 8/100\n",
            "46/46 [==============================] - 0s 2ms/step - loss: 1.2635 - acc: 0.6571\n",
            "Epoch 9/100\n",
            "46/46 [==============================] - 0s 2ms/step - loss: 1.1451 - acc: 0.6903\n",
            "Epoch 10/100\n",
            "46/46 [==============================] - 0s 2ms/step - loss: 1.0356 - acc: 0.7434\n",
            "Epoch 11/100\n",
            "46/46 [==============================] - 0s 2ms/step - loss: 0.9552 - acc: 0.7522\n",
            "Epoch 12/100\n",
            "46/46 [==============================] - 0s 2ms/step - loss: 0.8942 - acc: 0.7434\n",
            "Epoch 13/100\n",
            "46/46 [==============================] - 0s 2ms/step - loss: 0.8237 - acc: 0.7832\n",
            "Epoch 14/100\n",
            "46/46 [==============================] - 0s 2ms/step - loss: 0.7609 - acc: 0.7854\n",
            "Epoch 15/100\n",
            "46/46 [==============================] - 0s 2ms/step - loss: 0.7134 - acc: 0.8164\n",
            "Epoch 16/100\n",
            "46/46 [==============================] - 0s 2ms/step - loss: 0.6721 - acc: 0.8164\n",
            "Epoch 17/100\n",
            "46/46 [==============================] - 0s 2ms/step - loss: 0.6425 - acc: 0.8296\n",
            "Epoch 18/100\n",
            "46/46 [==============================] - 0s 2ms/step - loss: 0.6037 - acc: 0.8473\n",
            "Epoch 19/100\n",
            "46/46 [==============================] - 0s 2ms/step - loss: 0.5717 - acc: 0.8429\n",
            "Epoch 20/100\n",
            "46/46 [==============================] - 0s 2ms/step - loss: 0.5534 - acc: 0.8540\n",
            "Epoch 21/100\n",
            "46/46 [==============================] - 0s 2ms/step - loss: 0.5377 - acc: 0.8540\n",
            "Epoch 22/100\n",
            "46/46 [==============================] - 0s 2ms/step - loss: 0.5061 - acc: 0.8540\n",
            "Epoch 23/100\n",
            "46/46 [==============================] - 0s 2ms/step - loss: 0.4795 - acc: 0.8584\n",
            "Epoch 24/100\n",
            "46/46 [==============================] - 0s 2ms/step - loss: 0.4519 - acc: 0.8739\n",
            "Epoch 25/100\n",
            "46/46 [==============================] - 0s 2ms/step - loss: 0.4414 - acc: 0.8783\n",
            "Epoch 26/100\n",
            "46/46 [==============================] - 0s 2ms/step - loss: 0.4296 - acc: 0.8783\n",
            "Epoch 27/100\n",
            "46/46 [==============================] - 0s 2ms/step - loss: 0.4244 - acc: 0.8606\n",
            "Epoch 28/100\n",
            "46/46 [==============================] - 0s 2ms/step - loss: 0.4047 - acc: 0.8739\n",
            "Epoch 29/100\n",
            "46/46 [==============================] - 0s 2ms/step - loss: 0.3798 - acc: 0.8739\n",
            "Epoch 30/100\n",
            "46/46 [==============================] - 0s 2ms/step - loss: 0.3845 - acc: 0.8805\n",
            "Epoch 31/100\n",
            "46/46 [==============================] - 0s 2ms/step - loss: 0.3595 - acc: 0.8872\n",
            "Epoch 32/100\n",
            "46/46 [==============================] - 0s 2ms/step - loss: 0.3421 - acc: 0.8938\n",
            "Epoch 33/100\n",
            "46/46 [==============================] - 0s 2ms/step - loss: 0.3465 - acc: 0.8960\n",
            "Epoch 34/100\n",
            "46/46 [==============================] - 0s 2ms/step - loss: 0.3309 - acc: 0.8872\n",
            "Epoch 35/100\n",
            "46/46 [==============================] - 0s 2ms/step - loss: 0.3240 - acc: 0.8938\n",
            "Epoch 36/100\n",
            "46/46 [==============================] - 0s 2ms/step - loss: 0.3134 - acc: 0.9071\n",
            "Epoch 37/100\n",
            "46/46 [==============================] - 0s 2ms/step - loss: 0.3077 - acc: 0.9027\n",
            "Epoch 38/100\n",
            "46/46 [==============================] - 0s 2ms/step - loss: 0.3041 - acc: 0.8916\n",
            "Epoch 39/100\n",
            "46/46 [==============================] - 0s 2ms/step - loss: 0.2918 - acc: 0.9049\n",
            "Epoch 40/100\n",
            "46/46 [==============================] - 0s 2ms/step - loss: 0.3074 - acc: 0.8938\n",
            "Epoch 41/100\n",
            "46/46 [==============================] - 0s 2ms/step - loss: 0.2976 - acc: 0.9071\n",
            "Epoch 42/100\n",
            "46/46 [==============================] - 0s 2ms/step - loss: 0.2845 - acc: 0.8982\n",
            "Epoch 43/100\n",
            "46/46 [==============================] - 0s 2ms/step - loss: 0.2783 - acc: 0.9115\n",
            "Epoch 44/100\n",
            "46/46 [==============================] - 0s 2ms/step - loss: 0.2724 - acc: 0.9071\n",
            "Epoch 45/100\n",
            "46/46 [==============================] - 0s 2ms/step - loss: 0.2795 - acc: 0.9071\n",
            "Epoch 46/100\n",
            "46/46 [==============================] - 0s 2ms/step - loss: 0.2831 - acc: 0.9071\n",
            "Epoch 47/100\n",
            "46/46 [==============================] - 0s 2ms/step - loss: 0.2641 - acc: 0.9159\n",
            "Epoch 48/100\n",
            "46/46 [==============================] - 0s 2ms/step - loss: 0.2559 - acc: 0.9049\n",
            "Epoch 49/100\n",
            "46/46 [==============================] - 0s 2ms/step - loss: 0.2452 - acc: 0.9204\n",
            "Epoch 50/100\n",
            "46/46 [==============================] - 0s 2ms/step - loss: 0.2538 - acc: 0.9159\n",
            "Epoch 51/100\n",
            "46/46 [==============================] - 0s 2ms/step - loss: 0.2380 - acc: 0.9270\n",
            "Epoch 52/100\n",
            "46/46 [==============================] - 0s 2ms/step - loss: 0.2375 - acc: 0.9181\n",
            "Epoch 53/100\n",
            "46/46 [==============================] - 0s 2ms/step - loss: 0.2408 - acc: 0.9204\n",
            "Epoch 54/100\n",
            "46/46 [==============================] - 0s 2ms/step - loss: 0.2331 - acc: 0.9181\n",
            "Epoch 55/100\n",
            "46/46 [==============================] - 0s 2ms/step - loss: 0.2238 - acc: 0.9270\n",
            "Epoch 56/100\n",
            "46/46 [==============================] - 0s 2ms/step - loss: 0.2341 - acc: 0.9093\n",
            "Epoch 57/100\n",
            "46/46 [==============================] - 0s 2ms/step - loss: 0.2210 - acc: 0.9292\n",
            "Epoch 58/100\n",
            "46/46 [==============================] - 0s 2ms/step - loss: 0.2235 - acc: 0.9314\n",
            "Epoch 59/100\n",
            "46/46 [==============================] - 0s 2ms/step - loss: 0.2205 - acc: 0.9248\n",
            "Epoch 60/100\n",
            "46/46 [==============================] - 0s 2ms/step - loss: 0.2174 - acc: 0.9159\n",
            "Epoch 61/100\n",
            "46/46 [==============================] - 0s 2ms/step - loss: 0.2190 - acc: 0.9204\n",
            "Epoch 62/100\n",
            "46/46 [==============================] - 0s 3ms/step - loss: 0.2178 - acc: 0.9204\n",
            "Epoch 63/100\n",
            "46/46 [==============================] - 0s 2ms/step - loss: 0.2122 - acc: 0.9292\n",
            "Epoch 64/100\n",
            "46/46 [==============================] - 0s 2ms/step - loss: 0.1962 - acc: 0.9403\n",
            "Epoch 65/100\n",
            "46/46 [==============================] - 0s 2ms/step - loss: 0.2169 - acc: 0.9336\n",
            "Epoch 66/100\n",
            "46/46 [==============================] - 0s 2ms/step - loss: 0.2023 - acc: 0.9115\n",
            "Epoch 67/100\n",
            "46/46 [==============================] - 0s 2ms/step - loss: 0.2026 - acc: 0.9270\n",
            "Epoch 68/100\n",
            "46/46 [==============================] - 0s 2ms/step - loss: 0.2154 - acc: 0.9336\n",
            "Epoch 69/100\n",
            "46/46 [==============================] - 0s 2ms/step - loss: 0.1932 - acc: 0.9314\n",
            "Epoch 70/100\n",
            "46/46 [==============================] - 0s 2ms/step - loss: 0.2085 - acc: 0.9226\n",
            "Epoch 71/100\n",
            "46/46 [==============================] - 0s 2ms/step - loss: 0.1823 - acc: 0.9425\n",
            "Epoch 72/100\n",
            "46/46 [==============================] - 0s 2ms/step - loss: 0.1810 - acc: 0.9447\n",
            "Epoch 73/100\n",
            "46/46 [==============================] - 0s 2ms/step - loss: 0.2204 - acc: 0.9314\n",
            "Epoch 74/100\n",
            "46/46 [==============================] - 0s 2ms/step - loss: 0.1964 - acc: 0.9314\n",
            "Epoch 75/100\n",
            "46/46 [==============================] - 0s 2ms/step - loss: 0.1908 - acc: 0.9314\n",
            "Epoch 76/100\n",
            "46/46 [==============================] - 0s 2ms/step - loss: 0.1833 - acc: 0.9358\n",
            "Epoch 77/100\n",
            "46/46 [==============================] - 0s 2ms/step - loss: 0.2015 - acc: 0.9292\n",
            "Epoch 78/100\n",
            "46/46 [==============================] - 0s 2ms/step - loss: 0.1923 - acc: 0.9314\n",
            "Epoch 79/100\n",
            "46/46 [==============================] - 0s 2ms/step - loss: 0.1817 - acc: 0.9270\n",
            "Epoch 80/100\n",
            "46/46 [==============================] - 0s 2ms/step - loss: 0.2000 - acc: 0.9292\n",
            "Epoch 81/100\n",
            "46/46 [==============================] - 0s 2ms/step - loss: 0.1786 - acc: 0.9403\n",
            "Epoch 82/100\n",
            "46/46 [==============================] - 0s 2ms/step - loss: 0.1761 - acc: 0.9336\n",
            "Epoch 83/100\n",
            "46/46 [==============================] - 0s 2ms/step - loss: 0.1665 - acc: 0.9403\n",
            "Epoch 84/100\n",
            "46/46 [==============================] - 0s 2ms/step - loss: 0.1681 - acc: 0.9336\n",
            "Epoch 85/100\n",
            "46/46 [==============================] - 0s 2ms/step - loss: 0.1607 - acc: 0.9425\n",
            "Epoch 86/100\n",
            "46/46 [==============================] - 0s 2ms/step - loss: 0.1673 - acc: 0.9403\n",
            "Epoch 87/100\n",
            "46/46 [==============================] - 0s 2ms/step - loss: 0.1794 - acc: 0.9336\n",
            "Epoch 88/100\n",
            "46/46 [==============================] - 0s 2ms/step - loss: 0.1868 - acc: 0.9270\n",
            "Epoch 89/100\n",
            "46/46 [==============================] - 0s 2ms/step - loss: 0.1598 - acc: 0.9381\n",
            "Epoch 90/100\n",
            "46/46 [==============================] - 0s 2ms/step - loss: 0.1631 - acc: 0.9425\n",
            "Epoch 91/100\n",
            "46/46 [==============================] - 0s 2ms/step - loss: 0.1787 - acc: 0.9403\n",
            "Epoch 92/100\n",
            "46/46 [==============================] - 0s 2ms/step - loss: 0.1468 - acc: 0.9535\n",
            "Epoch 93/100\n",
            "46/46 [==============================] - 0s 2ms/step - loss: 0.1624 - acc: 0.9358\n",
            "Epoch 94/100\n",
            "46/46 [==============================] - 0s 2ms/step - loss: 0.1583 - acc: 0.9447\n",
            "Epoch 95/100\n",
            "46/46 [==============================] - 0s 2ms/step - loss: 0.1658 - acc: 0.9403\n",
            "Epoch 96/100\n",
            "46/46 [==============================] - 0s 2ms/step - loss: 0.1693 - acc: 0.9381\n",
            "Epoch 97/100\n",
            "46/46 [==============================] - 0s 2ms/step - loss: 0.1723 - acc: 0.9292\n",
            "Epoch 98/100\n",
            "46/46 [==============================] - 0s 2ms/step - loss: 0.1593 - acc: 0.9403\n",
            "Epoch 99/100\n",
            "46/46 [==============================] - 0s 2ms/step - loss: 0.1636 - acc: 0.9447\n",
            "Epoch 100/100\n",
            "46/46 [==============================] - 0s 2ms/step - loss: 0.1421 - acc: 0.9381\n"
          ]
        },
        {
          "output_type": "execute_result",
          "data": {
            "text/plain": [
              "<keras.callbacks.History at 0x7f09bbe23790>"
            ]
          },
          "metadata": {},
          "execution_count": 8
        }
      ]
    },
    {
      "cell_type": "markdown",
      "source": [
        "### *Evaluating Model*"
      ],
      "metadata": {
        "id": "l6a2Xhk82DbG"
      }
    },
    {
      "cell_type": "code",
      "source": [
        "# evaluating model\n",
        "scores = model.evaluate(X_test, y_test)\n",
        "print() ; print(model.metrics_names) ; print(scores)\n",
        "print(\"\\n%s : %.2f%%\" % (model.metrics_names[1], scores[1]*100))"
      ],
      "metadata": {
        "colab": {
          "base_uri": "https://localhost:8080/"
        },
        "id": "xpfgppZw2LhL",
        "outputId": "b5e84f0a-a79c-4efe-a908-609754afe03a"
      },
      "execution_count": 10,
      "outputs": [
        {
          "output_type": "stream",
          "name": "stdout",
          "text": [
            "7/7 [==============================] - 0s 3ms/step - loss: 0.3851 - acc: 0.8520\n",
            "\n",
            "['loss', 'acc']\n",
            "[0.38513028621673584, 0.8520179390907288]\n",
            "\n",
            "acc : 85.20%\n"
          ]
        }
      ]
    },
    {
      "cell_type": "markdown",
      "source": [
        "### *Model Description*"
      ],
      "metadata": {
        "id": "5GcBLQpf2C8h"
      }
    },
    {
      "cell_type": "code",
      "source": [
        "# more on model\n",
        "print(model.summary())"
      ],
      "metadata": {
        "colab": {
          "base_uri": "https://localhost:8080/"
        },
        "id": "0WPF_meZ2LyX",
        "outputId": "87f7669a-3ede-4e96-b91b-6957f54aedd4"
      },
      "execution_count": 11,
      "outputs": [
        {
          "output_type": "stream",
          "name": "stdout",
          "text": [
            "Model: \"sequential\"\n",
            "_________________________________________________________________\n",
            " Layer (type)                Output Shape              Param #   \n",
            "=================================================================\n",
            " dense (Dense)               (None, 56)                2016      \n",
            "                                                                 \n",
            " dense_1 (Dense)             (None, 28)                1596      \n",
            "                                                                 \n",
            " dense_2 (Dense)             (None, 19)                551       \n",
            "                                                                 \n",
            "=================================================================\n",
            "Total params: 4,163\n",
            "Trainable params: 4,163\n",
            "Non-trainable params: 0\n",
            "_________________________________________________________________\n",
            "None\n"
          ]
        }
      ]
    }
  ]
}